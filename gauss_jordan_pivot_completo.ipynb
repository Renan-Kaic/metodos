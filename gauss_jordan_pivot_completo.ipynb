{
 "cells": [
  {
   "cell_type": "code",
   "execution_count": 1,
   "id": "a456a3b8",
   "metadata": {},
   "outputs": [
    {
     "data": {
      "text/html": [
       "<pre style=\"white-space:pre;overflow-x:auto;line-height:normal;font-family:Menlo,'DejaVu Sans Mono',consolas,'Courier New',monospace\"><span style=\"color: #000080; text-decoration-color: #000080; font-weight: bold\">┏━━━━━━━━━━━━━━━━━━━━━━━━━━━━━━━━━━━━━━━━━━━━━━━━━━━━━━━━━━━━━━━━━━━━━━━━━━━━━━━━━━━━━━━━━━━━━━━━━━━━━━━━━━━━━━━━━┓</span>\n",
       "<span style=\"color: #000080; text-decoration-color: #000080; font-weight: bold\">┃                      Método de Gauss-Jordan com Pivotação Completa para Sistemas Lineares                       ┃</span>\n",
       "<span style=\"color: #000080; text-decoration-color: #000080; font-weight: bold\">┗━━━━━━━━━━━━━━━━━━━━━━━━━━━━━━━━━━━━━━━━━━━━━━━━━━━━━━━━━━━━━━━━━━━━━━━━━━━━━━━━━━━━━━━━━━━━━━━━━━━━━━━━━━━━━━━━━┛</span>\n",
       "</pre>\n"
      ],
      "text/plain": [
       "\u001b[1;34m┏━━━━━━━━━━━━━━━━━━━━━━━━━━━━━━━━━━━━━━━━━━━━━━━━━━━━━━━━━━━━━━━━━━━━━━━━━━━━━━━━━━━━━━━━━━━━━━━━━━━━━━━━━━━━━━━━━┓\u001b[0m\n",
       "\u001b[1;34m┃\u001b[0m\u001b[1;34m \u001b[0m\u001b[1;34m                     \u001b[0m\u001b[1;34mMétodo de Gauss-Jordan com Pivotação Completa para Sistemas Lineares\u001b[0m\u001b[1;34m                      \u001b[0m\u001b[1;34m \u001b[0m\u001b[1;34m┃\u001b[0m\n",
       "\u001b[1;34m┗━━━━━━━━━━━━━━━━━━━━━━━━━━━━━━━━━━━━━━━━━━━━━━━━━━━━━━━━━━━━━━━━━━━━━━━━━━━━━━━━━━━━━━━━━━━━━━━━━━━━━━━━━━━━━━━━━┛\u001b[0m\n"
      ]
     },
     "metadata": {},
     "output_type": "display_data"
    },
    {
     "data": {
      "text/html": [
       "<pre style=\"white-space:pre;overflow-x:auto;line-height:normal;font-family:Menlo,'DejaVu Sans Mono',consolas,'Courier New',monospace\"><span style=\"color: #00ff00; text-decoration-color: #00ff00\">───────────────────────────────────────────────── </span><span style=\"color: #008080; text-decoration-color: #008080; font-weight: bold\">Sistema Linear </span><span style=\"color: #00ff00; text-decoration-color: #00ff00\"> ─────────────────────────────────────────────────</span>\n",
       "</pre>\n"
      ],
      "text/plain": [
       "\u001b[92m───────────────────────────────────────────────── \u001b[0m\u001b[1;36mSistema Linear \u001b[0m\u001b[92m ─────────────────────────────────────────────────\u001b[0m\n"
      ]
     },
     "metadata": {},
     "output_type": "display_data"
    },
    {
     "data": {
      "text/html": [
       "<pre style=\"white-space:pre;overflow-x:auto;line-height:normal;font-family:Menlo,'DejaVu Sans Mono',consolas,'Courier New',monospace\">\n",
       "                                                  <span style=\"font-weight: bold; text-decoration: underline\">Sistema Linear</span>                                                   \n",
       "\n",
       "Equação 1: 9.00000x_1 + 3.00000x_2 + 2.00000x_3 = 6.00000                                                          \n",
       "\n",
       "Equação 2: -1.00000x_1 + 11.00000x_2 - 1.00000x_3 = 25.00000                                                       \n",
       "\n",
       "Equação 3: 2.00000x_1 - 1.00000x_2 + 10.00000x_3 = -11.00000                                                       \n",
       "</pre>\n"
      ],
      "text/plain": [
       "\n",
       "                                                  \u001b[1;4mSistema Linear\u001b[0m                                                   \n",
       "\n",
       "Equação 1: 9.00000x_1 + 3.00000x_2 + 2.00000x_3 = 6.00000                                                          \n",
       "\n",
       "Equação 2: -1.00000x_1 + 11.00000x_2 - 1.00000x_3 = 25.00000                                                       \n",
       "\n",
       "Equação 3: 2.00000x_1 - 1.00000x_2 + 10.00000x_3 = -11.00000                                                       \n"
      ]
     },
     "metadata": {},
     "output_type": "display_data"
    },
    {
     "data": {
      "text/html": [
       "<pre style=\"white-space:pre;overflow-x:auto;line-height:normal;font-family:Menlo,'DejaVu Sans Mono',consolas,'Courier New',monospace\">\n",
       "<span style=\"color: #008080; text-decoration-color: #008080; font-weight: bold\">Executando o Método de Gauss-Jordan com Pivotação Completa...</span>\n",
       "</pre>\n"
      ],
      "text/plain": [
       "\n",
       "\u001b[1;36mExecutando o Método de Gauss-Jordan com Pivotação Completa\u001b[0m\u001b[1;36m...\u001b[0m\n"
      ]
     },
     "metadata": {},
     "output_type": "display_data"
    },
    {
     "data": {
      "text/html": [
       "<pre style=\"white-space:pre;overflow-x:auto;line-height:normal;font-family:Menlo,'DejaVu Sans Mono',consolas,'Courier New',monospace\"><span style=\"color: #808000; text-decoration-color: #808000\">Passo </span><span style=\"color: #808000; text-decoration-color: #808000; font-weight: bold\">1</span><span style=\"color: #808000; text-decoration-color: #808000\">: Trocar linhas </span><span style=\"color: #808000; text-decoration-color: #808000; font-weight: bold\">1</span><span style=\"color: #808000; text-decoration-color: #808000\"> e </span><span style=\"color: #808000; text-decoration-color: #808000; font-weight: bold\">2</span>\n",
       "</pre>\n"
      ],
      "text/plain": [
       "\u001b[33mPasso \u001b[0m\u001b[1;33m1\u001b[0m\u001b[33m: Trocar linhas \u001b[0m\u001b[1;33m1\u001b[0m\u001b[33m e \u001b[0m\u001b[1;33m2\u001b[0m\n"
      ]
     },
     "metadata": {},
     "output_type": "display_data"
    },
    {
     "data": {
      "text/html": [
       "<pre style=\"white-space:pre;overflow-x:auto;line-height:normal;font-family:Menlo,'DejaVu Sans Mono',consolas,'Courier New',monospace\"><span style=\"font-style: italic\">      Matriz após troca de linhas 1 e 2       </span>\n",
       "                                              \n",
       " <span style=\"font-weight: bold\"> x_1      </span> <span style=\"font-weight: bold\"> x_2      </span> <span style=\"font-weight: bold\"> x_3      </span> <span style=\"font-weight: bold\"> b         </span> \n",
       " ──────────────────────────────────────────── \n",
       " <span style=\"color: #008080; text-decoration-color: #008080\"> -1.00000 </span> <span style=\"color: #008080; text-decoration-color: #008080\"> 11.00000 </span> <span style=\"color: #008080; text-decoration-color: #008080\"> -1.00000 </span> <span style=\"color: #008000; text-decoration-color: #008000\"> 25.00000  </span> \n",
       " <span style=\"color: #008080; text-decoration-color: #008080\"> 9.00000  </span> <span style=\"color: #008080; text-decoration-color: #008080\"> 3.00000  </span> <span style=\"color: #008080; text-decoration-color: #008080\"> 2.00000  </span> <span style=\"color: #008000; text-decoration-color: #008000\"> 6.00000   </span> \n",
       " <span style=\"color: #008080; text-decoration-color: #008080\"> 2.00000  </span> <span style=\"color: #008080; text-decoration-color: #008080\"> -1.00000 </span> <span style=\"color: #008080; text-decoration-color: #008080\"> 10.00000 </span> <span style=\"color: #008000; text-decoration-color: #008000\"> -11.00000 </span> \n",
       "                                              \n",
       "</pre>\n"
      ],
      "text/plain": [
       "\u001b[3m      Matriz após troca de linhas 1 e 2       \u001b[0m\n",
       "                                              \n",
       " \u001b[1m \u001b[0m\u001b[1mx_1     \u001b[0m\u001b[1m \u001b[0m \u001b[1m \u001b[0m\u001b[1mx_2     \u001b[0m\u001b[1m \u001b[0m \u001b[1m \u001b[0m\u001b[1mx_3     \u001b[0m\u001b[1m \u001b[0m \u001b[1m \u001b[0m\u001b[1mb        \u001b[0m\u001b[1m \u001b[0m \n",
       " ──────────────────────────────────────────── \n",
       " \u001b[36m \u001b[0m\u001b[36m-1.00000\u001b[0m\u001b[36m \u001b[0m \u001b[36m \u001b[0m\u001b[36m11.00000\u001b[0m\u001b[36m \u001b[0m \u001b[36m \u001b[0m\u001b[36m-1.00000\u001b[0m\u001b[36m \u001b[0m \u001b[32m \u001b[0m\u001b[32m25.00000 \u001b[0m\u001b[32m \u001b[0m \n",
       " \u001b[36m \u001b[0m\u001b[36m9.00000 \u001b[0m\u001b[36m \u001b[0m \u001b[36m \u001b[0m\u001b[36m3.00000 \u001b[0m\u001b[36m \u001b[0m \u001b[36m \u001b[0m\u001b[36m2.00000 \u001b[0m\u001b[36m \u001b[0m \u001b[32m \u001b[0m\u001b[32m6.00000  \u001b[0m\u001b[32m \u001b[0m \n",
       " \u001b[36m \u001b[0m\u001b[36m2.00000 \u001b[0m\u001b[36m \u001b[0m \u001b[36m \u001b[0m\u001b[36m-1.00000\u001b[0m\u001b[36m \u001b[0m \u001b[36m \u001b[0m\u001b[36m10.00000\u001b[0m\u001b[36m \u001b[0m \u001b[32m \u001b[0m\u001b[32m-11.00000\u001b[0m\u001b[32m \u001b[0m \n",
       "                                              \n"
      ]
     },
     "metadata": {},
     "output_type": "display_data"
    },
    {
     "data": {
      "text/html": [
       "<pre style=\"white-space:pre;overflow-x:auto;line-height:normal;font-family:Menlo,'DejaVu Sans Mono',consolas,'Courier New',monospace\"><span style=\"color: #808000; text-decoration-color: #808000\">Passo </span><span style=\"color: #808000; text-decoration-color: #808000; font-weight: bold\">2</span><span style=\"color: #808000; text-decoration-color: #808000\">: Trocar colunas </span><span style=\"color: #808000; text-decoration-color: #808000; font-weight: bold\">1</span><span style=\"color: #808000; text-decoration-color: #808000\"> e </span><span style=\"color: #808000; text-decoration-color: #808000; font-weight: bold\">2</span>\n",
       "</pre>\n"
      ],
      "text/plain": [
       "\u001b[33mPasso \u001b[0m\u001b[1;33m2\u001b[0m\u001b[33m: Trocar colunas \u001b[0m\u001b[1;33m1\u001b[0m\u001b[33m e \u001b[0m\u001b[1;33m2\u001b[0m\n"
      ]
     },
     "metadata": {},
     "output_type": "display_data"
    },
    {
     "data": {
      "text/html": [
       "<pre style=\"white-space:pre;overflow-x:auto;line-height:normal;font-family:Menlo,'DejaVu Sans Mono',consolas,'Courier New',monospace\"><span style=\"font-style: italic\">      Matriz após troca de colunas 1 e 2      </span>\n",
       "                                              \n",
       " <span style=\"font-weight: bold\"> x_1      </span> <span style=\"font-weight: bold\"> x_2      </span> <span style=\"font-weight: bold\"> x_3      </span> <span style=\"font-weight: bold\"> b         </span> \n",
       " ──────────────────────────────────────────── \n",
       " <span style=\"color: #008080; text-decoration-color: #008080\"> 11.00000 </span> <span style=\"color: #008080; text-decoration-color: #008080\"> -1.00000 </span> <span style=\"color: #008080; text-decoration-color: #008080\"> -1.00000 </span> <span style=\"color: #008000; text-decoration-color: #008000\"> 25.00000  </span> \n",
       " <span style=\"color: #008080; text-decoration-color: #008080\"> 3.00000  </span> <span style=\"color: #008080; text-decoration-color: #008080\"> 9.00000  </span> <span style=\"color: #008080; text-decoration-color: #008080\"> 2.00000  </span> <span style=\"color: #008000; text-decoration-color: #008000\"> 6.00000   </span> \n",
       " <span style=\"color: #008080; text-decoration-color: #008080\"> -1.00000 </span> <span style=\"color: #008080; text-decoration-color: #008080\"> 2.00000  </span> <span style=\"color: #008080; text-decoration-color: #008080\"> 10.00000 </span> <span style=\"color: #008000; text-decoration-color: #008000\"> -11.00000 </span> \n",
       "                                              \n",
       "</pre>\n"
      ],
      "text/plain": [
       "\u001b[3m      Matriz após troca de colunas 1 e 2      \u001b[0m\n",
       "                                              \n",
       " \u001b[1m \u001b[0m\u001b[1mx_1     \u001b[0m\u001b[1m \u001b[0m \u001b[1m \u001b[0m\u001b[1mx_2     \u001b[0m\u001b[1m \u001b[0m \u001b[1m \u001b[0m\u001b[1mx_3     \u001b[0m\u001b[1m \u001b[0m \u001b[1m \u001b[0m\u001b[1mb        \u001b[0m\u001b[1m \u001b[0m \n",
       " ──────────────────────────────────────────── \n",
       " \u001b[36m \u001b[0m\u001b[36m11.00000\u001b[0m\u001b[36m \u001b[0m \u001b[36m \u001b[0m\u001b[36m-1.00000\u001b[0m\u001b[36m \u001b[0m \u001b[36m \u001b[0m\u001b[36m-1.00000\u001b[0m\u001b[36m \u001b[0m \u001b[32m \u001b[0m\u001b[32m25.00000 \u001b[0m\u001b[32m \u001b[0m \n",
       " \u001b[36m \u001b[0m\u001b[36m3.00000 \u001b[0m\u001b[36m \u001b[0m \u001b[36m \u001b[0m\u001b[36m9.00000 \u001b[0m\u001b[36m \u001b[0m \u001b[36m \u001b[0m\u001b[36m2.00000 \u001b[0m\u001b[36m \u001b[0m \u001b[32m \u001b[0m\u001b[32m6.00000  \u001b[0m\u001b[32m \u001b[0m \n",
       " \u001b[36m \u001b[0m\u001b[36m-1.00000\u001b[0m\u001b[36m \u001b[0m \u001b[36m \u001b[0m\u001b[36m2.00000 \u001b[0m\u001b[36m \u001b[0m \u001b[36m \u001b[0m\u001b[36m10.00000\u001b[0m\u001b[36m \u001b[0m \u001b[32m \u001b[0m\u001b[32m-11.00000\u001b[0m\u001b[32m \u001b[0m \n",
       "                                              \n"
      ]
     },
     "metadata": {},
     "output_type": "display_data"
    },
    {
     "data": {
      "text/html": [
       "<pre style=\"white-space:pre;overflow-x:auto;line-height:normal;font-family:Menlo,'DejaVu Sans Mono',consolas,'Courier New',monospace\"><span style=\"color: #000080; text-decoration-color: #000080\">Vetor de permutação atualizado: </span><span style=\"color: #000080; text-decoration-color: #000080; font-weight: bold\">[</span><span style=\"color: #000080; text-decoration-color: #000080; font-weight: bold\">2</span><span style=\"color: #000080; text-decoration-color: #000080\"> </span><span style=\"color: #000080; text-decoration-color: #000080; font-weight: bold\">1</span><span style=\"color: #000080; text-decoration-color: #000080\"> </span><span style=\"color: #000080; text-decoration-color: #000080; font-weight: bold\">3</span><span style=\"color: #000080; text-decoration-color: #000080; font-weight: bold\">]</span>\n",
       "</pre>\n"
      ],
      "text/plain": [
       "\u001b[34mVetor de permutação atualizado: \u001b[0m\u001b[1;34m[\u001b[0m\u001b[1;34m2\u001b[0m\u001b[34m \u001b[0m\u001b[1;34m1\u001b[0m\u001b[34m \u001b[0m\u001b[1;34m3\u001b[0m\u001b[1;34m]\u001b[0m\n"
      ]
     },
     "metadata": {},
     "output_type": "display_data"
    },
    {
     "data": {
      "text/html": [
       "<pre style=\"white-space:pre;overflow-x:auto;line-height:normal;font-family:Menlo,'DejaVu Sans Mono',consolas,'Courier New',monospace\"><span style=\"color: #000080; text-decoration-color: #000080\">Passo </span><span style=\"color: #000080; text-decoration-color: #000080; font-weight: bold\">3</span><span style=\"color: #000080; text-decoration-color: #000080\">: Normalizar linha </span><span style=\"color: #000080; text-decoration-color: #000080; font-weight: bold\">1</span><span style=\"color: #000080; text-decoration-color: #000080\"> </span><span style=\"color: #000080; text-decoration-color: #000080; font-weight: bold\">(</span><span style=\"color: #000080; text-decoration-color: #000080\">dividir por </span><span style=\"color: #000080; text-decoration-color: #000080; font-weight: bold\">11.00000</span><span style=\"color: #000080; text-decoration-color: #000080; font-weight: bold\">)</span>\n",
       "</pre>\n"
      ],
      "text/plain": [
       "\u001b[34mPasso \u001b[0m\u001b[1;34m3\u001b[0m\u001b[34m: Normalizar linha \u001b[0m\u001b[1;34m1\u001b[0m\u001b[34m \u001b[0m\u001b[1;34m(\u001b[0m\u001b[34mdividir por \u001b[0m\u001b[1;34m11.00000\u001b[0m\u001b[1;34m)\u001b[0m\n"
      ]
     },
     "metadata": {},
     "output_type": "display_data"
    },
    {
     "data": {
      "text/html": [
       "<pre style=\"white-space:pre;overflow-x:auto;line-height:normal;font-family:Menlo,'DejaVu Sans Mono',consolas,'Courier New',monospace\"><span style=\"font-style: italic\">     Matriz após normalização da linha 1      </span>\n",
       "                                              \n",
       " <span style=\"font-weight: bold\"> x_1      </span> <span style=\"font-weight: bold\"> x_2      </span> <span style=\"font-weight: bold\"> x_3      </span> <span style=\"font-weight: bold\"> b         </span> \n",
       " ──────────────────────────────────────────── \n",
       " <span style=\"color: #008080; text-decoration-color: #008080\"> 1.00000  </span> <span style=\"color: #008080; text-decoration-color: #008080\"> -0.09091 </span> <span style=\"color: #008080; text-decoration-color: #008080\"> -0.09091 </span> <span style=\"color: #008000; text-decoration-color: #008000\"> 2.27273   </span> \n",
       " <span style=\"color: #008080; text-decoration-color: #008080\"> 3.00000  </span> <span style=\"color: #008080; text-decoration-color: #008080\"> 9.00000  </span> <span style=\"color: #008080; text-decoration-color: #008080\"> 2.00000  </span> <span style=\"color: #008000; text-decoration-color: #008000\"> 6.00000   </span> \n",
       " <span style=\"color: #008080; text-decoration-color: #008080\"> -1.00000 </span> <span style=\"color: #008080; text-decoration-color: #008080\"> 2.00000  </span> <span style=\"color: #008080; text-decoration-color: #008080\"> 10.00000 </span> <span style=\"color: #008000; text-decoration-color: #008000\"> -11.00000 </span> \n",
       "                                              \n",
       "</pre>\n"
      ],
      "text/plain": [
       "\u001b[3m     Matriz após normalização da linha 1      \u001b[0m\n",
       "                                              \n",
       " \u001b[1m \u001b[0m\u001b[1mx_1     \u001b[0m\u001b[1m \u001b[0m \u001b[1m \u001b[0m\u001b[1mx_2     \u001b[0m\u001b[1m \u001b[0m \u001b[1m \u001b[0m\u001b[1mx_3     \u001b[0m\u001b[1m \u001b[0m \u001b[1m \u001b[0m\u001b[1mb        \u001b[0m\u001b[1m \u001b[0m \n",
       " ──────────────────────────────────────────── \n",
       " \u001b[36m \u001b[0m\u001b[36m1.00000 \u001b[0m\u001b[36m \u001b[0m \u001b[36m \u001b[0m\u001b[36m-0.09091\u001b[0m\u001b[36m \u001b[0m \u001b[36m \u001b[0m\u001b[36m-0.09091\u001b[0m\u001b[36m \u001b[0m \u001b[32m \u001b[0m\u001b[32m2.27273  \u001b[0m\u001b[32m \u001b[0m \n",
       " \u001b[36m \u001b[0m\u001b[36m3.00000 \u001b[0m\u001b[36m \u001b[0m \u001b[36m \u001b[0m\u001b[36m9.00000 \u001b[0m\u001b[36m \u001b[0m \u001b[36m \u001b[0m\u001b[36m2.00000 \u001b[0m\u001b[36m \u001b[0m \u001b[32m \u001b[0m\u001b[32m6.00000  \u001b[0m\u001b[32m \u001b[0m \n",
       " \u001b[36m \u001b[0m\u001b[36m-1.00000\u001b[0m\u001b[36m \u001b[0m \u001b[36m \u001b[0m\u001b[36m2.00000 \u001b[0m\u001b[36m \u001b[0m \u001b[36m \u001b[0m\u001b[36m10.00000\u001b[0m\u001b[36m \u001b[0m \u001b[32m \u001b[0m\u001b[32m-11.00000\u001b[0m\u001b[32m \u001b[0m \n",
       "                                              \n"
      ]
     },
     "metadata": {},
     "output_type": "display_data"
    },
    {
     "data": {
      "text/html": [
       "<pre style=\"white-space:pre;overflow-x:auto;line-height:normal;font-family:Menlo,'DejaVu Sans Mono',consolas,'Courier New',monospace\"><span style=\"color: #008000; text-decoration-color: #008000\">Passo </span><span style=\"color: #008000; text-decoration-color: #008000; font-weight: bold\">4</span><span style=\"color: #008000; text-decoration-color: #008000\">: Subtrair </span><span style=\"color: #008000; text-decoration-color: #008000; font-weight: bold\">3.00000</span><span style=\"color: #008000; text-decoration-color: #008000\"> vezes linha </span><span style=\"color: #008000; text-decoration-color: #008000; font-weight: bold\">1</span><span style=\"color: #008000; text-decoration-color: #008000\"> da linha </span><span style=\"color: #008000; text-decoration-color: #008000; font-weight: bold\">2</span>\n",
       "</pre>\n"
      ],
      "text/plain": [
       "\u001b[32mPasso \u001b[0m\u001b[1;32m4\u001b[0m\u001b[32m: Subtrair \u001b[0m\u001b[1;32m3.00000\u001b[0m\u001b[32m vezes linha \u001b[0m\u001b[1;32m1\u001b[0m\u001b[32m da linha \u001b[0m\u001b[1;32m2\u001b[0m\n"
      ]
     },
     "metadata": {},
     "output_type": "display_data"
    },
    {
     "data": {
      "text/html": [
       "<pre style=\"white-space:pre;overflow-x:auto;line-height:normal;font-family:Menlo,'DejaVu Sans Mono',consolas,'Courier New',monospace\"><span style=\"font-style: italic\">   Matriz após eliminação do elemento (2,1)   </span>\n",
       "                                              \n",
       " <span style=\"font-weight: bold\"> x_1      </span> <span style=\"font-weight: bold\"> x_2      </span> <span style=\"font-weight: bold\"> x_3      </span> <span style=\"font-weight: bold\"> b         </span> \n",
       " ──────────────────────────────────────────── \n",
       " <span style=\"color: #008080; text-decoration-color: #008080\"> 1.00000  </span> <span style=\"color: #008080; text-decoration-color: #008080\"> -0.09091 </span> <span style=\"color: #008080; text-decoration-color: #008080\"> -0.09091 </span> <span style=\"color: #008000; text-decoration-color: #008000\"> 2.27273   </span> \n",
       " <span style=\"color: #008080; text-decoration-color: #008080\"> 0.00000  </span> <span style=\"color: #008080; text-decoration-color: #008080\"> 9.27273  </span> <span style=\"color: #008080; text-decoration-color: #008080\"> 2.27273  </span> <span style=\"color: #008000; text-decoration-color: #008000\"> -0.81818  </span> \n",
       " <span style=\"color: #008080; text-decoration-color: #008080\"> -1.00000 </span> <span style=\"color: #008080; text-decoration-color: #008080\"> 2.00000  </span> <span style=\"color: #008080; text-decoration-color: #008080\"> 10.00000 </span> <span style=\"color: #008000; text-decoration-color: #008000\"> -11.00000 </span> \n",
       "                                              \n",
       "</pre>\n"
      ],
      "text/plain": [
       "\u001b[3m   Matriz após eliminação do elemento (2,1)   \u001b[0m\n",
       "                                              \n",
       " \u001b[1m \u001b[0m\u001b[1mx_1     \u001b[0m\u001b[1m \u001b[0m \u001b[1m \u001b[0m\u001b[1mx_2     \u001b[0m\u001b[1m \u001b[0m \u001b[1m \u001b[0m\u001b[1mx_3     \u001b[0m\u001b[1m \u001b[0m \u001b[1m \u001b[0m\u001b[1mb        \u001b[0m\u001b[1m \u001b[0m \n",
       " ──────────────────────────────────────────── \n",
       " \u001b[36m \u001b[0m\u001b[36m1.00000 \u001b[0m\u001b[36m \u001b[0m \u001b[36m \u001b[0m\u001b[36m-0.09091\u001b[0m\u001b[36m \u001b[0m \u001b[36m \u001b[0m\u001b[36m-0.09091\u001b[0m\u001b[36m \u001b[0m \u001b[32m \u001b[0m\u001b[32m2.27273  \u001b[0m\u001b[32m \u001b[0m \n",
       " \u001b[36m \u001b[0m\u001b[36m0.00000 \u001b[0m\u001b[36m \u001b[0m \u001b[36m \u001b[0m\u001b[36m9.27273 \u001b[0m\u001b[36m \u001b[0m \u001b[36m \u001b[0m\u001b[36m2.27273 \u001b[0m\u001b[36m \u001b[0m \u001b[32m \u001b[0m\u001b[32m-0.81818 \u001b[0m\u001b[32m \u001b[0m \n",
       " \u001b[36m \u001b[0m\u001b[36m-1.00000\u001b[0m\u001b[36m \u001b[0m \u001b[36m \u001b[0m\u001b[36m2.00000 \u001b[0m\u001b[36m \u001b[0m \u001b[36m \u001b[0m\u001b[36m10.00000\u001b[0m\u001b[36m \u001b[0m \u001b[32m \u001b[0m\u001b[32m-11.00000\u001b[0m\u001b[32m \u001b[0m \n",
       "                                              \n"
      ]
     },
     "metadata": {},
     "output_type": "display_data"
    },
    {
     "data": {
      "text/html": [
       "<pre style=\"white-space:pre;overflow-x:auto;line-height:normal;font-family:Menlo,'DejaVu Sans Mono',consolas,'Courier New',monospace\"><span style=\"color: #008000; text-decoration-color: #008000\">Passo </span><span style=\"color: #008000; text-decoration-color: #008000; font-weight: bold\">5</span><span style=\"color: #008000; text-decoration-color: #008000\">: Subtrair </span><span style=\"color: #008000; text-decoration-color: #008000; font-weight: bold\">-1.00000</span><span style=\"color: #008000; text-decoration-color: #008000\"> vezes linha </span><span style=\"color: #008000; text-decoration-color: #008000; font-weight: bold\">1</span><span style=\"color: #008000; text-decoration-color: #008000\"> da linha </span><span style=\"color: #008000; text-decoration-color: #008000; font-weight: bold\">3</span>\n",
       "</pre>\n"
      ],
      "text/plain": [
       "\u001b[32mPasso \u001b[0m\u001b[1;32m5\u001b[0m\u001b[32m: Subtrair \u001b[0m\u001b[1;32m-1.00000\u001b[0m\u001b[32m vezes linha \u001b[0m\u001b[1;32m1\u001b[0m\u001b[32m da linha \u001b[0m\u001b[1;32m3\u001b[0m\n"
      ]
     },
     "metadata": {},
     "output_type": "display_data"
    },
    {
     "data": {
      "text/html": [
       "<pre style=\"white-space:pre;overflow-x:auto;line-height:normal;font-family:Menlo,'DejaVu Sans Mono',consolas,'Courier New',monospace\"><span style=\"font-style: italic\">  Matriz após eliminação do elemento (3,1)  </span>\n",
       "                                            \n",
       " <span style=\"font-weight: bold\"> x_1     </span> <span style=\"font-weight: bold\"> x_2      </span> <span style=\"font-weight: bold\"> x_3      </span> <span style=\"font-weight: bold\"> b        </span> \n",
       " ────────────────────────────────────────── \n",
       " <span style=\"color: #008080; text-decoration-color: #008080\"> 1.00000 </span> <span style=\"color: #008080; text-decoration-color: #008080\"> -0.09091 </span> <span style=\"color: #008080; text-decoration-color: #008080\"> -0.09091 </span> <span style=\"color: #008000; text-decoration-color: #008000\"> 2.27273  </span> \n",
       " <span style=\"color: #008080; text-decoration-color: #008080\"> 0.00000 </span> <span style=\"color: #008080; text-decoration-color: #008080\"> 9.27273  </span> <span style=\"color: #008080; text-decoration-color: #008080\"> 2.27273  </span> <span style=\"color: #008000; text-decoration-color: #008000\"> -0.81818 </span> \n",
       " <span style=\"color: #008080; text-decoration-color: #008080\"> 0.00000 </span> <span style=\"color: #008080; text-decoration-color: #008080\"> 1.90909  </span> <span style=\"color: #008080; text-decoration-color: #008080\"> 9.90909  </span> <span style=\"color: #008000; text-decoration-color: #008000\"> -8.72727 </span> \n",
       "                                            \n",
       "</pre>\n"
      ],
      "text/plain": [
       "\u001b[3m  Matriz após eliminação do elemento (3,1)  \u001b[0m\n",
       "                                            \n",
       " \u001b[1m \u001b[0m\u001b[1mx_1    \u001b[0m\u001b[1m \u001b[0m \u001b[1m \u001b[0m\u001b[1mx_2     \u001b[0m\u001b[1m \u001b[0m \u001b[1m \u001b[0m\u001b[1mx_3     \u001b[0m\u001b[1m \u001b[0m \u001b[1m \u001b[0m\u001b[1mb       \u001b[0m\u001b[1m \u001b[0m \n",
       " ────────────────────────────────────────── \n",
       " \u001b[36m \u001b[0m\u001b[36m1.00000\u001b[0m\u001b[36m \u001b[0m \u001b[36m \u001b[0m\u001b[36m-0.09091\u001b[0m\u001b[36m \u001b[0m \u001b[36m \u001b[0m\u001b[36m-0.09091\u001b[0m\u001b[36m \u001b[0m \u001b[32m \u001b[0m\u001b[32m2.27273 \u001b[0m\u001b[32m \u001b[0m \n",
       " \u001b[36m \u001b[0m\u001b[36m0.00000\u001b[0m\u001b[36m \u001b[0m \u001b[36m \u001b[0m\u001b[36m9.27273 \u001b[0m\u001b[36m \u001b[0m \u001b[36m \u001b[0m\u001b[36m2.27273 \u001b[0m\u001b[36m \u001b[0m \u001b[32m \u001b[0m\u001b[32m-0.81818\u001b[0m\u001b[32m \u001b[0m \n",
       " \u001b[36m \u001b[0m\u001b[36m0.00000\u001b[0m\u001b[36m \u001b[0m \u001b[36m \u001b[0m\u001b[36m1.90909 \u001b[0m\u001b[36m \u001b[0m \u001b[36m \u001b[0m\u001b[36m9.90909 \u001b[0m\u001b[36m \u001b[0m \u001b[32m \u001b[0m\u001b[32m-8.72727\u001b[0m\u001b[32m \u001b[0m \n",
       "                                            \n"
      ]
     },
     "metadata": {},
     "output_type": "display_data"
    },
    {
     "data": {
      "text/html": [
       "<pre style=\"white-space:pre;overflow-x:auto;line-height:normal;font-family:Menlo,'DejaVu Sans Mono',consolas,'Courier New',monospace\"><span style=\"color: #808000; text-decoration-color: #808000\">Passo </span><span style=\"color: #808000; text-decoration-color: #808000; font-weight: bold\">6</span><span style=\"color: #808000; text-decoration-color: #808000\">: Trocar linhas </span><span style=\"color: #808000; text-decoration-color: #808000; font-weight: bold\">2</span><span style=\"color: #808000; text-decoration-color: #808000\"> e </span><span style=\"color: #808000; text-decoration-color: #808000; font-weight: bold\">3</span>\n",
       "</pre>\n"
      ],
      "text/plain": [
       "\u001b[33mPasso \u001b[0m\u001b[1;33m6\u001b[0m\u001b[33m: Trocar linhas \u001b[0m\u001b[1;33m2\u001b[0m\u001b[33m e \u001b[0m\u001b[1;33m3\u001b[0m\n"
      ]
     },
     "metadata": {},
     "output_type": "display_data"
    },
    {
     "data": {
      "text/html": [
       "<pre style=\"white-space:pre;overflow-x:auto;line-height:normal;font-family:Menlo,'DejaVu Sans Mono',consolas,'Courier New',monospace\"><span style=\"font-style: italic\">     Matriz após troca de linhas 2 e 3      </span>\n",
       "                                            \n",
       " <span style=\"font-weight: bold\"> x_1     </span> <span style=\"font-weight: bold\"> x_2      </span> <span style=\"font-weight: bold\"> x_3      </span> <span style=\"font-weight: bold\"> b        </span> \n",
       " ────────────────────────────────────────── \n",
       " <span style=\"color: #008080; text-decoration-color: #008080\"> 1.00000 </span> <span style=\"color: #008080; text-decoration-color: #008080\"> -0.09091 </span> <span style=\"color: #008080; text-decoration-color: #008080\"> -0.09091 </span> <span style=\"color: #008000; text-decoration-color: #008000\"> 2.27273  </span> \n",
       " <span style=\"color: #008080; text-decoration-color: #008080\"> 0.00000 </span> <span style=\"color: #008080; text-decoration-color: #008080\"> 1.90909  </span> <span style=\"color: #008080; text-decoration-color: #008080\"> 9.90909  </span> <span style=\"color: #008000; text-decoration-color: #008000\"> -8.72727 </span> \n",
       " <span style=\"color: #008080; text-decoration-color: #008080\"> 0.00000 </span> <span style=\"color: #008080; text-decoration-color: #008080\"> 9.27273  </span> <span style=\"color: #008080; text-decoration-color: #008080\"> 2.27273  </span> <span style=\"color: #008000; text-decoration-color: #008000\"> -0.81818 </span> \n",
       "                                            \n",
       "</pre>\n"
      ],
      "text/plain": [
       "\u001b[3m     Matriz após troca de linhas 2 e 3      \u001b[0m\n",
       "                                            \n",
       " \u001b[1m \u001b[0m\u001b[1mx_1    \u001b[0m\u001b[1m \u001b[0m \u001b[1m \u001b[0m\u001b[1mx_2     \u001b[0m\u001b[1m \u001b[0m \u001b[1m \u001b[0m\u001b[1mx_3     \u001b[0m\u001b[1m \u001b[0m \u001b[1m \u001b[0m\u001b[1mb       \u001b[0m\u001b[1m \u001b[0m \n",
       " ────────────────────────────────────────── \n",
       " \u001b[36m \u001b[0m\u001b[36m1.00000\u001b[0m\u001b[36m \u001b[0m \u001b[36m \u001b[0m\u001b[36m-0.09091\u001b[0m\u001b[36m \u001b[0m \u001b[36m \u001b[0m\u001b[36m-0.09091\u001b[0m\u001b[36m \u001b[0m \u001b[32m \u001b[0m\u001b[32m2.27273 \u001b[0m\u001b[32m \u001b[0m \n",
       " \u001b[36m \u001b[0m\u001b[36m0.00000\u001b[0m\u001b[36m \u001b[0m \u001b[36m \u001b[0m\u001b[36m1.90909 \u001b[0m\u001b[36m \u001b[0m \u001b[36m \u001b[0m\u001b[36m9.90909 \u001b[0m\u001b[36m \u001b[0m \u001b[32m \u001b[0m\u001b[32m-8.72727\u001b[0m\u001b[32m \u001b[0m \n",
       " \u001b[36m \u001b[0m\u001b[36m0.00000\u001b[0m\u001b[36m \u001b[0m \u001b[36m \u001b[0m\u001b[36m9.27273 \u001b[0m\u001b[36m \u001b[0m \u001b[36m \u001b[0m\u001b[36m2.27273 \u001b[0m\u001b[36m \u001b[0m \u001b[32m \u001b[0m\u001b[32m-0.81818\u001b[0m\u001b[32m \u001b[0m \n",
       "                                            \n"
      ]
     },
     "metadata": {},
     "output_type": "display_data"
    },
    {
     "data": {
      "text/html": [
       "<pre style=\"white-space:pre;overflow-x:auto;line-height:normal;font-family:Menlo,'DejaVu Sans Mono',consolas,'Courier New',monospace\"><span style=\"color: #808000; text-decoration-color: #808000\">Passo </span><span style=\"color: #808000; text-decoration-color: #808000; font-weight: bold\">7</span><span style=\"color: #808000; text-decoration-color: #808000\">: Trocar colunas </span><span style=\"color: #808000; text-decoration-color: #808000; font-weight: bold\">2</span><span style=\"color: #808000; text-decoration-color: #808000\"> e </span><span style=\"color: #808000; text-decoration-color: #808000; font-weight: bold\">3</span>\n",
       "</pre>\n"
      ],
      "text/plain": [
       "\u001b[33mPasso \u001b[0m\u001b[1;33m7\u001b[0m\u001b[33m: Trocar colunas \u001b[0m\u001b[1;33m2\u001b[0m\u001b[33m e \u001b[0m\u001b[1;33m3\u001b[0m\n"
      ]
     },
     "metadata": {},
     "output_type": "display_data"
    },
    {
     "data": {
      "text/html": [
       "<pre style=\"white-space:pre;overflow-x:auto;line-height:normal;font-family:Menlo,'DejaVu Sans Mono',consolas,'Courier New',monospace\"><span style=\"font-style: italic\">     Matriz após troca de colunas 2 e 3     </span>\n",
       "                                            \n",
       " <span style=\"font-weight: bold\"> x_1     </span> <span style=\"font-weight: bold\"> x_2      </span> <span style=\"font-weight: bold\"> x_3      </span> <span style=\"font-weight: bold\"> b        </span> \n",
       " ────────────────────────────────────────── \n",
       " <span style=\"color: #008080; text-decoration-color: #008080\"> 1.00000 </span> <span style=\"color: #008080; text-decoration-color: #008080\"> -0.09091 </span> <span style=\"color: #008080; text-decoration-color: #008080\"> -0.09091 </span> <span style=\"color: #008000; text-decoration-color: #008000\"> 2.27273  </span> \n",
       " <span style=\"color: #008080; text-decoration-color: #008080\"> 0.00000 </span> <span style=\"color: #008080; text-decoration-color: #008080\"> 9.90909  </span> <span style=\"color: #008080; text-decoration-color: #008080\"> 1.90909  </span> <span style=\"color: #008000; text-decoration-color: #008000\"> -8.72727 </span> \n",
       " <span style=\"color: #008080; text-decoration-color: #008080\"> 0.00000 </span> <span style=\"color: #008080; text-decoration-color: #008080\"> 2.27273  </span> <span style=\"color: #008080; text-decoration-color: #008080\"> 9.27273  </span> <span style=\"color: #008000; text-decoration-color: #008000\"> -0.81818 </span> \n",
       "                                            \n",
       "</pre>\n"
      ],
      "text/plain": [
       "\u001b[3m     Matriz após troca de colunas 2 e 3     \u001b[0m\n",
       "                                            \n",
       " \u001b[1m \u001b[0m\u001b[1mx_1    \u001b[0m\u001b[1m \u001b[0m \u001b[1m \u001b[0m\u001b[1mx_2     \u001b[0m\u001b[1m \u001b[0m \u001b[1m \u001b[0m\u001b[1mx_3     \u001b[0m\u001b[1m \u001b[0m \u001b[1m \u001b[0m\u001b[1mb       \u001b[0m\u001b[1m \u001b[0m \n",
       " ────────────────────────────────────────── \n",
       " \u001b[36m \u001b[0m\u001b[36m1.00000\u001b[0m\u001b[36m \u001b[0m \u001b[36m \u001b[0m\u001b[36m-0.09091\u001b[0m\u001b[36m \u001b[0m \u001b[36m \u001b[0m\u001b[36m-0.09091\u001b[0m\u001b[36m \u001b[0m \u001b[32m \u001b[0m\u001b[32m2.27273 \u001b[0m\u001b[32m \u001b[0m \n",
       " \u001b[36m \u001b[0m\u001b[36m0.00000\u001b[0m\u001b[36m \u001b[0m \u001b[36m \u001b[0m\u001b[36m9.90909 \u001b[0m\u001b[36m \u001b[0m \u001b[36m \u001b[0m\u001b[36m1.90909 \u001b[0m\u001b[36m \u001b[0m \u001b[32m \u001b[0m\u001b[32m-8.72727\u001b[0m\u001b[32m \u001b[0m \n",
       " \u001b[36m \u001b[0m\u001b[36m0.00000\u001b[0m\u001b[36m \u001b[0m \u001b[36m \u001b[0m\u001b[36m2.27273 \u001b[0m\u001b[36m \u001b[0m \u001b[36m \u001b[0m\u001b[36m9.27273 \u001b[0m\u001b[36m \u001b[0m \u001b[32m \u001b[0m\u001b[32m-0.81818\u001b[0m\u001b[32m \u001b[0m \n",
       "                                            \n"
      ]
     },
     "metadata": {},
     "output_type": "display_data"
    },
    {
     "data": {
      "text/html": [
       "<pre style=\"white-space:pre;overflow-x:auto;line-height:normal;font-family:Menlo,'DejaVu Sans Mono',consolas,'Courier New',monospace\"><span style=\"color: #000080; text-decoration-color: #000080\">Vetor de permutação atualizado: </span><span style=\"color: #000080; text-decoration-color: #000080; font-weight: bold\">[</span><span style=\"color: #000080; text-decoration-color: #000080; font-weight: bold\">2</span><span style=\"color: #000080; text-decoration-color: #000080\"> </span><span style=\"color: #000080; text-decoration-color: #000080; font-weight: bold\">3</span><span style=\"color: #000080; text-decoration-color: #000080\"> </span><span style=\"color: #000080; text-decoration-color: #000080; font-weight: bold\">1</span><span style=\"color: #000080; text-decoration-color: #000080; font-weight: bold\">]</span>\n",
       "</pre>\n"
      ],
      "text/plain": [
       "\u001b[34mVetor de permutação atualizado: \u001b[0m\u001b[1;34m[\u001b[0m\u001b[1;34m2\u001b[0m\u001b[34m \u001b[0m\u001b[1;34m3\u001b[0m\u001b[34m \u001b[0m\u001b[1;34m1\u001b[0m\u001b[1;34m]\u001b[0m\n"
      ]
     },
     "metadata": {},
     "output_type": "display_data"
    },
    {
     "data": {
      "text/html": [
       "<pre style=\"white-space:pre;overflow-x:auto;line-height:normal;font-family:Menlo,'DejaVu Sans Mono',consolas,'Courier New',monospace\"><span style=\"color: #000080; text-decoration-color: #000080\">Passo </span><span style=\"color: #000080; text-decoration-color: #000080; font-weight: bold\">8</span><span style=\"color: #000080; text-decoration-color: #000080\">: Normalizar linha </span><span style=\"color: #000080; text-decoration-color: #000080; font-weight: bold\">2</span><span style=\"color: #000080; text-decoration-color: #000080\"> </span><span style=\"color: #000080; text-decoration-color: #000080; font-weight: bold\">(</span><span style=\"color: #000080; text-decoration-color: #000080\">dividir por </span><span style=\"color: #000080; text-decoration-color: #000080; font-weight: bold\">9.90909</span><span style=\"color: #000080; text-decoration-color: #000080; font-weight: bold\">)</span>\n",
       "</pre>\n"
      ],
      "text/plain": [
       "\u001b[34mPasso \u001b[0m\u001b[1;34m8\u001b[0m\u001b[34m: Normalizar linha \u001b[0m\u001b[1;34m2\u001b[0m\u001b[34m \u001b[0m\u001b[1;34m(\u001b[0m\u001b[34mdividir por \u001b[0m\u001b[1;34m9.90909\u001b[0m\u001b[1;34m)\u001b[0m\n"
      ]
     },
     "metadata": {},
     "output_type": "display_data"
    },
    {
     "data": {
      "text/html": [
       "<pre style=\"white-space:pre;overflow-x:auto;line-height:normal;font-family:Menlo,'DejaVu Sans Mono',consolas,'Courier New',monospace\"><span style=\"font-style: italic\">    Matriz após normalização da linha 2     </span>\n",
       "                                            \n",
       " <span style=\"font-weight: bold\"> x_1     </span> <span style=\"font-weight: bold\"> x_2      </span> <span style=\"font-weight: bold\"> x_3      </span> <span style=\"font-weight: bold\"> b        </span> \n",
       " ────────────────────────────────────────── \n",
       " <span style=\"color: #008080; text-decoration-color: #008080\"> 1.00000 </span> <span style=\"color: #008080; text-decoration-color: #008080\"> -0.09091 </span> <span style=\"color: #008080; text-decoration-color: #008080\"> -0.09091 </span> <span style=\"color: #008000; text-decoration-color: #008000\"> 2.27273  </span> \n",
       " <span style=\"color: #008080; text-decoration-color: #008080\"> 0.00000 </span> <span style=\"color: #008080; text-decoration-color: #008080\"> 1.00000  </span> <span style=\"color: #008080; text-decoration-color: #008080\"> 0.19266  </span> <span style=\"color: #008000; text-decoration-color: #008000\"> -0.88073 </span> \n",
       " <span style=\"color: #008080; text-decoration-color: #008080\"> 0.00000 </span> <span style=\"color: #008080; text-decoration-color: #008080\"> 2.27273  </span> <span style=\"color: #008080; text-decoration-color: #008080\"> 9.27273  </span> <span style=\"color: #008000; text-decoration-color: #008000\"> -0.81818 </span> \n",
       "                                            \n",
       "</pre>\n"
      ],
      "text/plain": [
       "\u001b[3m    Matriz após normalização da linha 2     \u001b[0m\n",
       "                                            \n",
       " \u001b[1m \u001b[0m\u001b[1mx_1    \u001b[0m\u001b[1m \u001b[0m \u001b[1m \u001b[0m\u001b[1mx_2     \u001b[0m\u001b[1m \u001b[0m \u001b[1m \u001b[0m\u001b[1mx_3     \u001b[0m\u001b[1m \u001b[0m \u001b[1m \u001b[0m\u001b[1mb       \u001b[0m\u001b[1m \u001b[0m \n",
       " ────────────────────────────────────────── \n",
       " \u001b[36m \u001b[0m\u001b[36m1.00000\u001b[0m\u001b[36m \u001b[0m \u001b[36m \u001b[0m\u001b[36m-0.09091\u001b[0m\u001b[36m \u001b[0m \u001b[36m \u001b[0m\u001b[36m-0.09091\u001b[0m\u001b[36m \u001b[0m \u001b[32m \u001b[0m\u001b[32m2.27273 \u001b[0m\u001b[32m \u001b[0m \n",
       " \u001b[36m \u001b[0m\u001b[36m0.00000\u001b[0m\u001b[36m \u001b[0m \u001b[36m \u001b[0m\u001b[36m1.00000 \u001b[0m\u001b[36m \u001b[0m \u001b[36m \u001b[0m\u001b[36m0.19266 \u001b[0m\u001b[36m \u001b[0m \u001b[32m \u001b[0m\u001b[32m-0.88073\u001b[0m\u001b[32m \u001b[0m \n",
       " \u001b[36m \u001b[0m\u001b[36m0.00000\u001b[0m\u001b[36m \u001b[0m \u001b[36m \u001b[0m\u001b[36m2.27273 \u001b[0m\u001b[36m \u001b[0m \u001b[36m \u001b[0m\u001b[36m9.27273 \u001b[0m\u001b[36m \u001b[0m \u001b[32m \u001b[0m\u001b[32m-0.81818\u001b[0m\u001b[32m \u001b[0m \n",
       "                                            \n"
      ]
     },
     "metadata": {},
     "output_type": "display_data"
    },
    {
     "data": {
      "text/html": [
       "<pre style=\"white-space:pre;overflow-x:auto;line-height:normal;font-family:Menlo,'DejaVu Sans Mono',consolas,'Courier New',monospace\"><span style=\"color: #008000; text-decoration-color: #008000\">Passo </span><span style=\"color: #008000; text-decoration-color: #008000; font-weight: bold\">9</span><span style=\"color: #008000; text-decoration-color: #008000\">: Subtrair </span><span style=\"color: #008000; text-decoration-color: #008000; font-weight: bold\">-0.09091</span><span style=\"color: #008000; text-decoration-color: #008000\"> vezes linha </span><span style=\"color: #008000; text-decoration-color: #008000; font-weight: bold\">2</span><span style=\"color: #008000; text-decoration-color: #008000\"> da linha </span><span style=\"color: #008000; text-decoration-color: #008000; font-weight: bold\">1</span>\n",
       "</pre>\n"
      ],
      "text/plain": [
       "\u001b[32mPasso \u001b[0m\u001b[1;32m9\u001b[0m\u001b[32m: Subtrair \u001b[0m\u001b[1;32m-0.09091\u001b[0m\u001b[32m vezes linha \u001b[0m\u001b[1;32m2\u001b[0m\u001b[32m da linha \u001b[0m\u001b[1;32m1\u001b[0m\n"
      ]
     },
     "metadata": {},
     "output_type": "display_data"
    },
    {
     "data": {
      "text/html": [
       "<pre style=\"white-space:pre;overflow-x:auto;line-height:normal;font-family:Menlo,'DejaVu Sans Mono',consolas,'Courier New',monospace\"><span style=\"font-style: italic\"> Matriz após eliminação do elemento (1,2)  </span>\n",
       "                                           \n",
       " <span style=\"font-weight: bold\"> x_1     </span> <span style=\"font-weight: bold\"> x_2     </span> <span style=\"font-weight: bold\"> x_3      </span> <span style=\"font-weight: bold\"> b        </span> \n",
       " ───────────────────────────────────────── \n",
       " <span style=\"color: #008080; text-decoration-color: #008080\"> 1.00000 </span> <span style=\"color: #008080; text-decoration-color: #008080\"> 0.00000 </span> <span style=\"color: #008080; text-decoration-color: #008080\"> -0.07339 </span> <span style=\"color: #008000; text-decoration-color: #008000\"> 2.19266  </span> \n",
       " <span style=\"color: #008080; text-decoration-color: #008080\"> 0.00000 </span> <span style=\"color: #008080; text-decoration-color: #008080\"> 1.00000 </span> <span style=\"color: #008080; text-decoration-color: #008080\"> 0.19266  </span> <span style=\"color: #008000; text-decoration-color: #008000\"> -0.88073 </span> \n",
       " <span style=\"color: #008080; text-decoration-color: #008080\"> 0.00000 </span> <span style=\"color: #008080; text-decoration-color: #008080\"> 2.27273 </span> <span style=\"color: #008080; text-decoration-color: #008080\"> 9.27273  </span> <span style=\"color: #008000; text-decoration-color: #008000\"> -0.81818 </span> \n",
       "                                           \n",
       "</pre>\n"
      ],
      "text/plain": [
       "\u001b[3m Matriz após eliminação do elemento (1,2)  \u001b[0m\n",
       "                                           \n",
       " \u001b[1m \u001b[0m\u001b[1mx_1    \u001b[0m\u001b[1m \u001b[0m \u001b[1m \u001b[0m\u001b[1mx_2    \u001b[0m\u001b[1m \u001b[0m \u001b[1m \u001b[0m\u001b[1mx_3     \u001b[0m\u001b[1m \u001b[0m \u001b[1m \u001b[0m\u001b[1mb       \u001b[0m\u001b[1m \u001b[0m \n",
       " ───────────────────────────────────────── \n",
       " \u001b[36m \u001b[0m\u001b[36m1.00000\u001b[0m\u001b[36m \u001b[0m \u001b[36m \u001b[0m\u001b[36m0.00000\u001b[0m\u001b[36m \u001b[0m \u001b[36m \u001b[0m\u001b[36m-0.07339\u001b[0m\u001b[36m \u001b[0m \u001b[32m \u001b[0m\u001b[32m2.19266 \u001b[0m\u001b[32m \u001b[0m \n",
       " \u001b[36m \u001b[0m\u001b[36m0.00000\u001b[0m\u001b[36m \u001b[0m \u001b[36m \u001b[0m\u001b[36m1.00000\u001b[0m\u001b[36m \u001b[0m \u001b[36m \u001b[0m\u001b[36m0.19266 \u001b[0m\u001b[36m \u001b[0m \u001b[32m \u001b[0m\u001b[32m-0.88073\u001b[0m\u001b[32m \u001b[0m \n",
       " \u001b[36m \u001b[0m\u001b[36m0.00000\u001b[0m\u001b[36m \u001b[0m \u001b[36m \u001b[0m\u001b[36m2.27273\u001b[0m\u001b[36m \u001b[0m \u001b[36m \u001b[0m\u001b[36m9.27273 \u001b[0m\u001b[36m \u001b[0m \u001b[32m \u001b[0m\u001b[32m-0.81818\u001b[0m\u001b[32m \u001b[0m \n",
       "                                           \n"
      ]
     },
     "metadata": {},
     "output_type": "display_data"
    },
    {
     "data": {
      "text/html": [
       "<pre style=\"white-space:pre;overflow-x:auto;line-height:normal;font-family:Menlo,'DejaVu Sans Mono',consolas,'Courier New',monospace\"><span style=\"color: #008000; text-decoration-color: #008000\">Passo </span><span style=\"color: #008000; text-decoration-color: #008000; font-weight: bold\">10</span><span style=\"color: #008000; text-decoration-color: #008000\">: Subtrair </span><span style=\"color: #008000; text-decoration-color: #008000; font-weight: bold\">2.27273</span><span style=\"color: #008000; text-decoration-color: #008000\"> vezes linha </span><span style=\"color: #008000; text-decoration-color: #008000; font-weight: bold\">2</span><span style=\"color: #008000; text-decoration-color: #008000\"> da linha </span><span style=\"color: #008000; text-decoration-color: #008000; font-weight: bold\">3</span>\n",
       "</pre>\n"
      ],
      "text/plain": [
       "\u001b[32mPasso \u001b[0m\u001b[1;32m10\u001b[0m\u001b[32m: Subtrair \u001b[0m\u001b[1;32m2.27273\u001b[0m\u001b[32m vezes linha \u001b[0m\u001b[1;32m2\u001b[0m\u001b[32m da linha \u001b[0m\u001b[1;32m3\u001b[0m\n"
      ]
     },
     "metadata": {},
     "output_type": "display_data"
    },
    {
     "data": {
      "text/html": [
       "<pre style=\"white-space:pre;overflow-x:auto;line-height:normal;font-family:Menlo,'DejaVu Sans Mono',consolas,'Courier New',monospace\"><span style=\"font-style: italic\"> Matriz após eliminação do elemento (3,2)  </span>\n",
       "                                           \n",
       " <span style=\"font-weight: bold\"> x_1     </span> <span style=\"font-weight: bold\"> x_2     </span> <span style=\"font-weight: bold\"> x_3      </span> <span style=\"font-weight: bold\"> b        </span> \n",
       " ───────────────────────────────────────── \n",
       " <span style=\"color: #008080; text-decoration-color: #008080\"> 1.00000 </span> <span style=\"color: #008080; text-decoration-color: #008080\"> 0.00000 </span> <span style=\"color: #008080; text-decoration-color: #008080\"> -0.07339 </span> <span style=\"color: #008000; text-decoration-color: #008000\"> 2.19266  </span> \n",
       " <span style=\"color: #008080; text-decoration-color: #008080\"> 0.00000 </span> <span style=\"color: #008080; text-decoration-color: #008080\"> 1.00000 </span> <span style=\"color: #008080; text-decoration-color: #008080\"> 0.19266  </span> <span style=\"color: #008000; text-decoration-color: #008000\"> -0.88073 </span> \n",
       " <span style=\"color: #008080; text-decoration-color: #008080\"> 0.00000 </span> <span style=\"color: #008080; text-decoration-color: #008080\"> 0.00000 </span> <span style=\"color: #008080; text-decoration-color: #008080\"> 8.83486  </span> <span style=\"color: #008000; text-decoration-color: #008000\"> 1.18349  </span> \n",
       "                                           \n",
       "</pre>\n"
      ],
      "text/plain": [
       "\u001b[3m Matriz após eliminação do elemento (3,2)  \u001b[0m\n",
       "                                           \n",
       " \u001b[1m \u001b[0m\u001b[1mx_1    \u001b[0m\u001b[1m \u001b[0m \u001b[1m \u001b[0m\u001b[1mx_2    \u001b[0m\u001b[1m \u001b[0m \u001b[1m \u001b[0m\u001b[1mx_3     \u001b[0m\u001b[1m \u001b[0m \u001b[1m \u001b[0m\u001b[1mb       \u001b[0m\u001b[1m \u001b[0m \n",
       " ───────────────────────────────────────── \n",
       " \u001b[36m \u001b[0m\u001b[36m1.00000\u001b[0m\u001b[36m \u001b[0m \u001b[36m \u001b[0m\u001b[36m0.00000\u001b[0m\u001b[36m \u001b[0m \u001b[36m \u001b[0m\u001b[36m-0.07339\u001b[0m\u001b[36m \u001b[0m \u001b[32m \u001b[0m\u001b[32m2.19266 \u001b[0m\u001b[32m \u001b[0m \n",
       " \u001b[36m \u001b[0m\u001b[36m0.00000\u001b[0m\u001b[36m \u001b[0m \u001b[36m \u001b[0m\u001b[36m1.00000\u001b[0m\u001b[36m \u001b[0m \u001b[36m \u001b[0m\u001b[36m0.19266 \u001b[0m\u001b[36m \u001b[0m \u001b[32m \u001b[0m\u001b[32m-0.88073\u001b[0m\u001b[32m \u001b[0m \n",
       " \u001b[36m \u001b[0m\u001b[36m0.00000\u001b[0m\u001b[36m \u001b[0m \u001b[36m \u001b[0m\u001b[36m0.00000\u001b[0m\u001b[36m \u001b[0m \u001b[36m \u001b[0m\u001b[36m8.83486 \u001b[0m\u001b[36m \u001b[0m \u001b[32m \u001b[0m\u001b[32m1.18349 \u001b[0m\u001b[32m \u001b[0m \n",
       "                                           \n"
      ]
     },
     "metadata": {},
     "output_type": "display_data"
    },
    {
     "data": {
      "text/html": [
       "<pre style=\"white-space:pre;overflow-x:auto;line-height:normal;font-family:Menlo,'DejaVu Sans Mono',consolas,'Courier New',monospace\"><span style=\"color: #000080; text-decoration-color: #000080\">Passo </span><span style=\"color: #000080; text-decoration-color: #000080; font-weight: bold\">11</span><span style=\"color: #000080; text-decoration-color: #000080\">: Normalizar linha </span><span style=\"color: #000080; text-decoration-color: #000080; font-weight: bold\">3</span><span style=\"color: #000080; text-decoration-color: #000080\"> </span><span style=\"color: #000080; text-decoration-color: #000080; font-weight: bold\">(</span><span style=\"color: #000080; text-decoration-color: #000080\">dividir por </span><span style=\"color: #000080; text-decoration-color: #000080; font-weight: bold\">8.83486</span><span style=\"color: #000080; text-decoration-color: #000080; font-weight: bold\">)</span>\n",
       "</pre>\n"
      ],
      "text/plain": [
       "\u001b[34mPasso \u001b[0m\u001b[1;34m11\u001b[0m\u001b[34m: Normalizar linha \u001b[0m\u001b[1;34m3\u001b[0m\u001b[34m \u001b[0m\u001b[1;34m(\u001b[0m\u001b[34mdividir por \u001b[0m\u001b[1;34m8.83486\u001b[0m\u001b[1;34m)\u001b[0m\n"
      ]
     },
     "metadata": {},
     "output_type": "display_data"
    },
    {
     "data": {
      "text/html": [
       "<pre style=\"white-space:pre;overflow-x:auto;line-height:normal;font-family:Menlo,'DejaVu Sans Mono',consolas,'Courier New',monospace\"><span style=\"font-style: italic\">    Matriz após normalização da linha 3    </span>\n",
       "                                           \n",
       " <span style=\"font-weight: bold\"> x_1     </span> <span style=\"font-weight: bold\"> x_2     </span> <span style=\"font-weight: bold\"> x_3      </span> <span style=\"font-weight: bold\"> b        </span> \n",
       " ───────────────────────────────────────── \n",
       " <span style=\"color: #008080; text-decoration-color: #008080\"> 1.00000 </span> <span style=\"color: #008080; text-decoration-color: #008080\"> 0.00000 </span> <span style=\"color: #008080; text-decoration-color: #008080\"> -0.07339 </span> <span style=\"color: #008000; text-decoration-color: #008000\"> 2.19266  </span> \n",
       " <span style=\"color: #008080; text-decoration-color: #008080\"> 0.00000 </span> <span style=\"color: #008080; text-decoration-color: #008080\"> 1.00000 </span> <span style=\"color: #008080; text-decoration-color: #008080\"> 0.19266  </span> <span style=\"color: #008000; text-decoration-color: #008000\"> -0.88073 </span> \n",
       " <span style=\"color: #008080; text-decoration-color: #008080\"> 0.00000 </span> <span style=\"color: #008080; text-decoration-color: #008080\"> 0.00000 </span> <span style=\"color: #008080; text-decoration-color: #008080\"> 1.00000  </span> <span style=\"color: #008000; text-decoration-color: #008000\"> 0.13396  </span> \n",
       "                                           \n",
       "</pre>\n"
      ],
      "text/plain": [
       "\u001b[3m    Matriz após normalização da linha 3    \u001b[0m\n",
       "                                           \n",
       " \u001b[1m \u001b[0m\u001b[1mx_1    \u001b[0m\u001b[1m \u001b[0m \u001b[1m \u001b[0m\u001b[1mx_2    \u001b[0m\u001b[1m \u001b[0m \u001b[1m \u001b[0m\u001b[1mx_3     \u001b[0m\u001b[1m \u001b[0m \u001b[1m \u001b[0m\u001b[1mb       \u001b[0m\u001b[1m \u001b[0m \n",
       " ───────────────────────────────────────── \n",
       " \u001b[36m \u001b[0m\u001b[36m1.00000\u001b[0m\u001b[36m \u001b[0m \u001b[36m \u001b[0m\u001b[36m0.00000\u001b[0m\u001b[36m \u001b[0m \u001b[36m \u001b[0m\u001b[36m-0.07339\u001b[0m\u001b[36m \u001b[0m \u001b[32m \u001b[0m\u001b[32m2.19266 \u001b[0m\u001b[32m \u001b[0m \n",
       " \u001b[36m \u001b[0m\u001b[36m0.00000\u001b[0m\u001b[36m \u001b[0m \u001b[36m \u001b[0m\u001b[36m1.00000\u001b[0m\u001b[36m \u001b[0m \u001b[36m \u001b[0m\u001b[36m0.19266 \u001b[0m\u001b[36m \u001b[0m \u001b[32m \u001b[0m\u001b[32m-0.88073\u001b[0m\u001b[32m \u001b[0m \n",
       " \u001b[36m \u001b[0m\u001b[36m0.00000\u001b[0m\u001b[36m \u001b[0m \u001b[36m \u001b[0m\u001b[36m0.00000\u001b[0m\u001b[36m \u001b[0m \u001b[36m \u001b[0m\u001b[36m1.00000 \u001b[0m\u001b[36m \u001b[0m \u001b[32m \u001b[0m\u001b[32m0.13396 \u001b[0m\u001b[32m \u001b[0m \n",
       "                                           \n"
      ]
     },
     "metadata": {},
     "output_type": "display_data"
    },
    {
     "data": {
      "text/html": [
       "<pre style=\"white-space:pre;overflow-x:auto;line-height:normal;font-family:Menlo,'DejaVu Sans Mono',consolas,'Courier New',monospace\"><span style=\"color: #008000; text-decoration-color: #008000\">Passo </span><span style=\"color: #008000; text-decoration-color: #008000; font-weight: bold\">12</span><span style=\"color: #008000; text-decoration-color: #008000\">: Subtrair </span><span style=\"color: #008000; text-decoration-color: #008000; font-weight: bold\">-0.07339</span><span style=\"color: #008000; text-decoration-color: #008000\"> vezes linha </span><span style=\"color: #008000; text-decoration-color: #008000; font-weight: bold\">3</span><span style=\"color: #008000; text-decoration-color: #008000\"> da linha </span><span style=\"color: #008000; text-decoration-color: #008000; font-weight: bold\">1</span>\n",
       "</pre>\n"
      ],
      "text/plain": [
       "\u001b[32mPasso \u001b[0m\u001b[1;32m12\u001b[0m\u001b[32m: Subtrair \u001b[0m\u001b[1;32m-0.07339\u001b[0m\u001b[32m vezes linha \u001b[0m\u001b[1;32m3\u001b[0m\u001b[32m da linha \u001b[0m\u001b[1;32m1\u001b[0m\n"
      ]
     },
     "metadata": {},
     "output_type": "display_data"
    },
    {
     "data": {
      "text/html": [
       "<pre style=\"white-space:pre;overflow-x:auto;line-height:normal;font-family:Menlo,'DejaVu Sans Mono',consolas,'Courier New',monospace\"><span style=\"font-style: italic\"> Matriz após eliminação do elemento (1,3) </span>\n",
       "                                          \n",
       " <span style=\"font-weight: bold\"> x_1     </span> <span style=\"font-weight: bold\"> x_2     </span> <span style=\"font-weight: bold\"> x_3     </span> <span style=\"font-weight: bold\"> b        </span> \n",
       " ──────────────────────────────────────── \n",
       " <span style=\"color: #008080; text-decoration-color: #008080\"> 1.00000 </span> <span style=\"color: #008080; text-decoration-color: #008080\"> 0.00000 </span> <span style=\"color: #008080; text-decoration-color: #008080\"> 0.00000 </span> <span style=\"color: #008000; text-decoration-color: #008000\"> 2.20249  </span> \n",
       " <span style=\"color: #008080; text-decoration-color: #008080\"> 0.00000 </span> <span style=\"color: #008080; text-decoration-color: #008080\"> 1.00000 </span> <span style=\"color: #008080; text-decoration-color: #008080\"> 0.19266 </span> <span style=\"color: #008000; text-decoration-color: #008000\"> -0.88073 </span> \n",
       " <span style=\"color: #008080; text-decoration-color: #008080\"> 0.00000 </span> <span style=\"color: #008080; text-decoration-color: #008080\"> 0.00000 </span> <span style=\"color: #008080; text-decoration-color: #008080\"> 1.00000 </span> <span style=\"color: #008000; text-decoration-color: #008000\"> 0.13396  </span> \n",
       "                                          \n",
       "</pre>\n"
      ],
      "text/plain": [
       "\u001b[3m Matriz após eliminação do elemento (1,3) \u001b[0m\n",
       "                                          \n",
       " \u001b[1m \u001b[0m\u001b[1mx_1    \u001b[0m\u001b[1m \u001b[0m \u001b[1m \u001b[0m\u001b[1mx_2    \u001b[0m\u001b[1m \u001b[0m \u001b[1m \u001b[0m\u001b[1mx_3    \u001b[0m\u001b[1m \u001b[0m \u001b[1m \u001b[0m\u001b[1mb       \u001b[0m\u001b[1m \u001b[0m \n",
       " ──────────────────────────────────────── \n",
       " \u001b[36m \u001b[0m\u001b[36m1.00000\u001b[0m\u001b[36m \u001b[0m \u001b[36m \u001b[0m\u001b[36m0.00000\u001b[0m\u001b[36m \u001b[0m \u001b[36m \u001b[0m\u001b[36m0.00000\u001b[0m\u001b[36m \u001b[0m \u001b[32m \u001b[0m\u001b[32m2.20249 \u001b[0m\u001b[32m \u001b[0m \n",
       " \u001b[36m \u001b[0m\u001b[36m0.00000\u001b[0m\u001b[36m \u001b[0m \u001b[36m \u001b[0m\u001b[36m1.00000\u001b[0m\u001b[36m \u001b[0m \u001b[36m \u001b[0m\u001b[36m0.19266\u001b[0m\u001b[36m \u001b[0m \u001b[32m \u001b[0m\u001b[32m-0.88073\u001b[0m\u001b[32m \u001b[0m \n",
       " \u001b[36m \u001b[0m\u001b[36m0.00000\u001b[0m\u001b[36m \u001b[0m \u001b[36m \u001b[0m\u001b[36m0.00000\u001b[0m\u001b[36m \u001b[0m \u001b[36m \u001b[0m\u001b[36m1.00000\u001b[0m\u001b[36m \u001b[0m \u001b[32m \u001b[0m\u001b[32m0.13396 \u001b[0m\u001b[32m \u001b[0m \n",
       "                                          \n"
      ]
     },
     "metadata": {},
     "output_type": "display_data"
    },
    {
     "data": {
      "text/html": [
       "<pre style=\"white-space:pre;overflow-x:auto;line-height:normal;font-family:Menlo,'DejaVu Sans Mono',consolas,'Courier New',monospace\"><span style=\"color: #008000; text-decoration-color: #008000\">Passo </span><span style=\"color: #008000; text-decoration-color: #008000; font-weight: bold\">13</span><span style=\"color: #008000; text-decoration-color: #008000\">: Subtrair </span><span style=\"color: #008000; text-decoration-color: #008000; font-weight: bold\">0.19266</span><span style=\"color: #008000; text-decoration-color: #008000\"> vezes linha </span><span style=\"color: #008000; text-decoration-color: #008000; font-weight: bold\">3</span><span style=\"color: #008000; text-decoration-color: #008000\"> da linha </span><span style=\"color: #008000; text-decoration-color: #008000; font-weight: bold\">2</span>\n",
       "</pre>\n"
      ],
      "text/plain": [
       "\u001b[32mPasso \u001b[0m\u001b[1;32m13\u001b[0m\u001b[32m: Subtrair \u001b[0m\u001b[1;32m0.19266\u001b[0m\u001b[32m vezes linha \u001b[0m\u001b[1;32m3\u001b[0m\u001b[32m da linha \u001b[0m\u001b[1;32m2\u001b[0m\n"
      ]
     },
     "metadata": {},
     "output_type": "display_data"
    },
    {
     "data": {
      "text/html": [
       "<pre style=\"white-space:pre;overflow-x:auto;line-height:normal;font-family:Menlo,'DejaVu Sans Mono',consolas,'Courier New',monospace\"><span style=\"font-style: italic\"> Matriz após eliminação do elemento (2,3) </span>\n",
       "                                          \n",
       " <span style=\"font-weight: bold\"> x_1     </span> <span style=\"font-weight: bold\"> x_2     </span> <span style=\"font-weight: bold\"> x_3     </span> <span style=\"font-weight: bold\"> b        </span> \n",
       " ──────────────────────────────────────── \n",
       " <span style=\"color: #008080; text-decoration-color: #008080\"> 1.00000 </span> <span style=\"color: #008080; text-decoration-color: #008080\"> 0.00000 </span> <span style=\"color: #008080; text-decoration-color: #008080\"> 0.00000 </span> <span style=\"color: #008000; text-decoration-color: #008000\"> 2.20249  </span> \n",
       " <span style=\"color: #008080; text-decoration-color: #008080\"> 0.00000 </span> <span style=\"color: #008080; text-decoration-color: #008080\"> 1.00000 </span> <span style=\"color: #008080; text-decoration-color: #008080\"> 0.00000 </span> <span style=\"color: #008000; text-decoration-color: #008000\"> -0.90654 </span> \n",
       " <span style=\"color: #008080; text-decoration-color: #008080\"> 0.00000 </span> <span style=\"color: #008080; text-decoration-color: #008080\"> 0.00000 </span> <span style=\"color: #008080; text-decoration-color: #008080\"> 1.00000 </span> <span style=\"color: #008000; text-decoration-color: #008000\"> 0.13396  </span> \n",
       "                                          \n",
       "</pre>\n"
      ],
      "text/plain": [
       "\u001b[3m Matriz após eliminação do elemento (2,3) \u001b[0m\n",
       "                                          \n",
       " \u001b[1m \u001b[0m\u001b[1mx_1    \u001b[0m\u001b[1m \u001b[0m \u001b[1m \u001b[0m\u001b[1mx_2    \u001b[0m\u001b[1m \u001b[0m \u001b[1m \u001b[0m\u001b[1mx_3    \u001b[0m\u001b[1m \u001b[0m \u001b[1m \u001b[0m\u001b[1mb       \u001b[0m\u001b[1m \u001b[0m \n",
       " ──────────────────────────────────────── \n",
       " \u001b[36m \u001b[0m\u001b[36m1.00000\u001b[0m\u001b[36m \u001b[0m \u001b[36m \u001b[0m\u001b[36m0.00000\u001b[0m\u001b[36m \u001b[0m \u001b[36m \u001b[0m\u001b[36m0.00000\u001b[0m\u001b[36m \u001b[0m \u001b[32m \u001b[0m\u001b[32m2.20249 \u001b[0m\u001b[32m \u001b[0m \n",
       " \u001b[36m \u001b[0m\u001b[36m0.00000\u001b[0m\u001b[36m \u001b[0m \u001b[36m \u001b[0m\u001b[36m1.00000\u001b[0m\u001b[36m \u001b[0m \u001b[36m \u001b[0m\u001b[36m0.00000\u001b[0m\u001b[36m \u001b[0m \u001b[32m \u001b[0m\u001b[32m-0.90654\u001b[0m\u001b[32m \u001b[0m \n",
       " \u001b[36m \u001b[0m\u001b[36m0.00000\u001b[0m\u001b[36m \u001b[0m \u001b[36m \u001b[0m\u001b[36m0.00000\u001b[0m\u001b[36m \u001b[0m \u001b[36m \u001b[0m\u001b[36m1.00000\u001b[0m\u001b[36m \u001b[0m \u001b[32m \u001b[0m\u001b[32m0.13396 \u001b[0m\u001b[32m \u001b[0m \n",
       "                                          \n"
      ]
     },
     "metadata": {},
     "output_type": "display_data"
    },
    {
     "data": {
      "text/html": [
       "<pre style=\"white-space:pre;overflow-x:auto;line-height:normal;font-family:Menlo,'DejaVu Sans Mono',consolas,'Courier New',monospace\"><span style=\"color: #008000; text-decoration-color: #008000\">╭─────────────────────────────────────────────────── Resultado ───────────────────────────────────────────────────╮</span>\n",
       "<span style=\"color: #008000; text-decoration-color: #008000\">│</span> <span style=\"color: #008000; text-decoration-color: #008000; font-weight: bold\">✓ Solução encontrada com 13 operações elementares</span>                                                               <span style=\"color: #008000; text-decoration-color: #008000\">│</span>\n",
       "<span style=\"color: #008000; text-decoration-color: #008000\">╰─────────────────────────────────────────────────────────────────────────────────────────────────────────────────╯</span>\n",
       "</pre>\n"
      ],
      "text/plain": [
       "\u001b[32m╭─\u001b[0m\u001b[32m──────────────────────────────────────────────────\u001b[0m\u001b[32m Resultado \u001b[0m\u001b[32m──────────────────────────────────────────────────\u001b[0m\u001b[32m─╮\u001b[0m\n",
       "\u001b[32m│\u001b[0m \u001b[1;32m✓ Solução encontrada com 13 operações elementares\u001b[0m                                                               \u001b[32m│\u001b[0m\n",
       "\u001b[32m╰─────────────────────────────────────────────────────────────────────────────────────────────────────────────────╯\u001b[0m\n"
      ]
     },
     "metadata": {},
     "output_type": "display_data"
    },
    {
     "data": {
      "text/html": [
       "<pre style=\"white-space:pre;overflow-x:auto;line-height:normal;font-family:Menlo,'DejaVu Sans Mono',consolas,'Courier New',monospace\"><span style=\"font-weight: bold\">Permutação das variáveis: [</span><span style=\"color: #008080; text-decoration-color: #008080; font-weight: bold\">2</span><span style=\"font-weight: bold\">, </span><span style=\"color: #008080; text-decoration-color: #008080; font-weight: bold\">3</span><span style=\"font-weight: bold\">, </span><span style=\"color: #008080; text-decoration-color: #008080; font-weight: bold\">1</span><span style=\"font-weight: bold\">]</span>\n",
       "</pre>\n"
      ],
      "text/plain": [
       "\u001b[1mPermutação das variáveis: \u001b[0m\u001b[1m[\u001b[0m\u001b[1;36m2\u001b[0m\u001b[1m, \u001b[0m\u001b[1;36m3\u001b[0m\u001b[1m, \u001b[0m\u001b[1;36m1\u001b[0m\u001b[1m]\u001b[0m\n"
      ]
     },
     "metadata": {},
     "output_type": "display_data"
    },
    {
     "data": {
      "text/html": [
       "<pre style=\"white-space:pre;overflow-x:auto;line-height:normal;font-family:Menlo,'DejaVu Sans Mono',consolas,'Courier New',monospace\"><span style=\"font-style: italic\">Verificação da Solução </span>\n",
       "<span style=\"font-style: italic\">      - Sistema 1      </span>\n",
       "┏━━━━━━━━━━┳━━━━━━━━━━┓\n",
       "┃<span style=\"font-weight: bold\"> Variável </span>┃<span style=\"font-weight: bold\"> Valor    </span>┃\n",
       "┡━━━━━━━━━━╇━━━━━━━━━━┩\n",
       "│<span style=\"color: #008080; text-decoration-color: #008080\"> x_1      </span>│<span style=\"color: #008000; text-decoration-color: #008000\"> 0.13396  </span>│\n",
       "│<span style=\"color: #008080; text-decoration-color: #008080\"> x_2      </span>│<span style=\"color: #008000; text-decoration-color: #008000\"> 2.20249  </span>│\n",
       "│<span style=\"color: #008080; text-decoration-color: #008080\"> x_3      </span>│<span style=\"color: #008000; text-decoration-color: #008000\"> -0.90654 </span>│\n",
       "└──────────┴──────────┘\n",
       "</pre>\n"
      ],
      "text/plain": [
       "\u001b[3mVerificação da Solução \u001b[0m\n",
       "\u001b[3m      - Sistema 1      \u001b[0m\n",
       "┏━━━━━━━━━━┳━━━━━━━━━━┓\n",
       "┃\u001b[1m \u001b[0m\u001b[1mVariável\u001b[0m\u001b[1m \u001b[0m┃\u001b[1m \u001b[0m\u001b[1mValor   \u001b[0m\u001b[1m \u001b[0m┃\n",
       "┡━━━━━━━━━━╇━━━━━━━━━━┩\n",
       "│\u001b[36m \u001b[0m\u001b[36mx_1     \u001b[0m\u001b[36m \u001b[0m│\u001b[32m \u001b[0m\u001b[32m0.13396 \u001b[0m\u001b[32m \u001b[0m│\n",
       "│\u001b[36m \u001b[0m\u001b[36mx_2     \u001b[0m\u001b[36m \u001b[0m│\u001b[32m \u001b[0m\u001b[32m2.20249 \u001b[0m\u001b[32m \u001b[0m│\n",
       "│\u001b[36m \u001b[0m\u001b[36mx_3     \u001b[0m\u001b[36m \u001b[0m│\u001b[32m \u001b[0m\u001b[32m-0.90654\u001b[0m\u001b[32m \u001b[0m│\n",
       "└──────────┴──────────┘\n"
      ]
     },
     "metadata": {},
     "output_type": "display_data"
    },
    {
     "data": {
      "text/html": [
       "<pre style=\"white-space:pre;overflow-x:auto;line-height:normal;font-family:Menlo,'DejaVu Sans Mono',consolas,'Courier New',monospace\"><span style=\"font-style: italic\">         Verificação A*x = b         </span>\n",
       "┏━━━━━━━━━━━┳━━━━━━━━━━━┳━━━━━━━━━━━┓\n",
       "┃<span style=\"font-weight: bold\"> A*x       </span>┃<span style=\"font-weight: bold\"> b         </span>┃<span style=\"font-weight: bold\"> Diferença </span>┃\n",
       "┡━━━━━━━━━━━╇━━━━━━━━━━━╇━━━━━━━━━━━┩\n",
       "│<span style=\"color: #800080; text-decoration-color: #800080\"> 6.00000   </span>│<span style=\"color: #000080; text-decoration-color: #000080\"> 6.00000   </span>│<span style=\"color: #800000; text-decoration-color: #800000\"> 0.00000   </span>│\n",
       "│<span style=\"color: #800080; text-decoration-color: #800080\"> 25.00000  </span>│<span style=\"color: #000080; text-decoration-color: #000080\"> 25.00000  </span>│<span style=\"color: #800000; text-decoration-color: #800000\"> 0.00000   </span>│\n",
       "│<span style=\"color: #800080; text-decoration-color: #800080\"> -11.00000 </span>│<span style=\"color: #000080; text-decoration-color: #000080\"> -11.00000 </span>│<span style=\"color: #800000; text-decoration-color: #800000\"> 0.00000   </span>│\n",
       "└───────────┴───────────┴───────────┘\n",
       "</pre>\n"
      ],
      "text/plain": [
       "\u001b[3m         Verificação A*x = b         \u001b[0m\n",
       "┏━━━━━━━━━━━┳━━━━━━━━━━━┳━━━━━━━━━━━┓\n",
       "┃\u001b[1m \u001b[0m\u001b[1mA*x      \u001b[0m\u001b[1m \u001b[0m┃\u001b[1m \u001b[0m\u001b[1mb        \u001b[0m\u001b[1m \u001b[0m┃\u001b[1m \u001b[0m\u001b[1mDiferença\u001b[0m\u001b[1m \u001b[0m┃\n",
       "┡━━━━━━━━━━━╇━━━━━━━━━━━╇━━━━━━━━━━━┩\n",
       "│\u001b[35m \u001b[0m\u001b[35m6.00000  \u001b[0m\u001b[35m \u001b[0m│\u001b[34m \u001b[0m\u001b[34m6.00000  \u001b[0m\u001b[34m \u001b[0m│\u001b[31m \u001b[0m\u001b[31m0.00000  \u001b[0m\u001b[31m \u001b[0m│\n",
       "│\u001b[35m \u001b[0m\u001b[35m25.00000 \u001b[0m\u001b[35m \u001b[0m│\u001b[34m \u001b[0m\u001b[34m25.00000 \u001b[0m\u001b[34m \u001b[0m│\u001b[31m \u001b[0m\u001b[31m0.00000  \u001b[0m\u001b[31m \u001b[0m│\n",
       "│\u001b[35m \u001b[0m\u001b[35m-11.00000\u001b[0m\u001b[35m \u001b[0m│\u001b[34m \u001b[0m\u001b[34m-11.00000\u001b[0m\u001b[34m \u001b[0m│\u001b[31m \u001b[0m\u001b[31m0.00000  \u001b[0m\u001b[31m \u001b[0m│\n",
       "└───────────┴───────────┴───────────┘\n"
      ]
     },
     "metadata": {},
     "output_type": "display_data"
    },
    {
     "data": {
      "text/html": [
       "<pre style=\"white-space:pre;overflow-x:auto;line-height:normal;font-family:Menlo,'DejaVu Sans Mono',consolas,'Courier New',monospace\">Norma do resíduo ||A*x - b|| = <span style=\"color: #008080; text-decoration-color: #008080; font-weight: bold\">0.00000</span>\n",
       "</pre>\n"
      ],
      "text/plain": [
       "Norma do resíduo ||A*x - b|| = \u001b[1;36m0.00000\u001b[0m\n"
      ]
     },
     "metadata": {},
     "output_type": "display_data"
    },
    {
     "data": {
      "text/html": [
       "<pre style=\"white-space:pre;overflow-x:auto;line-height:normal;font-family:Menlo,'DejaVu Sans Mono',consolas,'Courier New',monospace\"><span style=\"color: #008000; text-decoration-color: #008000; font-weight: bold\">✓ A solução é precisa!</span>\n",
       "</pre>\n"
      ],
      "text/plain": [
       "\u001b[1;32m✓ A solução é precisa!\u001b[0m\n"
      ]
     },
     "metadata": {},
     "output_type": "display_data"
    },
    {
     "data": {
      "text/html": [
       "<pre style=\"white-space:pre;overflow-x:auto;line-height:normal;font-family:Menlo,'DejaVu Sans Mono',consolas,'Courier New',monospace\"><span style=\"font-style: italic\">                Resultados da Solução                 </span>\n",
       "┏━━━━━━━━━━━━━━━━━━━━━━━━━━━━━━━━━┳━━━━━━━━━━━━━━━━━━┓\n",
       "┃<span style=\"font-weight: bold\"> Parâmetro                       </span>┃<span style=\"font-weight: bold\"> Valor            </span>┃\n",
       "┡━━━━━━━━━━━━━━━━━━━━━━━━━━━━━━━━━╇━━━━━━━━━━━━━━━━━━┩\n",
       "│<span style=\"color: #008080; text-decoration-color: #008080\"> Número de equações              </span>│<span style=\"color: #008000; text-decoration-color: #008000\"> 3                </span>│\n",
       "│<span style=\"color: #008080; text-decoration-color: #008080\"> Número de operações elementares </span>│<span style=\"color: #008000; text-decoration-color: #008000\"> 13               </span>│\n",
       "│<span style=\"color: #008080; text-decoration-color: #008080\"> Tempo de execução               </span>│<span style=\"color: #008000; text-decoration-color: #008000\"> 0.06952 segundos </span>│\n",
       "│<span style=\"color: #008080; text-decoration-color: #008080\"> Permutação final das variáveis  </span>│<span style=\"color: #008000; text-decoration-color: #008000\"> [2, 3, 1]        </span>│\n",
       "└─────────────────────────────────┴──────────────────┘\n",
       "</pre>\n"
      ],
      "text/plain": [
       "\u001b[3m                Resultados da Solução                 \u001b[0m\n",
       "┏━━━━━━━━━━━━━━━━━━━━━━━━━━━━━━━━━┳━━━━━━━━━━━━━━━━━━┓\n",
       "┃\u001b[1m \u001b[0m\u001b[1mParâmetro                      \u001b[0m\u001b[1m \u001b[0m┃\u001b[1m \u001b[0m\u001b[1mValor           \u001b[0m\u001b[1m \u001b[0m┃\n",
       "┡━━━━━━━━━━━━━━━━━━━━━━━━━━━━━━━━━╇━━━━━━━━━━━━━━━━━━┩\n",
       "│\u001b[36m \u001b[0m\u001b[36mNúmero de equações             \u001b[0m\u001b[36m \u001b[0m│\u001b[32m \u001b[0m\u001b[32m3               \u001b[0m\u001b[32m \u001b[0m│\n",
       "│\u001b[36m \u001b[0m\u001b[36mNúmero de operações elementares\u001b[0m\u001b[36m \u001b[0m│\u001b[32m \u001b[0m\u001b[32m13              \u001b[0m\u001b[32m \u001b[0m│\n",
       "│\u001b[36m \u001b[0m\u001b[36mTempo de execução              \u001b[0m\u001b[36m \u001b[0m│\u001b[32m \u001b[0m\u001b[32m0.06952 segundos\u001b[0m\u001b[32m \u001b[0m│\n",
       "│\u001b[36m \u001b[0m\u001b[36mPermutação final das variáveis \u001b[0m\u001b[36m \u001b[0m│\u001b[32m \u001b[0m\u001b[32m[2, 3, 1]       \u001b[0m\u001b[32m \u001b[0m│\n",
       "└─────────────────────────────────┴──────────────────┘\n"
      ]
     },
     "metadata": {},
     "output_type": "display_data"
    },
    {
     "data": {
      "text/html": [
       "<pre style=\"white-space:pre;overflow-x:auto;line-height:normal;font-family:Menlo,'DejaVu Sans Mono',consolas,'Courier New',monospace\"><span style=\"font-style: italic\">  Solução do Sistema   </span>\n",
       "┏━━━━━━━━━━┳━━━━━━━━━━┓\n",
       "┃<span style=\"font-weight: bold\"> Variável </span>┃<span style=\"font-weight: bold\"> Valor    </span>┃\n",
       "┡━━━━━━━━━━╇━━━━━━━━━━┩\n",
       "│<span style=\"color: #008080; text-decoration-color: #008080\"> x_1      </span>│<span style=\"color: #008000; text-decoration-color: #008000\"> 0.13396  </span>│\n",
       "│<span style=\"color: #008080; text-decoration-color: #008080\"> x_2      </span>│<span style=\"color: #008000; text-decoration-color: #008000\"> 2.20249  </span>│\n",
       "│<span style=\"color: #008080; text-decoration-color: #008080\"> x_3      </span>│<span style=\"color: #008000; text-decoration-color: #008000\"> -0.90654 </span>│\n",
       "└──────────┴──────────┘\n",
       "</pre>\n"
      ],
      "text/plain": [
       "\u001b[3m  Solução do Sistema   \u001b[0m\n",
       "┏━━━━━━━━━━┳━━━━━━━━━━┓\n",
       "┃\u001b[1m \u001b[0m\u001b[1mVariável\u001b[0m\u001b[1m \u001b[0m┃\u001b[1m \u001b[0m\u001b[1mValor   \u001b[0m\u001b[1m \u001b[0m┃\n",
       "┡━━━━━━━━━━╇━━━━━━━━━━┩\n",
       "│\u001b[36m \u001b[0m\u001b[36mx_1     \u001b[0m\u001b[36m \u001b[0m│\u001b[32m \u001b[0m\u001b[32m0.13396 \u001b[0m\u001b[32m \u001b[0m│\n",
       "│\u001b[36m \u001b[0m\u001b[36mx_2     \u001b[0m\u001b[36m \u001b[0m│\u001b[32m \u001b[0m\u001b[32m2.20249 \u001b[0m\u001b[32m \u001b[0m│\n",
       "│\u001b[36m \u001b[0m\u001b[36mx_3     \u001b[0m\u001b[36m \u001b[0m│\u001b[32m \u001b[0m\u001b[32m-0.90654\u001b[0m\u001b[32m \u001b[0m│\n",
       "└──────────┴──────────┘\n"
      ]
     },
     "metadata": {},
     "output_type": "display_data"
    },
    {
     "data": {
      "text/html": [
       "<pre style=\"white-space:pre;overflow-x:auto;line-height:normal;font-family:Menlo,'DejaVu Sans Mono',consolas,'Courier New',monospace\"><span style=\"font-style: italic\">               Verificação da Solução                </span>\n",
       "┏━━━━━━━━━━━┳━━━━━━━━━━━┳━━━━━━━━━━━┳━━━━━━━━━━━━━━━┓\n",
       "┃<span style=\"font-weight: bold\"> Equação   </span>┃<span style=\"font-weight: bold\"> A*x       </span>┃<span style=\"font-weight: bold\"> b         </span>┃<span style=\"font-weight: bold\"> Erro Absoluto </span>┃\n",
       "┡━━━━━━━━━━━╇━━━━━━━━━━━╇━━━━━━━━━━━╇━━━━━━━━━━━━━━━┩\n",
       "│<span style=\"color: #008080; text-decoration-color: #008080\"> Equação 1 </span>│<span style=\"color: #800080; text-decoration-color: #800080\"> 6.00000   </span>│<span style=\"color: #000080; text-decoration-color: #000080\"> 6.00000   </span>│<span style=\"color: #800000; text-decoration-color: #800000\"> 0.00000       </span>│\n",
       "│<span style=\"color: #008080; text-decoration-color: #008080\"> Equação 2 </span>│<span style=\"color: #800080; text-decoration-color: #800080\"> 25.00000  </span>│<span style=\"color: #000080; text-decoration-color: #000080\"> 25.00000  </span>│<span style=\"color: #800000; text-decoration-color: #800000\"> 0.00000       </span>│\n",
       "│<span style=\"color: #008080; text-decoration-color: #008080\"> Equação 3 </span>│<span style=\"color: #800080; text-decoration-color: #800080\"> -11.00000 </span>│<span style=\"color: #000080; text-decoration-color: #000080\"> -11.00000 </span>│<span style=\"color: #800000; text-decoration-color: #800000\"> 0.00000       </span>│\n",
       "└───────────┴───────────┴───────────┴───────────────┘\n",
       "</pre>\n"
      ],
      "text/plain": [
       "\u001b[3m               Verificação da Solução                \u001b[0m\n",
       "┏━━━━━━━━━━━┳━━━━━━━━━━━┳━━━━━━━━━━━┳━━━━━━━━━━━━━━━┓\n",
       "┃\u001b[1m \u001b[0m\u001b[1mEquação  \u001b[0m\u001b[1m \u001b[0m┃\u001b[1m \u001b[0m\u001b[1mA*x      \u001b[0m\u001b[1m \u001b[0m┃\u001b[1m \u001b[0m\u001b[1mb        \u001b[0m\u001b[1m \u001b[0m┃\u001b[1m \u001b[0m\u001b[1mErro Absoluto\u001b[0m\u001b[1m \u001b[0m┃\n",
       "┡━━━━━━━━━━━╇━━━━━━━━━━━╇━━━━━━━━━━━╇━━━━━━━━━━━━━━━┩\n",
       "│\u001b[36m \u001b[0m\u001b[36mEquação 1\u001b[0m\u001b[36m \u001b[0m│\u001b[35m \u001b[0m\u001b[35m6.00000  \u001b[0m\u001b[35m \u001b[0m│\u001b[34m \u001b[0m\u001b[34m6.00000  \u001b[0m\u001b[34m \u001b[0m│\u001b[31m \u001b[0m\u001b[31m0.00000      \u001b[0m\u001b[31m \u001b[0m│\n",
       "│\u001b[36m \u001b[0m\u001b[36mEquação 2\u001b[0m\u001b[36m \u001b[0m│\u001b[35m \u001b[0m\u001b[35m25.00000 \u001b[0m\u001b[35m \u001b[0m│\u001b[34m \u001b[0m\u001b[34m25.00000 \u001b[0m\u001b[34m \u001b[0m│\u001b[31m \u001b[0m\u001b[31m0.00000      \u001b[0m\u001b[31m \u001b[0m│\n",
       "│\u001b[36m \u001b[0m\u001b[36mEquação 3\u001b[0m\u001b[36m \u001b[0m│\u001b[35m \u001b[0m\u001b[35m-11.00000\u001b[0m\u001b[35m \u001b[0m│\u001b[34m \u001b[0m\u001b[34m-11.00000\u001b[0m\u001b[34m \u001b[0m│\u001b[31m \u001b[0m\u001b[31m0.00000      \u001b[0m\u001b[31m \u001b[0m│\n",
       "└───────────┴───────────┴───────────┴───────────────┘\n"
      ]
     },
     "metadata": {},
     "output_type": "display_data"
    },
    {
     "data": {
      "text/html": [
       "<pre style=\"white-space:pre;overflow-x:auto;line-height:normal;font-family:Menlo,'DejaVu Sans Mono',consolas,'Courier New',monospace\"><span style=\"color: #008000; text-decoration-color: #008000\">╭─────────────────────────────────────────────────── Conclusão ───────────────────────────────────────────────────╮</span>\n",
       "<span style=\"color: #008000; text-decoration-color: #008000\">│</span> <span style=\"color: #008000; text-decoration-color: #008000; font-weight: bold\">✓ Sistema resolvido com sucesso!</span>                                                                                <span style=\"color: #008000; text-decoration-color: #008000\">│</span>\n",
       "<span style=\"color: #008000; text-decoration-color: #008000\">│</span> Resíduo: 0.00000                                                                                                <span style=\"color: #008000; text-decoration-color: #008000\">│</span>\n",
       "<span style=\"color: #008000; text-decoration-color: #008000\">│</span> Erro relativo: 0.00000                                                                                          <span style=\"color: #008000; text-decoration-color: #008000\">│</span>\n",
       "<span style=\"color: #008000; text-decoration-color: #008000\">╰─────────────────────────────────────────────────────────────────────────────────────────────────────────────────╯</span>\n",
       "</pre>\n"
      ],
      "text/plain": [
       "\u001b[32m╭─\u001b[0m\u001b[32m──────────────────────────────────────────────────\u001b[0m\u001b[32m Conclusão \u001b[0m\u001b[32m──────────────────────────────────────────────────\u001b[0m\u001b[32m─╮\u001b[0m\n",
       "\u001b[32m│\u001b[0m \u001b[1;32m✓ Sistema resolvido com sucesso!\u001b[0m                                                                                \u001b[32m│\u001b[0m\n",
       "\u001b[32m│\u001b[0m Resíduo: 0.00000                                                                                                \u001b[32m│\u001b[0m\n",
       "\u001b[32m│\u001b[0m Erro relativo: 0.00000                                                                                          \u001b[32m│\u001b[0m\n",
       "\u001b[32m╰─────────────────────────────────────────────────────────────────────────────────────────────────────────────────╯\u001b[0m\n"
      ]
     },
     "metadata": {},
     "output_type": "display_data"
    },
    {
     "data": {
      "text/html": [
       "<pre style=\"white-space:pre;overflow-x:auto;line-height:normal;font-family:Menlo,'DejaVu Sans Mono',consolas,'Courier New',monospace\"><span style=\"background-color: #272822\">                                                                                                                   </span>\n",
       "<span style=\"background-color: #272822\"> </span><span style=\"color: #f8f8f2; text-decoration-color: #f8f8f2; background-color: #272822\">## Sugestão para anotação no relatório:</span><span style=\"background-color: #272822\">                                                                           </span>\n",
       "<span style=\"background-color: #272822\">                                                                                                                   </span>\n",
       "<span style=\"background-color: #272822\"> </span><span style=\"color: #f8f8f2; text-decoration-color: #f8f8f2; background-color: #272822\">### Método Utilizado</span><span style=\"background-color: #272822\">                                                                                              </span>\n",
       "<span style=\"background-color: #272822\"> </span><span style=\"color: #f8f8f2; text-decoration-color: #f8f8f2; background-color: #272822\">O sistema foi resolvido utilizando o método direto de Gauss-Jordan com pivotação completa.</span><span style=\"background-color: #272822\">                        </span>\n",
       "<span style=\"background-color: #272822\">                                                                                                                   </span>\n",
       "<span style=\"background-color: #272822\"> </span><span style=\"color: #f8f8f2; text-decoration-color: #f8f8f2; background-color: #272822\">### Parâmetros da Solução</span><span style=\"background-color: #272822\">                                                                                         </span>\n",
       "<span style=\"background-color: #272822\"> </span><span style=\"color: #f8f8f2; text-decoration-color: #f8f8f2; background-color: #272822\">- **Número de operações elementares:** 13</span><span style=\"background-color: #272822\">                                                                         </span>\n",
       "<span style=\"background-color: #272822\"> </span><span style=\"color: #f8f8f2; text-decoration-color: #f8f8f2; background-color: #272822\">- **Tempo de processamento:** 0.06952 s</span><span style=\"background-color: #272822\">                                                                           </span>\n",
       "<span style=\"background-color: #272822\"> </span><span style=\"color: #f8f8f2; text-decoration-color: #f8f8f2; background-color: #272822\">- **Permutação final das variáveis:** [2, 3, 1]</span><span style=\"background-color: #272822\">                                                                   </span>\n",
       "<span style=\"background-color: #272822\">                                                                                                                   </span>\n",
       "<span style=\"background-color: #272822\"> </span><span style=\"color: #f8f8f2; text-decoration-color: #f8f8f2; background-color: #272822\">### Solução Encontrada</span><span style=\"background-color: #272822\">                                                                                            </span>\n",
       "<span style=\"background-color: #272822\"> </span><span style=\"color: #f8f8f2; text-decoration-color: #f8f8f2; background-color: #272822\">x_1 = 0.13396, x_2 = 2.20249, x_3 = -0.90654</span><span style=\"background-color: #272822\">                                                                      </span>\n",
       "<span style=\"background-color: #272822\">                                                                                                                   </span>\n",
       "<span style=\"background-color: #272822\"> </span><span style=\"color: #f8f8f2; text-decoration-color: #f8f8f2; background-color: #272822\">### Verificação</span><span style=\"background-color: #272822\">                                                                                                   </span>\n",
       "<span style=\"background-color: #272822\"> </span><span style=\"color: #f8f8f2; text-decoration-color: #f8f8f2; background-color: #272822\">O resíduo da solução (||A*x - b||) foi 0.00000, com erro relativo de 0.00000.</span><span style=\"background-color: #272822\">                                     </span>\n",
       "<span style=\"background-color: #272822\">                                                                                                                   </span>\n",
       "<span style=\"background-color: #272822\"> </span><span style=\"color: #f8f8f2; text-decoration-color: #f8f8f2; background-color: #272822\">### Conclusão</span><span style=\"background-color: #272822\">                                                                                                     </span>\n",
       "<span style=\"background-color: #272822\"> </span><span style=\"color: #f8f8f2; text-decoration-color: #f8f8f2; background-color: #272822\">A solução encontrada é exata e confiável.</span><span style=\"background-color: #272822\">                                                                         </span>\n",
       "<span style=\"background-color: #272822\">                                                                                                                   </span>\n",
       "</pre>\n"
      ],
      "text/plain": [
       "\u001b[48;2;39;40;34m                                                                                                                   \u001b[0m\n",
       "\u001b[48;2;39;40;34m \u001b[0m\u001b[38;2;248;248;242;48;2;39;40;34m## Sugestão para anotação no relatório:\u001b[0m\u001b[48;2;39;40;34m                                                                          \u001b[0m\u001b[48;2;39;40;34m \u001b[0m\n",
       "\u001b[48;2;39;40;34m \u001b[0m\u001b[48;2;39;40;34m                                                                                                                 \u001b[0m\u001b[48;2;39;40;34m \u001b[0m\n",
       "\u001b[48;2;39;40;34m \u001b[0m\u001b[38;2;248;248;242;48;2;39;40;34m### Método Utilizado\u001b[0m\u001b[48;2;39;40;34m                                                                                             \u001b[0m\u001b[48;2;39;40;34m \u001b[0m\n",
       "\u001b[48;2;39;40;34m \u001b[0m\u001b[38;2;248;248;242;48;2;39;40;34mO sistema foi resolvido utilizando o método direto de Gauss-Jordan com pivotação completa.\u001b[0m\u001b[48;2;39;40;34m                       \u001b[0m\u001b[48;2;39;40;34m \u001b[0m\n",
       "\u001b[48;2;39;40;34m \u001b[0m\u001b[48;2;39;40;34m                                                                                                                 \u001b[0m\u001b[48;2;39;40;34m \u001b[0m\n",
       "\u001b[48;2;39;40;34m \u001b[0m\u001b[38;2;248;248;242;48;2;39;40;34m### Parâmetros da Solução\u001b[0m\u001b[48;2;39;40;34m                                                                                        \u001b[0m\u001b[48;2;39;40;34m \u001b[0m\n",
       "\u001b[48;2;39;40;34m \u001b[0m\u001b[38;2;248;248;242;48;2;39;40;34m- **Número de operações elementares:** 13\u001b[0m\u001b[48;2;39;40;34m                                                                        \u001b[0m\u001b[48;2;39;40;34m \u001b[0m\n",
       "\u001b[48;2;39;40;34m \u001b[0m\u001b[38;2;248;248;242;48;2;39;40;34m- **Tempo de processamento:** 0.06952 s\u001b[0m\u001b[48;2;39;40;34m                                                                          \u001b[0m\u001b[48;2;39;40;34m \u001b[0m\n",
       "\u001b[48;2;39;40;34m \u001b[0m\u001b[38;2;248;248;242;48;2;39;40;34m- **Permutação final das variáveis:** [2, 3, 1]\u001b[0m\u001b[48;2;39;40;34m                                                                  \u001b[0m\u001b[48;2;39;40;34m \u001b[0m\n",
       "\u001b[48;2;39;40;34m \u001b[0m\u001b[48;2;39;40;34m                                                                                                                 \u001b[0m\u001b[48;2;39;40;34m \u001b[0m\n",
       "\u001b[48;2;39;40;34m \u001b[0m\u001b[38;2;248;248;242;48;2;39;40;34m### Solução Encontrada\u001b[0m\u001b[48;2;39;40;34m                                                                                           \u001b[0m\u001b[48;2;39;40;34m \u001b[0m\n",
       "\u001b[48;2;39;40;34m \u001b[0m\u001b[38;2;248;248;242;48;2;39;40;34mx_1 = 0.13396, x_2 = 2.20249, x_3 = -0.90654\u001b[0m\u001b[48;2;39;40;34m                                                                     \u001b[0m\u001b[48;2;39;40;34m \u001b[0m\n",
       "\u001b[48;2;39;40;34m \u001b[0m\u001b[48;2;39;40;34m                                                                                                                 \u001b[0m\u001b[48;2;39;40;34m \u001b[0m\n",
       "\u001b[48;2;39;40;34m \u001b[0m\u001b[38;2;248;248;242;48;2;39;40;34m### Verificação\u001b[0m\u001b[48;2;39;40;34m                                                                                                  \u001b[0m\u001b[48;2;39;40;34m \u001b[0m\n",
       "\u001b[48;2;39;40;34m \u001b[0m\u001b[38;2;248;248;242;48;2;39;40;34mO resíduo da solução (||A*x - b||) foi 0.00000, com erro relativo de 0.00000.\u001b[0m\u001b[48;2;39;40;34m                                    \u001b[0m\u001b[48;2;39;40;34m \u001b[0m\n",
       "\u001b[48;2;39;40;34m \u001b[0m\u001b[48;2;39;40;34m                                                                                                                 \u001b[0m\u001b[48;2;39;40;34m \u001b[0m\n",
       "\u001b[48;2;39;40;34m \u001b[0m\u001b[38;2;248;248;242;48;2;39;40;34m### Conclusão\u001b[0m\u001b[48;2;39;40;34m                                                                                                    \u001b[0m\u001b[48;2;39;40;34m \u001b[0m\n",
       "\u001b[48;2;39;40;34m \u001b[0m\u001b[38;2;248;248;242;48;2;39;40;34mA solução encontrada é exata e confiável.\u001b[0m\u001b[48;2;39;40;34m                                                                        \u001b[0m\u001b[48;2;39;40;34m \u001b[0m\n",
       "\u001b[48;2;39;40;34m                                                                                                                   \u001b[0m\n"
      ]
     },
     "metadata": {},
     "output_type": "display_data"
    },
    {
     "data": {
      "image/png": "[encoded data removed]",
      "text/plain": [
       "<Figure size 1000x600 with 1 Axes>"
      ]
     },
     "metadata": {},
     "output_type": "display_data"
    },
    {
     "data": {
      "text/html": [
       "<pre style=\"white-space:pre;overflow-x:auto;line-height:normal;font-family:Menlo,'DejaVu Sans Mono',consolas,'Courier New',monospace\">\n",
       "<span style=\"font-weight: bold\">Exemplo de Sistema Linear para demonstrar pivotação completa:</span>\n",
       "</pre>\n"
      ],
      "text/plain": [
       "\n",
       "\u001b[1mExemplo de Sistema Linear para demonstrar pivotação completa:\u001b[0m\n"
      ]
     },
     "metadata": {},
     "output_type": "display_data"
    },
    {
     "data": {
      "text/html": [
       "<pre style=\"white-space:pre;overflow-x:auto;line-height:normal;font-family:Menlo,'DejaVu Sans Mono',consolas,'Courier New',monospace\"><span style=\"color: #00ff00; text-decoration-color: #00ff00\">───────────────────────────────────── </span><span style=\"color: #008080; text-decoration-color: #008080; font-weight: bold\">Sistema Linear para Pivotação Completa </span><span style=\"color: #00ff00; text-decoration-color: #00ff00\"> ─────────────────────────────────────</span>\n",
       "</pre>\n"
      ],
      "text/plain": [
       "\u001b[92m───────────────────────────────────── \u001b[0m\u001b[1;36mSistema Linear para Pivotação Completa \u001b[0m\u001b[92m ─────────────────────────────────────\u001b[0m\n"
      ]
     },
     "metadata": {},
     "output_type": "display_data"
    },
    {
     "data": {
      "text/html": [
       "<pre style=\"white-space:pre;overflow-x:auto;line-height:normal;font-family:Menlo,'DejaVu Sans Mono',consolas,'Courier New',monospace\">\n",
       "                                      <span style=\"font-weight: bold; text-decoration: underline\">Sistema Linear para Pivotação Completa</span>                                       \n",
       "\n",
       "Equação 1: 0.00300x_1 + 59.14000x_2 + 59.17000x_3 = 59.17000                                                       \n",
       "\n",
       "Equação 2: 5.29100x_1 - 6.13000x_2 + 46.78000x_3 = 46.78000                                                        \n",
       "\n",
       "Equação 3: 11.20000x_1 + 9.12000x_2 + 9.15000x_3 = 49.31000                                                        \n",
       "</pre>\n"
      ],
      "text/plain": [
       "\n",
       "                                      \u001b[1;4mSistema Linear para Pivotação Completa\u001b[0m                                       \n",
       "\n",
       "Equação 1: 0.00300x_1 + 59.14000x_2 + 59.17000x_3 = 59.17000                                                       \n",
       "\n",
       "Equação 2: 5.29100x_1 - 6.13000x_2 + 46.78000x_3 = 46.78000                                                        \n",
       "\n",
       "Equação 3: 11.20000x_1 + 9.12000x_2 + 9.15000x_3 = 49.31000                                                        \n"
      ]
     },
     "metadata": {},
     "output_type": "display_data"
    },
    {
     "data": {
      "text/html": [
       "<pre style=\"white-space:pre;overflow-x:auto;line-height:normal;font-family:Menlo,'DejaVu Sans Mono',consolas,'Courier New',monospace\">\n",
       "<span style=\"color: #008080; text-decoration-color: #008080; font-weight: bold\">Executando o Método de Gauss-Jordan com Pivotação Completa...</span>\n",
       "</pre>\n"
      ],
      "text/plain": [
       "\n",
       "\u001b[1;36mExecutando o Método de Gauss-Jordan com Pivotação Completa\u001b[0m\u001b[1;36m...\u001b[0m\n"
      ]
     },
     "metadata": {},
     "output_type": "display_data"
    },
    {
     "data": {
      "text/html": [
       "<pre style=\"white-space:pre;overflow-x:auto;line-height:normal;font-family:Menlo,'DejaVu Sans Mono',consolas,'Courier New',monospace\"><span style=\"color: #808000; text-decoration-color: #808000\">Passo </span><span style=\"color: #808000; text-decoration-color: #808000; font-weight: bold\">1</span><span style=\"color: #808000; text-decoration-color: #808000\">: Trocar colunas </span><span style=\"color: #808000; text-decoration-color: #808000; font-weight: bold\">1</span><span style=\"color: #808000; text-decoration-color: #808000\"> e </span><span style=\"color: #808000; text-decoration-color: #808000; font-weight: bold\">3</span>\n",
       "</pre>\n"
      ],
      "text/plain": [
       "\u001b[33mPasso \u001b[0m\u001b[1;33m1\u001b[0m\u001b[33m: Trocar colunas \u001b[0m\u001b[1;33m1\u001b[0m\u001b[33m e \u001b[0m\u001b[1;33m3\u001b[0m\n"
      ]
     },
     "metadata": {},
     "output_type": "display_data"
    },
    {
     "data": {
      "text/html": [
       "<pre style=\"white-space:pre;overflow-x:auto;line-height:normal;font-family:Menlo,'DejaVu Sans Mono',consolas,'Courier New',monospace\"><span style=\"font-style: italic\">     Matriz após troca de colunas 1 e 3      </span>\n",
       "                                             \n",
       " <span style=\"font-weight: bold\"> x_1      </span> <span style=\"font-weight: bold\"> x_2      </span> <span style=\"font-weight: bold\"> x_3      </span> <span style=\"font-weight: bold\"> b        </span> \n",
       " ─────────────────────────────────────────── \n",
       " <span style=\"color: #008080; text-decoration-color: #008080\"> 59.17000 </span> <span style=\"color: #008080; text-decoration-color: #008080\"> 59.14000 </span> <span style=\"color: #008080; text-decoration-color: #008080\"> 0.00300  </span> <span style=\"color: #008000; text-decoration-color: #008000\"> 59.17000 </span> \n",
       " <span style=\"color: #008080; text-decoration-color: #008080\"> 46.78000 </span> <span style=\"color: #008080; text-decoration-color: #008080\"> -6.13000 </span> <span style=\"color: #008080; text-decoration-color: #008080\"> 5.29100  </span> <span style=\"color: #008000; text-decoration-color: #008000\"> 46.78000 </span> \n",
       " <span style=\"color: #008080; text-decoration-color: #008080\"> 9.15000  </span> <span style=\"color: #008080; text-decoration-color: #008080\"> 9.12000  </span> <span style=\"color: #008080; text-decoration-color: #008080\"> 11.20000 </span> <span style=\"color: #008000; text-decoration-color: #008000\"> 49.31000 </span> \n",
       "                                             \n",
       "</pre>\n"
      ],
      "text/plain": [
       "\u001b[3m     Matriz após troca de colunas 1 e 3      \u001b[0m\n",
       "                                             \n",
       " \u001b[1m \u001b[0m\u001b[1mx_1     \u001b[0m\u001b[1m \u001b[0m \u001b[1m \u001b[0m\u001b[1mx_2     \u001b[0m\u001b[1m \u001b[0m \u001b[1m \u001b[0m\u001b[1mx_3     \u001b[0m\u001b[1m \u001b[0m \u001b[1m \u001b[0m\u001b[1mb       \u001b[0m\u001b[1m \u001b[0m \n",
       " ─────────────────────────────────────────── \n",
       " \u001b[36m \u001b[0m\u001b[36m59.17000\u001b[0m\u001b[36m \u001b[0m \u001b[36m \u001b[0m\u001b[36m59.14000\u001b[0m\u001b[36m \u001b[0m \u001b[36m \u001b[0m\u001b[36m0.00300 \u001b[0m\u001b[36m \u001b[0m \u001b[32m \u001b[0m\u001b[32m59.17000\u001b[0m\u001b[32m \u001b[0m \n",
       " \u001b[36m \u001b[0m\u001b[36m46.78000\u001b[0m\u001b[36m \u001b[0m \u001b[36m \u001b[0m\u001b[36m-6.13000\u001b[0m\u001b[36m \u001b[0m \u001b[36m \u001b[0m\u001b[36m5.29100 \u001b[0m\u001b[36m \u001b[0m \u001b[32m \u001b[0m\u001b[32m46.78000\u001b[0m\u001b[32m \u001b[0m \n",
       " \u001b[36m \u001b[0m\u001b[36m9.15000 \u001b[0m\u001b[36m \u001b[0m \u001b[36m \u001b[0m\u001b[36m9.12000 \u001b[0m\u001b[36m \u001b[0m \u001b[36m \u001b[0m\u001b[36m11.20000\u001b[0m\u001b[36m \u001b[0m \u001b[32m \u001b[0m\u001b[32m49.31000\u001b[0m\u001b[32m \u001b[0m \n",
       "                                             \n"
      ]
     },
     "metadata": {},
     "output_type": "display_data"
    },
    {
     "data": {
      "text/html": [
       "<pre style=\"white-space:pre;overflow-x:auto;line-height:normal;font-family:Menlo,'DejaVu Sans Mono',consolas,'Courier New',monospace\"><span style=\"color: #000080; text-decoration-color: #000080\">Vetor de permutação atualizado: </span><span style=\"color: #000080; text-decoration-color: #000080; font-weight: bold\">[</span><span style=\"color: #000080; text-decoration-color: #000080; font-weight: bold\">3</span><span style=\"color: #000080; text-decoration-color: #000080\"> </span><span style=\"color: #000080; text-decoration-color: #000080; font-weight: bold\">2</span><span style=\"color: #000080; text-decoration-color: #000080\"> </span><span style=\"color: #000080; text-decoration-color: #000080; font-weight: bold\">1</span><span style=\"color: #000080; text-decoration-color: #000080; font-weight: bold\">]</span>\n",
       "</pre>\n"
      ],
      "text/plain": [
       "\u001b[34mVetor de permutação atualizado: \u001b[0m\u001b[1;34m[\u001b[0m\u001b[1;34m3\u001b[0m\u001b[34m \u001b[0m\u001b[1;34m2\u001b[0m\u001b[34m \u001b[0m\u001b[1;34m1\u001b[0m\u001b[1;34m]\u001b[0m\n"
      ]
     },
     "metadata": {},
     "output_type": "display_data"
    },
    {
     "data": {
      "text/html": [
       "<pre style=\"white-space:pre;overflow-x:auto;line-height:normal;font-family:Menlo,'DejaVu Sans Mono',consolas,'Courier New',monospace\"><span style=\"color: #000080; text-decoration-color: #000080\">Passo </span><span style=\"color: #000080; text-decoration-color: #000080; font-weight: bold\">2</span><span style=\"color: #000080; text-decoration-color: #000080\">: Normalizar linha </span><span style=\"color: #000080; text-decoration-color: #000080; font-weight: bold\">1</span><span style=\"color: #000080; text-decoration-color: #000080\"> </span><span style=\"color: #000080; text-decoration-color: #000080; font-weight: bold\">(</span><span style=\"color: #000080; text-decoration-color: #000080\">dividir por </span><span style=\"color: #000080; text-decoration-color: #000080; font-weight: bold\">59.17000</span><span style=\"color: #000080; text-decoration-color: #000080; font-weight: bold\">)</span>\n",
       "</pre>\n"
      ],
      "text/plain": [
       "\u001b[34mPasso \u001b[0m\u001b[1;34m2\u001b[0m\u001b[34m: Normalizar linha \u001b[0m\u001b[1;34m1\u001b[0m\u001b[34m \u001b[0m\u001b[1;34m(\u001b[0m\u001b[34mdividir por \u001b[0m\u001b[1;34m59.17000\u001b[0m\u001b[1;34m)\u001b[0m\n"
      ]
     },
     "metadata": {},
     "output_type": "display_data"
    },
    {
     "data": {
      "text/html": [
       "<pre style=\"white-space:pre;overflow-x:auto;line-height:normal;font-family:Menlo,'DejaVu Sans Mono',consolas,'Courier New',monospace\"><span style=\"font-style: italic\">     Matriz após normalização da linha 1     </span>\n",
       "                                             \n",
       " <span style=\"font-weight: bold\"> x_1      </span> <span style=\"font-weight: bold\"> x_2      </span> <span style=\"font-weight: bold\"> x_3      </span> <span style=\"font-weight: bold\"> b        </span> \n",
       " ─────────────────────────────────────────── \n",
       " <span style=\"color: #008080; text-decoration-color: #008080\"> 1.00000  </span> <span style=\"color: #008080; text-decoration-color: #008080\"> 0.99949  </span> <span style=\"color: #008080; text-decoration-color: #008080\"> 0.00005  </span> <span style=\"color: #008000; text-decoration-color: #008000\"> 1.00000  </span> \n",
       " <span style=\"color: #008080; text-decoration-color: #008080\"> 46.78000 </span> <span style=\"color: #008080; text-decoration-color: #008080\"> -6.13000 </span> <span style=\"color: #008080; text-decoration-color: #008080\"> 5.29100  </span> <span style=\"color: #008000; text-decoration-color: #008000\"> 46.78000 </span> \n",
       " <span style=\"color: #008080; text-decoration-color: #008080\"> 9.15000  </span> <span style=\"color: #008080; text-decoration-color: #008080\"> 9.12000  </span> <span style=\"color: #008080; text-decoration-color: #008080\"> 11.20000 </span> <span style=\"color: #008000; text-decoration-color: #008000\"> 49.31000 </span> \n",
       "                                             \n",
       "</pre>\n"
      ],
      "text/plain": [
       "\u001b[3m     Matriz após normalização da linha 1     \u001b[0m\n",
       "                                             \n",
       " \u001b[1m \u001b[0m\u001b[1mx_1     \u001b[0m\u001b[1m \u001b[0m \u001b[1m \u001b[0m\u001b[1mx_2     \u001b[0m\u001b[1m \u001b[0m \u001b[1m \u001b[0m\u001b[1mx_3     \u001b[0m\u001b[1m \u001b[0m \u001b[1m \u001b[0m\u001b[1mb       \u001b[0m\u001b[1m \u001b[0m \n",
       " ─────────────────────────────────────────── \n",
       " \u001b[36m \u001b[0m\u001b[36m1.00000 \u001b[0m\u001b[36m \u001b[0m \u001b[36m \u001b[0m\u001b[36m0.99949 \u001b[0m\u001b[36m \u001b[0m \u001b[36m \u001b[0m\u001b[36m0.00005 \u001b[0m\u001b[36m \u001b[0m \u001b[32m \u001b[0m\u001b[32m1.00000 \u001b[0m\u001b[32m \u001b[0m \n",
       " \u001b[36m \u001b[0m\u001b[36m46.78000\u001b[0m\u001b[36m \u001b[0m \u001b[36m \u001b[0m\u001b[36m-6.13000\u001b[0m\u001b[36m \u001b[0m \u001b[36m \u001b[0m\u001b[36m5.29100 \u001b[0m\u001b[36m \u001b[0m \u001b[32m \u001b[0m\u001b[32m46.78000\u001b[0m\u001b[32m \u001b[0m \n",
       " \u001b[36m \u001b[0m\u001b[36m9.15000 \u001b[0m\u001b[36m \u001b[0m \u001b[36m \u001b[0m\u001b[36m9.12000 \u001b[0m\u001b[36m \u001b[0m \u001b[36m \u001b[0m\u001b[36m11.20000\u001b[0m\u001b[36m \u001b[0m \u001b[32m \u001b[0m\u001b[32m49.31000\u001b[0m\u001b[32m \u001b[0m \n",
       "                                             \n"
      ]
     },
     "metadata": {},
     "output_type": "display_data"
    },
    {
     "data": {
      "text/html": [
       "<pre style=\"white-space:pre;overflow-x:auto;line-height:normal;font-family:Menlo,'DejaVu Sans Mono',consolas,'Courier New',monospace\"><span style=\"color: #008000; text-decoration-color: #008000\">Passo </span><span style=\"color: #008000; text-decoration-color: #008000; font-weight: bold\">3</span><span style=\"color: #008000; text-decoration-color: #008000\">: Subtrair </span><span style=\"color: #008000; text-decoration-color: #008000; font-weight: bold\">46.78000</span><span style=\"color: #008000; text-decoration-color: #008000\"> vezes linha </span><span style=\"color: #008000; text-decoration-color: #008000; font-weight: bold\">1</span><span style=\"color: #008000; text-decoration-color: #008000\"> da linha </span><span style=\"color: #008000; text-decoration-color: #008000; font-weight: bold\">2</span>\n",
       "</pre>\n"
      ],
      "text/plain": [
       "\u001b[32mPasso \u001b[0m\u001b[1;32m3\u001b[0m\u001b[32m: Subtrair \u001b[0m\u001b[1;32m46.78000\u001b[0m\u001b[32m vezes linha \u001b[0m\u001b[1;32m1\u001b[0m\u001b[32m da linha \u001b[0m\u001b[1;32m2\u001b[0m\n"
      ]
     },
     "metadata": {},
     "output_type": "display_data"
    },
    {
     "data": {
      "text/html": [
       "<pre style=\"white-space:pre;overflow-x:auto;line-height:normal;font-family:Menlo,'DejaVu Sans Mono',consolas,'Courier New',monospace\"><span style=\"font-style: italic\">  Matriz após eliminação do elemento (2,1)   </span>\n",
       "                                             \n",
       " <span style=\"font-weight: bold\"> x_1     </span> <span style=\"font-weight: bold\"> x_2       </span> <span style=\"font-weight: bold\"> x_3      </span> <span style=\"font-weight: bold\"> b        </span> \n",
       " ─────────────────────────────────────────── \n",
       " <span style=\"color: #008080; text-decoration-color: #008080\"> 1.00000 </span> <span style=\"color: #008080; text-decoration-color: #008080\"> 0.99949   </span> <span style=\"color: #008080; text-decoration-color: #008080\"> 0.00005  </span> <span style=\"color: #008000; text-decoration-color: #008000\"> 1.00000  </span> \n",
       " <span style=\"color: #008080; text-decoration-color: #008080\"> 0.00000 </span> <span style=\"color: #008080; text-decoration-color: #008080\"> -52.88628 </span> <span style=\"color: #008080; text-decoration-color: #008080\"> 5.28863  </span> <span style=\"color: #008000; text-decoration-color: #008000\"> 0.00000  </span> \n",
       " <span style=\"color: #008080; text-decoration-color: #008080\"> 9.15000 </span> <span style=\"color: #008080; text-decoration-color: #008080\"> 9.12000   </span> <span style=\"color: #008080; text-decoration-color: #008080\"> 11.20000 </span> <span style=\"color: #008000; text-decoration-color: #008000\"> 49.31000 </span> \n",
       "                                             \n",
       "</pre>\n"
      ],
      "text/plain": [
       "\u001b[3m  Matriz após eliminação do elemento (2,1)   \u001b[0m\n",
       "                                             \n",
       " \u001b[1m \u001b[0m\u001b[1mx_1    \u001b[0m\u001b[1m \u001b[0m \u001b[1m \u001b[0m\u001b[1mx_2      \u001b[0m\u001b[1m \u001b[0m \u001b[1m \u001b[0m\u001b[1mx_3     \u001b[0m\u001b[1m \u001b[0m \u001b[1m \u001b[0m\u001b[1mb       \u001b[0m\u001b[1m \u001b[0m \n",
       " ─────────────────────────────────────────── \n",
       " \u001b[36m \u001b[0m\u001b[36m1.00000\u001b[0m\u001b[36m \u001b[0m \u001b[36m \u001b[0m\u001b[36m0.99949  \u001b[0m\u001b[36m \u001b[0m \u001b[36m \u001b[0m\u001b[36m0.00005 \u001b[0m\u001b[36m \u001b[0m \u001b[32m \u001b[0m\u001b[32m1.00000 \u001b[0m\u001b[32m \u001b[0m \n",
       " \u001b[36m \u001b[0m\u001b[36m0.00000\u001b[0m\u001b[36m \u001b[0m \u001b[36m \u001b[0m\u001b[36m-52.88628\u001b[0m\u001b[36m \u001b[0m \u001b[36m \u001b[0m\u001b[36m5.28863 \u001b[0m\u001b[36m \u001b[0m \u001b[32m \u001b[0m\u001b[32m0.00000 \u001b[0m\u001b[32m \u001b[0m \n",
       " \u001b[36m \u001b[0m\u001b[36m9.15000\u001b[0m\u001b[36m \u001b[0m \u001b[36m \u001b[0m\u001b[36m9.12000  \u001b[0m\u001b[36m \u001b[0m \u001b[36m \u001b[0m\u001b[36m11.20000\u001b[0m\u001b[36m \u001b[0m \u001b[32m \u001b[0m\u001b[32m49.31000\u001b[0m\u001b[32m \u001b[0m \n",
       "                                             \n"
      ]
     },
     "metadata": {},
     "output_type": "display_data"
    },
    {
     "data": {
      "text/html": [
       "<pre style=\"white-space:pre;overflow-x:auto;line-height:normal;font-family:Menlo,'DejaVu Sans Mono',consolas,'Courier New',monospace\"><span style=\"color: #008000; text-decoration-color: #008000\">Passo </span><span style=\"color: #008000; text-decoration-color: #008000; font-weight: bold\">4</span><span style=\"color: #008000; text-decoration-color: #008000\">: Subtrair </span><span style=\"color: #008000; text-decoration-color: #008000; font-weight: bold\">9.15000</span><span style=\"color: #008000; text-decoration-color: #008000\"> vezes linha </span><span style=\"color: #008000; text-decoration-color: #008000; font-weight: bold\">1</span><span style=\"color: #008000; text-decoration-color: #008000\"> da linha </span><span style=\"color: #008000; text-decoration-color: #008000; font-weight: bold\">3</span>\n",
       "</pre>\n"
      ],
      "text/plain": [
       "\u001b[32mPasso \u001b[0m\u001b[1;32m4\u001b[0m\u001b[32m: Subtrair \u001b[0m\u001b[1;32m9.15000\u001b[0m\u001b[32m vezes linha \u001b[0m\u001b[1;32m1\u001b[0m\u001b[32m da linha \u001b[0m\u001b[1;32m3\u001b[0m\n"
      ]
     },
     "metadata": {},
     "output_type": "display_data"
    },
    {
     "data": {
      "text/html": [
       "<pre style=\"white-space:pre;overflow-x:auto;line-height:normal;font-family:Menlo,'DejaVu Sans Mono',consolas,'Courier New',monospace\"><span style=\"font-style: italic\">  Matriz após eliminação do elemento (3,1)   </span>\n",
       "                                             \n",
       " <span style=\"font-weight: bold\"> x_1     </span> <span style=\"font-weight: bold\"> x_2       </span> <span style=\"font-weight: bold\"> x_3      </span> <span style=\"font-weight: bold\"> b        </span> \n",
       " ─────────────────────────────────────────── \n",
       " <span style=\"color: #008080; text-decoration-color: #008080\"> 1.00000 </span> <span style=\"color: #008080; text-decoration-color: #008080\"> 0.99949   </span> <span style=\"color: #008080; text-decoration-color: #008080\"> 0.00005  </span> <span style=\"color: #008000; text-decoration-color: #008000\"> 1.00000  </span> \n",
       " <span style=\"color: #008080; text-decoration-color: #008080\"> 0.00000 </span> <span style=\"color: #008080; text-decoration-color: #008080\"> -52.88628 </span> <span style=\"color: #008080; text-decoration-color: #008080\"> 5.28863  </span> <span style=\"color: #008000; text-decoration-color: #008000\"> 0.00000  </span> \n",
       " <span style=\"color: #008080; text-decoration-color: #008080\"> 0.00000 </span> <span style=\"color: #008080; text-decoration-color: #008080\"> -0.02536  </span> <span style=\"color: #008080; text-decoration-color: #008080\"> 11.19954 </span> <span style=\"color: #008000; text-decoration-color: #008000\"> 40.16000 </span> \n",
       "                                             \n",
       "</pre>\n"
      ],
      "text/plain": [
       "\u001b[3m  Matriz após eliminação do elemento (3,1)   \u001b[0m\n",
       "                                             \n",
       " \u001b[1m \u001b[0m\u001b[1mx_1    \u001b[0m\u001b[1m \u001b[0m \u001b[1m \u001b[0m\u001b[1mx_2      \u001b[0m\u001b[1m \u001b[0m \u001b[1m \u001b[0m\u001b[1mx_3     \u001b[0m\u001b[1m \u001b[0m \u001b[1m \u001b[0m\u001b[1mb       \u001b[0m\u001b[1m \u001b[0m \n",
       " ─────────────────────────────────────────── \n",
       " \u001b[36m \u001b[0m\u001b[36m1.00000\u001b[0m\u001b[36m \u001b[0m \u001b[36m \u001b[0m\u001b[36m0.99949  \u001b[0m\u001b[36m \u001b[0m \u001b[36m \u001b[0m\u001b[36m0.00005 \u001b[0m\u001b[36m \u001b[0m \u001b[32m \u001b[0m\u001b[32m1.00000 \u001b[0m\u001b[32m \u001b[0m \n",
       " \u001b[36m \u001b[0m\u001b[36m0.00000\u001b[0m\u001b[36m \u001b[0m \u001b[36m \u001b[0m\u001b[36m-52.88628\u001b[0m\u001b[36m \u001b[0m \u001b[36m \u001b[0m\u001b[36m5.28863 \u001b[0m\u001b[36m \u001b[0m \u001b[32m \u001b[0m\u001b[32m0.00000 \u001b[0m\u001b[32m \u001b[0m \n",
       " \u001b[36m \u001b[0m\u001b[36m0.00000\u001b[0m\u001b[36m \u001b[0m \u001b[36m \u001b[0m\u001b[36m-0.02536 \u001b[0m\u001b[36m \u001b[0m \u001b[36m \u001b[0m\u001b[36m11.19954\u001b[0m\u001b[36m \u001b[0m \u001b[32m \u001b[0m\u001b[32m40.16000\u001b[0m\u001b[32m \u001b[0m \n",
       "                                             \n"
      ]
     },
     "metadata": {},
     "output_type": "display_data"
    },
    {
     "data": {
      "text/html": [
       "<pre style=\"white-space:pre;overflow-x:auto;line-height:normal;font-family:Menlo,'DejaVu Sans Mono',consolas,'Courier New',monospace\"><span style=\"color: #000080; text-decoration-color: #000080\">Passo </span><span style=\"color: #000080; text-decoration-color: #000080; font-weight: bold\">5</span><span style=\"color: #000080; text-decoration-color: #000080\">: Normalizar linha </span><span style=\"color: #000080; text-decoration-color: #000080; font-weight: bold\">2</span><span style=\"color: #000080; text-decoration-color: #000080\"> </span><span style=\"color: #000080; text-decoration-color: #000080; font-weight: bold\">(</span><span style=\"color: #000080; text-decoration-color: #000080\">dividir por </span><span style=\"color: #000080; text-decoration-color: #000080; font-weight: bold\">-52.88628</span><span style=\"color: #000080; text-decoration-color: #000080; font-weight: bold\">)</span>\n",
       "</pre>\n"
      ],
      "text/plain": [
       "\u001b[34mPasso \u001b[0m\u001b[1;34m5\u001b[0m\u001b[34m: Normalizar linha \u001b[0m\u001b[1;34m2\u001b[0m\u001b[34m \u001b[0m\u001b[1;34m(\u001b[0m\u001b[34mdividir por \u001b[0m\u001b[1;34m-52.88628\u001b[0m\u001b[1;34m)\u001b[0m\n"
      ]
     },
     "metadata": {},
     "output_type": "display_data"
    },
    {
     "data": {
      "text/html": [
       "<pre style=\"white-space:pre;overflow-x:auto;line-height:normal;font-family:Menlo,'DejaVu Sans Mono',consolas,'Courier New',monospace\"><span style=\"font-style: italic\">     Matriz após normalização da linha 2     </span>\n",
       "                                             \n",
       " <span style=\"font-weight: bold\"> x_1      </span> <span style=\"font-weight: bold\"> x_2      </span> <span style=\"font-weight: bold\"> x_3      </span> <span style=\"font-weight: bold\"> b        </span> \n",
       " ─────────────────────────────────────────── \n",
       " <span style=\"color: #008080; text-decoration-color: #008080\"> 1.00000  </span> <span style=\"color: #008080; text-decoration-color: #008080\"> 0.99949  </span> <span style=\"color: #008080; text-decoration-color: #008080\"> 0.00005  </span> <span style=\"color: #008000; text-decoration-color: #008000\"> 1.00000  </span> \n",
       " <span style=\"color: #008080; text-decoration-color: #008080\"> -0.00000 </span> <span style=\"color: #008080; text-decoration-color: #008080\"> 1.00000  </span> <span style=\"color: #008080; text-decoration-color: #008080\"> -0.10000 </span> <span style=\"color: #008000; text-decoration-color: #008000\"> -0.00000 </span> \n",
       " <span style=\"color: #008080; text-decoration-color: #008080\"> 0.00000  </span> <span style=\"color: #008080; text-decoration-color: #008080\"> -0.02536 </span> <span style=\"color: #008080; text-decoration-color: #008080\"> 11.19954 </span> <span style=\"color: #008000; text-decoration-color: #008000\"> 40.16000 </span> \n",
       "                                             \n",
       "</pre>\n"
      ],
      "text/plain": [
       "\u001b[3m     Matriz após normalização da linha 2     \u001b[0m\n",
       "                                             \n",
       " \u001b[1m \u001b[0m\u001b[1mx_1     \u001b[0m\u001b[1m \u001b[0m \u001b[1m \u001b[0m\u001b[1mx_2     \u001b[0m\u001b[1m \u001b[0m \u001b[1m \u001b[0m\u001b[1mx_3     \u001b[0m\u001b[1m \u001b[0m \u001b[1m \u001b[0m\u001b[1mb       \u001b[0m\u001b[1m \u001b[0m \n",
       " ─────────────────────────────────────────── \n",
       " \u001b[36m \u001b[0m\u001b[36m1.00000 \u001b[0m\u001b[36m \u001b[0m \u001b[36m \u001b[0m\u001b[36m0.99949 \u001b[0m\u001b[36m \u001b[0m \u001b[36m \u001b[0m\u001b[36m0.00005 \u001b[0m\u001b[36m \u001b[0m \u001b[32m \u001b[0m\u001b[32m1.00000 \u001b[0m\u001b[32m \u001b[0m \n",
       " \u001b[36m \u001b[0m\u001b[36m-0.00000\u001b[0m\u001b[36m \u001b[0m \u001b[36m \u001b[0m\u001b[36m1.00000 \u001b[0m\u001b[36m \u001b[0m \u001b[36m \u001b[0m\u001b[36m-0.10000\u001b[0m\u001b[36m \u001b[0m \u001b[32m \u001b[0m\u001b[32m-0.00000\u001b[0m\u001b[32m \u001b[0m \n",
       " \u001b[36m \u001b[0m\u001b[36m0.00000 \u001b[0m\u001b[36m \u001b[0m \u001b[36m \u001b[0m\u001b[36m-0.02536\u001b[0m\u001b[36m \u001b[0m \u001b[36m \u001b[0m\u001b[36m11.19954\u001b[0m\u001b[36m \u001b[0m \u001b[32m \u001b[0m\u001b[32m40.16000\u001b[0m\u001b[32m \u001b[0m \n",
       "                                             \n"
      ]
     },
     "metadata": {},
     "output_type": "display_data"
    },
    {
     "data": {
      "text/html": [
       "<pre style=\"white-space:pre;overflow-x:auto;line-height:normal;font-family:Menlo,'DejaVu Sans Mono',consolas,'Courier New',monospace\"><span style=\"color: #008000; text-decoration-color: #008000\">Passo </span><span style=\"color: #008000; text-decoration-color: #008000; font-weight: bold\">6</span><span style=\"color: #008000; text-decoration-color: #008000\">: Subtrair </span><span style=\"color: #008000; text-decoration-color: #008000; font-weight: bold\">0.99949</span><span style=\"color: #008000; text-decoration-color: #008000\"> vezes linha </span><span style=\"color: #008000; text-decoration-color: #008000; font-weight: bold\">2</span><span style=\"color: #008000; text-decoration-color: #008000\"> da linha </span><span style=\"color: #008000; text-decoration-color: #008000; font-weight: bold\">1</span>\n",
       "</pre>\n"
      ],
      "text/plain": [
       "\u001b[32mPasso \u001b[0m\u001b[1;32m6\u001b[0m\u001b[32m: Subtrair \u001b[0m\u001b[1;32m0.99949\u001b[0m\u001b[32m vezes linha \u001b[0m\u001b[1;32m2\u001b[0m\u001b[32m da linha \u001b[0m\u001b[1;32m1\u001b[0m\n"
      ]
     },
     "metadata": {},
     "output_type": "display_data"
    },
    {
     "data": {
      "text/html": [
       "<pre style=\"white-space:pre;overflow-x:auto;line-height:normal;font-family:Menlo,'DejaVu Sans Mono',consolas,'Courier New',monospace\"><span style=\"font-style: italic\">  Matriz após eliminação do elemento (1,2)   </span>\n",
       "                                             \n",
       " <span style=\"font-weight: bold\"> x_1      </span> <span style=\"font-weight: bold\"> x_2      </span> <span style=\"font-weight: bold\"> x_3      </span> <span style=\"font-weight: bold\"> b        </span> \n",
       " ─────────────────────────────────────────── \n",
       " <span style=\"color: #008080; text-decoration-color: #008080\"> 1.00000  </span> <span style=\"color: #008080; text-decoration-color: #008080\"> 0.00000  </span> <span style=\"color: #008080; text-decoration-color: #008080\"> 0.10000  </span> <span style=\"color: #008000; text-decoration-color: #008000\"> 1.00000  </span> \n",
       " <span style=\"color: #008080; text-decoration-color: #008080\"> -0.00000 </span> <span style=\"color: #008080; text-decoration-color: #008080\"> 1.00000  </span> <span style=\"color: #008080; text-decoration-color: #008080\"> -0.10000 </span> <span style=\"color: #008000; text-decoration-color: #008000\"> -0.00000 </span> \n",
       " <span style=\"color: #008080; text-decoration-color: #008080\"> 0.00000  </span> <span style=\"color: #008080; text-decoration-color: #008080\"> -0.02536 </span> <span style=\"color: #008080; text-decoration-color: #008080\"> 11.19954 </span> <span style=\"color: #008000; text-decoration-color: #008000\"> 40.16000 </span> \n",
       "                                             \n",
       "</pre>\n"
      ],
      "text/plain": [
       "\u001b[3m  Matriz após eliminação do elemento (1,2)   \u001b[0m\n",
       "                                             \n",
       " \u001b[1m \u001b[0m\u001b[1mx_1     \u001b[0m\u001b[1m \u001b[0m \u001b[1m \u001b[0m\u001b[1mx_2     \u001b[0m\u001b[1m \u001b[0m \u001b[1m \u001b[0m\u001b[1mx_3     \u001b[0m\u001b[1m \u001b[0m \u001b[1m \u001b[0m\u001b[1mb       \u001b[0m\u001b[1m \u001b[0m \n",
       " ─────────────────────────────────────────── \n",
       " \u001b[36m \u001b[0m\u001b[36m1.00000 \u001b[0m\u001b[36m \u001b[0m \u001b[36m \u001b[0m\u001b[36m0.00000 \u001b[0m\u001b[36m \u001b[0m \u001b[36m \u001b[0m\u001b[36m0.10000 \u001b[0m\u001b[36m \u001b[0m \u001b[32m \u001b[0m\u001b[32m1.00000 \u001b[0m\u001b[32m \u001b[0m \n",
       " \u001b[36m \u001b[0m\u001b[36m-0.00000\u001b[0m\u001b[36m \u001b[0m \u001b[36m \u001b[0m\u001b[36m1.00000 \u001b[0m\u001b[36m \u001b[0m \u001b[36m \u001b[0m\u001b[36m-0.10000\u001b[0m\u001b[36m \u001b[0m \u001b[32m \u001b[0m\u001b[32m-0.00000\u001b[0m\u001b[32m \u001b[0m \n",
       " \u001b[36m \u001b[0m\u001b[36m0.00000 \u001b[0m\u001b[36m \u001b[0m \u001b[36m \u001b[0m\u001b[36m-0.02536\u001b[0m\u001b[36m \u001b[0m \u001b[36m \u001b[0m\u001b[36m11.19954\u001b[0m\u001b[36m \u001b[0m \u001b[32m \u001b[0m\u001b[32m40.16000\u001b[0m\u001b[32m \u001b[0m \n",
       "                                             \n"
      ]
     },
     "metadata": {},
     "output_type": "display_data"
    },
    {
     "data": {
      "text/html": [
       "<pre style=\"white-space:pre;overflow-x:auto;line-height:normal;font-family:Menlo,'DejaVu Sans Mono',consolas,'Courier New',monospace\"><span style=\"color: #008000; text-decoration-color: #008000\">Passo </span><span style=\"color: #008000; text-decoration-color: #008000; font-weight: bold\">7</span><span style=\"color: #008000; text-decoration-color: #008000\">: Subtrair </span><span style=\"color: #008000; text-decoration-color: #008000; font-weight: bold\">-0.02536</span><span style=\"color: #008000; text-decoration-color: #008000\"> vezes linha </span><span style=\"color: #008000; text-decoration-color: #008000; font-weight: bold\">2</span><span style=\"color: #008000; text-decoration-color: #008000\"> da linha </span><span style=\"color: #008000; text-decoration-color: #008000; font-weight: bold\">3</span>\n",
       "</pre>\n"
      ],
      "text/plain": [
       "\u001b[32mPasso \u001b[0m\u001b[1;32m7\u001b[0m\u001b[32m: Subtrair \u001b[0m\u001b[1;32m-0.02536\u001b[0m\u001b[32m vezes linha \u001b[0m\u001b[1;32m2\u001b[0m\u001b[32m da linha \u001b[0m\u001b[1;32m3\u001b[0m\n"
      ]
     },
     "metadata": {},
     "output_type": "display_data"
    },
    {
     "data": {
      "text/html": [
       "<pre style=\"white-space:pre;overflow-x:auto;line-height:normal;font-family:Menlo,'DejaVu Sans Mono',consolas,'Courier New',monospace\"><span style=\"font-style: italic\">  Matriz após eliminação do elemento (3,2)  </span>\n",
       "                                            \n",
       " <span style=\"font-weight: bold\"> x_1      </span> <span style=\"font-weight: bold\"> x_2     </span> <span style=\"font-weight: bold\"> x_3      </span> <span style=\"font-weight: bold\"> b        </span> \n",
       " ────────────────────────────────────────── \n",
       " <span style=\"color: #008080; text-decoration-color: #008080\"> 1.00000  </span> <span style=\"color: #008080; text-decoration-color: #008080\"> 0.00000 </span> <span style=\"color: #008080; text-decoration-color: #008080\"> 0.10000  </span> <span style=\"color: #008000; text-decoration-color: #008000\"> 1.00000  </span> \n",
       " <span style=\"color: #008080; text-decoration-color: #008080\"> -0.00000 </span> <span style=\"color: #008080; text-decoration-color: #008080\"> 1.00000 </span> <span style=\"color: #008080; text-decoration-color: #008080\"> -0.10000 </span> <span style=\"color: #008000; text-decoration-color: #008000\"> -0.00000 </span> \n",
       " <span style=\"color: #008080; text-decoration-color: #008080\"> 0.00000  </span> <span style=\"color: #008080; text-decoration-color: #008080\"> 0.00000 </span> <span style=\"color: #008080; text-decoration-color: #008080\"> 11.19700 </span> <span style=\"color: #008000; text-decoration-color: #008000\"> 40.16000 </span> \n",
       "                                            \n",
       "</pre>\n"
      ],
      "text/plain": [
       "\u001b[3m  Matriz após eliminação do elemento (3,2)  \u001b[0m\n",
       "                                            \n",
       " \u001b[1m \u001b[0m\u001b[1mx_1     \u001b[0m\u001b[1m \u001b[0m \u001b[1m \u001b[0m\u001b[1mx_2    \u001b[0m\u001b[1m \u001b[0m \u001b[1m \u001b[0m\u001b[1mx_3     \u001b[0m\u001b[1m \u001b[0m \u001b[1m \u001b[0m\u001b[1mb       \u001b[0m\u001b[1m \u001b[0m \n",
       " ────────────────────────────────────────── \n",
       " \u001b[36m \u001b[0m\u001b[36m1.00000 \u001b[0m\u001b[36m \u001b[0m \u001b[36m \u001b[0m\u001b[36m0.00000\u001b[0m\u001b[36m \u001b[0m \u001b[36m \u001b[0m\u001b[36m0.10000 \u001b[0m\u001b[36m \u001b[0m \u001b[32m \u001b[0m\u001b[32m1.00000 \u001b[0m\u001b[32m \u001b[0m \n",
       " \u001b[36m \u001b[0m\u001b[36m-0.00000\u001b[0m\u001b[36m \u001b[0m \u001b[36m \u001b[0m\u001b[36m1.00000\u001b[0m\u001b[36m \u001b[0m \u001b[36m \u001b[0m\u001b[36m-0.10000\u001b[0m\u001b[36m \u001b[0m \u001b[32m \u001b[0m\u001b[32m-0.00000\u001b[0m\u001b[32m \u001b[0m \n",
       " \u001b[36m \u001b[0m\u001b[36m0.00000 \u001b[0m\u001b[36m \u001b[0m \u001b[36m \u001b[0m\u001b[36m0.00000\u001b[0m\u001b[36m \u001b[0m \u001b[36m \u001b[0m\u001b[36m11.19700\u001b[0m\u001b[36m \u001b[0m \u001b[32m \u001b[0m\u001b[32m40.16000\u001b[0m\u001b[32m \u001b[0m \n",
       "                                            \n"
      ]
     },
     "metadata": {},
     "output_type": "display_data"
    },
    {
     "data": {
      "text/html": [
       "<pre style=\"white-space:pre;overflow-x:auto;line-height:normal;font-family:Menlo,'DejaVu Sans Mono',consolas,'Courier New',monospace\"><span style=\"color: #000080; text-decoration-color: #000080\">Passo </span><span style=\"color: #000080; text-decoration-color: #000080; font-weight: bold\">8</span><span style=\"color: #000080; text-decoration-color: #000080\">: Normalizar linha </span><span style=\"color: #000080; text-decoration-color: #000080; font-weight: bold\">3</span><span style=\"color: #000080; text-decoration-color: #000080\"> </span><span style=\"color: #000080; text-decoration-color: #000080; font-weight: bold\">(</span><span style=\"color: #000080; text-decoration-color: #000080\">dividir por </span><span style=\"color: #000080; text-decoration-color: #000080; font-weight: bold\">11.19700</span><span style=\"color: #000080; text-decoration-color: #000080; font-weight: bold\">)</span>\n",
       "</pre>\n"
      ],
      "text/plain": [
       "\u001b[34mPasso \u001b[0m\u001b[1;34m8\u001b[0m\u001b[34m: Normalizar linha \u001b[0m\u001b[1;34m3\u001b[0m\u001b[34m \u001b[0m\u001b[1;34m(\u001b[0m\u001b[34mdividir por \u001b[0m\u001b[1;34m11.19700\u001b[0m\u001b[1;34m)\u001b[0m\n"
      ]
     },
     "metadata": {},
     "output_type": "display_data"
    },
    {
     "data": {
      "text/html": [
       "<pre style=\"white-space:pre;overflow-x:auto;line-height:normal;font-family:Menlo,'DejaVu Sans Mono',consolas,'Courier New',monospace\"><span style=\"font-style: italic\">    Matriz após normalização da linha 3     </span>\n",
       "                                            \n",
       " <span style=\"font-weight: bold\"> x_1      </span> <span style=\"font-weight: bold\"> x_2     </span> <span style=\"font-weight: bold\"> x_3      </span> <span style=\"font-weight: bold\"> b        </span> \n",
       " ────────────────────────────────────────── \n",
       " <span style=\"color: #008080; text-decoration-color: #008080\"> 1.00000  </span> <span style=\"color: #008080; text-decoration-color: #008080\"> 0.00000 </span> <span style=\"color: #008080; text-decoration-color: #008080\"> 0.10000  </span> <span style=\"color: #008000; text-decoration-color: #008000\"> 1.00000  </span> \n",
       " <span style=\"color: #008080; text-decoration-color: #008080\"> -0.00000 </span> <span style=\"color: #008080; text-decoration-color: #008080\"> 1.00000 </span> <span style=\"color: #008080; text-decoration-color: #008080\"> -0.10000 </span> <span style=\"color: #008000; text-decoration-color: #008000\"> -0.00000 </span> \n",
       " <span style=\"color: #008080; text-decoration-color: #008080\"> 0.00000  </span> <span style=\"color: #008080; text-decoration-color: #008080\"> 0.00000 </span> <span style=\"color: #008080; text-decoration-color: #008080\"> 1.00000  </span> <span style=\"color: #008000; text-decoration-color: #008000\"> 3.58668  </span> \n",
       "                                            \n",
       "</pre>\n"
      ],
      "text/plain": [
       "\u001b[3m    Matriz após normalização da linha 3     \u001b[0m\n",
       "                                            \n",
       " \u001b[1m \u001b[0m\u001b[1mx_1     \u001b[0m\u001b[1m \u001b[0m \u001b[1m \u001b[0m\u001b[1mx_2    \u001b[0m\u001b[1m \u001b[0m \u001b[1m \u001b[0m\u001b[1mx_3     \u001b[0m\u001b[1m \u001b[0m \u001b[1m \u001b[0m\u001b[1mb       \u001b[0m\u001b[1m \u001b[0m \n",
       " ────────────────────────────────────────── \n",
       " \u001b[36m \u001b[0m\u001b[36m1.00000 \u001b[0m\u001b[36m \u001b[0m \u001b[36m \u001b[0m\u001b[36m0.00000\u001b[0m\u001b[36m \u001b[0m \u001b[36m \u001b[0m\u001b[36m0.10000 \u001b[0m\u001b[36m \u001b[0m \u001b[32m \u001b[0m\u001b[32m1.00000 \u001b[0m\u001b[32m \u001b[0m \n",
       " \u001b[36m \u001b[0m\u001b[36m-0.00000\u001b[0m\u001b[36m \u001b[0m \u001b[36m \u001b[0m\u001b[36m1.00000\u001b[0m\u001b[36m \u001b[0m \u001b[36m \u001b[0m\u001b[36m-0.10000\u001b[0m\u001b[36m \u001b[0m \u001b[32m \u001b[0m\u001b[32m-0.00000\u001b[0m\u001b[32m \u001b[0m \n",
       " \u001b[36m \u001b[0m\u001b[36m0.00000 \u001b[0m\u001b[36m \u001b[0m \u001b[36m \u001b[0m\u001b[36m0.00000\u001b[0m\u001b[36m \u001b[0m \u001b[36m \u001b[0m\u001b[36m1.00000 \u001b[0m\u001b[36m \u001b[0m \u001b[32m \u001b[0m\u001b[32m3.58668 \u001b[0m\u001b[32m \u001b[0m \n",
       "                                            \n"
      ]
     },
     "metadata": {},
     "output_type": "display_data"
    },
    {
     "data": {
      "text/html": [
       "<pre style=\"white-space:pre;overflow-x:auto;line-height:normal;font-family:Menlo,'DejaVu Sans Mono',consolas,'Courier New',monospace\"><span style=\"color: #008000; text-decoration-color: #008000\">Passo </span><span style=\"color: #008000; text-decoration-color: #008000; font-weight: bold\">9</span><span style=\"color: #008000; text-decoration-color: #008000\">: Subtrair </span><span style=\"color: #008000; text-decoration-color: #008000; font-weight: bold\">0.10000</span><span style=\"color: #008000; text-decoration-color: #008000\"> vezes linha </span><span style=\"color: #008000; text-decoration-color: #008000; font-weight: bold\">3</span><span style=\"color: #008000; text-decoration-color: #008000\"> da linha </span><span style=\"color: #008000; text-decoration-color: #008000; font-weight: bold\">1</span>\n",
       "</pre>\n"
      ],
      "text/plain": [
       "\u001b[32mPasso \u001b[0m\u001b[1;32m9\u001b[0m\u001b[32m: Subtrair \u001b[0m\u001b[1;32m0.10000\u001b[0m\u001b[32m vezes linha \u001b[0m\u001b[1;32m3\u001b[0m\u001b[32m da linha \u001b[0m\u001b[1;32m1\u001b[0m\n"
      ]
     },
     "metadata": {},
     "output_type": "display_data"
    },
    {
     "data": {
      "text/html": [
       "<pre style=\"white-space:pre;overflow-x:auto;line-height:normal;font-family:Menlo,'DejaVu Sans Mono',consolas,'Courier New',monospace\"><span style=\"font-style: italic\">  Matriz após eliminação do elemento (1,3)  </span>\n",
       "                                            \n",
       " <span style=\"font-weight: bold\"> x_1      </span> <span style=\"font-weight: bold\"> x_2     </span> <span style=\"font-weight: bold\"> x_3      </span> <span style=\"font-weight: bold\"> b        </span> \n",
       " ────────────────────────────────────────── \n",
       " <span style=\"color: #008080; text-decoration-color: #008080\"> 1.00000  </span> <span style=\"color: #008080; text-decoration-color: #008080\"> 0.00000 </span> <span style=\"color: #008080; text-decoration-color: #008080\"> 0.00000  </span> <span style=\"color: #008000; text-decoration-color: #008000\"> 0.64133  </span> \n",
       " <span style=\"color: #008080; text-decoration-color: #008080\"> -0.00000 </span> <span style=\"color: #008080; text-decoration-color: #008080\"> 1.00000 </span> <span style=\"color: #008080; text-decoration-color: #008080\"> -0.10000 </span> <span style=\"color: #008000; text-decoration-color: #008000\"> -0.00000 </span> \n",
       " <span style=\"color: #008080; text-decoration-color: #008080\"> 0.00000  </span> <span style=\"color: #008080; text-decoration-color: #008080\"> 0.00000 </span> <span style=\"color: #008080; text-decoration-color: #008080\"> 1.00000  </span> <span style=\"color: #008000; text-decoration-color: #008000\"> 3.58668  </span> \n",
       "                                            \n",
       "</pre>\n"
      ],
      "text/plain": [
       "\u001b[3m  Matriz após eliminação do elemento (1,3)  \u001b[0m\n",
       "                                            \n",
       " \u001b[1m \u001b[0m\u001b[1mx_1     \u001b[0m\u001b[1m \u001b[0m \u001b[1m \u001b[0m\u001b[1mx_2    \u001b[0m\u001b[1m \u001b[0m \u001b[1m \u001b[0m\u001b[1mx_3     \u001b[0m\u001b[1m \u001b[0m \u001b[1m \u001b[0m\u001b[1mb       \u001b[0m\u001b[1m \u001b[0m \n",
       " ────────────────────────────────────────── \n",
       " \u001b[36m \u001b[0m\u001b[36m1.00000 \u001b[0m\u001b[36m \u001b[0m \u001b[36m \u001b[0m\u001b[36m0.00000\u001b[0m\u001b[36m \u001b[0m \u001b[36m \u001b[0m\u001b[36m0.00000 \u001b[0m\u001b[36m \u001b[0m \u001b[32m \u001b[0m\u001b[32m0.64133 \u001b[0m\u001b[32m \u001b[0m \n",
       " \u001b[36m \u001b[0m\u001b[36m-0.00000\u001b[0m\u001b[36m \u001b[0m \u001b[36m \u001b[0m\u001b[36m1.00000\u001b[0m\u001b[36m \u001b[0m \u001b[36m \u001b[0m\u001b[36m-0.10000\u001b[0m\u001b[36m \u001b[0m \u001b[32m \u001b[0m\u001b[32m-0.00000\u001b[0m\u001b[32m \u001b[0m \n",
       " \u001b[36m \u001b[0m\u001b[36m0.00000 \u001b[0m\u001b[36m \u001b[0m \u001b[36m \u001b[0m\u001b[36m0.00000\u001b[0m\u001b[36m \u001b[0m \u001b[36m \u001b[0m\u001b[36m1.00000 \u001b[0m\u001b[36m \u001b[0m \u001b[32m \u001b[0m\u001b[32m3.58668 \u001b[0m\u001b[32m \u001b[0m \n",
       "                                            \n"
      ]
     },
     "metadata": {},
     "output_type": "display_data"
    },
    {
     "data": {
      "text/html": [
       "<pre style=\"white-space:pre;overflow-x:auto;line-height:normal;font-family:Menlo,'DejaVu Sans Mono',consolas,'Courier New',monospace\"><span style=\"color: #008000; text-decoration-color: #008000\">Passo </span><span style=\"color: #008000; text-decoration-color: #008000; font-weight: bold\">10</span><span style=\"color: #008000; text-decoration-color: #008000\">: Subtrair </span><span style=\"color: #008000; text-decoration-color: #008000; font-weight: bold\">-0.10000</span><span style=\"color: #008000; text-decoration-color: #008000\"> vezes linha </span><span style=\"color: #008000; text-decoration-color: #008000; font-weight: bold\">3</span><span style=\"color: #008000; text-decoration-color: #008000\"> da linha </span><span style=\"color: #008000; text-decoration-color: #008000; font-weight: bold\">2</span>\n",
       "</pre>\n"
      ],
      "text/plain": [
       "\u001b[32mPasso \u001b[0m\u001b[1;32m10\u001b[0m\u001b[32m: Subtrair \u001b[0m\u001b[1;32m-0.10000\u001b[0m\u001b[32m vezes linha \u001b[0m\u001b[1;32m3\u001b[0m\u001b[32m da linha \u001b[0m\u001b[1;32m2\u001b[0m\n"
      ]
     },
     "metadata": {},
     "output_type": "display_data"
    },
    {
     "data": {
      "text/html": [
       "<pre style=\"white-space:pre;overflow-x:auto;line-height:normal;font-family:Menlo,'DejaVu Sans Mono',consolas,'Courier New',monospace\"><span style=\"font-style: italic\">Matriz após eliminação do elemento (2,3) </span>\n",
       "                                         \n",
       " <span style=\"font-weight: bold\"> x_1     </span> <span style=\"font-weight: bold\"> x_2     </span> <span style=\"font-weight: bold\"> x_3     </span> <span style=\"font-weight: bold\"> b       </span> \n",
       " ─────────────────────────────────────── \n",
       " <span style=\"color: #008080; text-decoration-color: #008080\"> 1.00000 </span> <span style=\"color: #008080; text-decoration-color: #008080\"> 0.00000 </span> <span style=\"color: #008080; text-decoration-color: #008080\"> 0.00000 </span> <span style=\"color: #008000; text-decoration-color: #008000\"> 0.64133 </span> \n",
       " <span style=\"color: #008080; text-decoration-color: #008080\"> 0.00000 </span> <span style=\"color: #008080; text-decoration-color: #008080\"> 1.00000 </span> <span style=\"color: #008080; text-decoration-color: #008080\"> 0.00000 </span> <span style=\"color: #008000; text-decoration-color: #008000\"> 0.35867 </span> \n",
       " <span style=\"color: #008080; text-decoration-color: #008080\"> 0.00000 </span> <span style=\"color: #008080; text-decoration-color: #008080\"> 0.00000 </span> <span style=\"color: #008080; text-decoration-color: #008080\"> 1.00000 </span> <span style=\"color: #008000; text-decoration-color: #008000\"> 3.58668 </span> \n",
       "                                         \n",
       "</pre>\n"
      ],
      "text/plain": [
       "\u001b[3mMatriz após eliminação do elemento (2,3) \u001b[0m\n",
       "                                         \n",
       " \u001b[1m \u001b[0m\u001b[1mx_1    \u001b[0m\u001b[1m \u001b[0m \u001b[1m \u001b[0m\u001b[1mx_2    \u001b[0m\u001b[1m \u001b[0m \u001b[1m \u001b[0m\u001b[1mx_3    \u001b[0m\u001b[1m \u001b[0m \u001b[1m \u001b[0m\u001b[1mb      \u001b[0m\u001b[1m \u001b[0m \n",
       " ─────────────────────────────────────── \n",
       " \u001b[36m \u001b[0m\u001b[36m1.00000\u001b[0m\u001b[36m \u001b[0m \u001b[36m \u001b[0m\u001b[36m0.00000\u001b[0m\u001b[36m \u001b[0m \u001b[36m \u001b[0m\u001b[36m0.00000\u001b[0m\u001b[36m \u001b[0m \u001b[32m \u001b[0m\u001b[32m0.64133\u001b[0m\u001b[32m \u001b[0m \n",
       " \u001b[36m \u001b[0m\u001b[36m0.00000\u001b[0m\u001b[36m \u001b[0m \u001b[36m \u001b[0m\u001b[36m1.00000\u001b[0m\u001b[36m \u001b[0m \u001b[36m \u001b[0m\u001b[36m0.00000\u001b[0m\u001b[36m \u001b[0m \u001b[32m \u001b[0m\u001b[32m0.35867\u001b[0m\u001b[32m \u001b[0m \n",
       " \u001b[36m \u001b[0m\u001b[36m0.00000\u001b[0m\u001b[36m \u001b[0m \u001b[36m \u001b[0m\u001b[36m0.00000\u001b[0m\u001b[36m \u001b[0m \u001b[36m \u001b[0m\u001b[36m1.00000\u001b[0m\u001b[36m \u001b[0m \u001b[32m \u001b[0m\u001b[32m3.58668\u001b[0m\u001b[32m \u001b[0m \n",
       "                                         \n"
      ]
     },
     "metadata": {},
     "output_type": "display_data"
    },
    {
     "data": {
      "text/html": [
       "<pre style=\"white-space:pre;overflow-x:auto;line-height:normal;font-family:Menlo,'DejaVu Sans Mono',consolas,'Courier New',monospace\"><span style=\"color: #008000; text-decoration-color: #008000\">╭─────────────────────────────────────────────────── Resultado ───────────────────────────────────────────────────╮</span>\n",
       "<span style=\"color: #008000; text-decoration-color: #008000\">│</span> <span style=\"color: #008000; text-decoration-color: #008000; font-weight: bold\">✓ Solução encontrada com 10 operações elementares</span>                                                               <span style=\"color: #008000; text-decoration-color: #008000\">│</span>\n",
       "<span style=\"color: #008000; text-decoration-color: #008000\">╰─────────────────────────────────────────────────────────────────────────────────────────────────────────────────╯</span>\n",
       "</pre>\n"
      ],
      "text/plain": [
       "\u001b[32m╭─\u001b[0m\u001b[32m──────────────────────────────────────────────────\u001b[0m\u001b[32m Resultado \u001b[0m\u001b[32m──────────────────────────────────────────────────\u001b[0m\u001b[32m─╮\u001b[0m\n",
       "\u001b[32m│\u001b[0m \u001b[1;32m✓ Solução encontrada com 10 operações elementares\u001b[0m                                                               \u001b[32m│\u001b[0m\n",
       "\u001b[32m╰─────────────────────────────────────────────────────────────────────────────────────────────────────────────────╯\u001b[0m\n"
      ]
     },
     "metadata": {},
     "output_type": "display_data"
    },
    {
     "data": {
      "text/html": [
       "<pre style=\"white-space:pre;overflow-x:auto;line-height:normal;font-family:Menlo,'DejaVu Sans Mono',consolas,'Courier New',monospace\"><span style=\"font-weight: bold\">Permutação final das variáveis: [</span><span style=\"color: #008080; text-decoration-color: #008080; font-weight: bold\">3</span><span style=\"font-weight: bold\">, </span><span style=\"color: #008080; text-decoration-color: #008080; font-weight: bold\">2</span><span style=\"font-weight: bold\">, </span><span style=\"color: #008080; text-decoration-color: #008080; font-weight: bold\">1</span><span style=\"font-weight: bold\">]</span>\n",
       "</pre>\n"
      ],
      "text/plain": [
       "\u001b[1mPermutação final das variáveis: \u001b[0m\u001b[1m[\u001b[0m\u001b[1;36m3\u001b[0m\u001b[1m, \u001b[0m\u001b[1;36m2\u001b[0m\u001b[1m, \u001b[0m\u001b[1;36m1\u001b[0m\u001b[1m]\u001b[0m\n"
      ]
     },
     "metadata": {},
     "output_type": "display_data"
    },
    {
     "data": {
      "text/html": [
       "<pre style=\"white-space:pre;overflow-x:auto;line-height:normal;font-family:Menlo,'DejaVu Sans Mono',consolas,'Courier New',monospace\"><span style=\"font-style: italic\">Verificação da Solução</span>\n",
       "<span style=\"font-style: italic\">     - Sistema 2      </span>\n",
       "┏━━━━━━━━━━┳━━━━━━━━━┓\n",
       "┃<span style=\"font-weight: bold\"> Variável </span>┃<span style=\"font-weight: bold\"> Valor   </span>┃\n",
       "┡━━━━━━━━━━╇━━━━━━━━━┩\n",
       "│<span style=\"color: #008080; text-decoration-color: #008080\"> x_1      </span>│<span style=\"color: #008000; text-decoration-color: #008000\"> 3.58668 </span>│\n",
       "│<span style=\"color: #008080; text-decoration-color: #008080\"> x_2      </span>│<span style=\"color: #008000; text-decoration-color: #008000\"> 0.35867 </span>│\n",
       "│<span style=\"color: #008080; text-decoration-color: #008080\"> x_3      </span>│<span style=\"color: #008000; text-decoration-color: #008000\"> 0.64133 </span>│\n",
       "└──────────┴─────────┘\n",
       "</pre>\n"
      ],
      "text/plain": [
       "\u001b[3mVerificação da Solução\u001b[0m\n",
       "\u001b[3m     - Sistema 2      \u001b[0m\n",
       "┏━━━━━━━━━━┳━━━━━━━━━┓\n",
       "┃\u001b[1m \u001b[0m\u001b[1mVariável\u001b[0m\u001b[1m \u001b[0m┃\u001b[1m \u001b[0m\u001b[1mValor  \u001b[0m\u001b[1m \u001b[0m┃\n",
       "┡━━━━━━━━━━╇━━━━━━━━━┩\n",
       "│\u001b[36m \u001b[0m\u001b[36mx_1     \u001b[0m\u001b[36m \u001b[0m│\u001b[32m \u001b[0m\u001b[32m3.58668\u001b[0m\u001b[32m \u001b[0m│\n",
       "│\u001b[36m \u001b[0m\u001b[36mx_2     \u001b[0m\u001b[36m \u001b[0m│\u001b[32m \u001b[0m\u001b[32m0.35867\u001b[0m\u001b[32m \u001b[0m│\n",
       "│\u001b[36m \u001b[0m\u001b[36mx_3     \u001b[0m\u001b[36m \u001b[0m│\u001b[32m \u001b[0m\u001b[32m0.64133\u001b[0m\u001b[32m \u001b[0m│\n",
       "└──────────┴─────────┘\n"
      ]
     },
     "metadata": {},
     "output_type": "display_data"
    },
    {
     "data": {
      "text/html": [
       "<pre style=\"white-space:pre;overflow-x:auto;line-height:normal;font-family:Menlo,'DejaVu Sans Mono',consolas,'Courier New',monospace\"><span style=\"font-style: italic\">        Verificação A*x = b        </span>\n",
       "┏━━━━━━━━━━┳━━━━━━━━━━┳━━━━━━━━━━━┓\n",
       "┃<span style=\"font-weight: bold\"> A*x      </span>┃<span style=\"font-weight: bold\"> b        </span>┃<span style=\"font-weight: bold\"> Diferença </span>┃\n",
       "┡━━━━━━━━━━╇━━━━━━━━━━╇━━━━━━━━━━━┩\n",
       "│<span style=\"color: #800080; text-decoration-color: #800080\"> 59.17000 </span>│<span style=\"color: #000080; text-decoration-color: #000080\"> 59.17000 </span>│<span style=\"color: #800000; text-decoration-color: #800000\"> 0.00000   </span>│\n",
       "│<span style=\"color: #800080; text-decoration-color: #800080\"> 46.78000 </span>│<span style=\"color: #000080; text-decoration-color: #000080\"> 46.78000 </span>│<span style=\"color: #800000; text-decoration-color: #800000\"> 0.00000   </span>│\n",
       "│<span style=\"color: #800080; text-decoration-color: #800080\"> 49.31000 </span>│<span style=\"color: #000080; text-decoration-color: #000080\"> 49.31000 </span>│<span style=\"color: #800000; text-decoration-color: #800000\"> 0.00000   </span>│\n",
       "└──────────┴──────────┴───────────┘\n",
       "</pre>\n"
      ],
      "text/plain": [
       "\u001b[3m        Verificação A*x = b        \u001b[0m\n",
       "┏━━━━━━━━━━┳━━━━━━━━━━┳━━━━━━━━━━━┓\n",
       "┃\u001b[1m \u001b[0m\u001b[1mA*x     \u001b[0m\u001b[1m \u001b[0m┃\u001b[1m \u001b[0m\u001b[1mb       \u001b[0m\u001b[1m \u001b[0m┃\u001b[1m \u001b[0m\u001b[1mDiferença\u001b[0m\u001b[1m \u001b[0m┃\n",
       "┡━━━━━━━━━━╇━━━━━━━━━━╇━━━━━━━━━━━┩\n",
       "│\u001b[35m \u001b[0m\u001b[35m59.17000\u001b[0m\u001b[35m \u001b[0m│\u001b[34m \u001b[0m\u001b[34m59.17000\u001b[0m\u001b[34m \u001b[0m│\u001b[31m \u001b[0m\u001b[31m0.00000  \u001b[0m\u001b[31m \u001b[0m│\n",
       "│\u001b[35m \u001b[0m\u001b[35m46.78000\u001b[0m\u001b[35m \u001b[0m│\u001b[34m \u001b[0m\u001b[34m46.78000\u001b[0m\u001b[34m \u001b[0m│\u001b[31m \u001b[0m\u001b[31m0.00000  \u001b[0m\u001b[31m \u001b[0m│\n",
       "│\u001b[35m \u001b[0m\u001b[35m49.31000\u001b[0m\u001b[35m \u001b[0m│\u001b[34m \u001b[0m\u001b[34m49.31000\u001b[0m\u001b[34m \u001b[0m│\u001b[31m \u001b[0m\u001b[31m0.00000  \u001b[0m\u001b[31m \u001b[0m│\n",
       "└──────────┴──────────┴───────────┘\n"
      ]
     },
     "metadata": {},
     "output_type": "display_data"
    },
    {
     "data": {
      "text/html": [
       "<pre style=\"white-space:pre;overflow-x:auto;line-height:normal;font-family:Menlo,'DejaVu Sans Mono',consolas,'Courier New',monospace\">Norma do resíduo ||A*x - b|| = <span style=\"color: #008080; text-decoration-color: #008080; font-weight: bold\">0.00000</span>\n",
       "</pre>\n"
      ],
      "text/plain": [
       "Norma do resíduo ||A*x - b|| = \u001b[1;36m0.00000\u001b[0m\n"
      ]
     },
     "metadata": {},
     "output_type": "display_data"
    },
    {
     "data": {
      "text/html": [
       "<pre style=\"white-space:pre;overflow-x:auto;line-height:normal;font-family:Menlo,'DejaVu Sans Mono',consolas,'Courier New',monospace\"><span style=\"color: #008000; text-decoration-color: #008000; font-weight: bold\">✓ A solução é precisa!</span>\n",
       "</pre>\n"
      ],
      "text/plain": [
       "\u001b[1;32m✓ A solução é precisa!\u001b[0m\n"
      ]
     },
     "metadata": {},
     "output_type": "display_data"
    },
    {
     "data": {
      "text/html": [
       "<pre style=\"white-space:pre;overflow-x:auto;line-height:normal;font-family:Menlo,'DejaVu Sans Mono',consolas,'Courier New',monospace\"><span style=\"font-style: italic\">                Resultados da Solução                 </span>\n",
       "┏━━━━━━━━━━━━━━━━━━━━━━━━━━━━━━━━━┳━━━━━━━━━━━━━━━━━━┓\n",
       "┃<span style=\"font-weight: bold\"> Parâmetro                       </span>┃<span style=\"font-weight: bold\"> Valor            </span>┃\n",
       "┡━━━━━━━━━━━━━━━━━━━━━━━━━━━━━━━━━╇━━━━━━━━━━━━━━━━━━┩\n",
       "│<span style=\"color: #008080; text-decoration-color: #008080\"> Número de equações              </span>│<span style=\"color: #008000; text-decoration-color: #008000\"> 3                </span>│\n",
       "│<span style=\"color: #008080; text-decoration-color: #008080\"> Número de operações elementares </span>│<span style=\"color: #008000; text-decoration-color: #008000\"> 10               </span>│\n",
       "│<span style=\"color: #008080; text-decoration-color: #008080\"> Tempo de execução               </span>│<span style=\"color: #008000; text-decoration-color: #008000\"> 0.05074 segundos </span>│\n",
       "│<span style=\"color: #008080; text-decoration-color: #008080\"> Permutação final das variáveis  </span>│<span style=\"color: #008000; text-decoration-color: #008000\"> [3, 2, 1]        </span>│\n",
       "└─────────────────────────────────┴──────────────────┘\n",
       "</pre>\n"
      ],
      "text/plain": [
       "\u001b[3m                Resultados da Solução                 \u001b[0m\n",
       "┏━━━━━━━━━━━━━━━━━━━━━━━━━━━━━━━━━┳━━━━━━━━━━━━━━━━━━┓\n",
       "┃\u001b[1m \u001b[0m\u001b[1mParâmetro                      \u001b[0m\u001b[1m \u001b[0m┃\u001b[1m \u001b[0m\u001b[1mValor           \u001b[0m\u001b[1m \u001b[0m┃\n",
       "┡━━━━━━━━━━━━━━━━━━━━━━━━━━━━━━━━━╇━━━━━━━━━━━━━━━━━━┩\n",
       "│\u001b[36m \u001b[0m\u001b[36mNúmero de equações             \u001b[0m\u001b[36m \u001b[0m│\u001b[32m \u001b[0m\u001b[32m3               \u001b[0m\u001b[32m \u001b[0m│\n",
       "│\u001b[36m \u001b[0m\u001b[36mNúmero de operações elementares\u001b[0m\u001b[36m \u001b[0m│\u001b[32m \u001b[0m\u001b[32m10              \u001b[0m\u001b[32m \u001b[0m│\n",
       "│\u001b[36m \u001b[0m\u001b[36mTempo de execução              \u001b[0m\u001b[36m \u001b[0m│\u001b[32m \u001b[0m\u001b[32m0.05074 segundos\u001b[0m\u001b[32m \u001b[0m│\n",
       "│\u001b[36m \u001b[0m\u001b[36mPermutação final das variáveis \u001b[0m\u001b[36m \u001b[0m│\u001b[32m \u001b[0m\u001b[32m[3, 2, 1]       \u001b[0m\u001b[32m \u001b[0m│\n",
       "└─────────────────────────────────┴──────────────────┘\n"
      ]
     },
     "metadata": {},
     "output_type": "display_data"
    },
    {
     "data": {
      "text/html": [
       "<pre style=\"white-space:pre;overflow-x:auto;line-height:normal;font-family:Menlo,'DejaVu Sans Mono',consolas,'Courier New',monospace\"><span style=\"font-style: italic\">  Solução do Sistema  </span>\n",
       "┏━━━━━━━━━━┳━━━━━━━━━┓\n",
       "┃<span style=\"font-weight: bold\"> Variável </span>┃<span style=\"font-weight: bold\"> Valor   </span>┃\n",
       "┡━━━━━━━━━━╇━━━━━━━━━┩\n",
       "│<span style=\"color: #008080; text-decoration-color: #008080\"> x_1      </span>│<span style=\"color: #008000; text-decoration-color: #008000\"> 3.58668 </span>│\n",
       "│<span style=\"color: #008080; text-decoration-color: #008080\"> x_2      </span>│<span style=\"color: #008000; text-decoration-color: #008000\"> 0.35867 </span>│\n",
       "│<span style=\"color: #008080; text-decoration-color: #008080\"> x_3      </span>│<span style=\"color: #008000; text-decoration-color: #008000\"> 0.64133 </span>│\n",
       "└──────────┴─────────┘\n",
       "</pre>\n"
      ],
      "text/plain": [
       "\u001b[3m  Solução do Sistema  \u001b[0m\n",
       "┏━━━━━━━━━━┳━━━━━━━━━┓\n",
       "┃\u001b[1m \u001b[0m\u001b[1mVariável\u001b[0m\u001b[1m \u001b[0m┃\u001b[1m \u001b[0m\u001b[1mValor  \u001b[0m\u001b[1m \u001b[0m┃\n",
       "┡━━━━━━━━━━╇━━━━━━━━━┩\n",
       "│\u001b[36m \u001b[0m\u001b[36mx_1     \u001b[0m\u001b[36m \u001b[0m│\u001b[32m \u001b[0m\u001b[32m3.58668\u001b[0m\u001b[32m \u001b[0m│\n",
       "│\u001b[36m \u001b[0m\u001b[36mx_2     \u001b[0m\u001b[36m \u001b[0m│\u001b[32m \u001b[0m\u001b[32m0.35867\u001b[0m\u001b[32m \u001b[0m│\n",
       "│\u001b[36m \u001b[0m\u001b[36mx_3     \u001b[0m\u001b[36m \u001b[0m│\u001b[32m \u001b[0m\u001b[32m0.64133\u001b[0m\u001b[32m \u001b[0m│\n",
       "└──────────┴─────────┘\n"
      ]
     },
     "metadata": {},
     "output_type": "display_data"
    },
    {
     "data": {
      "text/html": [
       "<pre style=\"white-space:pre;overflow-x:auto;line-height:normal;font-family:Menlo,'DejaVu Sans Mono',consolas,'Courier New',monospace\"><span style=\"font-style: italic\">              Verificação da Solução               </span>\n",
       "┏━━━━━━━━━━━┳━━━━━━━━━━┳━━━━━━━━━━┳━━━━━━━━━━━━━━━┓\n",
       "┃<span style=\"font-weight: bold\"> Equação   </span>┃<span style=\"font-weight: bold\"> A*x      </span>┃<span style=\"font-weight: bold\"> b        </span>┃<span style=\"font-weight: bold\"> Erro Absoluto </span>┃\n",
       "┡━━━━━━━━━━━╇━━━━━━━━━━╇━━━━━━━━━━╇━━━━━━━━━━━━━━━┩\n",
       "│<span style=\"color: #008080; text-decoration-color: #008080\"> Equação 1 </span>│<span style=\"color: #800080; text-decoration-color: #800080\"> 59.17000 </span>│<span style=\"color: #000080; text-decoration-color: #000080\"> 59.17000 </span>│<span style=\"color: #800000; text-decoration-color: #800000\"> 0.00000       </span>│\n",
       "│<span style=\"color: #008080; text-decoration-color: #008080\"> Equação 2 </span>│<span style=\"color: #800080; text-decoration-color: #800080\"> 46.78000 </span>│<span style=\"color: #000080; text-decoration-color: #000080\"> 46.78000 </span>│<span style=\"color: #800000; text-decoration-color: #800000\"> 0.00000       </span>│\n",
       "│<span style=\"color: #008080; text-decoration-color: #008080\"> Equação 3 </span>│<span style=\"color: #800080; text-decoration-color: #800080\"> 49.31000 </span>│<span style=\"color: #000080; text-decoration-color: #000080\"> 49.31000 </span>│<span style=\"color: #800000; text-decoration-color: #800000\"> 0.00000       </span>│\n",
       "└───────────┴──────────┴──────────┴───────────────┘\n",
       "</pre>\n"
      ],
      "text/plain": [
       "\u001b[3m              Verificação da Solução               \u001b[0m\n",
       "┏━━━━━━━━━━━┳━━━━━━━━━━┳━━━━━━━━━━┳━━━━━━━━━━━━━━━┓\n",
       "┃\u001b[1m \u001b[0m\u001b[1mEquação  \u001b[0m\u001b[1m \u001b[0m┃\u001b[1m \u001b[0m\u001b[1mA*x     \u001b[0m\u001b[1m \u001b[0m┃\u001b[1m \u001b[0m\u001b[1mb       \u001b[0m\u001b[1m \u001b[0m┃\u001b[1m \u001b[0m\u001b[1mErro Absoluto\u001b[0m\u001b[1m \u001b[0m┃\n",
       "┡━━━━━━━━━━━╇━━━━━━━━━━╇━━━━━━━━━━╇━━━━━━━━━━━━━━━┩\n",
       "│\u001b[36m \u001b[0m\u001b[36mEquação 1\u001b[0m\u001b[36m \u001b[0m│\u001b[35m \u001b[0m\u001b[35m59.17000\u001b[0m\u001b[35m \u001b[0m│\u001b[34m \u001b[0m\u001b[34m59.17000\u001b[0m\u001b[34m \u001b[0m│\u001b[31m \u001b[0m\u001b[31m0.00000      \u001b[0m\u001b[31m \u001b[0m│\n",
       "│\u001b[36m \u001b[0m\u001b[36mEquação 2\u001b[0m\u001b[36m \u001b[0m│\u001b[35m \u001b[0m\u001b[35m46.78000\u001b[0m\u001b[35m \u001b[0m│\u001b[34m \u001b[0m\u001b[34m46.78000\u001b[0m\u001b[34m \u001b[0m│\u001b[31m \u001b[0m\u001b[31m0.00000      \u001b[0m\u001b[31m \u001b[0m│\n",
       "│\u001b[36m \u001b[0m\u001b[36mEquação 3\u001b[0m\u001b[36m \u001b[0m│\u001b[35m \u001b[0m\u001b[35m49.31000\u001b[0m\u001b[35m \u001b[0m│\u001b[34m \u001b[0m\u001b[34m49.31000\u001b[0m\u001b[34m \u001b[0m│\u001b[31m \u001b[0m\u001b[31m0.00000      \u001b[0m\u001b[31m \u001b[0m│\n",
       "└───────────┴──────────┴──────────┴───────────────┘\n"
      ]
     },
     "metadata": {},
     "output_type": "display_data"
    },
    {
     "data": {
      "text/html": [
       "<pre style=\"white-space:pre;overflow-x:auto;line-height:normal;font-family:Menlo,'DejaVu Sans Mono',consolas,'Courier New',monospace\"><span style=\"color: #008000; text-decoration-color: #008000\">╭─────────────────────────────────────────────────── Conclusão ───────────────────────────────────────────────────╮</span>\n",
       "<span style=\"color: #008000; text-decoration-color: #008000\">│</span> <span style=\"color: #008000; text-decoration-color: #008000; font-weight: bold\">✓ Sistema resolvido com sucesso!</span>                                                                                <span style=\"color: #008000; text-decoration-color: #008000\">│</span>\n",
       "<span style=\"color: #008000; text-decoration-color: #008000\">│</span> Resíduo: 0.00000                                                                                                <span style=\"color: #008000; text-decoration-color: #008000\">│</span>\n",
       "<span style=\"color: #008000; text-decoration-color: #008000\">│</span> Erro relativo: 0.00000                                                                                          <span style=\"color: #008000; text-decoration-color: #008000\">│</span>\n",
       "<span style=\"color: #008000; text-decoration-color: #008000\">╰─────────────────────────────────────────────────────────────────────────────────────────────────────────────────╯</span>\n",
       "</pre>\n"
      ],
      "text/plain": [
       "\u001b[32m╭─\u001b[0m\u001b[32m──────────────────────────────────────────────────\u001b[0m\u001b[32m Conclusão \u001b[0m\u001b[32m──────────────────────────────────────────────────\u001b[0m\u001b[32m─╮\u001b[0m\n",
       "\u001b[32m│\u001b[0m \u001b[1;32m✓ Sistema resolvido com sucesso!\u001b[0m                                                                                \u001b[32m│\u001b[0m\n",
       "\u001b[32m│\u001b[0m Resíduo: 0.00000                                                                                                \u001b[32m│\u001b[0m\n",
       "\u001b[32m│\u001b[0m Erro relativo: 0.00000                                                                                          \u001b[32m│\u001b[0m\n",
       "\u001b[32m╰─────────────────────────────────────────────────────────────────────────────────────────────────────────────────╯\u001b[0m\n"
      ]
     },
     "metadata": {},
     "output_type": "display_data"
    },
    {
     "data": {
      "text/html": [
       "<pre style=\"white-space:pre;overflow-x:auto;line-height:normal;font-family:Menlo,'DejaVu Sans Mono',consolas,'Courier New',monospace\"><span style=\"background-color: #272822\">                                                                                                                   </span>\n",
       "<span style=\"background-color: #272822\"> </span><span style=\"color: #f8f8f2; text-decoration-color: #f8f8f2; background-color: #272822\">## Sugestão para anotação no relatório:</span><span style=\"background-color: #272822\">                                                                           </span>\n",
       "<span style=\"background-color: #272822\">                                                                                                                   </span>\n",
       "<span style=\"background-color: #272822\"> </span><span style=\"color: #f8f8f2; text-decoration-color: #f8f8f2; background-color: #272822\">### Método Utilizado</span><span style=\"background-color: #272822\">                                                                                              </span>\n",
       "<span style=\"background-color: #272822\"> </span><span style=\"color: #f8f8f2; text-decoration-color: #f8f8f2; background-color: #272822\">O sistema foi resolvido utilizando o método direto de Gauss-Jordan com pivotação completa.</span><span style=\"background-color: #272822\">                        </span>\n",
       "<span style=\"background-color: #272822\">                                                                                                                   </span>\n",
       "<span style=\"background-color: #272822\"> </span><span style=\"color: #f8f8f2; text-decoration-color: #f8f8f2; background-color: #272822\">### Parâmetros da Solução</span><span style=\"background-color: #272822\">                                                                                         </span>\n",
       "<span style=\"background-color: #272822\"> </span><span style=\"color: #f8f8f2; text-decoration-color: #f8f8f2; background-color: #272822\">- **Número de operações elementares:** 10</span><span style=\"background-color: #272822\">                                                                         </span>\n",
       "<span style=\"background-color: #272822\"> </span><span style=\"color: #f8f8f2; text-decoration-color: #f8f8f2; background-color: #272822\">- **Tempo de processamento:** 0.05074 s</span><span style=\"background-color: #272822\">                                                                           </span>\n",
       "<span style=\"background-color: #272822\"> </span><span style=\"color: #f8f8f2; text-decoration-color: #f8f8f2; background-color: #272822\">- **Permutação final das variáveis:** [3, 2, 1]</span><span style=\"background-color: #272822\">                                                                   </span>\n",
       "<span style=\"background-color: #272822\">                                                                                                                   </span>\n",
       "<span style=\"background-color: #272822\"> </span><span style=\"color: #f8f8f2; text-decoration-color: #f8f8f2; background-color: #272822\">### Solução Encontrada</span><span style=\"background-color: #272822\">                                                                                            </span>\n",
       "<span style=\"background-color: #272822\"> </span><span style=\"color: #f8f8f2; text-decoration-color: #f8f8f2; background-color: #272822\">x_1 = 3.58668, x_2 = 0.35867, x_3 = 0.64133</span><span style=\"background-color: #272822\">                                                                       </span>\n",
       "<span style=\"background-color: #272822\">                                                                                                                   </span>\n",
       "<span style=\"background-color: #272822\"> </span><span style=\"color: #f8f8f2; text-decoration-color: #f8f8f2; background-color: #272822\">### Verificação</span><span style=\"background-color: #272822\">                                                                                                   </span>\n",
       "<span style=\"background-color: #272822\"> </span><span style=\"color: #f8f8f2; text-decoration-color: #f8f8f2; background-color: #272822\">O resíduo da solução (||A*x - b||) foi 0.00000, com erro relativo de 0.00000.</span><span style=\"background-color: #272822\">                                     </span>\n",
       "<span style=\"background-color: #272822\">                                                                                                                   </span>\n",
       "<span style=\"background-color: #272822\"> </span><span style=\"color: #f8f8f2; text-decoration-color: #f8f8f2; background-color: #272822\">### Conclusão</span><span style=\"background-color: #272822\">                                                                                                     </span>\n",
       "<span style=\"background-color: #272822\"> </span><span style=\"color: #f8f8f2; text-decoration-color: #f8f8f2; background-color: #272822\">A solução encontrada é exata e confiável.</span><span style=\"background-color: #272822\">                                                                         </span>\n",
       "<span style=\"background-color: #272822\">                                                                                                                   </span>\n",
       "</pre>\n"
      ],
      "text/plain": [
       "\u001b[48;2;39;40;34m                                                                                                                   \u001b[0m\n",
       "\u001b[48;2;39;40;34m \u001b[0m\u001b[38;2;248;248;242;48;2;39;40;34m## Sugestão para anotação no relatório:\u001b[0m\u001b[48;2;39;40;34m                                                                          \u001b[0m\u001b[48;2;39;40;34m \u001b[0m\n",
       "\u001b[48;2;39;40;34m \u001b[0m\u001b[48;2;39;40;34m                                                                                                                 \u001b[0m\u001b[48;2;39;40;34m \u001b[0m\n",
       "\u001b[48;2;39;40;34m \u001b[0m\u001b[38;2;248;248;242;48;2;39;40;34m### Método Utilizado\u001b[0m\u001b[48;2;39;40;34m                                                                                             \u001b[0m\u001b[48;2;39;40;34m \u001b[0m\n",
       "\u001b[48;2;39;40;34m \u001b[0m\u001b[38;2;248;248;242;48;2;39;40;34mO sistema foi resolvido utilizando o método direto de Gauss-Jordan com pivotação completa.\u001b[0m\u001b[48;2;39;40;34m                       \u001b[0m\u001b[48;2;39;40;34m \u001b[0m\n",
       "\u001b[48;2;39;40;34m \u001b[0m\u001b[48;2;39;40;34m                                                                                                                 \u001b[0m\u001b[48;2;39;40;34m \u001b[0m\n",
       "\u001b[48;2;39;40;34m \u001b[0m\u001b[38;2;248;248;242;48;2;39;40;34m### Parâmetros da Solução\u001b[0m\u001b[48;2;39;40;34m                                                                                        \u001b[0m\u001b[48;2;39;40;34m \u001b[0m\n",
       "\u001b[48;2;39;40;34m \u001b[0m\u001b[38;2;248;248;242;48;2;39;40;34m- **Número de operações elementares:** 10\u001b[0m\u001b[48;2;39;40;34m                                                                        \u001b[0m\u001b[48;2;39;40;34m \u001b[0m\n",
       "\u001b[48;2;39;40;34m \u001b[0m\u001b[38;2;248;248;242;48;2;39;40;34m- **Tempo de processamento:** 0.05074 s\u001b[0m\u001b[48;2;39;40;34m                                                                          \u001b[0m\u001b[48;2;39;40;34m \u001b[0m\n",
       "\u001b[48;2;39;40;34m \u001b[0m\u001b[38;2;248;248;242;48;2;39;40;34m- **Permutação final das variáveis:** [3, 2, 1]\u001b[0m\u001b[48;2;39;40;34m                                                                  \u001b[0m\u001b[48;2;39;40;34m \u001b[0m\n",
       "\u001b[48;2;39;40;34m \u001b[0m\u001b[48;2;39;40;34m                                                                                                                 \u001b[0m\u001b[48;2;39;40;34m \u001b[0m\n",
       "\u001b[48;2;39;40;34m \u001b[0m\u001b[38;2;248;248;242;48;2;39;40;34m### Solução Encontrada\u001b[0m\u001b[48;2;39;40;34m                                                                                           \u001b[0m\u001b[48;2;39;40;34m \u001b[0m\n",
       "\u001b[48;2;39;40;34m \u001b[0m\u001b[38;2;248;248;242;48;2;39;40;34mx_1 = 3.58668, x_2 = 0.35867, x_3 = 0.64133\u001b[0m\u001b[48;2;39;40;34m                                                                      \u001b[0m\u001b[48;2;39;40;34m \u001b[0m\n",
       "\u001b[48;2;39;40;34m \u001b[0m\u001b[48;2;39;40;34m                                                                                                                 \u001b[0m\u001b[48;2;39;40;34m \u001b[0m\n",
       "\u001b[48;2;39;40;34m \u001b[0m\u001b[38;2;248;248;242;48;2;39;40;34m### Verificação\u001b[0m\u001b[48;2;39;40;34m                                                                                                  \u001b[0m\u001b[48;2;39;40;34m \u001b[0m\n",
       "\u001b[48;2;39;40;34m \u001b[0m\u001b[38;2;248;248;242;48;2;39;40;34mO resíduo da solução (||A*x - b||) foi 0.00000, com erro relativo de 0.00000.\u001b[0m\u001b[48;2;39;40;34m                                    \u001b[0m\u001b[48;2;39;40;34m \u001b[0m\n",
       "\u001b[48;2;39;40;34m \u001b[0m\u001b[48;2;39;40;34m                                                                                                                 \u001b[0m\u001b[48;2;39;40;34m \u001b[0m\n",
       "\u001b[48;2;39;40;34m \u001b[0m\u001b[38;2;248;248;242;48;2;39;40;34m### Conclusão\u001b[0m\u001b[48;2;39;40;34m                                                                                                    \u001b[0m\u001b[48;2;39;40;34m \u001b[0m\n",
       "\u001b[48;2;39;40;34m \u001b[0m\u001b[38;2;248;248;242;48;2;39;40;34mA solução encontrada é exata e confiável.\u001b[0m\u001b[48;2;39;40;34m                                                                        \u001b[0m\u001b[48;2;39;40;34m \u001b[0m\n",
       "\u001b[48;2;39;40;34m                                                                                                                   \u001b[0m\n"
      ]
     },
     "metadata": {},
     "output_type": "display_data"
    },
    {
     "data": {
      "image/png": "[encoded data removed]",
      "text/plain": [
       "<Figure size 1000x600 with 1 Axes>"
      ]
     },
     "metadata": {},
     "output_type": "display_data"
    },
    {
     "data": {
      "text/html": [
       "<pre style=\"white-space:pre;overflow-x:auto;line-height:normal;font-family:Menlo,'DejaVu Sans Mono',consolas,'Courier New',monospace\">\n",
       "<span style=\"font-weight: bold\">Exemplo de Sistema Linear com Primeira Entrada Zero:</span>\n",
       "</pre>\n"
      ],
      "text/plain": [
       "\n",
       "\u001b[1mExemplo de Sistema Linear com Primeira Entrada Zero:\u001b[0m\n"
      ]
     },
     "metadata": {},
     "output_type": "display_data"
    },
    {
     "data": {
      "text/html": [
       "<pre style=\"white-space:pre;overflow-x:auto;line-height:normal;font-family:Menlo,'DejaVu Sans Mono',consolas,'Courier New',monospace\"><span style=\"color: #00ff00; text-decoration-color: #00ff00\">──────────────────────────────────── </span><span style=\"color: #008080; text-decoration-color: #008080; font-weight: bold\">Sistema Linear com Primeira Entrada Zero </span><span style=\"color: #00ff00; text-decoration-color: #00ff00\"> ────────────────────────────────────</span>\n",
       "</pre>\n"
      ],
      "text/plain": [
       "\u001b[92m──────────────────────────────────── \u001b[0m\u001b[1;36mSistema Linear com Primeira Entrada Zero \u001b[0m\u001b[92m ────────────────────────────────────\u001b[0m\n"
      ]
     },
     "metadata": {},
     "output_type": "display_data"
    },
    {
     "data": {
      "text/html": [
       "<pre style=\"white-space:pre;overflow-x:auto;line-height:normal;font-family:Menlo,'DejaVu Sans Mono',consolas,'Courier New',monospace\">\n",
       "                                     <span style=\"font-weight: bold; text-decoration: underline\">Sistema Linear com Primeira Entrada Zero</span>                                      \n",
       "\n",
       "Equação 1: 0.00000x_1 + 2.00000x_2 + 3.00000x_3 = 5.00000                                                          \n",
       "\n",
       "Equação 2: 4.00000x_1 + 5.00000x_2 + 6.00000x_3 = 6.00000                                                          \n",
       "\n",
       "Equação 3: 7.00000x_1 + 8.00000x_2 + 9.00000x_3 = 7.00000                                                          \n",
       "</pre>\n"
      ],
      "text/plain": [
       "\n",
       "                                     \u001b[1;4mSistema Linear com Primeira Entrada Zero\u001b[0m                                      \n",
       "\n",
       "Equação 1: 0.00000x_1 + 2.00000x_2 + 3.00000x_3 = 5.00000                                                          \n",
       "\n",
       "Equação 2: 4.00000x_1 + 5.00000x_2 + 6.00000x_3 = 6.00000                                                          \n",
       "\n",
       "Equação 3: 7.00000x_1 + 8.00000x_2 + 9.00000x_3 = 7.00000                                                          \n"
      ]
     },
     "metadata": {},
     "output_type": "display_data"
    },
    {
     "data": {
      "text/html": [
       "<pre style=\"white-space:pre;overflow-x:auto;line-height:normal;font-family:Menlo,'DejaVu Sans Mono',consolas,'Courier New',monospace\">\n",
       "<span style=\"color: #008080; text-decoration-color: #008080; font-weight: bold\">Executando o Método de Gauss-Jordan com Pivotação Completa...</span>\n",
       "</pre>\n"
      ],
      "text/plain": [
       "\n",
       "\u001b[1;36mExecutando o Método de Gauss-Jordan com Pivotação Completa\u001b[0m\u001b[1;36m...\u001b[0m\n"
      ]
     },
     "metadata": {},
     "output_type": "display_data"
    },
    {
     "data": {
      "text/html": [
       "<pre style=\"white-space:pre;overflow-x:auto;line-height:normal;font-family:Menlo,'DejaVu Sans Mono',consolas,'Courier New',monospace\"><span style=\"color: #808000; text-decoration-color: #808000\">Passo </span><span style=\"color: #808000; text-decoration-color: #808000; font-weight: bold\">1</span><span style=\"color: #808000; text-decoration-color: #808000\">: Trocar linhas </span><span style=\"color: #808000; text-decoration-color: #808000; font-weight: bold\">1</span><span style=\"color: #808000; text-decoration-color: #808000\"> e </span><span style=\"color: #808000; text-decoration-color: #808000; font-weight: bold\">3</span>\n",
       "</pre>\n"
      ],
      "text/plain": [
       "\u001b[33mPasso \u001b[0m\u001b[1;33m1\u001b[0m\u001b[33m: Trocar linhas \u001b[0m\u001b[1;33m1\u001b[0m\u001b[33m e \u001b[0m\u001b[1;33m3\u001b[0m\n"
      ]
     },
     "metadata": {},
     "output_type": "display_data"
    },
    {
     "data": {
      "text/html": [
       "<pre style=\"white-space:pre;overflow-x:auto;line-height:normal;font-family:Menlo,'DejaVu Sans Mono',consolas,'Courier New',monospace\"><span style=\"font-style: italic\">    Matriz após troca de linhas 1 e 3    </span>\n",
       "                                         \n",
       " <span style=\"font-weight: bold\"> x_1     </span> <span style=\"font-weight: bold\"> x_2     </span> <span style=\"font-weight: bold\"> x_3     </span> <span style=\"font-weight: bold\"> b       </span> \n",
       " ─────────────────────────────────────── \n",
       " <span style=\"color: #008080; text-decoration-color: #008080\"> 7.00000 </span> <span style=\"color: #008080; text-decoration-color: #008080\"> 8.00000 </span> <span style=\"color: #008080; text-decoration-color: #008080\"> 9.00000 </span> <span style=\"color: #008000; text-decoration-color: #008000\"> 7.00000 </span> \n",
       " <span style=\"color: #008080; text-decoration-color: #008080\"> 4.00000 </span> <span style=\"color: #008080; text-decoration-color: #008080\"> 5.00000 </span> <span style=\"color: #008080; text-decoration-color: #008080\"> 6.00000 </span> <span style=\"color: #008000; text-decoration-color: #008000\"> 6.00000 </span> \n",
       " <span style=\"color: #008080; text-decoration-color: #008080\"> 0.00000 </span> <span style=\"color: #008080; text-decoration-color: #008080\"> 2.00000 </span> <span style=\"color: #008080; text-decoration-color: #008080\"> 3.00000 </span> <span style=\"color: #008000; text-decoration-color: #008000\"> 5.00000 </span> \n",
       "                                         \n",
       "</pre>\n"
      ],
      "text/plain": [
       "\u001b[3m    Matriz após troca de linhas 1 e 3    \u001b[0m\n",
       "                                         \n",
       " \u001b[1m \u001b[0m\u001b[1mx_1    \u001b[0m\u001b[1m \u001b[0m \u001b[1m \u001b[0m\u001b[1mx_2    \u001b[0m\u001b[1m \u001b[0m \u001b[1m \u001b[0m\u001b[1mx_3    \u001b[0m\u001b[1m \u001b[0m \u001b[1m \u001b[0m\u001b[1mb      \u001b[0m\u001b[1m \u001b[0m \n",
       " ─────────────────────────────────────── \n",
       " \u001b[36m \u001b[0m\u001b[36m7.00000\u001b[0m\u001b[36m \u001b[0m \u001b[36m \u001b[0m\u001b[36m8.00000\u001b[0m\u001b[36m \u001b[0m \u001b[36m \u001b[0m\u001b[36m9.00000\u001b[0m\u001b[36m \u001b[0m \u001b[32m \u001b[0m\u001b[32m7.00000\u001b[0m\u001b[32m \u001b[0m \n",
       " \u001b[36m \u001b[0m\u001b[36m4.00000\u001b[0m\u001b[36m \u001b[0m \u001b[36m \u001b[0m\u001b[36m5.00000\u001b[0m\u001b[36m \u001b[0m \u001b[36m \u001b[0m\u001b[36m6.00000\u001b[0m\u001b[36m \u001b[0m \u001b[32m \u001b[0m\u001b[32m6.00000\u001b[0m\u001b[32m \u001b[0m \n",
       " \u001b[36m \u001b[0m\u001b[36m0.00000\u001b[0m\u001b[36m \u001b[0m \u001b[36m \u001b[0m\u001b[36m2.00000\u001b[0m\u001b[36m \u001b[0m \u001b[36m \u001b[0m\u001b[36m3.00000\u001b[0m\u001b[36m \u001b[0m \u001b[32m \u001b[0m\u001b[32m5.00000\u001b[0m\u001b[32m \u001b[0m \n",
       "                                         \n"
      ]
     },
     "metadata": {},
     "output_type": "display_data"
    },
    {
     "data": {
      "text/html": [
       "<pre style=\"white-space:pre;overflow-x:auto;line-height:normal;font-family:Menlo,'DejaVu Sans Mono',consolas,'Courier New',monospace\"><span style=\"color: #808000; text-decoration-color: #808000\">Passo </span><span style=\"color: #808000; text-decoration-color: #808000; font-weight: bold\">2</span><span style=\"color: #808000; text-decoration-color: #808000\">: Trocar colunas </span><span style=\"color: #808000; text-decoration-color: #808000; font-weight: bold\">1</span><span style=\"color: #808000; text-decoration-color: #808000\"> e </span><span style=\"color: #808000; text-decoration-color: #808000; font-weight: bold\">3</span>\n",
       "</pre>\n"
      ],
      "text/plain": [
       "\u001b[33mPasso \u001b[0m\u001b[1;33m2\u001b[0m\u001b[33m: Trocar colunas \u001b[0m\u001b[1;33m1\u001b[0m\u001b[33m e \u001b[0m\u001b[1;33m3\u001b[0m\n"
      ]
     },
     "metadata": {},
     "output_type": "display_data"
    },
    {
     "data": {
      "text/html": [
       "<pre style=\"white-space:pre;overflow-x:auto;line-height:normal;font-family:Menlo,'DejaVu Sans Mono',consolas,'Courier New',monospace\"><span style=\"font-style: italic\">   Matriz após troca de colunas 1 e 3    </span>\n",
       "                                         \n",
       " <span style=\"font-weight: bold\"> x_1     </span> <span style=\"font-weight: bold\"> x_2     </span> <span style=\"font-weight: bold\"> x_3     </span> <span style=\"font-weight: bold\"> b       </span> \n",
       " ─────────────────────────────────────── \n",
       " <span style=\"color: #008080; text-decoration-color: #008080\"> 9.00000 </span> <span style=\"color: #008080; text-decoration-color: #008080\"> 8.00000 </span> <span style=\"color: #008080; text-decoration-color: #008080\"> 7.00000 </span> <span style=\"color: #008000; text-decoration-color: #008000\"> 7.00000 </span> \n",
       " <span style=\"color: #008080; text-decoration-color: #008080\"> 6.00000 </span> <span style=\"color: #008080; text-decoration-color: #008080\"> 5.00000 </span> <span style=\"color: #008080; text-decoration-color: #008080\"> 4.00000 </span> <span style=\"color: #008000; text-decoration-color: #008000\"> 6.00000 </span> \n",
       " <span style=\"color: #008080; text-decoration-color: #008080\"> 3.00000 </span> <span style=\"color: #008080; text-decoration-color: #008080\"> 2.00000 </span> <span style=\"color: #008080; text-decoration-color: #008080\"> 0.00000 </span> <span style=\"color: #008000; text-decoration-color: #008000\"> 5.00000 </span> \n",
       "                                         \n",
       "</pre>\n"
      ],
      "text/plain": [
       "\u001b[3m   Matriz após troca de colunas 1 e 3    \u001b[0m\n",
       "                                         \n",
       " \u001b[1m \u001b[0m\u001b[1mx_1    \u001b[0m\u001b[1m \u001b[0m \u001b[1m \u001b[0m\u001b[1mx_2    \u001b[0m\u001b[1m \u001b[0m \u001b[1m \u001b[0m\u001b[1mx_3    \u001b[0m\u001b[1m \u001b[0m \u001b[1m \u001b[0m\u001b[1mb      \u001b[0m\u001b[1m \u001b[0m \n",
       " ─────────────────────────────────────── \n",
       " \u001b[36m \u001b[0m\u001b[36m9.00000\u001b[0m\u001b[36m \u001b[0m \u001b[36m \u001b[0m\u001b[36m8.00000\u001b[0m\u001b[36m \u001b[0m \u001b[36m \u001b[0m\u001b[36m7.00000\u001b[0m\u001b[36m \u001b[0m \u001b[32m \u001b[0m\u001b[32m7.00000\u001b[0m\u001b[32m \u001b[0m \n",
       " \u001b[36m \u001b[0m\u001b[36m6.00000\u001b[0m\u001b[36m \u001b[0m \u001b[36m \u001b[0m\u001b[36m5.00000\u001b[0m\u001b[36m \u001b[0m \u001b[36m \u001b[0m\u001b[36m4.00000\u001b[0m\u001b[36m \u001b[0m \u001b[32m \u001b[0m\u001b[32m6.00000\u001b[0m\u001b[32m \u001b[0m \n",
       " \u001b[36m \u001b[0m\u001b[36m3.00000\u001b[0m\u001b[36m \u001b[0m \u001b[36m \u001b[0m\u001b[36m2.00000\u001b[0m\u001b[36m \u001b[0m \u001b[36m \u001b[0m\u001b[36m0.00000\u001b[0m\u001b[36m \u001b[0m \u001b[32m \u001b[0m\u001b[32m5.00000\u001b[0m\u001b[32m \u001b[0m \n",
       "                                         \n"
      ]
     },
     "metadata": {},
     "output_type": "display_data"
    },
    {
     "data": {
      "text/html": [
       "<pre style=\"white-space:pre;overflow-x:auto;line-height:normal;font-family:Menlo,'DejaVu Sans Mono',consolas,'Courier New',monospace\"><span style=\"color: #000080; text-decoration-color: #000080\">Vetor de permutação atualizado: </span><span style=\"color: #000080; text-decoration-color: #000080; font-weight: bold\">[</span><span style=\"color: #000080; text-decoration-color: #000080; font-weight: bold\">3</span><span style=\"color: #000080; text-decoration-color: #000080\"> </span><span style=\"color: #000080; text-decoration-color: #000080; font-weight: bold\">2</span><span style=\"color: #000080; text-decoration-color: #000080\"> </span><span style=\"color: #000080; text-decoration-color: #000080; font-weight: bold\">1</span><span style=\"color: #000080; text-decoration-color: #000080; font-weight: bold\">]</span>\n",
       "</pre>\n"
      ],
      "text/plain": [
       "\u001b[34mVetor de permutação atualizado: \u001b[0m\u001b[1;34m[\u001b[0m\u001b[1;34m3\u001b[0m\u001b[34m \u001b[0m\u001b[1;34m2\u001b[0m\u001b[34m \u001b[0m\u001b[1;34m1\u001b[0m\u001b[1;34m]\u001b[0m\n"
      ]
     },
     "metadata": {},
     "output_type": "display_data"
    },
    {
     "data": {
      "text/html": [
       "<pre style=\"white-space:pre;overflow-x:auto;line-height:normal;font-family:Menlo,'DejaVu Sans Mono',consolas,'Courier New',monospace\"><span style=\"color: #000080; text-decoration-color: #000080\">Passo </span><span style=\"color: #000080; text-decoration-color: #000080; font-weight: bold\">3</span><span style=\"color: #000080; text-decoration-color: #000080\">: Normalizar linha </span><span style=\"color: #000080; text-decoration-color: #000080; font-weight: bold\">1</span><span style=\"color: #000080; text-decoration-color: #000080\"> </span><span style=\"color: #000080; text-decoration-color: #000080; font-weight: bold\">(</span><span style=\"color: #000080; text-decoration-color: #000080\">dividir por </span><span style=\"color: #000080; text-decoration-color: #000080; font-weight: bold\">9.00000</span><span style=\"color: #000080; text-decoration-color: #000080; font-weight: bold\">)</span>\n",
       "</pre>\n"
      ],
      "text/plain": [
       "\u001b[34mPasso \u001b[0m\u001b[1;34m3\u001b[0m\u001b[34m: Normalizar linha \u001b[0m\u001b[1;34m1\u001b[0m\u001b[34m \u001b[0m\u001b[1;34m(\u001b[0m\u001b[34mdividir por \u001b[0m\u001b[1;34m9.00000\u001b[0m\u001b[1;34m)\u001b[0m\n"
      ]
     },
     "metadata": {},
     "output_type": "display_data"
    },
    {
     "data": {
      "text/html": [
       "<pre style=\"white-space:pre;overflow-x:auto;line-height:normal;font-family:Menlo,'DejaVu Sans Mono',consolas,'Courier New',monospace\"><span style=\"font-style: italic\">   Matriz após normalização da linha 1   </span>\n",
       "                                         \n",
       " <span style=\"font-weight: bold\"> x_1     </span> <span style=\"font-weight: bold\"> x_2     </span> <span style=\"font-weight: bold\"> x_3     </span> <span style=\"font-weight: bold\"> b       </span> \n",
       " ─────────────────────────────────────── \n",
       " <span style=\"color: #008080; text-decoration-color: #008080\"> 1.00000 </span> <span style=\"color: #008080; text-decoration-color: #008080\"> 0.88889 </span> <span style=\"color: #008080; text-decoration-color: #008080\"> 0.77778 </span> <span style=\"color: #008000; text-decoration-color: #008000\"> 0.77778 </span> \n",
       " <span style=\"color: #008080; text-decoration-color: #008080\"> 6.00000 </span> <span style=\"color: #008080; text-decoration-color: #008080\"> 5.00000 </span> <span style=\"color: #008080; text-decoration-color: #008080\"> 4.00000 </span> <span style=\"color: #008000; text-decoration-color: #008000\"> 6.00000 </span> \n",
       " <span style=\"color: #008080; text-decoration-color: #008080\"> 3.00000 </span> <span style=\"color: #008080; text-decoration-color: #008080\"> 2.00000 </span> <span style=\"color: #008080; text-decoration-color: #008080\"> 0.00000 </span> <span style=\"color: #008000; text-decoration-color: #008000\"> 5.00000 </span> \n",
       "                                         \n",
       "</pre>\n"
      ],
      "text/plain": [
       "\u001b[3m   Matriz após normalização da linha 1   \u001b[0m\n",
       "                                         \n",
       " \u001b[1m \u001b[0m\u001b[1mx_1    \u001b[0m\u001b[1m \u001b[0m \u001b[1m \u001b[0m\u001b[1mx_2    \u001b[0m\u001b[1m \u001b[0m \u001b[1m \u001b[0m\u001b[1mx_3    \u001b[0m\u001b[1m \u001b[0m \u001b[1m \u001b[0m\u001b[1mb      \u001b[0m\u001b[1m \u001b[0m \n",
       " ─────────────────────────────────────── \n",
       " \u001b[36m \u001b[0m\u001b[36m1.00000\u001b[0m\u001b[36m \u001b[0m \u001b[36m \u001b[0m\u001b[36m0.88889\u001b[0m\u001b[36m \u001b[0m \u001b[36m \u001b[0m\u001b[36m0.77778\u001b[0m\u001b[36m \u001b[0m \u001b[32m \u001b[0m\u001b[32m0.77778\u001b[0m\u001b[32m \u001b[0m \n",
       " \u001b[36m \u001b[0m\u001b[36m6.00000\u001b[0m\u001b[36m \u001b[0m \u001b[36m \u001b[0m\u001b[36m5.00000\u001b[0m\u001b[36m \u001b[0m \u001b[36m \u001b[0m\u001b[36m4.00000\u001b[0m\u001b[36m \u001b[0m \u001b[32m \u001b[0m\u001b[32m6.00000\u001b[0m\u001b[32m \u001b[0m \n",
       " \u001b[36m \u001b[0m\u001b[36m3.00000\u001b[0m\u001b[36m \u001b[0m \u001b[36m \u001b[0m\u001b[36m2.00000\u001b[0m\u001b[36m \u001b[0m \u001b[36m \u001b[0m\u001b[36m0.00000\u001b[0m\u001b[36m \u001b[0m \u001b[32m \u001b[0m\u001b[32m5.00000\u001b[0m\u001b[32m \u001b[0m \n",
       "                                         \n"
      ]
     },
     "metadata": {},
     "output_type": "display_data"
    },
    {
     "data": {
      "text/html": [
       "<pre style=\"white-space:pre;overflow-x:auto;line-height:normal;font-family:Menlo,'DejaVu Sans Mono',consolas,'Courier New',monospace\"><span style=\"color: #008000; text-decoration-color: #008000\">Passo </span><span style=\"color: #008000; text-decoration-color: #008000; font-weight: bold\">4</span><span style=\"color: #008000; text-decoration-color: #008000\">: Subtrair </span><span style=\"color: #008000; text-decoration-color: #008000; font-weight: bold\">6.00000</span><span style=\"color: #008000; text-decoration-color: #008000\"> vezes linha </span><span style=\"color: #008000; text-decoration-color: #008000; font-weight: bold\">1</span><span style=\"color: #008000; text-decoration-color: #008000\"> da linha </span><span style=\"color: #008000; text-decoration-color: #008000; font-weight: bold\">2</span>\n",
       "</pre>\n"
      ],
      "text/plain": [
       "\u001b[32mPasso \u001b[0m\u001b[1;32m4\u001b[0m\u001b[32m: Subtrair \u001b[0m\u001b[1;32m6.00000\u001b[0m\u001b[32m vezes linha \u001b[0m\u001b[1;32m1\u001b[0m\u001b[32m da linha \u001b[0m\u001b[1;32m2\u001b[0m\n"
      ]
     },
     "metadata": {},
     "output_type": "display_data"
    },
    {
     "data": {
      "text/html": [
       "<pre style=\"white-space:pre;overflow-x:auto;line-height:normal;font-family:Menlo,'DejaVu Sans Mono',consolas,'Courier New',monospace\"><span style=\"font-style: italic\"> Matriz após eliminação do elemento (2,1)  </span>\n",
       "                                           \n",
       " <span style=\"font-weight: bold\"> x_1     </span> <span style=\"font-weight: bold\"> x_2      </span> <span style=\"font-weight: bold\"> x_3      </span> <span style=\"font-weight: bold\"> b       </span> \n",
       " ───────────────────────────────────────── \n",
       " <span style=\"color: #008080; text-decoration-color: #008080\"> 1.00000 </span> <span style=\"color: #008080; text-decoration-color: #008080\"> 0.88889  </span> <span style=\"color: #008080; text-decoration-color: #008080\"> 0.77778  </span> <span style=\"color: #008000; text-decoration-color: #008000\"> 0.77778 </span> \n",
       " <span style=\"color: #008080; text-decoration-color: #008080\"> 0.00000 </span> <span style=\"color: #008080; text-decoration-color: #008080\"> -0.33333 </span> <span style=\"color: #008080; text-decoration-color: #008080\"> -0.66667 </span> <span style=\"color: #008000; text-decoration-color: #008000\"> 1.33333 </span> \n",
       " <span style=\"color: #008080; text-decoration-color: #008080\"> 3.00000 </span> <span style=\"color: #008080; text-decoration-color: #008080\"> 2.00000  </span> <span style=\"color: #008080; text-decoration-color: #008080\"> 0.00000  </span> <span style=\"color: #008000; text-decoration-color: #008000\"> 5.00000 </span> \n",
       "                                           \n",
       "</pre>\n"
      ],
      "text/plain": [
       "\u001b[3m Matriz após eliminação do elemento (2,1)  \u001b[0m\n",
       "                                           \n",
       " \u001b[1m \u001b[0m\u001b[1mx_1    \u001b[0m\u001b[1m \u001b[0m \u001b[1m \u001b[0m\u001b[1mx_2     \u001b[0m\u001b[1m \u001b[0m \u001b[1m \u001b[0m\u001b[1mx_3     \u001b[0m\u001b[1m \u001b[0m \u001b[1m \u001b[0m\u001b[1mb      \u001b[0m\u001b[1m \u001b[0m \n",
       " ───────────────────────────────────────── \n",
       " \u001b[36m \u001b[0m\u001b[36m1.00000\u001b[0m\u001b[36m \u001b[0m \u001b[36m \u001b[0m\u001b[36m0.88889 \u001b[0m\u001b[36m \u001b[0m \u001b[36m \u001b[0m\u001b[36m0.77778 \u001b[0m\u001b[36m \u001b[0m \u001b[32m \u001b[0m\u001b[32m0.77778\u001b[0m\u001b[32m \u001b[0m \n",
       " \u001b[36m \u001b[0m\u001b[36m0.00000\u001b[0m\u001b[36m \u001b[0m \u001b[36m \u001b[0m\u001b[36m-0.33333\u001b[0m\u001b[36m \u001b[0m \u001b[36m \u001b[0m\u001b[36m-0.66667\u001b[0m\u001b[36m \u001b[0m \u001b[32m \u001b[0m\u001b[32m1.33333\u001b[0m\u001b[32m \u001b[0m \n",
       " \u001b[36m \u001b[0m\u001b[36m3.00000\u001b[0m\u001b[36m \u001b[0m \u001b[36m \u001b[0m\u001b[36m2.00000 \u001b[0m\u001b[36m \u001b[0m \u001b[36m \u001b[0m\u001b[36m0.00000 \u001b[0m\u001b[36m \u001b[0m \u001b[32m \u001b[0m\u001b[32m5.00000\u001b[0m\u001b[32m \u001b[0m \n",
       "                                           \n"
      ]
     },
     "metadata": {},
     "output_type": "display_data"
    },
    {
     "data": {
      "text/html": [
       "<pre style=\"white-space:pre;overflow-x:auto;line-height:normal;font-family:Menlo,'DejaVu Sans Mono',consolas,'Courier New',monospace\"><span style=\"color: #008000; text-decoration-color: #008000\">Passo </span><span style=\"color: #008000; text-decoration-color: #008000; font-weight: bold\">5</span><span style=\"color: #008000; text-decoration-color: #008000\">: Subtrair </span><span style=\"color: #008000; text-decoration-color: #008000; font-weight: bold\">3.00000</span><span style=\"color: #008000; text-decoration-color: #008000\"> vezes linha </span><span style=\"color: #008000; text-decoration-color: #008000; font-weight: bold\">1</span><span style=\"color: #008000; text-decoration-color: #008000\"> da linha </span><span style=\"color: #008000; text-decoration-color: #008000; font-weight: bold\">3</span>\n",
       "</pre>\n"
      ],
      "text/plain": [
       "\u001b[32mPasso \u001b[0m\u001b[1;32m5\u001b[0m\u001b[32m: Subtrair \u001b[0m\u001b[1;32m3.00000\u001b[0m\u001b[32m vezes linha \u001b[0m\u001b[1;32m1\u001b[0m\u001b[32m da linha \u001b[0m\u001b[1;32m3\u001b[0m\n"
      ]
     },
     "metadata": {},
     "output_type": "display_data"
    },
    {
     "data": {
      "text/html": [
       "<pre style=\"white-space:pre;overflow-x:auto;line-height:normal;font-family:Menlo,'DejaVu Sans Mono',consolas,'Courier New',monospace\"><span style=\"font-style: italic\"> Matriz após eliminação do elemento (3,1)  </span>\n",
       "                                           \n",
       " <span style=\"font-weight: bold\"> x_1     </span> <span style=\"font-weight: bold\"> x_2      </span> <span style=\"font-weight: bold\"> x_3      </span> <span style=\"font-weight: bold\"> b       </span> \n",
       " ───────────────────────────────────────── \n",
       " <span style=\"color: #008080; text-decoration-color: #008080\"> 1.00000 </span> <span style=\"color: #008080; text-decoration-color: #008080\"> 0.88889  </span> <span style=\"color: #008080; text-decoration-color: #008080\"> 0.77778  </span> <span style=\"color: #008000; text-decoration-color: #008000\"> 0.77778 </span> \n",
       " <span style=\"color: #008080; text-decoration-color: #008080\"> 0.00000 </span> <span style=\"color: #008080; text-decoration-color: #008080\"> -0.33333 </span> <span style=\"color: #008080; text-decoration-color: #008080\"> -0.66667 </span> <span style=\"color: #008000; text-decoration-color: #008000\"> 1.33333 </span> \n",
       " <span style=\"color: #008080; text-decoration-color: #008080\"> 0.00000 </span> <span style=\"color: #008080; text-decoration-color: #008080\"> -0.66667 </span> <span style=\"color: #008080; text-decoration-color: #008080\"> -2.33333 </span> <span style=\"color: #008000; text-decoration-color: #008000\"> 2.66667 </span> \n",
       "                                           \n",
       "</pre>\n"
      ],
      "text/plain": [
       "\u001b[3m Matriz após eliminação do elemento (3,1)  \u001b[0m\n",
       "                                           \n",
       " \u001b[1m \u001b[0m\u001b[1mx_1    \u001b[0m\u001b[1m \u001b[0m \u001b[1m \u001b[0m\u001b[1mx_2     \u001b[0m\u001b[1m \u001b[0m \u001b[1m \u001b[0m\u001b[1mx_3     \u001b[0m\u001b[1m \u001b[0m \u001b[1m \u001b[0m\u001b[1mb      \u001b[0m\u001b[1m \u001b[0m \n",
       " ───────────────────────────────────────── \n",
       " \u001b[36m \u001b[0m\u001b[36m1.00000\u001b[0m\u001b[36m \u001b[0m \u001b[36m \u001b[0m\u001b[36m0.88889 \u001b[0m\u001b[36m \u001b[0m \u001b[36m \u001b[0m\u001b[36m0.77778 \u001b[0m\u001b[36m \u001b[0m \u001b[32m \u001b[0m\u001b[32m0.77778\u001b[0m\u001b[32m \u001b[0m \n",
       " \u001b[36m \u001b[0m\u001b[36m0.00000\u001b[0m\u001b[36m \u001b[0m \u001b[36m \u001b[0m\u001b[36m-0.33333\u001b[0m\u001b[36m \u001b[0m \u001b[36m \u001b[0m\u001b[36m-0.66667\u001b[0m\u001b[36m \u001b[0m \u001b[32m \u001b[0m\u001b[32m1.33333\u001b[0m\u001b[32m \u001b[0m \n",
       " \u001b[36m \u001b[0m\u001b[36m0.00000\u001b[0m\u001b[36m \u001b[0m \u001b[36m \u001b[0m\u001b[36m-0.66667\u001b[0m\u001b[36m \u001b[0m \u001b[36m \u001b[0m\u001b[36m-2.33333\u001b[0m\u001b[36m \u001b[0m \u001b[32m \u001b[0m\u001b[32m2.66667\u001b[0m\u001b[32m \u001b[0m \n",
       "                                           \n"
      ]
     },
     "metadata": {},
     "output_type": "display_data"
    },
    {
     "data": {
      "text/html": [
       "<pre style=\"white-space:pre;overflow-x:auto;line-height:normal;font-family:Menlo,'DejaVu Sans Mono',consolas,'Courier New',monospace\"><span style=\"color: #808000; text-decoration-color: #808000\">Passo </span><span style=\"color: #808000; text-decoration-color: #808000; font-weight: bold\">6</span><span style=\"color: #808000; text-decoration-color: #808000\">: Trocar linhas </span><span style=\"color: #808000; text-decoration-color: #808000; font-weight: bold\">2</span><span style=\"color: #808000; text-decoration-color: #808000\"> e </span><span style=\"color: #808000; text-decoration-color: #808000; font-weight: bold\">3</span>\n",
       "</pre>\n"
      ],
      "text/plain": [
       "\u001b[33mPasso \u001b[0m\u001b[1;33m6\u001b[0m\u001b[33m: Trocar linhas \u001b[0m\u001b[1;33m2\u001b[0m\u001b[33m e \u001b[0m\u001b[1;33m3\u001b[0m\n"
      ]
     },
     "metadata": {},
     "output_type": "display_data"
    },
    {
     "data": {
      "text/html": [
       "<pre style=\"white-space:pre;overflow-x:auto;line-height:normal;font-family:Menlo,'DejaVu Sans Mono',consolas,'Courier New',monospace\"><span style=\"font-style: italic\">     Matriz após troca de linhas 2 e 3     </span>\n",
       "                                           \n",
       " <span style=\"font-weight: bold\"> x_1     </span> <span style=\"font-weight: bold\"> x_2      </span> <span style=\"font-weight: bold\"> x_3      </span> <span style=\"font-weight: bold\"> b       </span> \n",
       " ───────────────────────────────────────── \n",
       " <span style=\"color: #008080; text-decoration-color: #008080\"> 1.00000 </span> <span style=\"color: #008080; text-decoration-color: #008080\"> 0.88889  </span> <span style=\"color: #008080; text-decoration-color: #008080\"> 0.77778  </span> <span style=\"color: #008000; text-decoration-color: #008000\"> 0.77778 </span> \n",
       " <span style=\"color: #008080; text-decoration-color: #008080\"> 0.00000 </span> <span style=\"color: #008080; text-decoration-color: #008080\"> -0.66667 </span> <span style=\"color: #008080; text-decoration-color: #008080\"> -2.33333 </span> <span style=\"color: #008000; text-decoration-color: #008000\"> 2.66667 </span> \n",
       " <span style=\"color: #008080; text-decoration-color: #008080\"> 0.00000 </span> <span style=\"color: #008080; text-decoration-color: #008080\"> -0.33333 </span> <span style=\"color: #008080; text-decoration-color: #008080\"> -0.66667 </span> <span style=\"color: #008000; text-decoration-color: #008000\"> 1.33333 </span> \n",
       "                                           \n",
       "</pre>\n"
      ],
      "text/plain": [
       "\u001b[3m     Matriz após troca de linhas 2 e 3     \u001b[0m\n",
       "                                           \n",
       " \u001b[1m \u001b[0m\u001b[1mx_1    \u001b[0m\u001b[1m \u001b[0m \u001b[1m \u001b[0m\u001b[1mx_2     \u001b[0m\u001b[1m \u001b[0m \u001b[1m \u001b[0m\u001b[1mx_3     \u001b[0m\u001b[1m \u001b[0m \u001b[1m \u001b[0m\u001b[1mb      \u001b[0m\u001b[1m \u001b[0m \n",
       " ───────────────────────────────────────── \n",
       " \u001b[36m \u001b[0m\u001b[36m1.00000\u001b[0m\u001b[36m \u001b[0m \u001b[36m \u001b[0m\u001b[36m0.88889 \u001b[0m\u001b[36m \u001b[0m \u001b[36m \u001b[0m\u001b[36m0.77778 \u001b[0m\u001b[36m \u001b[0m \u001b[32m \u001b[0m\u001b[32m0.77778\u001b[0m\u001b[32m \u001b[0m \n",
       " \u001b[36m \u001b[0m\u001b[36m0.00000\u001b[0m\u001b[36m \u001b[0m \u001b[36m \u001b[0m\u001b[36m-0.66667\u001b[0m\u001b[36m \u001b[0m \u001b[36m \u001b[0m\u001b[36m-2.33333\u001b[0m\u001b[36m \u001b[0m \u001b[32m \u001b[0m\u001b[32m2.66667\u001b[0m\u001b[32m \u001b[0m \n",
       " \u001b[36m \u001b[0m\u001b[36m0.00000\u001b[0m\u001b[36m \u001b[0m \u001b[36m \u001b[0m\u001b[36m-0.33333\u001b[0m\u001b[36m \u001b[0m \u001b[36m \u001b[0m\u001b[36m-0.66667\u001b[0m\u001b[36m \u001b[0m \u001b[32m \u001b[0m\u001b[32m1.33333\u001b[0m\u001b[32m \u001b[0m \n",
       "                                           \n"
      ]
     },
     "metadata": {},
     "output_type": "display_data"
    },
    {
     "data": {
      "text/html": [
       "<pre style=\"white-space:pre;overflow-x:auto;line-height:normal;font-family:Menlo,'DejaVu Sans Mono',consolas,'Courier New',monospace\"><span style=\"color: #808000; text-decoration-color: #808000\">Passo </span><span style=\"color: #808000; text-decoration-color: #808000; font-weight: bold\">7</span><span style=\"color: #808000; text-decoration-color: #808000\">: Trocar colunas </span><span style=\"color: #808000; text-decoration-color: #808000; font-weight: bold\">2</span><span style=\"color: #808000; text-decoration-color: #808000\"> e </span><span style=\"color: #808000; text-decoration-color: #808000; font-weight: bold\">3</span>\n",
       "</pre>\n"
      ],
      "text/plain": [
       "\u001b[33mPasso \u001b[0m\u001b[1;33m7\u001b[0m\u001b[33m: Trocar colunas \u001b[0m\u001b[1;33m2\u001b[0m\u001b[33m e \u001b[0m\u001b[1;33m3\u001b[0m\n"
      ]
     },
     "metadata": {},
     "output_type": "display_data"
    },
    {
     "data": {
      "text/html": [
       "<pre style=\"white-space:pre;overflow-x:auto;line-height:normal;font-family:Menlo,'DejaVu Sans Mono',consolas,'Courier New',monospace\"><span style=\"font-style: italic\">    Matriz após troca de colunas 2 e 3     </span>\n",
       "                                           \n",
       " <span style=\"font-weight: bold\"> x_1     </span> <span style=\"font-weight: bold\"> x_2      </span> <span style=\"font-weight: bold\"> x_3      </span> <span style=\"font-weight: bold\"> b       </span> \n",
       " ───────────────────────────────────────── \n",
       " <span style=\"color: #008080; text-decoration-color: #008080\"> 1.00000 </span> <span style=\"color: #008080; text-decoration-color: #008080\"> 0.77778  </span> <span style=\"color: #008080; text-decoration-color: #008080\"> 0.88889  </span> <span style=\"color: #008000; text-decoration-color: #008000\"> 0.77778 </span> \n",
       " <span style=\"color: #008080; text-decoration-color: #008080\"> 0.00000 </span> <span style=\"color: #008080; text-decoration-color: #008080\"> -2.33333 </span> <span style=\"color: #008080; text-decoration-color: #008080\"> -0.66667 </span> <span style=\"color: #008000; text-decoration-color: #008000\"> 2.66667 </span> \n",
       " <span style=\"color: #008080; text-decoration-color: #008080\"> 0.00000 </span> <span style=\"color: #008080; text-decoration-color: #008080\"> -0.66667 </span> <span style=\"color: #008080; text-decoration-color: #008080\"> -0.33333 </span> <span style=\"color: #008000; text-decoration-color: #008000\"> 1.33333 </span> \n",
       "                                           \n",
       "</pre>\n"
      ],
      "text/plain": [
       "\u001b[3m    Matriz após troca de colunas 2 e 3     \u001b[0m\n",
       "                                           \n",
       " \u001b[1m \u001b[0m\u001b[1mx_1    \u001b[0m\u001b[1m \u001b[0m \u001b[1m \u001b[0m\u001b[1mx_2     \u001b[0m\u001b[1m \u001b[0m \u001b[1m \u001b[0m\u001b[1mx_3     \u001b[0m\u001b[1m \u001b[0m \u001b[1m \u001b[0m\u001b[1mb      \u001b[0m\u001b[1m \u001b[0m \n",
       " ───────────────────────────────────────── \n",
       " \u001b[36m \u001b[0m\u001b[36m1.00000\u001b[0m\u001b[36m \u001b[0m \u001b[36m \u001b[0m\u001b[36m0.77778 \u001b[0m\u001b[36m \u001b[0m \u001b[36m \u001b[0m\u001b[36m0.88889 \u001b[0m\u001b[36m \u001b[0m \u001b[32m \u001b[0m\u001b[32m0.77778\u001b[0m\u001b[32m \u001b[0m \n",
       " \u001b[36m \u001b[0m\u001b[36m0.00000\u001b[0m\u001b[36m \u001b[0m \u001b[36m \u001b[0m\u001b[36m-2.33333\u001b[0m\u001b[36m \u001b[0m \u001b[36m \u001b[0m\u001b[36m-0.66667\u001b[0m\u001b[36m \u001b[0m \u001b[32m \u001b[0m\u001b[32m2.66667\u001b[0m\u001b[32m \u001b[0m \n",
       " \u001b[36m \u001b[0m\u001b[36m0.00000\u001b[0m\u001b[36m \u001b[0m \u001b[36m \u001b[0m\u001b[36m-0.66667\u001b[0m\u001b[36m \u001b[0m \u001b[36m \u001b[0m\u001b[36m-0.33333\u001b[0m\u001b[36m \u001b[0m \u001b[32m \u001b[0m\u001b[32m1.33333\u001b[0m\u001b[32m \u001b[0m \n",
       "                                           \n"
      ]
     },
     "metadata": {},
     "output_type": "display_data"
    },
    {
     "data": {
      "text/html": [
       "<pre style=\"white-space:pre;overflow-x:auto;line-height:normal;font-family:Menlo,'DejaVu Sans Mono',consolas,'Courier New',monospace\"><span style=\"color: #000080; text-decoration-color: #000080\">Vetor de permutação atualizado: </span><span style=\"color: #000080; text-decoration-color: #000080; font-weight: bold\">[</span><span style=\"color: #000080; text-decoration-color: #000080; font-weight: bold\">3</span><span style=\"color: #000080; text-decoration-color: #000080\"> </span><span style=\"color: #000080; text-decoration-color: #000080; font-weight: bold\">1</span><span style=\"color: #000080; text-decoration-color: #000080\"> </span><span style=\"color: #000080; text-decoration-color: #000080; font-weight: bold\">2</span><span style=\"color: #000080; text-decoration-color: #000080; font-weight: bold\">]</span>\n",
       "</pre>\n"
      ],
      "text/plain": [
       "\u001b[34mVetor de permutação atualizado: \u001b[0m\u001b[1;34m[\u001b[0m\u001b[1;34m3\u001b[0m\u001b[34m \u001b[0m\u001b[1;34m1\u001b[0m\u001b[34m \u001b[0m\u001b[1;34m2\u001b[0m\u001b[1;34m]\u001b[0m\n"
      ]
     },
     "metadata": {},
     "output_type": "display_data"
    },
    {
     "data": {
      "text/html": [
       "<pre style=\"white-space:pre;overflow-x:auto;line-height:normal;font-family:Menlo,'DejaVu Sans Mono',consolas,'Courier New',monospace\"><span style=\"color: #000080; text-decoration-color: #000080\">Passo </span><span style=\"color: #000080; text-decoration-color: #000080; font-weight: bold\">8</span><span style=\"color: #000080; text-decoration-color: #000080\">: Normalizar linha </span><span style=\"color: #000080; text-decoration-color: #000080; font-weight: bold\">2</span><span style=\"color: #000080; text-decoration-color: #000080\"> </span><span style=\"color: #000080; text-decoration-color: #000080; font-weight: bold\">(</span><span style=\"color: #000080; text-decoration-color: #000080\">dividir por </span><span style=\"color: #000080; text-decoration-color: #000080; font-weight: bold\">-2.33333</span><span style=\"color: #000080; text-decoration-color: #000080; font-weight: bold\">)</span>\n",
       "</pre>\n"
      ],
      "text/plain": [
       "\u001b[34mPasso \u001b[0m\u001b[1;34m8\u001b[0m\u001b[34m: Normalizar linha \u001b[0m\u001b[1;34m2\u001b[0m\u001b[34m \u001b[0m\u001b[1;34m(\u001b[0m\u001b[34mdividir por \u001b[0m\u001b[1;34m-2.33333\u001b[0m\u001b[1;34m)\u001b[0m\n"
      ]
     },
     "metadata": {},
     "output_type": "display_data"
    },
    {
     "data": {
      "text/html": [
       "<pre style=\"white-space:pre;overflow-x:auto;line-height:normal;font-family:Menlo,'DejaVu Sans Mono',consolas,'Courier New',monospace\"><span style=\"font-style: italic\">     Matriz após normalização da linha 2     </span>\n",
       "                                             \n",
       " <span style=\"font-weight: bold\"> x_1      </span> <span style=\"font-weight: bold\"> x_2      </span> <span style=\"font-weight: bold\"> x_3      </span> <span style=\"font-weight: bold\"> b        </span> \n",
       " ─────────────────────────────────────────── \n",
       " <span style=\"color: #008080; text-decoration-color: #008080\"> 1.00000  </span> <span style=\"color: #008080; text-decoration-color: #008080\"> 0.77778  </span> <span style=\"color: #008080; text-decoration-color: #008080\"> 0.88889  </span> <span style=\"color: #008000; text-decoration-color: #008000\"> 0.77778  </span> \n",
       " <span style=\"color: #008080; text-decoration-color: #008080\"> -0.00000 </span> <span style=\"color: #008080; text-decoration-color: #008080\"> 1.00000  </span> <span style=\"color: #008080; text-decoration-color: #008080\"> 0.28571  </span> <span style=\"color: #008000; text-decoration-color: #008000\"> -1.14286 </span> \n",
       " <span style=\"color: #008080; text-decoration-color: #008080\"> 0.00000  </span> <span style=\"color: #008080; text-decoration-color: #008080\"> -0.66667 </span> <span style=\"color: #008080; text-decoration-color: #008080\"> -0.33333 </span> <span style=\"color: #008000; text-decoration-color: #008000\"> 1.33333  </span> \n",
       "                                             \n",
       "</pre>\n"
      ],
      "text/plain": [
       "\u001b[3m     Matriz após normalização da linha 2     \u001b[0m\n",
       "                                             \n",
       " \u001b[1m \u001b[0m\u001b[1mx_1     \u001b[0m\u001b[1m \u001b[0m \u001b[1m \u001b[0m\u001b[1mx_2     \u001b[0m\u001b[1m \u001b[0m \u001b[1m \u001b[0m\u001b[1mx_3     \u001b[0m\u001b[1m \u001b[0m \u001b[1m \u001b[0m\u001b[1mb       \u001b[0m\u001b[1m \u001b[0m \n",
       " ─────────────────────────────────────────── \n",
       " \u001b[36m \u001b[0m\u001b[36m1.00000 \u001b[0m\u001b[36m \u001b[0m \u001b[36m \u001b[0m\u001b[36m0.77778 \u001b[0m\u001b[36m \u001b[0m \u001b[36m \u001b[0m\u001b[36m0.88889 \u001b[0m\u001b[36m \u001b[0m \u001b[32m \u001b[0m\u001b[32m0.77778 \u001b[0m\u001b[32m \u001b[0m \n",
       " \u001b[36m \u001b[0m\u001b[36m-0.00000\u001b[0m\u001b[36m \u001b[0m \u001b[36m \u001b[0m\u001b[36m1.00000 \u001b[0m\u001b[36m \u001b[0m \u001b[36m \u001b[0m\u001b[36m0.28571 \u001b[0m\u001b[36m \u001b[0m \u001b[32m \u001b[0m\u001b[32m-1.14286\u001b[0m\u001b[32m \u001b[0m \n",
       " \u001b[36m \u001b[0m\u001b[36m0.00000 \u001b[0m\u001b[36m \u001b[0m \u001b[36m \u001b[0m\u001b[36m-0.66667\u001b[0m\u001b[36m \u001b[0m \u001b[36m \u001b[0m\u001b[36m-0.33333\u001b[0m\u001b[36m \u001b[0m \u001b[32m \u001b[0m\u001b[32m1.33333 \u001b[0m\u001b[32m \u001b[0m \n",
       "                                             \n"
      ]
     },
     "metadata": {},
     "output_type": "display_data"
    },
    {
     "data": {
      "text/html": [
       "<pre style=\"white-space:pre;overflow-x:auto;line-height:normal;font-family:Menlo,'DejaVu Sans Mono',consolas,'Courier New',monospace\"><span style=\"color: #008000; text-decoration-color: #008000\">Passo </span><span style=\"color: #008000; text-decoration-color: #008000; font-weight: bold\">9</span><span style=\"color: #008000; text-decoration-color: #008000\">: Subtrair </span><span style=\"color: #008000; text-decoration-color: #008000; font-weight: bold\">0.77778</span><span style=\"color: #008000; text-decoration-color: #008000\"> vezes linha </span><span style=\"color: #008000; text-decoration-color: #008000; font-weight: bold\">2</span><span style=\"color: #008000; text-decoration-color: #008000\"> da linha </span><span style=\"color: #008000; text-decoration-color: #008000; font-weight: bold\">1</span>\n",
       "</pre>\n"
      ],
      "text/plain": [
       "\u001b[32mPasso \u001b[0m\u001b[1;32m9\u001b[0m\u001b[32m: Subtrair \u001b[0m\u001b[1;32m0.77778\u001b[0m\u001b[32m vezes linha \u001b[0m\u001b[1;32m2\u001b[0m\u001b[32m da linha \u001b[0m\u001b[1;32m1\u001b[0m\n"
      ]
     },
     "metadata": {},
     "output_type": "display_data"
    },
    {
     "data": {
      "text/html": [
       "<pre style=\"white-space:pre;overflow-x:auto;line-height:normal;font-family:Menlo,'DejaVu Sans Mono',consolas,'Courier New',monospace\"><span style=\"font-style: italic\">  Matriz após eliminação do elemento (1,2)   </span>\n",
       "                                             \n",
       " <span style=\"font-weight: bold\"> x_1      </span> <span style=\"font-weight: bold\"> x_2      </span> <span style=\"font-weight: bold\"> x_3      </span> <span style=\"font-weight: bold\"> b        </span> \n",
       " ─────────────────────────────────────────── \n",
       " <span style=\"color: #008080; text-decoration-color: #008080\"> 1.00000  </span> <span style=\"color: #008080; text-decoration-color: #008080\"> 0.00000  </span> <span style=\"color: #008080; text-decoration-color: #008080\"> 0.66667  </span> <span style=\"color: #008000; text-decoration-color: #008000\"> 1.66667  </span> \n",
       " <span style=\"color: #008080; text-decoration-color: #008080\"> -0.00000 </span> <span style=\"color: #008080; text-decoration-color: #008080\"> 1.00000  </span> <span style=\"color: #008080; text-decoration-color: #008080\"> 0.28571  </span> <span style=\"color: #008000; text-decoration-color: #008000\"> -1.14286 </span> \n",
       " <span style=\"color: #008080; text-decoration-color: #008080\"> 0.00000  </span> <span style=\"color: #008080; text-decoration-color: #008080\"> -0.66667 </span> <span style=\"color: #008080; text-decoration-color: #008080\"> -0.33333 </span> <span style=\"color: #008000; text-decoration-color: #008000\"> 1.33333  </span> \n",
       "                                             \n",
       "</pre>\n"
      ],
      "text/plain": [
       "\u001b[3m  Matriz após eliminação do elemento (1,2)   \u001b[0m\n",
       "                                             \n",
       " \u001b[1m \u001b[0m\u001b[1mx_1     \u001b[0m\u001b[1m \u001b[0m \u001b[1m \u001b[0m\u001b[1mx_2     \u001b[0m\u001b[1m \u001b[0m \u001b[1m \u001b[0m\u001b[1mx_3     \u001b[0m\u001b[1m \u001b[0m \u001b[1m \u001b[0m\u001b[1mb       \u001b[0m\u001b[1m \u001b[0m \n",
       " ─────────────────────────────────────────── \n",
       " \u001b[36m \u001b[0m\u001b[36m1.00000 \u001b[0m\u001b[36m \u001b[0m \u001b[36m \u001b[0m\u001b[36m0.00000 \u001b[0m\u001b[36m \u001b[0m \u001b[36m \u001b[0m\u001b[36m0.66667 \u001b[0m\u001b[36m \u001b[0m \u001b[32m \u001b[0m\u001b[32m1.66667 \u001b[0m\u001b[32m \u001b[0m \n",
       " \u001b[36m \u001b[0m\u001b[36m-0.00000\u001b[0m\u001b[36m \u001b[0m \u001b[36m \u001b[0m\u001b[36m1.00000 \u001b[0m\u001b[36m \u001b[0m \u001b[36m \u001b[0m\u001b[36m0.28571 \u001b[0m\u001b[36m \u001b[0m \u001b[32m \u001b[0m\u001b[32m-1.14286\u001b[0m\u001b[32m \u001b[0m \n",
       " \u001b[36m \u001b[0m\u001b[36m0.00000 \u001b[0m\u001b[36m \u001b[0m \u001b[36m \u001b[0m\u001b[36m-0.66667\u001b[0m\u001b[36m \u001b[0m \u001b[36m \u001b[0m\u001b[36m-0.33333\u001b[0m\u001b[36m \u001b[0m \u001b[32m \u001b[0m\u001b[32m1.33333 \u001b[0m\u001b[32m \u001b[0m \n",
       "                                             \n"
      ]
     },
     "metadata": {},
     "output_type": "display_data"
    },
    {
     "data": {
      "text/html": [
       "<pre style=\"white-space:pre;overflow-x:auto;line-height:normal;font-family:Menlo,'DejaVu Sans Mono',consolas,'Courier New',monospace\"><span style=\"color: #008000; text-decoration-color: #008000\">Passo </span><span style=\"color: #008000; text-decoration-color: #008000; font-weight: bold\">10</span><span style=\"color: #008000; text-decoration-color: #008000\">: Subtrair </span><span style=\"color: #008000; text-decoration-color: #008000; font-weight: bold\">-0.66667</span><span style=\"color: #008000; text-decoration-color: #008000\"> vezes linha </span><span style=\"color: #008000; text-decoration-color: #008000; font-weight: bold\">2</span><span style=\"color: #008000; text-decoration-color: #008000\"> da linha </span><span style=\"color: #008000; text-decoration-color: #008000; font-weight: bold\">3</span>\n",
       "</pre>\n"
      ],
      "text/plain": [
       "\u001b[32mPasso \u001b[0m\u001b[1;32m10\u001b[0m\u001b[32m: Subtrair \u001b[0m\u001b[1;32m-0.66667\u001b[0m\u001b[32m vezes linha \u001b[0m\u001b[1;32m2\u001b[0m\u001b[32m da linha \u001b[0m\u001b[1;32m3\u001b[0m\n"
      ]
     },
     "metadata": {},
     "output_type": "display_data"
    },
    {
     "data": {
      "text/html": [
       "<pre style=\"white-space:pre;overflow-x:auto;line-height:normal;font-family:Menlo,'DejaVu Sans Mono',consolas,'Courier New',monospace\"><span style=\"font-style: italic\">  Matriz após eliminação do elemento (3,2)  </span>\n",
       "                                            \n",
       " <span style=\"font-weight: bold\"> x_1      </span> <span style=\"font-weight: bold\"> x_2     </span> <span style=\"font-weight: bold\"> x_3      </span> <span style=\"font-weight: bold\"> b        </span> \n",
       " ────────────────────────────────────────── \n",
       " <span style=\"color: #008080; text-decoration-color: #008080\"> 1.00000  </span> <span style=\"color: #008080; text-decoration-color: #008080\"> 0.00000 </span> <span style=\"color: #008080; text-decoration-color: #008080\"> 0.66667  </span> <span style=\"color: #008000; text-decoration-color: #008000\"> 1.66667  </span> \n",
       " <span style=\"color: #008080; text-decoration-color: #008080\"> -0.00000 </span> <span style=\"color: #008080; text-decoration-color: #008080\"> 1.00000 </span> <span style=\"color: #008080; text-decoration-color: #008080\"> 0.28571  </span> <span style=\"color: #008000; text-decoration-color: #008000\"> -1.14286 </span> \n",
       " <span style=\"color: #008080; text-decoration-color: #008080\"> 0.00000  </span> <span style=\"color: #008080; text-decoration-color: #008080\"> 0.00000 </span> <span style=\"color: #008080; text-decoration-color: #008080\"> -0.14286 </span> <span style=\"color: #008000; text-decoration-color: #008000\"> 0.57143  </span> \n",
       "                                            \n",
       "</pre>\n"
      ],
      "text/plain": [
       "\u001b[3m  Matriz após eliminação do elemento (3,2)  \u001b[0m\n",
       "                                            \n",
       " \u001b[1m \u001b[0m\u001b[1mx_1     \u001b[0m\u001b[1m \u001b[0m \u001b[1m \u001b[0m\u001b[1mx_2    \u001b[0m\u001b[1m \u001b[0m \u001b[1m \u001b[0m\u001b[1mx_3     \u001b[0m\u001b[1m \u001b[0m \u001b[1m \u001b[0m\u001b[1mb       \u001b[0m\u001b[1m \u001b[0m \n",
       " ────────────────────────────────────────── \n",
       " \u001b[36m \u001b[0m\u001b[36m1.00000 \u001b[0m\u001b[36m \u001b[0m \u001b[36m \u001b[0m\u001b[36m0.00000\u001b[0m\u001b[36m \u001b[0m \u001b[36m \u001b[0m\u001b[36m0.66667 \u001b[0m\u001b[36m \u001b[0m \u001b[32m \u001b[0m\u001b[32m1.66667 \u001b[0m\u001b[32m \u001b[0m \n",
       " \u001b[36m \u001b[0m\u001b[36m-0.00000\u001b[0m\u001b[36m \u001b[0m \u001b[36m \u001b[0m\u001b[36m1.00000\u001b[0m\u001b[36m \u001b[0m \u001b[36m \u001b[0m\u001b[36m0.28571 \u001b[0m\u001b[36m \u001b[0m \u001b[32m \u001b[0m\u001b[32m-1.14286\u001b[0m\u001b[32m \u001b[0m \n",
       " \u001b[36m \u001b[0m\u001b[36m0.00000 \u001b[0m\u001b[36m \u001b[0m \u001b[36m \u001b[0m\u001b[36m0.00000\u001b[0m\u001b[36m \u001b[0m \u001b[36m \u001b[0m\u001b[36m-0.14286\u001b[0m\u001b[36m \u001b[0m \u001b[32m \u001b[0m\u001b[32m0.57143 \u001b[0m\u001b[32m \u001b[0m \n",
       "                                            \n"
      ]
     },
     "metadata": {},
     "output_type": "display_data"
    },
    {
     "data": {
      "text/html": [
       "<pre style=\"white-space:pre;overflow-x:auto;line-height:normal;font-family:Menlo,'DejaVu Sans Mono',consolas,'Courier New',monospace\"><span style=\"color: #000080; text-decoration-color: #000080\">Passo </span><span style=\"color: #000080; text-decoration-color: #000080; font-weight: bold\">11</span><span style=\"color: #000080; text-decoration-color: #000080\">: Normalizar linha </span><span style=\"color: #000080; text-decoration-color: #000080; font-weight: bold\">3</span><span style=\"color: #000080; text-decoration-color: #000080\"> </span><span style=\"color: #000080; text-decoration-color: #000080; font-weight: bold\">(</span><span style=\"color: #000080; text-decoration-color: #000080\">dividir por </span><span style=\"color: #000080; text-decoration-color: #000080; font-weight: bold\">-0.14286</span><span style=\"color: #000080; text-decoration-color: #000080; font-weight: bold\">)</span>\n",
       "</pre>\n"
      ],
      "text/plain": [
       "\u001b[34mPasso \u001b[0m\u001b[1;34m11\u001b[0m\u001b[34m: Normalizar linha \u001b[0m\u001b[1;34m3\u001b[0m\u001b[34m \u001b[0m\u001b[1;34m(\u001b[0m\u001b[34mdividir por \u001b[0m\u001b[1;34m-0.14286\u001b[0m\u001b[1;34m)\u001b[0m\n"
      ]
     },
     "metadata": {},
     "output_type": "display_data"
    },
    {
     "data": {
      "text/html": [
       "<pre style=\"white-space:pre;overflow-x:auto;line-height:normal;font-family:Menlo,'DejaVu Sans Mono',consolas,'Courier New',monospace\"><span style=\"font-style: italic\">    Matriz após normalização da linha 3     </span>\n",
       "                                            \n",
       " <span style=\"font-weight: bold\"> x_1      </span> <span style=\"font-weight: bold\"> x_2      </span> <span style=\"font-weight: bold\"> x_3     </span> <span style=\"font-weight: bold\"> b        </span> \n",
       " ────────────────────────────────────────── \n",
       " <span style=\"color: #008080; text-decoration-color: #008080\"> 1.00000  </span> <span style=\"color: #008080; text-decoration-color: #008080\"> 0.00000  </span> <span style=\"color: #008080; text-decoration-color: #008080\"> 0.66667 </span> <span style=\"color: #008000; text-decoration-color: #008000\"> 1.66667  </span> \n",
       " <span style=\"color: #008080; text-decoration-color: #008080\"> -0.00000 </span> <span style=\"color: #008080; text-decoration-color: #008080\"> 1.00000  </span> <span style=\"color: #008080; text-decoration-color: #008080\"> 0.28571 </span> <span style=\"color: #008000; text-decoration-color: #008000\"> -1.14286 </span> \n",
       " <span style=\"color: #008080; text-decoration-color: #008080\"> -0.00000 </span> <span style=\"color: #008080; text-decoration-color: #008080\"> -0.00000 </span> <span style=\"color: #008080; text-decoration-color: #008080\"> 1.00000 </span> <span style=\"color: #008000; text-decoration-color: #008000\"> -4.00000 </span> \n",
       "                                            \n",
       "</pre>\n"
      ],
      "text/plain": [
       "\u001b[3m    Matriz após normalização da linha 3     \u001b[0m\n",
       "                                            \n",
       " \u001b[1m \u001b[0m\u001b[1mx_1     \u001b[0m\u001b[1m \u001b[0m \u001b[1m \u001b[0m\u001b[1mx_2     \u001b[0m\u001b[1m \u001b[0m \u001b[1m \u001b[0m\u001b[1mx_3    \u001b[0m\u001b[1m \u001b[0m \u001b[1m \u001b[0m\u001b[1mb       \u001b[0m\u001b[1m \u001b[0m \n",
       " ────────────────────────────────────────── \n",
       " \u001b[36m \u001b[0m\u001b[36m1.00000 \u001b[0m\u001b[36m \u001b[0m \u001b[36m \u001b[0m\u001b[36m0.00000 \u001b[0m\u001b[36m \u001b[0m \u001b[36m \u001b[0m\u001b[36m0.66667\u001b[0m\u001b[36m \u001b[0m \u001b[32m \u001b[0m\u001b[32m1.66667 \u001b[0m\u001b[32m \u001b[0m \n",
       " \u001b[36m \u001b[0m\u001b[36m-0.00000\u001b[0m\u001b[36m \u001b[0m \u001b[36m \u001b[0m\u001b[36m1.00000 \u001b[0m\u001b[36m \u001b[0m \u001b[36m \u001b[0m\u001b[36m0.28571\u001b[0m\u001b[36m \u001b[0m \u001b[32m \u001b[0m\u001b[32m-1.14286\u001b[0m\u001b[32m \u001b[0m \n",
       " \u001b[36m \u001b[0m\u001b[36m-0.00000\u001b[0m\u001b[36m \u001b[0m \u001b[36m \u001b[0m\u001b[36m-0.00000\u001b[0m\u001b[36m \u001b[0m \u001b[36m \u001b[0m\u001b[36m1.00000\u001b[0m\u001b[36m \u001b[0m \u001b[32m \u001b[0m\u001b[32m-4.00000\u001b[0m\u001b[32m \u001b[0m \n",
       "                                            \n"
      ]
     },
     "metadata": {},
     "output_type": "display_data"
    },
    {
     "data": {
      "text/html": [
       "<pre style=\"white-space:pre;overflow-x:auto;line-height:normal;font-family:Menlo,'DejaVu Sans Mono',consolas,'Courier New',monospace\"><span style=\"color: #008000; text-decoration-color: #008000\">Passo </span><span style=\"color: #008000; text-decoration-color: #008000; font-weight: bold\">12</span><span style=\"color: #008000; text-decoration-color: #008000\">: Subtrair </span><span style=\"color: #008000; text-decoration-color: #008000; font-weight: bold\">0.66667</span><span style=\"color: #008000; text-decoration-color: #008000\"> vezes linha </span><span style=\"color: #008000; text-decoration-color: #008000; font-weight: bold\">3</span><span style=\"color: #008000; text-decoration-color: #008000\"> da linha </span><span style=\"color: #008000; text-decoration-color: #008000; font-weight: bold\">1</span>\n",
       "</pre>\n"
      ],
      "text/plain": [
       "\u001b[32mPasso \u001b[0m\u001b[1;32m12\u001b[0m\u001b[32m: Subtrair \u001b[0m\u001b[1;32m0.66667\u001b[0m\u001b[32m vezes linha \u001b[0m\u001b[1;32m3\u001b[0m\u001b[32m da linha \u001b[0m\u001b[1;32m1\u001b[0m\n"
      ]
     },
     "metadata": {},
     "output_type": "display_data"
    },
    {
     "data": {
      "text/html": [
       "<pre style=\"white-space:pre;overflow-x:auto;line-height:normal;font-family:Menlo,'DejaVu Sans Mono',consolas,'Courier New',monospace\"><span style=\"font-style: italic\">  Matriz após eliminação do elemento (1,3)  </span>\n",
       "                                            \n",
       " <span style=\"font-weight: bold\"> x_1      </span> <span style=\"font-weight: bold\"> x_2      </span> <span style=\"font-weight: bold\"> x_3     </span> <span style=\"font-weight: bold\"> b        </span> \n",
       " ────────────────────────────────────────── \n",
       " <span style=\"color: #008080; text-decoration-color: #008080\"> 1.00000  </span> <span style=\"color: #008080; text-decoration-color: #008080\"> 0.00000  </span> <span style=\"color: #008080; text-decoration-color: #008080\"> 0.00000 </span> <span style=\"color: #008000; text-decoration-color: #008000\"> 4.33333  </span> \n",
       " <span style=\"color: #008080; text-decoration-color: #008080\"> -0.00000 </span> <span style=\"color: #008080; text-decoration-color: #008080\"> 1.00000  </span> <span style=\"color: #008080; text-decoration-color: #008080\"> 0.28571 </span> <span style=\"color: #008000; text-decoration-color: #008000\"> -1.14286 </span> \n",
       " <span style=\"color: #008080; text-decoration-color: #008080\"> -0.00000 </span> <span style=\"color: #008080; text-decoration-color: #008080\"> -0.00000 </span> <span style=\"color: #008080; text-decoration-color: #008080\"> 1.00000 </span> <span style=\"color: #008000; text-decoration-color: #008000\"> -4.00000 </span> \n",
       "                                            \n",
       "</pre>\n"
      ],
      "text/plain": [
       "\u001b[3m  Matriz após eliminação do elemento (1,3)  \u001b[0m\n",
       "                                            \n",
       " \u001b[1m \u001b[0m\u001b[1mx_1     \u001b[0m\u001b[1m \u001b[0m \u001b[1m \u001b[0m\u001b[1mx_2     \u001b[0m\u001b[1m \u001b[0m \u001b[1m \u001b[0m\u001b[1mx_3    \u001b[0m\u001b[1m \u001b[0m \u001b[1m \u001b[0m\u001b[1mb       \u001b[0m\u001b[1m \u001b[0m \n",
       " ────────────────────────────────────────── \n",
       " \u001b[36m \u001b[0m\u001b[36m1.00000 \u001b[0m\u001b[36m \u001b[0m \u001b[36m \u001b[0m\u001b[36m0.00000 \u001b[0m\u001b[36m \u001b[0m \u001b[36m \u001b[0m\u001b[36m0.00000\u001b[0m\u001b[36m \u001b[0m \u001b[32m \u001b[0m\u001b[32m4.33333 \u001b[0m\u001b[32m \u001b[0m \n",
       " \u001b[36m \u001b[0m\u001b[36m-0.00000\u001b[0m\u001b[36m \u001b[0m \u001b[36m \u001b[0m\u001b[36m1.00000 \u001b[0m\u001b[36m \u001b[0m \u001b[36m \u001b[0m\u001b[36m0.28571\u001b[0m\u001b[36m \u001b[0m \u001b[32m \u001b[0m\u001b[32m-1.14286\u001b[0m\u001b[32m \u001b[0m \n",
       " \u001b[36m \u001b[0m\u001b[36m-0.00000\u001b[0m\u001b[36m \u001b[0m \u001b[36m \u001b[0m\u001b[36m-0.00000\u001b[0m\u001b[36m \u001b[0m \u001b[36m \u001b[0m\u001b[36m1.00000\u001b[0m\u001b[36m \u001b[0m \u001b[32m \u001b[0m\u001b[32m-4.00000\u001b[0m\u001b[32m \u001b[0m \n",
       "                                            \n"
      ]
     },
     "metadata": {},
     "output_type": "display_data"
    },
    {
     "data": {
      "text/html": [
       "<pre style=\"white-space:pre;overflow-x:auto;line-height:normal;font-family:Menlo,'DejaVu Sans Mono',consolas,'Courier New',monospace\"><span style=\"color: #008000; text-decoration-color: #008000\">Passo </span><span style=\"color: #008000; text-decoration-color: #008000; font-weight: bold\">13</span><span style=\"color: #008000; text-decoration-color: #008000\">: Subtrair </span><span style=\"color: #008000; text-decoration-color: #008000; font-weight: bold\">0.28571</span><span style=\"color: #008000; text-decoration-color: #008000\"> vezes linha </span><span style=\"color: #008000; text-decoration-color: #008000; font-weight: bold\">3</span><span style=\"color: #008000; text-decoration-color: #008000\"> da linha </span><span style=\"color: #008000; text-decoration-color: #008000; font-weight: bold\">2</span>\n",
       "</pre>\n"
      ],
      "text/plain": [
       "\u001b[32mPasso \u001b[0m\u001b[1;32m13\u001b[0m\u001b[32m: Subtrair \u001b[0m\u001b[1;32m0.28571\u001b[0m\u001b[32m vezes linha \u001b[0m\u001b[1;32m3\u001b[0m\u001b[32m da linha \u001b[0m\u001b[1;32m2\u001b[0m\n"
      ]
     },
     "metadata": {},
     "output_type": "display_data"
    },
    {
     "data": {
      "text/html": [
       "<pre style=\"white-space:pre;overflow-x:auto;line-height:normal;font-family:Menlo,'DejaVu Sans Mono',consolas,'Courier New',monospace\"><span style=\"font-style: italic\">  Matriz após eliminação do elemento (2,3)  </span>\n",
       "                                            \n",
       " <span style=\"font-weight: bold\"> x_1      </span> <span style=\"font-weight: bold\"> x_2      </span> <span style=\"font-weight: bold\"> x_3     </span> <span style=\"font-weight: bold\"> b        </span> \n",
       " ────────────────────────────────────────── \n",
       " <span style=\"color: #008080; text-decoration-color: #008080\"> 1.00000  </span> <span style=\"color: #008080; text-decoration-color: #008080\"> 0.00000  </span> <span style=\"color: #008080; text-decoration-color: #008080\"> 0.00000 </span> <span style=\"color: #008000; text-decoration-color: #008000\"> 4.33333  </span> \n",
       " <span style=\"color: #008080; text-decoration-color: #008080\"> 0.00000  </span> <span style=\"color: #008080; text-decoration-color: #008080\"> 1.00000  </span> <span style=\"color: #008080; text-decoration-color: #008080\"> 0.00000 </span> <span style=\"color: #008000; text-decoration-color: #008000\"> 0.00000  </span> \n",
       " <span style=\"color: #008080; text-decoration-color: #008080\"> -0.00000 </span> <span style=\"color: #008080; text-decoration-color: #008080\"> -0.00000 </span> <span style=\"color: #008080; text-decoration-color: #008080\"> 1.00000 </span> <span style=\"color: #008000; text-decoration-color: #008000\"> -4.00000 </span> \n",
       "                                            \n",
       "</pre>\n"
      ],
      "text/plain": [
       "\u001b[3m  Matriz após eliminação do elemento (2,3)  \u001b[0m\n",
       "                                            \n",
       " \u001b[1m \u001b[0m\u001b[1mx_1     \u001b[0m\u001b[1m \u001b[0m \u001b[1m \u001b[0m\u001b[1mx_2     \u001b[0m\u001b[1m \u001b[0m \u001b[1m \u001b[0m\u001b[1mx_3    \u001b[0m\u001b[1m \u001b[0m \u001b[1m \u001b[0m\u001b[1mb       \u001b[0m\u001b[1m \u001b[0m \n",
       " ────────────────────────────────────────── \n",
       " \u001b[36m \u001b[0m\u001b[36m1.00000 \u001b[0m\u001b[36m \u001b[0m \u001b[36m \u001b[0m\u001b[36m0.00000 \u001b[0m\u001b[36m \u001b[0m \u001b[36m \u001b[0m\u001b[36m0.00000\u001b[0m\u001b[36m \u001b[0m \u001b[32m \u001b[0m\u001b[32m4.33333 \u001b[0m\u001b[32m \u001b[0m \n",
       " \u001b[36m \u001b[0m\u001b[36m0.00000 \u001b[0m\u001b[36m \u001b[0m \u001b[36m \u001b[0m\u001b[36m1.00000 \u001b[0m\u001b[36m \u001b[0m \u001b[36m \u001b[0m\u001b[36m0.00000\u001b[0m\u001b[36m \u001b[0m \u001b[32m \u001b[0m\u001b[32m0.00000 \u001b[0m\u001b[32m \u001b[0m \n",
       " \u001b[36m \u001b[0m\u001b[36m-0.00000\u001b[0m\u001b[36m \u001b[0m \u001b[36m \u001b[0m\u001b[36m-0.00000\u001b[0m\u001b[36m \u001b[0m \u001b[36m \u001b[0m\u001b[36m1.00000\u001b[0m\u001b[36m \u001b[0m \u001b[32m \u001b[0m\u001b[32m-4.00000\u001b[0m\u001b[32m \u001b[0m \n",
       "                                            \n"
      ]
     },
     "metadata": {},
     "output_type": "display_data"
    },
    {
     "data": {
      "text/html": [
       "<pre style=\"white-space:pre;overflow-x:auto;line-height:normal;font-family:Menlo,'DejaVu Sans Mono',consolas,'Courier New',monospace\"><span style=\"color: #008000; text-decoration-color: #008000\">╭─────────────────────────────────────────────────── Resultado ───────────────────────────────────────────────────╮</span>\n",
       "<span style=\"color: #008000; text-decoration-color: #008000\">│</span> <span style=\"color: #008000; text-decoration-color: #008000; font-weight: bold\">✓ Solução encontrada com 13 operações elementares</span>                                                               <span style=\"color: #008000; text-decoration-color: #008000\">│</span>\n",
       "<span style=\"color: #008000; text-decoration-color: #008000\">╰─────────────────────────────────────────────────────────────────────────────────────────────────────────────────╯</span>\n",
       "</pre>\n"
      ],
      "text/plain": [
       "\u001b[32m╭─\u001b[0m\u001b[32m──────────────────────────────────────────────────\u001b[0m\u001b[32m Resultado \u001b[0m\u001b[32m──────────────────────────────────────────────────\u001b[0m\u001b[32m─╮\u001b[0m\n",
       "\u001b[32m│\u001b[0m \u001b[1;32m✓ Solução encontrada com 13 operações elementares\u001b[0m                                                               \u001b[32m│\u001b[0m\n",
       "\u001b[32m╰─────────────────────────────────────────────────────────────────────────────────────────────────────────────────╯\u001b[0m\n"
      ]
     },
     "metadata": {},
     "output_type": "display_data"
    },
    {
     "data": {
      "text/html": [
       "<pre style=\"white-space:pre;overflow-x:auto;line-height:normal;font-family:Menlo,'DejaVu Sans Mono',consolas,'Courier New',monospace\"><span style=\"font-weight: bold\">Permutação final das variáveis: [</span><span style=\"color: #008080; text-decoration-color: #008080; font-weight: bold\">3</span><span style=\"font-weight: bold\">, </span><span style=\"color: #008080; text-decoration-color: #008080; font-weight: bold\">1</span><span style=\"font-weight: bold\">, </span><span style=\"color: #008080; text-decoration-color: #008080; font-weight: bold\">2</span><span style=\"font-weight: bold\">]</span>\n",
       "</pre>\n"
      ],
      "text/plain": [
       "\u001b[1mPermutação final das variáveis: \u001b[0m\u001b[1m[\u001b[0m\u001b[1;36m3\u001b[0m\u001b[1m, \u001b[0m\u001b[1;36m1\u001b[0m\u001b[1m, \u001b[0m\u001b[1;36m2\u001b[0m\u001b[1m]\u001b[0m\n"
      ]
     },
     "metadata": {},
     "output_type": "display_data"
    },
    {
     "data": {
      "text/html": [
       "<pre style=\"white-space:pre;overflow-x:auto;line-height:normal;font-family:Menlo,'DejaVu Sans Mono',consolas,'Courier New',monospace\"><span style=\"font-style: italic\">Verificação da Solução </span>\n",
       "<span style=\"font-style: italic\">      - Sistema 3      </span>\n",
       "┏━━━━━━━━━━┳━━━━━━━━━━┓\n",
       "┃<span style=\"font-weight: bold\"> Variável </span>┃<span style=\"font-weight: bold\"> Valor    </span>┃\n",
       "┡━━━━━━━━━━╇━━━━━━━━━━┩\n",
       "│<span style=\"color: #008080; text-decoration-color: #008080\"> x_1      </span>│<span style=\"color: #008000; text-decoration-color: #008000\"> 0.00000  </span>│\n",
       "│<span style=\"color: #008080; text-decoration-color: #008080\"> x_2      </span>│<span style=\"color: #008000; text-decoration-color: #008000\"> -4.00000 </span>│\n",
       "│<span style=\"color: #008080; text-decoration-color: #008080\"> x_3      </span>│<span style=\"color: #008000; text-decoration-color: #008000\"> 4.33333  </span>│\n",
       "└──────────┴──────────┘\n",
       "</pre>\n"
      ],
      "text/plain": [
       "\u001b[3mVerificação da Solução \u001b[0m\n",
       "\u001b[3m      - Sistema 3      \u001b[0m\n",
       "┏━━━━━━━━━━┳━━━━━━━━━━┓\n",
       "┃\u001b[1m \u001b[0m\u001b[1mVariável\u001b[0m\u001b[1m \u001b[0m┃\u001b[1m \u001b[0m\u001b[1mValor   \u001b[0m\u001b[1m \u001b[0m┃\n",
       "┡━━━━━━━━━━╇━━━━━━━━━━┩\n",
       "│\u001b[36m \u001b[0m\u001b[36mx_1     \u001b[0m\u001b[36m \u001b[0m│\u001b[32m \u001b[0m\u001b[32m0.00000 \u001b[0m\u001b[32m \u001b[0m│\n",
       "│\u001b[36m \u001b[0m\u001b[36mx_2     \u001b[0m\u001b[36m \u001b[0m│\u001b[32m \u001b[0m\u001b[32m-4.00000\u001b[0m\u001b[32m \u001b[0m│\n",
       "│\u001b[36m \u001b[0m\u001b[36mx_3     \u001b[0m\u001b[36m \u001b[0m│\u001b[32m \u001b[0m\u001b[32m4.33333 \u001b[0m\u001b[32m \u001b[0m│\n",
       "└──────────┴──────────┘\n"
      ]
     },
     "metadata": {},
     "output_type": "display_data"
    },
    {
     "data": {
      "text/html": [
       "<pre style=\"white-space:pre;overflow-x:auto;line-height:normal;font-family:Menlo,'DejaVu Sans Mono',consolas,'Courier New',monospace\"><span style=\"font-style: italic\">       Verificação A*x = b       </span>\n",
       "┏━━━━━━━━━┳━━━━━━━━━┳━━━━━━━━━━━┓\n",
       "┃<span style=\"font-weight: bold\"> A*x     </span>┃<span style=\"font-weight: bold\"> b       </span>┃<span style=\"font-weight: bold\"> Diferença </span>┃\n",
       "┡━━━━━━━━━╇━━━━━━━━━╇━━━━━━━━━━━┩\n",
       "│<span style=\"color: #800080; text-decoration-color: #800080\"> 5.00000 </span>│<span style=\"color: #000080; text-decoration-color: #000080\"> 5.00000 </span>│<span style=\"color: #800000; text-decoration-color: #800000\"> 0.00000   </span>│\n",
       "│<span style=\"color: #800080; text-decoration-color: #800080\"> 6.00000 </span>│<span style=\"color: #000080; text-decoration-color: #000080\"> 6.00000 </span>│<span style=\"color: #800000; text-decoration-color: #800000\"> 0.00000   </span>│\n",
       "│<span style=\"color: #800080; text-decoration-color: #800080\"> 7.00000 </span>│<span style=\"color: #000080; text-decoration-color: #000080\"> 7.00000 </span>│<span style=\"color: #800000; text-decoration-color: #800000\"> 0.00000   </span>│\n",
       "└─────────┴─────────┴───────────┘\n",
       "</pre>\n"
      ],
      "text/plain": [
       "\u001b[3m       Verificação A*x = b       \u001b[0m\n",
       "┏━━━━━━━━━┳━━━━━━━━━┳━━━━━━━━━━━┓\n",
       "┃\u001b[1m \u001b[0m\u001b[1mA*x    \u001b[0m\u001b[1m \u001b[0m┃\u001b[1m \u001b[0m\u001b[1mb      \u001b[0m\u001b[1m \u001b[0m┃\u001b[1m \u001b[0m\u001b[1mDiferença\u001b[0m\u001b[1m \u001b[0m┃\n",
       "┡━━━━━━━━━╇━━━━━━━━━╇━━━━━━━━━━━┩\n",
       "│\u001b[35m \u001b[0m\u001b[35m5.00000\u001b[0m\u001b[35m \u001b[0m│\u001b[34m \u001b[0m\u001b[34m5.00000\u001b[0m\u001b[34m \u001b[0m│\u001b[31m \u001b[0m\u001b[31m0.00000  \u001b[0m\u001b[31m \u001b[0m│\n",
       "│\u001b[35m \u001b[0m\u001b[35m6.00000\u001b[0m\u001b[35m \u001b[0m│\u001b[34m \u001b[0m\u001b[34m6.00000\u001b[0m\u001b[34m \u001b[0m│\u001b[31m \u001b[0m\u001b[31m0.00000  \u001b[0m\u001b[31m \u001b[0m│\n",
       "│\u001b[35m \u001b[0m\u001b[35m7.00000\u001b[0m\u001b[35m \u001b[0m│\u001b[34m \u001b[0m\u001b[34m7.00000\u001b[0m\u001b[34m \u001b[0m│\u001b[31m \u001b[0m\u001b[31m0.00000  \u001b[0m\u001b[31m \u001b[0m│\n",
       "└─────────┴─────────┴───────────┘\n"
      ]
     },
     "metadata": {},
     "output_type": "display_data"
    },
    {
     "data": {
      "text/html": [
       "<pre style=\"white-space:pre;overflow-x:auto;line-height:normal;font-family:Menlo,'DejaVu Sans Mono',consolas,'Courier New',monospace\">Norma do resíduo ||A*x - b|| = <span style=\"color: #008080; text-decoration-color: #008080; font-weight: bold\">0.00000</span>\n",
       "</pre>\n"
      ],
      "text/plain": [
       "Norma do resíduo ||A*x - b|| = \u001b[1;36m0.00000\u001b[0m\n"
      ]
     },
     "metadata": {},
     "output_type": "display_data"
    },
    {
     "data": {
      "text/html": [
       "<pre style=\"white-space:pre;overflow-x:auto;line-height:normal;font-family:Menlo,'DejaVu Sans Mono',consolas,'Courier New',monospace\"><span style=\"color: #008000; text-decoration-color: #008000; font-weight: bold\">✓ A solução é precisa!</span>\n",
       "</pre>\n"
      ],
      "text/plain": [
       "\u001b[1;32m✓ A solução é precisa!\u001b[0m\n"
      ]
     },
     "metadata": {},
     "output_type": "display_data"
    },
    {
     "data": {
      "text/html": [
       "<pre style=\"white-space:pre;overflow-x:auto;line-height:normal;font-family:Menlo,'DejaVu Sans Mono',consolas,'Courier New',monospace\"><span style=\"font-style: italic\">                Resultados da Solução                 </span>\n",
       "┏━━━━━━━━━━━━━━━━━━━━━━━━━━━━━━━━━┳━━━━━━━━━━━━━━━━━━┓\n",
       "┃<span style=\"font-weight: bold\"> Parâmetro                       </span>┃<span style=\"font-weight: bold\"> Valor            </span>┃\n",
       "┡━━━━━━━━━━━━━━━━━━━━━━━━━━━━━━━━━╇━━━━━━━━━━━━━━━━━━┩\n",
       "│<span style=\"color: #008080; text-decoration-color: #008080\"> Número de equações              </span>│<span style=\"color: #008000; text-decoration-color: #008000\"> 3                </span>│\n",
       "│<span style=\"color: #008080; text-decoration-color: #008080\"> Número de operações elementares </span>│<span style=\"color: #008000; text-decoration-color: #008000\"> 13               </span>│\n",
       "│<span style=\"color: #008080; text-decoration-color: #008080\"> Tempo de execução               </span>│<span style=\"color: #008000; text-decoration-color: #008000\"> 0.05552 segundos </span>│\n",
       "│<span style=\"color: #008080; text-decoration-color: #008080\"> Permutação final das variáveis  </span>│<span style=\"color: #008000; text-decoration-color: #008000\"> [3, 1, 2]        </span>│\n",
       "└─────────────────────────────────┴──────────────────┘\n",
       "</pre>\n"
      ],
      "text/plain": [
       "\u001b[3m                Resultados da Solução                 \u001b[0m\n",
       "┏━━━━━━━━━━━━━━━━━━━━━━━━━━━━━━━━━┳━━━━━━━━━━━━━━━━━━┓\n",
       "┃\u001b[1m \u001b[0m\u001b[1mParâmetro                      \u001b[0m\u001b[1m \u001b[0m┃\u001b[1m \u001b[0m\u001b[1mValor           \u001b[0m\u001b[1m \u001b[0m┃\n",
       "┡━━━━━━━━━━━━━━━━━━━━━━━━━━━━━━━━━╇━━━━━━━━━━━━━━━━━━┩\n",
       "│\u001b[36m \u001b[0m\u001b[36mNúmero de equações             \u001b[0m\u001b[36m \u001b[0m│\u001b[32m \u001b[0m\u001b[32m3               \u001b[0m\u001b[32m \u001b[0m│\n",
       "│\u001b[36m \u001b[0m\u001b[36mNúmero de operações elementares\u001b[0m\u001b[36m \u001b[0m│\u001b[32m \u001b[0m\u001b[32m13              \u001b[0m\u001b[32m \u001b[0m│\n",
       "│\u001b[36m \u001b[0m\u001b[36mTempo de execução              \u001b[0m\u001b[36m \u001b[0m│\u001b[32m \u001b[0m\u001b[32m0.05552 segundos\u001b[0m\u001b[32m \u001b[0m│\n",
       "│\u001b[36m \u001b[0m\u001b[36mPermutação final das variáveis \u001b[0m\u001b[36m \u001b[0m│\u001b[32m \u001b[0m\u001b[32m[3, 1, 2]       \u001b[0m\u001b[32m \u001b[0m│\n",
       "└─────────────────────────────────┴──────────────────┘\n"
      ]
     },
     "metadata": {},
     "output_type": "display_data"
    },
    {
     "data": {
      "text/html": [
       "<pre style=\"white-space:pre;overflow-x:auto;line-height:normal;font-family:Menlo,'DejaVu Sans Mono',consolas,'Courier New',monospace\"><span style=\"font-style: italic\">  Solução do Sistema   </span>\n",
       "┏━━━━━━━━━━┳━━━━━━━━━━┓\n",
       "┃<span style=\"font-weight: bold\"> Variável </span>┃<span style=\"font-weight: bold\"> Valor    </span>┃\n",
       "┡━━━━━━━━━━╇━━━━━━━━━━┩\n",
       "│<span style=\"color: #008080; text-decoration-color: #008080\"> x_1      </span>│<span style=\"color: #008000; text-decoration-color: #008000\"> 0.00000  </span>│\n",
       "│<span style=\"color: #008080; text-decoration-color: #008080\"> x_2      </span>│<span style=\"color: #008000; text-decoration-color: #008000\"> -4.00000 </span>│\n",
       "│<span style=\"color: #008080; text-decoration-color: #008080\"> x_3      </span>│<span style=\"color: #008000; text-decoration-color: #008000\"> 4.33333  </span>│\n",
       "└──────────┴──────────┘\n",
       "</pre>\n"
      ],
      "text/plain": [
       "\u001b[3m  Solução do Sistema   \u001b[0m\n",
       "┏━━━━━━━━━━┳━━━━━━━━━━┓\n",
       "┃\u001b[1m \u001b[0m\u001b[1mVariável\u001b[0m\u001b[1m \u001b[0m┃\u001b[1m \u001b[0m\u001b[1mValor   \u001b[0m\u001b[1m \u001b[0m┃\n",
       "┡━━━━━━━━━━╇━━━━━━━━━━┩\n",
       "│\u001b[36m \u001b[0m\u001b[36mx_1     \u001b[0m\u001b[36m \u001b[0m│\u001b[32m \u001b[0m\u001b[32m0.00000 \u001b[0m\u001b[32m \u001b[0m│\n",
       "│\u001b[36m \u001b[0m\u001b[36mx_2     \u001b[0m\u001b[36m \u001b[0m│\u001b[32m \u001b[0m\u001b[32m-4.00000\u001b[0m\u001b[32m \u001b[0m│\n",
       "│\u001b[36m \u001b[0m\u001b[36mx_3     \u001b[0m\u001b[36m \u001b[0m│\u001b[32m \u001b[0m\u001b[32m4.33333 \u001b[0m\u001b[32m \u001b[0m│\n",
       "└──────────┴──────────┘\n"
      ]
     },
     "metadata": {},
     "output_type": "display_data"
    },
    {
     "data": {
      "text/html": [
       "<pre style=\"white-space:pre;overflow-x:auto;line-height:normal;font-family:Menlo,'DejaVu Sans Mono',consolas,'Courier New',monospace\"><span style=\"font-style: italic\">             Verificação da Solução              </span>\n",
       "┏━━━━━━━━━━━┳━━━━━━━━━┳━━━━━━━━━┳━━━━━━━━━━━━━━━┓\n",
       "┃<span style=\"font-weight: bold\"> Equação   </span>┃<span style=\"font-weight: bold\"> A*x     </span>┃<span style=\"font-weight: bold\"> b       </span>┃<span style=\"font-weight: bold\"> Erro Absoluto </span>┃\n",
       "┡━━━━━━━━━━━╇━━━━━━━━━╇━━━━━━━━━╇━━━━━━━━━━━━━━━┩\n",
       "│<span style=\"color: #008080; text-decoration-color: #008080\"> Equação 1 </span>│<span style=\"color: #800080; text-decoration-color: #800080\"> 5.00000 </span>│<span style=\"color: #000080; text-decoration-color: #000080\"> 5.00000 </span>│<span style=\"color: #800000; text-decoration-color: #800000\"> 0.00000       </span>│\n",
       "│<span style=\"color: #008080; text-decoration-color: #008080\"> Equação 2 </span>│<span style=\"color: #800080; text-decoration-color: #800080\"> 6.00000 </span>│<span style=\"color: #000080; text-decoration-color: #000080\"> 6.00000 </span>│<span style=\"color: #800000; text-decoration-color: #800000\"> 0.00000       </span>│\n",
       "│<span style=\"color: #008080; text-decoration-color: #008080\"> Equação 3 </span>│<span style=\"color: #800080; text-decoration-color: #800080\"> 7.00000 </span>│<span style=\"color: #000080; text-decoration-color: #000080\"> 7.00000 </span>│<span style=\"color: #800000; text-decoration-color: #800000\"> 0.00000       </span>│\n",
       "└───────────┴─────────┴─────────┴───────────────┘\n",
       "</pre>\n"
      ],
      "text/plain": [
       "\u001b[3m             Verificação da Solução              \u001b[0m\n",
       "┏━━━━━━━━━━━┳━━━━━━━━━┳━━━━━━━━━┳━━━━━━━━━━━━━━━┓\n",
       "┃\u001b[1m \u001b[0m\u001b[1mEquação  \u001b[0m\u001b[1m \u001b[0m┃\u001b[1m \u001b[0m\u001b[1mA*x    \u001b[0m\u001b[1m \u001b[0m┃\u001b[1m \u001b[0m\u001b[1mb      \u001b[0m\u001b[1m \u001b[0m┃\u001b[1m \u001b[0m\u001b[1mErro Absoluto\u001b[0m\u001b[1m \u001b[0m┃\n",
       "┡━━━━━━━━━━━╇━━━━━━━━━╇━━━━━━━━━╇━━━━━━━━━━━━━━━┩\n",
       "│\u001b[36m \u001b[0m\u001b[36mEquação 1\u001b[0m\u001b[36m \u001b[0m│\u001b[35m \u001b[0m\u001b[35m5.00000\u001b[0m\u001b[35m \u001b[0m│\u001b[34m \u001b[0m\u001b[34m5.00000\u001b[0m\u001b[34m \u001b[0m│\u001b[31m \u001b[0m\u001b[31m0.00000      \u001b[0m\u001b[31m \u001b[0m│\n",
       "│\u001b[36m \u001b[0m\u001b[36mEquação 2\u001b[0m\u001b[36m \u001b[0m│\u001b[35m \u001b[0m\u001b[35m6.00000\u001b[0m\u001b[35m \u001b[0m│\u001b[34m \u001b[0m\u001b[34m6.00000\u001b[0m\u001b[34m \u001b[0m│\u001b[31m \u001b[0m\u001b[31m0.00000      \u001b[0m\u001b[31m \u001b[0m│\n",
       "│\u001b[36m \u001b[0m\u001b[36mEquação 3\u001b[0m\u001b[36m \u001b[0m│\u001b[35m \u001b[0m\u001b[35m7.00000\u001b[0m\u001b[35m \u001b[0m│\u001b[34m \u001b[0m\u001b[34m7.00000\u001b[0m\u001b[34m \u001b[0m│\u001b[31m \u001b[0m\u001b[31m0.00000      \u001b[0m\u001b[31m \u001b[0m│\n",
       "└───────────┴─────────┴─────────┴───────────────┘\n"
      ]
     },
     "metadata": {},
     "output_type": "display_data"
    },
    {
     "data": {
      "text/html": [
       "<pre style=\"white-space:pre;overflow-x:auto;line-height:normal;font-family:Menlo,'DejaVu Sans Mono',consolas,'Courier New',monospace\"><span style=\"color: #008000; text-decoration-color: #008000\">╭─────────────────────────────────────────────────── Conclusão ───────────────────────────────────────────────────╮</span>\n",
       "<span style=\"color: #008000; text-decoration-color: #008000\">│</span> <span style=\"color: #008000; text-decoration-color: #008000; font-weight: bold\">✓ Sistema resolvido com sucesso!</span>                                                                                <span style=\"color: #008000; text-decoration-color: #008000\">│</span>\n",
       "<span style=\"color: #008000; text-decoration-color: #008000\">│</span> Resíduo: 0.00000                                                                                                <span style=\"color: #008000; text-decoration-color: #008000\">│</span>\n",
       "<span style=\"color: #008000; text-decoration-color: #008000\">│</span> Erro relativo: 0.00000                                                                                          <span style=\"color: #008000; text-decoration-color: #008000\">│</span>\n",
       "<span style=\"color: #008000; text-decoration-color: #008000\">╰─────────────────────────────────────────────────────────────────────────────────────────────────────────────────╯</span>\n",
       "</pre>\n"
      ],
      "text/plain": [
       "\u001b[32m╭─\u001b[0m\u001b[32m──────────────────────────────────────────────────\u001b[0m\u001b[32m Conclusão \u001b[0m\u001b[32m──────────────────────────────────────────────────\u001b[0m\u001b[32m─╮\u001b[0m\n",
       "\u001b[32m│\u001b[0m \u001b[1;32m✓ Sistema resolvido com sucesso!\u001b[0m                                                                                \u001b[32m│\u001b[0m\n",
       "\u001b[32m│\u001b[0m Resíduo: 0.00000                                                                                                \u001b[32m│\u001b[0m\n",
       "\u001b[32m│\u001b[0m Erro relativo: 0.00000                                                                                          \u001b[32m│\u001b[0m\n",
       "\u001b[32m╰─────────────────────────────────────────────────────────────────────────────────────────────────────────────────╯\u001b[0m\n"
      ]
     },
     "metadata": {},
     "output_type": "display_data"
    },
    {
     "data": {
      "text/html": [
       "<pre style=\"white-space:pre;overflow-x:auto;line-height:normal;font-family:Menlo,'DejaVu Sans Mono',consolas,'Courier New',monospace\"><span style=\"background-color: #272822\">                                                                                                                   </span>\n",
       "<span style=\"background-color: #272822\"> </span><span style=\"color: #f8f8f2; text-decoration-color: #f8f8f2; background-color: #272822\">## Sugestão para anotação no relatório:</span><span style=\"background-color: #272822\">                                                                           </span>\n",
       "<span style=\"background-color: #272822\">                                                                                                                   </span>\n",
       "<span style=\"background-color: #272822\"> </span><span style=\"color: #f8f8f2; text-decoration-color: #f8f8f2; background-color: #272822\">### Método Utilizado</span><span style=\"background-color: #272822\">                                                                                              </span>\n",
       "<span style=\"background-color: #272822\"> </span><span style=\"color: #f8f8f2; text-decoration-color: #f8f8f2; background-color: #272822\">O sistema foi resolvido utilizando o método direto de Gauss-Jordan com pivotação completa.</span><span style=\"background-color: #272822\">                        </span>\n",
       "<span style=\"background-color: #272822\">                                                                                                                   </span>\n",
       "<span style=\"background-color: #272822\"> </span><span style=\"color: #f8f8f2; text-decoration-color: #f8f8f2; background-color: #272822\">### Parâmetros da Solução</span><span style=\"background-color: #272822\">                                                                                         </span>\n",
       "<span style=\"background-color: #272822\"> </span><span style=\"color: #f8f8f2; text-decoration-color: #f8f8f2; background-color: #272822\">- **Número de operações elementares:** 13</span><span style=\"background-color: #272822\">                                                                         </span>\n",
       "<span style=\"background-color: #272822\"> </span><span style=\"color: #f8f8f2; text-decoration-color: #f8f8f2; background-color: #272822\">- **Tempo de processamento:** 0.05552 s</span><span style=\"background-color: #272822\">                                                                           </span>\n",
       "<span style=\"background-color: #272822\"> </span><span style=\"color: #f8f8f2; text-decoration-color: #f8f8f2; background-color: #272822\">- **Permutação final das variáveis:** [3, 1, 2]</span><span style=\"background-color: #272822\">                                                                   </span>\n",
       "<span style=\"background-color: #272822\">                                                                                                                   </span>\n",
       "<span style=\"background-color: #272822\"> </span><span style=\"color: #f8f8f2; text-decoration-color: #f8f8f2; background-color: #272822\">### Solução Encontrada</span><span style=\"background-color: #272822\">                                                                                            </span>\n",
       "<span style=\"background-color: #272822\"> </span><span style=\"color: #f8f8f2; text-decoration-color: #f8f8f2; background-color: #272822\">x_1 = 0.00000, x_2 = -4.00000, x_3 = 4.33333</span><span style=\"background-color: #272822\">                                                                      </span>\n",
       "<span style=\"background-color: #272822\">                                                                                                                   </span>\n",
       "<span style=\"background-color: #272822\"> </span><span style=\"color: #f8f8f2; text-decoration-color: #f8f8f2; background-color: #272822\">### Verificação</span><span style=\"background-color: #272822\">                                                                                                   </span>\n",
       "<span style=\"background-color: #272822\"> </span><span style=\"color: #f8f8f2; text-decoration-color: #f8f8f2; background-color: #272822\">O resíduo da solução (||A*x - b||) foi 0.00000, com erro relativo de 0.00000.</span><span style=\"background-color: #272822\">                                     </span>\n",
       "<span style=\"background-color: #272822\">                                                                                                                   </span>\n",
       "<span style=\"background-color: #272822\"> </span><span style=\"color: #f8f8f2; text-decoration-color: #f8f8f2; background-color: #272822\">### Conclusão</span><span style=\"background-color: #272822\">                                                                                                     </span>\n",
       "<span style=\"background-color: #272822\"> </span><span style=\"color: #f8f8f2; text-decoration-color: #f8f8f2; background-color: #272822\">A solução encontrada é exata e confiável.</span><span style=\"background-color: #272822\">                                                                         </span>\n",
       "<span style=\"background-color: #272822\">                                                                                                                   </span>\n",
       "</pre>\n"
      ],
      "text/plain": [
       "\u001b[48;2;39;40;34m                                                                                                                   \u001b[0m\n",
       "\u001b[48;2;39;40;34m \u001b[0m\u001b[38;2;248;248;242;48;2;39;40;34m## Sugestão para anotação no relatório:\u001b[0m\u001b[48;2;39;40;34m                                                                          \u001b[0m\u001b[48;2;39;40;34m \u001b[0m\n",
       "\u001b[48;2;39;40;34m \u001b[0m\u001b[48;2;39;40;34m                                                                                                                 \u001b[0m\u001b[48;2;39;40;34m \u001b[0m\n",
       "\u001b[48;2;39;40;34m \u001b[0m\u001b[38;2;248;248;242;48;2;39;40;34m### Método Utilizado\u001b[0m\u001b[48;2;39;40;34m                                                                                             \u001b[0m\u001b[48;2;39;40;34m \u001b[0m\n",
       "\u001b[48;2;39;40;34m \u001b[0m\u001b[38;2;248;248;242;48;2;39;40;34mO sistema foi resolvido utilizando o método direto de Gauss-Jordan com pivotação completa.\u001b[0m\u001b[48;2;39;40;34m                       \u001b[0m\u001b[48;2;39;40;34m \u001b[0m\n",
       "\u001b[48;2;39;40;34m \u001b[0m\u001b[48;2;39;40;34m                                                                                                                 \u001b[0m\u001b[48;2;39;40;34m \u001b[0m\n",
       "\u001b[48;2;39;40;34m \u001b[0m\u001b[38;2;248;248;242;48;2;39;40;34m### Parâmetros da Solução\u001b[0m\u001b[48;2;39;40;34m                                                                                        \u001b[0m\u001b[48;2;39;40;34m \u001b[0m\n",
       "\u001b[48;2;39;40;34m \u001b[0m\u001b[38;2;248;248;242;48;2;39;40;34m- **Número de operações elementares:** 13\u001b[0m\u001b[48;2;39;40;34m                                                                        \u001b[0m\u001b[48;2;39;40;34m \u001b[0m\n",
       "\u001b[48;2;39;40;34m \u001b[0m\u001b[38;2;248;248;242;48;2;39;40;34m- **Tempo de processamento:** 0.05552 s\u001b[0m\u001b[48;2;39;40;34m                                                                          \u001b[0m\u001b[48;2;39;40;34m \u001b[0m\n",
       "\u001b[48;2;39;40;34m \u001b[0m\u001b[38;2;248;248;242;48;2;39;40;34m- **Permutação final das variáveis:** [3, 1, 2]\u001b[0m\u001b[48;2;39;40;34m                                                                  \u001b[0m\u001b[48;2;39;40;34m \u001b[0m\n",
       "\u001b[48;2;39;40;34m \u001b[0m\u001b[48;2;39;40;34m                                                                                                                 \u001b[0m\u001b[48;2;39;40;34m \u001b[0m\n",
       "\u001b[48;2;39;40;34m \u001b[0m\u001b[38;2;248;248;242;48;2;39;40;34m### Solução Encontrada\u001b[0m\u001b[48;2;39;40;34m                                                                                           \u001b[0m\u001b[48;2;39;40;34m \u001b[0m\n",
       "\u001b[48;2;39;40;34m \u001b[0m\u001b[38;2;248;248;242;48;2;39;40;34mx_1 = 0.00000, x_2 = -4.00000, x_3 = 4.33333\u001b[0m\u001b[48;2;39;40;34m                                                                     \u001b[0m\u001b[48;2;39;40;34m \u001b[0m\n",
       "\u001b[48;2;39;40;34m \u001b[0m\u001b[48;2;39;40;34m                                                                                                                 \u001b[0m\u001b[48;2;39;40;34m \u001b[0m\n",
       "\u001b[48;2;39;40;34m \u001b[0m\u001b[38;2;248;248;242;48;2;39;40;34m### Verificação\u001b[0m\u001b[48;2;39;40;34m                                                                                                  \u001b[0m\u001b[48;2;39;40;34m \u001b[0m\n",
       "\u001b[48;2;39;40;34m \u001b[0m\u001b[38;2;248;248;242;48;2;39;40;34mO resíduo da solução (||A*x - b||) foi 0.00000, com erro relativo de 0.00000.\u001b[0m\u001b[48;2;39;40;34m                                    \u001b[0m\u001b[48;2;39;40;34m \u001b[0m\n",
       "\u001b[48;2;39;40;34m \u001b[0m\u001b[48;2;39;40;34m                                                                                                                 \u001b[0m\u001b[48;2;39;40;34m \u001b[0m\n",
       "\u001b[48;2;39;40;34m \u001b[0m\u001b[38;2;248;248;242;48;2;39;40;34m### Conclusão\u001b[0m\u001b[48;2;39;40;34m                                                                                                    \u001b[0m\u001b[48;2;39;40;34m \u001b[0m\n",
       "\u001b[48;2;39;40;34m \u001b[0m\u001b[38;2;248;248;242;48;2;39;40;34mA solução encontrada é exata e confiável.\u001b[0m\u001b[48;2;39;40;34m                                                                        \u001b[0m\u001b[48;2;39;40;34m \u001b[0m\n",
       "\u001b[48;2;39;40;34m                                                                                                                   \u001b[0m\n"
      ]
     },
     "metadata": {},
     "output_type": "display_data"
    }
   ],
   "source": [
    "import numpy as np\n",
    "from rich.console import Console\n",
    "from rich.table import Table\n",
    "from rich.panel import Panel\n",
    "from rich.markdown import Markdown\n",
    "from rich import box\n",
    "import time\n",
    "\n",
    "# Configurar numpy para não usar notação científica\n",
    "np.set_printoptions(precision=5, suppress=True)\n",
    "\n",
    "# Inicializar o console Rich\n",
    "console = Console()\n",
    "\n",
    "def gauss_jordan_pivot_completo(A, b, show_steps=False):\n",
    "    \"\"\"\n",
    "    Resolve um sistema de equações lineares usando o método de Gauss-Jordan com pivotação completa.\n",
    "    \n",
    "    Parâmetros:\n",
    "    A: matriz dos coeficientes (numpy array)\n",
    "    b: vetor dos termos independentes (numpy array)\n",
    "    show_steps: se True, mostra os passos intermediários do método\n",
    "    \n",
    "    Retorna:\n",
    "    x: solução encontrada\n",
    "    steps: número de operações elementares realizadas\n",
    "    time_history: histórico de tempo de operações\n",
    "    error_msg: mensagem de erro (se houver)\n",
    "    permutation: vetor de permutação das variáveis\n",
    "    \"\"\"\n",
    "    # Copiar matrizes para não modificar as originais\n",
    "    A = A.copy().astype(float)\n",
    "    b = b.copy().astype(float)\n",
    "    n = len(A)\n",
    "    \n",
    "    # Verificar se a matriz é quadrada\n",
    "    if A.shape[0] != A.shape[1]:\n",
    "        return None, 0, [], \"A matriz de coeficientes não é quadrada.\", None\n",
    "    \n",
    "    # Criar a matriz aumentada [A|b]\n",
    "    Ab = np.column_stack((A, b))\n",
    "    \n",
    "    # Inicializar vetor de permutação para rastrear as trocas de colunas\n",
    "    permutation = np.arange(n)\n",
    "    \n",
    "    steps = 0\n",
    "    time_history = []\n",
    "    start_time = time.time()\n",
    "    \n",
    "    # Fase de Eliminação Gauss-Jordan com pivotação completa\n",
    "    for i in range(n):  # Para cada linha\n",
    "        # Encontrar o elemento de maior valor absoluto na submatriz não processada\n",
    "        submatrix = np.abs(Ab[i:, i:n])\n",
    "        max_idx = np.unravel_index(np.argmax(submatrix), submatrix.shape)\n",
    "        max_row = i + max_idx[0]  # Linha do pivô\n",
    "        max_col = i + max_idx[1]  # Coluna do pivô\n",
    "        \n",
    "        # Trocar linhas se necessário\n",
    "        if max_row != i:\n",
    "            Ab[[i, max_row]] = Ab[[max_row, i]]\n",
    "            steps += 1\n",
    "            if show_steps:\n",
    "                console.print(f\"[yellow]Passo {steps}: Trocar linhas {i+1} e {max_row+1}[/yellow]\")\n",
    "                mostrar_matriz_aumentada(Ab, f\"Matriz após troca de linhas {i+1} e {max_row+1}\")\n",
    "        \n",
    "        # Trocar colunas se necessário (exceto a coluna dos termos independentes)\n",
    "        if max_col != i:\n",
    "            Ab[:, [i, max_col]] = Ab[:, [max_col, i]]\n",
    "            permutation[[i, max_col]] = permutation[[max_col, i]]  # Atualizar vetor de permutação\n",
    "            steps += 1\n",
    "            if show_steps:\n",
    "                console.print(f\"[yellow]Passo {steps}: Trocar colunas {i+1} e {max_col+1}[/yellow]\")\n",
    "                mostrar_matriz_aumentada(Ab, f\"Matriz após troca de colunas {i+1} e {max_col+1}\")\n",
    "                console.print(f\"[blue]Vetor de permutação atualizado: {permutation+1}[/blue]\")\n",
    "        \n",
    "        # Verificar se o pivô é zero (sistema singular)\n",
    "        if abs(Ab[i, i]) < 1e-10:\n",
    "            return None, steps, time_history, f\"O sistema pode ser singular ou mal condicionado. Pivô na posição ({i+1},{i+1}) muito próximo de zero.\", permutation\n",
    "        \n",
    "        # Normalizar a linha i (dividir pelo pivô)\n",
    "        pivot = Ab[i, i]\n",
    "        Ab[i] = Ab[i] / pivot\n",
    "        steps += 1\n",
    "        \n",
    "        if show_steps:\n",
    "            console.print(f\"[blue]Passo {steps}: Normalizar linha {i+1} (dividir por {pivot:.5f})[/blue]\")\n",
    "            mostrar_matriz_aumentada(Ab, f\"Matriz após normalização da linha {i+1}\")\n",
    "        \n",
    "        # Eliminar os elementos nas outras linhas na coluna i\n",
    "        for j in range(n):  # Para todas as linhas\n",
    "            if j != i:  # Exceto a linha do pivô\n",
    "                factor = Ab[j, i]\n",
    "                if abs(factor) > 1e-10:  # Se o elemento não for zero\n",
    "                    Ab[j] = Ab[j] - factor * Ab[i]\n",
    "                    steps += 1\n",
    "                    \n",
    "                    if show_steps:\n",
    "                        console.print(f\"[green]Passo {steps}: Subtrair {factor:.5f} vezes linha {i+1} da linha {j+1}[/green]\")\n",
    "                        mostrar_matriz_aumentada(Ab, f\"Matriz após eliminação do elemento ({j+1},{i+1})\")\n",
    "        \n",
    "        # Registrar o tempo após cada operação importante\n",
    "        current_time = time.time() - start_time\n",
    "        time_history.append(current_time)\n",
    "    \n",
    "    # Reordenar a solução conforme a permutação realizada\n",
    "    x_permutado = Ab[:, n]  # Solução na ordem permutada\n",
    "    x = np.zeros_like(x_permutado)\n",
    "    \n",
    "    for i in range(n):\n",
    "        x[permutation[i]] = x_permutado[i]\n",
    "    \n",
    "    # Registrar o tempo final\n",
    "    current_time = time.time() - start_time\n",
    "    time_history.append(current_time)\n",
    "    \n",
    "    return x, steps, time_history, None, permutation\n",
    "\n",
    "def mostrar_matriz_aumentada(Ab, titulo):\n",
    "    \"\"\"\n",
    "    Mostra a matriz aumentada [A|b] em formato de tabela.\n",
    "    \n",
    "    Parâmetros:\n",
    "    Ab: matriz aumentada [A|b]\n",
    "    titulo: título da tabela\n",
    "    \"\"\"\n",
    "    n = Ab.shape[0]\n",
    "    m = Ab.shape[1]\n",
    "    \n",
    "    table = Table(title=titulo, box=box.SIMPLE)\n",
    "    \n",
    "    # Adicionar colunas para cada variável e para o vetor b\n",
    "    for j in range(m-1):\n",
    "        table.add_column(f\"x_{j+1}\", style=\"cyan\")\n",
    "    table.add_column(\"b\", style=\"green\")\n",
    "    \n",
    "    # Adicionar linhas\n",
    "    for i in range(n):\n",
    "        row_data = [f\"{Ab[i,j]:.5f}\" for j in range(m)]\n",
    "        table.add_row(*row_data)\n",
    "    \n",
    "    console.print(table)\n",
    "\n",
    "def imprimir_sistema(A, b, titulo):\n",
    "    \"\"\"\n",
    "    Formata e imprime um sistema de equações lineares.\n",
    "    \n",
    "    Parâmetros:\n",
    "    A (numpy.ndarray): Matriz de coeficientes.\n",
    "    b (numpy.ndarray): Vetor dos termos independentes.\n",
    "    titulo (str): Título do sistema.\n",
    "    \"\"\"\n",
    "    n = len(b)\n",
    "    equacoes = []\n",
    "    \n",
    "    for i in range(n):\n",
    "        eq = \"\"\n",
    "        for j in range(n):\n",
    "            coef = A[i, j]\n",
    "            if j == 0:\n",
    "                eq += f\"{coef:.5f}x_{j+1}\"\n",
    "            else:\n",
    "                if coef >= 0:\n",
    "                    eq += f\" + {coef:.5f}x_{j+1}\"\n",
    "                else:\n",
    "                    eq += f\" - {abs(coef):.5f}x_{j+1}\"\n",
    "        eq += f\" = {b[i]:.5f}\"\n",
    "        equacoes.append(eq)\n",
    "    \n",
    "    md = f\"## {titulo}\\n\\n\"\n",
    "    for i, eq in enumerate(equacoes):\n",
    "        md += f\"Equação {i+1}: {eq}\\n\\n\"\n",
    "    \n",
    "    console.print(Markdown(md))\n",
    "\n",
    "def verificar_solucao(A, b, x, nome_sistema=\"Sistema\"):\n",
    "    \"\"\"\n",
    "    Verifica a solução encontrada, calculando A*x e comparando com b.\n",
    "    \n",
    "    Parâmetros:\n",
    "    A (numpy.ndarray): Matriz de coeficientes.\n",
    "    b (numpy.ndarray): Vetor dos termos independentes.\n",
    "    x (numpy.ndarray): Solução calculada.\n",
    "    nome_sistema (str): Identificador do sistema para exibição.\n",
    "    \"\"\"\n",
    "    resultado = np.dot(A, x)\n",
    "    residuo = np.linalg.norm(resultado - b)\n",
    "    \n",
    "    table = Table(title=f\"Verificação da Solução - {nome_sistema}\")\n",
    "    table.add_column(\"Variável\", style=\"cyan\")\n",
    "    table.add_column(\"Valor\", style=\"green\")\n",
    "    \n",
    "    for i, valor in enumerate(x):\n",
    "        table.add_row(f\"x_{i+1}\", f\"{valor:.5f}\")\n",
    "    \n",
    "    console.print(table)\n",
    "    \n",
    "    # Tabela de verificação\n",
    "    table = Table(title=\"Verificação A*x = b\")\n",
    "    table.add_column(\"A*x\", style=\"magenta\")\n",
    "    table.add_column(\"b\", style=\"blue\")\n",
    "    table.add_column(\"Diferença\", style=\"red\")\n",
    "    \n",
    "    for i in range(len(b)):\n",
    "        table.add_row(\n",
    "            f\"{resultado[i]:.5f}\",\n",
    "            f\"{b[i]:.5f}\",\n",
    "            f\"{abs(resultado[i] - b[i]):.5f}\"\n",
    "        )\n",
    "    \n",
    "    console.print(table)\n",
    "    console.print(f\"Norma do resíduo ||A*x - b|| = [bold]{residuo:.5f}[/bold]\")\n",
    "    \n",
    "    if residuo < 1e-5:\n",
    "        console.print(\"[bold green]✓ A solução é precisa![/bold green]\")\n",
    "    else:\n",
    "        console.print(\"[bold yellow]⚠️ A solução tem precisão limitada.[/bold yellow]\")\n",
    "\n",
    "def anotar_resultados(A, b, x, operacoes, tempo_execucao, permutation=None):\n",
    "    \"\"\"\n",
    "    Anota e apresenta os resultados da solução de um sistema linear.\n",
    "    \n",
    "    Parâmetros:\n",
    "    A (numpy.ndarray): Matriz de coeficientes.\n",
    "    b (numpy.ndarray): Vetor dos termos independentes.\n",
    "    x (numpy.ndarray): Solução encontrada.\n",
    "    operacoes (int): Número de operações elementares realizadas.\n",
    "    tempo_execucao (float): Tempo de execução em segundos.\n",
    "    permutation (numpy.ndarray): Vetor de permutação das variáveis.\n",
    "    \"\"\"\n",
    "    # Criar uma tabela para os resultados principais\n",
    "    table = Table(title=\"Resultados da Solução\")\n",
    "    table.add_column(\"Parâmetro\", style=\"cyan\")\n",
    "    table.add_column(\"Valor\", style=\"green\")\n",
    "    \n",
    "    table.add_row(\"Número de equações\", str(len(b)))\n",
    "    table.add_row(\"Número de operações elementares\", str(operacoes))\n",
    "    table.add_row(\"Tempo de execução\", f\"{tempo_execucao:.5f} segundos\")\n",
    "    \n",
    "    if permutation is not None:\n",
    "        table.add_row(\"Permutação final das variáveis\", f\"{(permutation+1).tolist()}\")\n",
    "    \n",
    "    console.print(table)\n",
    "    \n",
    "    # Tabela para a solução\n",
    "    sol_table = Table(title=\"Solução do Sistema\")\n",
    "    sol_table.add_column(\"Variável\", style=\"cyan\")\n",
    "    sol_table.add_column(\"Valor\", style=\"green\")\n",
    "    \n",
    "    for i, valor in enumerate(x):\n",
    "        sol_table.add_row(f\"x_{i+1}\", f\"{valor:.5f}\")\n",
    "    \n",
    "    console.print(sol_table)\n",
    "    \n",
    "    # Verificar a solução\n",
    "    Ax = np.dot(A, x)\n",
    "    residuo = np.linalg.norm(Ax - b)\n",
    "    erro_relativo = residuo / np.linalg.norm(b) if np.linalg.norm(b) > 0 else residuo\n",
    "    \n",
    "    # Tabela para verificação\n",
    "    ver_table = Table(title=\"Verificação da Solução\")\n",
    "    ver_table.add_column(\"Equação\", style=\"cyan\")\n",
    "    ver_table.add_column(\"A*x\", style=\"magenta\")\n",
    "    ver_table.add_column(\"b\", style=\"blue\")\n",
    "    ver_table.add_column(\"Erro Absoluto\", style=\"red\")\n",
    "    \n",
    "    for i in range(len(b)):\n",
    "        ver_table.add_row(\n",
    "            f\"Equação {i+1}\",\n",
    "            f\"{Ax[i]:.5f}\",\n",
    "            f\"{b[i]:.5f}\",\n",
    "            f\"{abs(Ax[i] - b[i]):.5f}\"\n",
    "        )\n",
    "    \n",
    "    console.print(ver_table)\n",
    "    \n",
    "    # Resumo final\n",
    "    if erro_relativo < 1e-5:\n",
    "        console.print(Panel(\n",
    "            f\"[bold green]✓ Sistema resolvido com sucesso![/bold green]\\n\"\n",
    "            f\"Resíduo: {residuo:.5f}\\n\"\n",
    "            f\"Erro relativo: {erro_relativo:.5f}\",\n",
    "            title=\"Conclusão\",\n",
    "            border_style=\"green\"\n",
    "        ))\n",
    "    else:\n",
    "        console.print(Panel(\n",
    "            f\"[bold yellow]⚠️ Sistema resolvido com precisão limitada.[/bold yellow]\\n\"\n",
    "            f\"Resíduo: {residuo:.5f}\\n\"\n",
    "            f\"Erro relativo: {erro_relativo:.5f}\",\n",
    "            title=\"Conclusão\",\n",
    "            border_style=\"yellow\"\n",
    "        ))\n",
    "    \n",
    "    # Sugestão para relatório\n",
    "    permutation_text = \"\"\n",
    "    if permutation is not None:\n",
    "        permutation_text = f\"- **Permutação final das variáveis:** {(permutation+1).tolist()}\\n\"\n",
    "    \n",
    "    console.print(Markdown(\"\"\"\n",
    "    ## Sugestão para anotação no relatório:\n",
    "    \n",
    "    ### Método Utilizado\n",
    "    O sistema foi resolvido utilizando o método direto de Gauss-Jordan com pivotação completa.\n",
    "    \n",
    "    ### Parâmetros da Solução\n",
    "    - **Número de operações elementares:** {}\n",
    "    - **Tempo de processamento:** {:.5f} s\n",
    "    {}\n",
    "    ### Solução Encontrada\n",
    "    {}\n",
    "    \n",
    "    ### Verificação\n",
    "    O resíduo da solução (||A*x - b||) foi {:.5f}, com erro relativo de {:.5f}.\n",
    "    \n",
    "    ### Conclusão\n",
    "    {}\n",
    "    \"\"\".format(\n",
    "        operacoes, \n",
    "        tempo_execucao,\n",
    "        permutation_text,\n",
    "        \", \".join([f\"x_{i+1} = {valor:.5f}\" for i, valor in enumerate(x)]),\n",
    "        residuo,\n",
    "        erro_relativo,\n",
    "        \"A solução encontrada é exata e confiável.\" if erro_relativo < 1e-5 else \n",
    "        \"A solução encontrada tem precisão limitada, mas é aceitável para o problema.\"\n",
    "    )))\n",
    "\n",
    "def plotar_desempenho(tempo_hist, titulo):\n",
    "    \"\"\"\n",
    "    Plota o gráfico de desempenho do método direto.\n",
    "    \n",
    "    Parâmetros:\n",
    "    tempo_hist (list): Lista com o histórico de tempos.\n",
    "    titulo (str): Título do gráfico.\n",
    "    \"\"\"\n",
    "    try:\n",
    "        import matplotlib.pyplot as plt\n",
    "        plt.figure(figsize=(10, 6))\n",
    "        plt.plot(range(1, len(tempo_hist) + 1), tempo_hist, 'ro-')\n",
    "        plt.xlabel('Número de Operações')\n",
    "        plt.ylabel('Tempo Acumulado (segundos)')\n",
    "        plt.title(titulo)\n",
    "        plt.grid(True)\n",
    "        plt.show()\n",
    "    except ImportError:\n",
    "        console.print(\"[yellow]Matplotlib não está disponível. Não foi possível gerar o gráfico.[/yellow]\")\n",
    "\n",
    "def main():\n",
    "    console.print(Markdown(\"# Método de Gauss-Jordan com Pivotação Completa para Sistemas Lineares\"), style=\"bold blue\")\n",
    "    \n",
    "    try:\n",
    "        # Sistema 1: Sistema de exemplo\n",
    "        A1 = np.array([\n",
    "            [9, 3, 2], \n",
    "            [-1, 11, -1], \n",
    "            [2, -1, 10]\n",
    "        ], dtype=float)\n",
    "        b1 = np.array([6, 25, -11], dtype=float)\n",
    "        \n",
    "        # Exibir o sistema\n",
    "        console.rule(\"[bold cyan]Sistema Linear [/bold cyan]\")\n",
    "        imprimir_sistema(A1, b1, \"Sistema Linear\")\n",
    "        \n",
    "        # Definir se deseja mostrar passos intermediários\n",
    "        mostrar_passos = True  # Pode ser alterado para False se não quiser ver todos os passos\n",
    "        \n",
    "        # Executar o método\n",
    "        console.print(\"\\n[bold cyan]Executando o Método de Gauss-Jordan com Pivotação Completa...[/bold cyan]\")\n",
    "        \n",
    "        inicio = time.time()\n",
    "        x1, operacoes1, tempo_hist1, erro1, perm1 = gauss_jordan_pivot_completo(A1, b1, show_steps=mostrar_passos)\n",
    "        fim = time.time()\n",
    "        \n",
    "        tempo_execucao1 = fim - inicio\n",
    "        \n",
    "        # Mostrar resultados\n",
    "        if x1 is not None:  # Solução encontrada\n",
    "            console.print(Panel(\n",
    "                f\"[bold green]✓ Solução encontrada com {operacoes1} operações elementares[/bold green]\",\n",
    "                title=\"Resultado\", \n",
    "                border_style=\"green\"\n",
    "            ))\n",
    "            \n",
    "            if perm1 is not None and not np.array_equal(perm1, np.arange(len(perm1))):\n",
    "                console.print(f\"[bold]Permutação das variáveis: {(perm1+1).tolist()}[/bold]\")\n",
    "        else:\n",
    "            console.print(Panel(\n",
    "                f\"[bold red]⚠️ Não foi possível encontrar uma solução[/bold red]\\n\"\n",
    "                f\"Erro: {erro1}\",\n",
    "                title=\"Resultado\", \n",
    "                border_style=\"red\"\n",
    "            ))\n",
    "            return\n",
    "        \n",
    "        # Mostrar a solução e verificar\n",
    "        verificar_solucao(A1, b1, x1, \"Sistema 1\")\n",
    "        \n",
    "        # Apresentar resultados detalhados\n",
    "        anotar_resultados(A1, b1, x1, operacoes1, tempo_execucao1, perm1)\n",
    "        \n",
    "        # Plotar desempenho\n",
    "        try:\n",
    "            if len(tempo_hist1) > 0:\n",
    "                plotar_desempenho(tempo_hist1, \"Desempenho do Método de Gauss-Jordan com Pivotação Completa\")\n",
    "        except Exception as e:\n",
    "            console.print(f\"[yellow]Não foi possível gerar os gráficos: {str(e)}[/yellow]\")\n",
    "        \n",
    "        # Sistema 2: Sistema com necessidade de pivotação\n",
    "        console.print(\"\\n[bold]Exemplo de Sistema Linear para demonstrar pivotação completa:[/bold]\")\n",
    "        A2 = np.array([\n",
    "            [0.003, 59.14, 59.17], \n",
    "            [5.291, -6.13, 46.78], \n",
    "            [11.2, 9.12, 9.15]\n",
    "        ], dtype=float)\n",
    "        b2 = np.array([59.17, 46.78, 49.31], dtype=float)\n",
    "        \n",
    "        # Exibir o sistema\n",
    "        console.rule(\"[bold cyan]Sistema Linear para Pivotação Completa [/bold cyan]\")\n",
    "        imprimir_sistema(A2, b2, \"Sistema Linear para Pivotação Completa\")\n",
    "        \n",
    "        # Executar o método para o segundo sistema\n",
    "        console.print(\"\\n[bold cyan]Executando o Método de Gauss-Jordan com Pivotação Completa...[/bold cyan]\")\n",
    "        \n",
    "        inicio = time.time()\n",
    "        x2, operacoes2, tempo_hist2, erro2, perm2 = gauss_jordan_pivot_completo(A2, b2, show_steps=mostrar_passos)\n",
    "        fim = time.time()\n",
    "        \n",
    "        tempo_execucao2 = fim - inicio\n",
    "        \n",
    "        # Mostrar resultados do sistema alternativo\n",
    "        if x2 is not None:\n",
    "            console.print(Panel(\n",
    "                f\"[bold green]✓ Solução encontrada com {operacoes2} operações elementares[/bold green]\",\n",
    "                title=\"Resultado\", \n",
    "                border_style=\"green\"\n",
    "            ))\n",
    "            \n",
    "            if perm2 is not None and not np.array_equal(perm2, np.arange(len(perm2))):\n",
    "                console.print(f\"[bold]Permutação final das variáveis: {(perm2+1).tolist()}[/bold]\")\n",
    "            \n",
    "            # Mostrar a solução e verificar\n",
    "            verificar_solucao(A2, b2, x2, \"Sistema 2\")\n",
    "            \n",
    "            # Apresentar resultados detalhados\n",
    "            anotar_resultados(A2, b2, x2, operacoes2, tempo_execucao2, perm2)\n",
    "            \n",
    "            # Plotar desempenho\n",
    "            try:\n",
    "                if len(tempo_hist2) > 0:\n",
    "                    plotar_desempenho(tempo_hist2, \"Desempenho do Método de Gauss-Jordan com Pivotação Completa - Sistema 2\")\n",
    "            except Exception as e:\n",
    "                console.print(f\"[yellow]Não foi possível gerar os gráficos: {str(e)}[/yellow]\")\n",
    "        else:\n",
    "            console.print(Panel(\n",
    "                f\"[bold red]⚠️ Não foi possível encontrar uma solução[/bold red]\\n\"\n",
    "                f\"Erro: {erro2}\",\n",
    "                title=\"Resultado\", \n",
    "                border_style=\"red\"\n",
    "            ))\n",
    "       \n",
    "        # Sistema 3: Sistema que precisa de pivotação (primeira entrada é zero)\n",
    "        console.print(\"\\n[bold]Exemplo de Sistema Linear com Primeira Entrada Zero:[/bold]\")\n",
    "        A3 = np.array([\n",
    "            [0, 2, 3], \n",
    "            [4, 5, 6], \n",
    "            [7, 8, 9]\n",
    "        ], dtype=float)\n",
    "        b3 = np.array([5, 6, 7], dtype=float)\n",
    "        \n",
    "        # Exibir o sistema\n",
    "        console.rule(\"[bold cyan]Sistema Linear com Primeira Entrada Zero [/bold cyan]\")\n",
    "        imprimir_sistema(A3, b3, \"Sistema Linear com Primeira Entrada Zero\")\n",
    "        \n",
    "        # Executar o método para o terceiro sistema\n",
    "        console.print(\"\\n[bold cyan]Executando o Método de Gauss-Jordan com Pivotação Completa...[/bold cyan]\")\n",
    "        \n",
    "        inicio = time.time()\n",
    "        x3, operacoes3, tempo_hist3, erro3, perm3 = gauss_jordan_pivot_completo(A3, b3, show_steps=mostrar_passos)\n",
    "        fim = time.time()\n",
    "        \n",
    "        tempo_execucao3 = fim - inicio\n",
    "        \n",
    "        # Mostrar resultados do terceiro sistema\n",
    "        if x3 is not None:\n",
    "            console.print(Panel(\n",
    "                f\"[bold green]✓ Solução encontrada com {operacoes3} operações elementares[/bold green]\",\n",
    "                title=\"Resultado\", \n",
    "                border_style=\"green\"\n",
    "            ))\n",
    "            \n",
    "            if perm3 is not None and not np.array_equal(perm3, np.arange(len(perm3))):\n",
    "                console.print(f\"[bold]Permutação final das variáveis: {(perm3+1).tolist()}[/bold]\")\n",
    "            \n",
    "            # Mostrar a solução e verificar\n",
    "            verificar_solucao(A3, b3, x3, \"Sistema 3\")\n",
    "            \n",
    "            # Apresentar resultados detalhados\n",
    "            anotar_resultados(A3, b3, x3, operacoes3, tempo_execucao3, perm3)\n",
    "        else:\n",
    "            console.print(Panel(\n",
    "                f\"[bold red]⚠️ Não foi possível encontrar uma solução[/bold red]\\n\"\n",
    "                f\"Erro: {erro3}\",\n",
    "                title=\"Resultado\", \n",
    "                border_style=\"red\"\n",
    "            ))\n",
    "       \n",
    "    except Exception as e:\n",
    "        console.print(f\"[bold red]Erro:[/bold red] {str(e)}\")\n",
    "\n",
    "if __name__ == \"__main__\":\n",
    "    main()"
   ]
  }
 ],
 "metadata": {
  "kernelspec": {
   "display_name": ".venv",
   "language": "python",
   "name": "python3"
  },
  "language_info": {
   "codemirror_mode": {
    "name": "ipython",
    "version": 3
   },
   "file_extension": ".py",
   "mimetype": "text/x-python",
   "name": "python",
   "nbconvert_exporter": "python",
   "pygments_lexer": "ipython3",
   "version": "3.10.12"
  }
 },
 "nbformat": 4,
 "nbformat_minor": 5
}
