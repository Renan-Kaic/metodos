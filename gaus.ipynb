{
 "cells": [
  {
   "cell_type": "code",
   "execution_count": 7,
   "id": "6a681465",
   "metadata": {},
   "outputs": [
    {
     "data": {
      "text/html": [
       "<pre style=\"white-space:pre;overflow-x:auto;line-height:normal;font-family:Menlo,'DejaVu Sans Mono',consolas,'Courier New',monospace\"><span style=\"color: #000080; text-decoration-color: #000080; font-weight: bold\">┏━━━━━━━━━━━━━━━━━━━━━━━━━━━━━━━━━━━━━━━━━━━━━━━━━━━━━━━━━━━━━━━━━━━━━━━━━━━━━━━━━━━━━━━━━━━━━━━━━━━━━━━━━━━━━━━━━┓</span>\n",
       "<span style=\"color: #000080; text-decoration-color: #000080; font-weight: bold\">┃                              Método de Eliminação de Gauss para Sistemas Lineares                               ┃</span>\n",
       "<span style=\"color: #000080; text-decoration-color: #000080; font-weight: bold\">┗━━━━━━━━━━━━━━━━━━━━━━━━━━━━━━━━━━━━━━━━━━━━━━━━━━━━━━━━━━━━━━━━━━━━━━━━━━━━━━━━━━━━━━━━━━━━━━━━━━━━━━━━━━━━━━━━━┛</span>\n",
       "</pre>\n"
      ],
      "text/plain": [
       "\u001b[1;34m┏━━━━━━━━━━━━━━━━━━━━━━━━━━━━━━━━━━━━━━━━━━━━━━━━━━━━━━━━━━━━━━━━━━━━━━━━━━━━━━━━━━━━━━━━━━━━━━━━━━━━━━━━━━━━━━━━━┓\u001b[0m\n",
       "\u001b[1;34m┃\u001b[0m\u001b[1;34m \u001b[0m\u001b[1;34m                             \u001b[0m\u001b[1;34mMétodo de Eliminação de Gauss para Sistemas Lineares\u001b[0m\u001b[1;34m                              \u001b[0m\u001b[1;34m \u001b[0m\u001b[1;34m┃\u001b[0m\n",
       "\u001b[1;34m┗━━━━━━━━━━━━━━━━━━━━━━━━━━━━━━━━━━━━━━━━━━━━━━━━━━━━━━━━━━━━━━━━━━━━━━━━━━━━━━━━━━━━━━━━━━━━━━━━━━━━━━━━━━━━━━━━━┛\u001b[0m\n"
      ]
     },
     "metadata": {},
     "output_type": "display_data"
    },
    {
     "data": {
      "text/html": [
       "<pre style=\"white-space:pre;overflow-x:auto;line-height:normal;font-family:Menlo,'DejaVu Sans Mono',consolas,'Courier New',monospace\"><span style=\"color: #00ff00; text-decoration-color: #00ff00\">───────────────────────────────────────────────── </span><span style=\"color: #008080; text-decoration-color: #008080; font-weight: bold\">Sistema Linear </span><span style=\"color: #00ff00; text-decoration-color: #00ff00\"> ─────────────────────────────────────────────────</span>\n",
       "</pre>\n"
      ],
      "text/plain": [
       "\u001b[92m───────────────────────────────────────────────── \u001b[0m\u001b[1;36mSistema Linear \u001b[0m\u001b[92m ─────────────────────────────────────────────────\u001b[0m\n"
      ]
     },
     "metadata": {},
     "output_type": "display_data"
    },
    {
     "data": {
      "text/html": [
       "<pre style=\"white-space:pre;overflow-x:auto;line-height:normal;font-family:Menlo,'DejaVu Sans Mono',consolas,'Courier New',monospace\">\n",
       "                                                  <span style=\"font-weight: bold; text-decoration: underline\">Sistema Linear</span>                                                   \n",
       "\n",
       "Equação 1: 2.00000x_1 + 3.00000x_2 - 1.00000x_3 = 8.00000                                                          \n",
       "\n",
       "Equação 2: -1.00000x_1 + 1.00000x_2 + 2.00000x_3 = 1.00000                                                         \n",
       "\n",
       "Equação 3: 3.00000x_1 - 2.00000x_2 + 1.00000x_3 = 5.00000                                                          \n",
       "</pre>\n"
      ],
      "text/plain": [
       "\n",
       "                                                  \u001b[1;4mSistema Linear\u001b[0m                                                   \n",
       "\n",
       "Equação 1: 2.00000x_1 + 3.00000x_2 - 1.00000x_3 = 8.00000                                                          \n",
       "\n",
       "Equação 2: -1.00000x_1 + 1.00000x_2 + 2.00000x_3 = 1.00000                                                         \n",
       "\n",
       "Equação 3: 3.00000x_1 - 2.00000x_2 + 1.00000x_3 = 5.00000                                                          \n"
      ]
     },
     "metadata": {},
     "output_type": "display_data"
    },
    {
     "data": {
      "text/html": [
       "<pre style=\"white-space:pre;overflow-x:auto;line-height:normal;font-family:Menlo,'DejaVu Sans Mono',consolas,'Courier New',monospace\">\n",
       "<span style=\"color: #008080; text-decoration-color: #008080; font-weight: bold\">Executando o Método de Eliminação de Gauss...</span>\n",
       "</pre>\n"
      ],
      "text/plain": [
       "\n",
       "\u001b[1;36mExecutando o Método de Eliminação de Gauss\u001b[0m\u001b[1;36m...\u001b[0m\n"
      ]
     },
     "metadata": {},
     "output_type": "display_data"
    },
    {
     "data": {
      "text/html": [
       "<pre style=\"white-space:pre;overflow-x:auto;line-height:normal;font-family:Menlo,'DejaVu Sans Mono',consolas,'Courier New',monospace\"><span style=\"color: #808000; text-decoration-color: #808000\">Passo </span><span style=\"color: #808000; text-decoration-color: #808000; font-weight: bold\">1</span><span style=\"color: #808000; text-decoration-color: #808000\">: Trocar linhas </span><span style=\"color: #808000; text-decoration-color: #808000; font-weight: bold\">1</span><span style=\"color: #808000; text-decoration-color: #808000\"> e </span><span style=\"color: #808000; text-decoration-color: #808000; font-weight: bold\">3</span>\n",
       "</pre>\n"
      ],
      "text/plain": [
       "\u001b[33mPasso \u001b[0m\u001b[1;33m1\u001b[0m\u001b[33m: Trocar linhas \u001b[0m\u001b[1;33m1\u001b[0m\u001b[33m e \u001b[0m\u001b[1;33m3\u001b[0m\n"
      ]
     },
     "metadata": {},
     "output_type": "display_data"
    },
    {
     "data": {
      "text/html": [
       "<pre style=\"white-space:pre;overflow-x:auto;line-height:normal;font-family:Menlo,'DejaVu Sans Mono',consolas,'Courier New',monospace\"><span style=\"font-style: italic\">     Matriz após troca de linhas 1 e 3      </span>\n",
       "                                            \n",
       " <span style=\"font-weight: bold\"> x_1      </span> <span style=\"font-weight: bold\"> x_2      </span> <span style=\"font-weight: bold\"> x_3      </span> <span style=\"font-weight: bold\"> b       </span> \n",
       " ────────────────────────────────────────── \n",
       " <span style=\"color: #008080; text-decoration-color: #008080\"> 3.00000  </span> <span style=\"color: #008080; text-decoration-color: #008080\"> -2.00000 </span> <span style=\"color: #008080; text-decoration-color: #008080\"> 1.00000  </span> <span style=\"color: #008000; text-decoration-color: #008000\"> 5.00000 </span> \n",
       " <span style=\"color: #008080; text-decoration-color: #008080\"> -1.00000 </span> <span style=\"color: #008080; text-decoration-color: #008080\"> 1.00000  </span> <span style=\"color: #008080; text-decoration-color: #008080\"> 2.00000  </span> <span style=\"color: #008000; text-decoration-color: #008000\"> 1.00000 </span> \n",
       " <span style=\"color: #008080; text-decoration-color: #008080\"> 2.00000  </span> <span style=\"color: #008080; text-decoration-color: #008080\"> 3.00000  </span> <span style=\"color: #008080; text-decoration-color: #008080\"> -1.00000 </span> <span style=\"color: #008000; text-decoration-color: #008000\"> 8.00000 </span> \n",
       "                                            \n",
       "</pre>\n"
      ],
      "text/plain": [
       "\u001b[3m     Matriz após troca de linhas 1 e 3      \u001b[0m\n",
       "                                            \n",
       " \u001b[1m \u001b[0m\u001b[1mx_1     \u001b[0m\u001b[1m \u001b[0m \u001b[1m \u001b[0m\u001b[1mx_2     \u001b[0m\u001b[1m \u001b[0m \u001b[1m \u001b[0m\u001b[1mx_3     \u001b[0m\u001b[1m \u001b[0m \u001b[1m \u001b[0m\u001b[1mb      \u001b[0m\u001b[1m \u001b[0m \n",
       " ────────────────────────────────────────── \n",
       " \u001b[36m \u001b[0m\u001b[36m3.00000 \u001b[0m\u001b[36m \u001b[0m \u001b[36m \u001b[0m\u001b[36m-2.00000\u001b[0m\u001b[36m \u001b[0m \u001b[36m \u001b[0m\u001b[36m1.00000 \u001b[0m\u001b[36m \u001b[0m \u001b[32m \u001b[0m\u001b[32m5.00000\u001b[0m\u001b[32m \u001b[0m \n",
       " \u001b[36m \u001b[0m\u001b[36m-1.00000\u001b[0m\u001b[36m \u001b[0m \u001b[36m \u001b[0m\u001b[36m1.00000 \u001b[0m\u001b[36m \u001b[0m \u001b[36m \u001b[0m\u001b[36m2.00000 \u001b[0m\u001b[36m \u001b[0m \u001b[32m \u001b[0m\u001b[32m1.00000\u001b[0m\u001b[32m \u001b[0m \n",
       " \u001b[36m \u001b[0m\u001b[36m2.00000 \u001b[0m\u001b[36m \u001b[0m \u001b[36m \u001b[0m\u001b[36m3.00000 \u001b[0m\u001b[36m \u001b[0m \u001b[36m \u001b[0m\u001b[36m-1.00000\u001b[0m\u001b[36m \u001b[0m \u001b[32m \u001b[0m\u001b[32m8.00000\u001b[0m\u001b[32m \u001b[0m \n",
       "                                            \n"
      ]
     },
     "metadata": {},
     "output_type": "display_data"
    },
    {
     "data": {
      "text/html": [
       "<pre style=\"white-space:pre;overflow-x:auto;line-height:normal;font-family:Menlo,'DejaVu Sans Mono',consolas,'Courier New',monospace\"><span style=\"color: #008000; text-decoration-color: #008000\">Passo </span><span style=\"color: #008000; text-decoration-color: #008000; font-weight: bold\">2</span><span style=\"color: #008000; text-decoration-color: #008000\">: Subtrair </span><span style=\"color: #008000; text-decoration-color: #008000; font-weight: bold\">-0.33333</span><span style=\"color: #008000; text-decoration-color: #008000\"> vezes linha </span><span style=\"color: #008000; text-decoration-color: #008000; font-weight: bold\">1</span><span style=\"color: #008000; text-decoration-color: #008000\"> da linha </span><span style=\"color: #008000; text-decoration-color: #008000; font-weight: bold\">2</span>\n",
       "</pre>\n"
      ],
      "text/plain": [
       "\u001b[32mPasso \u001b[0m\u001b[1;32m2\u001b[0m\u001b[32m: Subtrair \u001b[0m\u001b[1;32m-0.33333\u001b[0m\u001b[32m vezes linha \u001b[0m\u001b[1;32m1\u001b[0m\u001b[32m da linha \u001b[0m\u001b[1;32m2\u001b[0m\n"
      ]
     },
     "metadata": {},
     "output_type": "display_data"
    },
    {
     "data": {
      "text/html": [
       "<pre style=\"white-space:pre;overflow-x:auto;line-height:normal;font-family:Menlo,'DejaVu Sans Mono',consolas,'Courier New',monospace\"><span style=\"font-style: italic\"> Matriz após eliminação do elemento (2,1)  </span>\n",
       "                                           \n",
       " <span style=\"font-weight: bold\"> x_1     </span> <span style=\"font-weight: bold\"> x_2      </span> <span style=\"font-weight: bold\"> x_3      </span> <span style=\"font-weight: bold\"> b       </span> \n",
       " ───────────────────────────────────────── \n",
       " <span style=\"color: #008080; text-decoration-color: #008080\"> 3.00000 </span> <span style=\"color: #008080; text-decoration-color: #008080\"> -2.00000 </span> <span style=\"color: #008080; text-decoration-color: #008080\"> 1.00000  </span> <span style=\"color: #008000; text-decoration-color: #008000\"> 5.00000 </span> \n",
       " <span style=\"color: #008080; text-decoration-color: #008080\"> 0.00000 </span> <span style=\"color: #008080; text-decoration-color: #008080\"> 0.33333  </span> <span style=\"color: #008080; text-decoration-color: #008080\"> 2.33333  </span> <span style=\"color: #008000; text-decoration-color: #008000\"> 2.66667 </span> \n",
       " <span style=\"color: #008080; text-decoration-color: #008080\"> 2.00000 </span> <span style=\"color: #008080; text-decoration-color: #008080\"> 3.00000  </span> <span style=\"color: #008080; text-decoration-color: #008080\"> -1.00000 </span> <span style=\"color: #008000; text-decoration-color: #008000\"> 8.00000 </span> \n",
       "                                           \n",
       "</pre>\n"
      ],
      "text/plain": [
       "\u001b[3m Matriz após eliminação do elemento (2,1)  \u001b[0m\n",
       "                                           \n",
       " \u001b[1m \u001b[0m\u001b[1mx_1    \u001b[0m\u001b[1m \u001b[0m \u001b[1m \u001b[0m\u001b[1mx_2     \u001b[0m\u001b[1m \u001b[0m \u001b[1m \u001b[0m\u001b[1mx_3     \u001b[0m\u001b[1m \u001b[0m \u001b[1m \u001b[0m\u001b[1mb      \u001b[0m\u001b[1m \u001b[0m \n",
       " ───────────────────────────────────────── \n",
       " \u001b[36m \u001b[0m\u001b[36m3.00000\u001b[0m\u001b[36m \u001b[0m \u001b[36m \u001b[0m\u001b[36m-2.00000\u001b[0m\u001b[36m \u001b[0m \u001b[36m \u001b[0m\u001b[36m1.00000 \u001b[0m\u001b[36m \u001b[0m \u001b[32m \u001b[0m\u001b[32m5.00000\u001b[0m\u001b[32m \u001b[0m \n",
       " \u001b[36m \u001b[0m\u001b[36m0.00000\u001b[0m\u001b[36m \u001b[0m \u001b[36m \u001b[0m\u001b[36m0.33333 \u001b[0m\u001b[36m \u001b[0m \u001b[36m \u001b[0m\u001b[36m2.33333 \u001b[0m\u001b[36m \u001b[0m \u001b[32m \u001b[0m\u001b[32m2.66667\u001b[0m\u001b[32m \u001b[0m \n",
       " \u001b[36m \u001b[0m\u001b[36m2.00000\u001b[0m\u001b[36m \u001b[0m \u001b[36m \u001b[0m\u001b[36m3.00000 \u001b[0m\u001b[36m \u001b[0m \u001b[36m \u001b[0m\u001b[36m-1.00000\u001b[0m\u001b[36m \u001b[0m \u001b[32m \u001b[0m\u001b[32m8.00000\u001b[0m\u001b[32m \u001b[0m \n",
       "                                           \n"
      ]
     },
     "metadata": {},
     "output_type": "display_data"
    },
    {
     "data": {
      "text/html": [
       "<pre style=\"white-space:pre;overflow-x:auto;line-height:normal;font-family:Menlo,'DejaVu Sans Mono',consolas,'Courier New',monospace\"><span style=\"color: #008000; text-decoration-color: #008000\">Passo </span><span style=\"color: #008000; text-decoration-color: #008000; font-weight: bold\">3</span><span style=\"color: #008000; text-decoration-color: #008000\">: Subtrair </span><span style=\"color: #008000; text-decoration-color: #008000; font-weight: bold\">0.66667</span><span style=\"color: #008000; text-decoration-color: #008000\"> vezes linha </span><span style=\"color: #008000; text-decoration-color: #008000; font-weight: bold\">1</span><span style=\"color: #008000; text-decoration-color: #008000\"> da linha </span><span style=\"color: #008000; text-decoration-color: #008000; font-weight: bold\">3</span>\n",
       "</pre>\n"
      ],
      "text/plain": [
       "\u001b[32mPasso \u001b[0m\u001b[1;32m3\u001b[0m\u001b[32m: Subtrair \u001b[0m\u001b[1;32m0.66667\u001b[0m\u001b[32m vezes linha \u001b[0m\u001b[1;32m1\u001b[0m\u001b[32m da linha \u001b[0m\u001b[1;32m3\u001b[0m\n"
      ]
     },
     "metadata": {},
     "output_type": "display_data"
    },
    {
     "data": {
      "text/html": [
       "<pre style=\"white-space:pre;overflow-x:auto;line-height:normal;font-family:Menlo,'DejaVu Sans Mono',consolas,'Courier New',monospace\"><span style=\"font-style: italic\"> Matriz após eliminação do elemento (3,1)  </span>\n",
       "                                           \n",
       " <span style=\"font-weight: bold\"> x_1     </span> <span style=\"font-weight: bold\"> x_2      </span> <span style=\"font-weight: bold\"> x_3      </span> <span style=\"font-weight: bold\"> b       </span> \n",
       " ───────────────────────────────────────── \n",
       " <span style=\"color: #008080; text-decoration-color: #008080\"> 3.00000 </span> <span style=\"color: #008080; text-decoration-color: #008080\"> -2.00000 </span> <span style=\"color: #008080; text-decoration-color: #008080\"> 1.00000  </span> <span style=\"color: #008000; text-decoration-color: #008000\"> 5.00000 </span> \n",
       " <span style=\"color: #008080; text-decoration-color: #008080\"> 0.00000 </span> <span style=\"color: #008080; text-decoration-color: #008080\"> 0.33333  </span> <span style=\"color: #008080; text-decoration-color: #008080\"> 2.33333  </span> <span style=\"color: #008000; text-decoration-color: #008000\"> 2.66667 </span> \n",
       " <span style=\"color: #008080; text-decoration-color: #008080\"> 0.00000 </span> <span style=\"color: #008080; text-decoration-color: #008080\"> 4.33333  </span> <span style=\"color: #008080; text-decoration-color: #008080\"> -1.66667 </span> <span style=\"color: #008000; text-decoration-color: #008000\"> 4.66667 </span> \n",
       "                                           \n",
       "</pre>\n"
      ],
      "text/plain": [
       "\u001b[3m Matriz após eliminação do elemento (3,1)  \u001b[0m\n",
       "                                           \n",
       " \u001b[1m \u001b[0m\u001b[1mx_1    \u001b[0m\u001b[1m \u001b[0m \u001b[1m \u001b[0m\u001b[1mx_2     \u001b[0m\u001b[1m \u001b[0m \u001b[1m \u001b[0m\u001b[1mx_3     \u001b[0m\u001b[1m \u001b[0m \u001b[1m \u001b[0m\u001b[1mb      \u001b[0m\u001b[1m \u001b[0m \n",
       " ───────────────────────────────────────── \n",
       " \u001b[36m \u001b[0m\u001b[36m3.00000\u001b[0m\u001b[36m \u001b[0m \u001b[36m \u001b[0m\u001b[36m-2.00000\u001b[0m\u001b[36m \u001b[0m \u001b[36m \u001b[0m\u001b[36m1.00000 \u001b[0m\u001b[36m \u001b[0m \u001b[32m \u001b[0m\u001b[32m5.00000\u001b[0m\u001b[32m \u001b[0m \n",
       " \u001b[36m \u001b[0m\u001b[36m0.00000\u001b[0m\u001b[36m \u001b[0m \u001b[36m \u001b[0m\u001b[36m0.33333 \u001b[0m\u001b[36m \u001b[0m \u001b[36m \u001b[0m\u001b[36m2.33333 \u001b[0m\u001b[36m \u001b[0m \u001b[32m \u001b[0m\u001b[32m2.66667\u001b[0m\u001b[32m \u001b[0m \n",
       " \u001b[36m \u001b[0m\u001b[36m0.00000\u001b[0m\u001b[36m \u001b[0m \u001b[36m \u001b[0m\u001b[36m4.33333 \u001b[0m\u001b[36m \u001b[0m \u001b[36m \u001b[0m\u001b[36m-1.66667\u001b[0m\u001b[36m \u001b[0m \u001b[32m \u001b[0m\u001b[32m4.66667\u001b[0m\u001b[32m \u001b[0m \n",
       "                                           \n"
      ]
     },
     "metadata": {},
     "output_type": "display_data"
    },
    {
     "data": {
      "text/html": [
       "<pre style=\"white-space:pre;overflow-x:auto;line-height:normal;font-family:Menlo,'DejaVu Sans Mono',consolas,'Courier New',monospace\"><span style=\"color: #808000; text-decoration-color: #808000\">Passo </span><span style=\"color: #808000; text-decoration-color: #808000; font-weight: bold\">4</span><span style=\"color: #808000; text-decoration-color: #808000\">: Trocar linhas </span><span style=\"color: #808000; text-decoration-color: #808000; font-weight: bold\">2</span><span style=\"color: #808000; text-decoration-color: #808000\"> e </span><span style=\"color: #808000; text-decoration-color: #808000; font-weight: bold\">3</span>\n",
       "</pre>\n"
      ],
      "text/plain": [
       "\u001b[33mPasso \u001b[0m\u001b[1;33m4\u001b[0m\u001b[33m: Trocar linhas \u001b[0m\u001b[1;33m2\u001b[0m\u001b[33m e \u001b[0m\u001b[1;33m3\u001b[0m\n"
      ]
     },
     "metadata": {},
     "output_type": "display_data"
    },
    {
     "data": {
      "text/html": [
       "<pre style=\"white-space:pre;overflow-x:auto;line-height:normal;font-family:Menlo,'DejaVu Sans Mono',consolas,'Courier New',monospace\"><span style=\"font-style: italic\">     Matriz após troca de linhas 2 e 3     </span>\n",
       "                                           \n",
       " <span style=\"font-weight: bold\"> x_1     </span> <span style=\"font-weight: bold\"> x_2      </span> <span style=\"font-weight: bold\"> x_3      </span> <span style=\"font-weight: bold\"> b       </span> \n",
       " ───────────────────────────────────────── \n",
       " <span style=\"color: #008080; text-decoration-color: #008080\"> 3.00000 </span> <span style=\"color: #008080; text-decoration-color: #008080\"> -2.00000 </span> <span style=\"color: #008080; text-decoration-color: #008080\"> 1.00000  </span> <span style=\"color: #008000; text-decoration-color: #008000\"> 5.00000 </span> \n",
       " <span style=\"color: #008080; text-decoration-color: #008080\"> 0.00000 </span> <span style=\"color: #008080; text-decoration-color: #008080\"> 4.33333  </span> <span style=\"color: #008080; text-decoration-color: #008080\"> -1.66667 </span> <span style=\"color: #008000; text-decoration-color: #008000\"> 4.66667 </span> \n",
       " <span style=\"color: #008080; text-decoration-color: #008080\"> 0.00000 </span> <span style=\"color: #008080; text-decoration-color: #008080\"> 0.33333  </span> <span style=\"color: #008080; text-decoration-color: #008080\"> 2.33333  </span> <span style=\"color: #008000; text-decoration-color: #008000\"> 2.66667 </span> \n",
       "                                           \n",
       "</pre>\n"
      ],
      "text/plain": [
       "\u001b[3m     Matriz após troca de linhas 2 e 3     \u001b[0m\n",
       "                                           \n",
       " \u001b[1m \u001b[0m\u001b[1mx_1    \u001b[0m\u001b[1m \u001b[0m \u001b[1m \u001b[0m\u001b[1mx_2     \u001b[0m\u001b[1m \u001b[0m \u001b[1m \u001b[0m\u001b[1mx_3     \u001b[0m\u001b[1m \u001b[0m \u001b[1m \u001b[0m\u001b[1mb      \u001b[0m\u001b[1m \u001b[0m \n",
       " ───────────────────────────────────────── \n",
       " \u001b[36m \u001b[0m\u001b[36m3.00000\u001b[0m\u001b[36m \u001b[0m \u001b[36m \u001b[0m\u001b[36m-2.00000\u001b[0m\u001b[36m \u001b[0m \u001b[36m \u001b[0m\u001b[36m1.00000 \u001b[0m\u001b[36m \u001b[0m \u001b[32m \u001b[0m\u001b[32m5.00000\u001b[0m\u001b[32m \u001b[0m \n",
       " \u001b[36m \u001b[0m\u001b[36m0.00000\u001b[0m\u001b[36m \u001b[0m \u001b[36m \u001b[0m\u001b[36m4.33333 \u001b[0m\u001b[36m \u001b[0m \u001b[36m \u001b[0m\u001b[36m-1.66667\u001b[0m\u001b[36m \u001b[0m \u001b[32m \u001b[0m\u001b[32m4.66667\u001b[0m\u001b[32m \u001b[0m \n",
       " \u001b[36m \u001b[0m\u001b[36m0.00000\u001b[0m\u001b[36m \u001b[0m \u001b[36m \u001b[0m\u001b[36m0.33333 \u001b[0m\u001b[36m \u001b[0m \u001b[36m \u001b[0m\u001b[36m2.33333 \u001b[0m\u001b[36m \u001b[0m \u001b[32m \u001b[0m\u001b[32m2.66667\u001b[0m\u001b[32m \u001b[0m \n",
       "                                           \n"
      ]
     },
     "metadata": {},
     "output_type": "display_data"
    },
    {
     "data": {
      "text/html": [
       "<pre style=\"white-space:pre;overflow-x:auto;line-height:normal;font-family:Menlo,'DejaVu Sans Mono',consolas,'Courier New',monospace\"><span style=\"color: #008000; text-decoration-color: #008000\">Passo </span><span style=\"color: #008000; text-decoration-color: #008000; font-weight: bold\">5</span><span style=\"color: #008000; text-decoration-color: #008000\">: Subtrair </span><span style=\"color: #008000; text-decoration-color: #008000; font-weight: bold\">0.07692</span><span style=\"color: #008000; text-decoration-color: #008000\"> vezes linha </span><span style=\"color: #008000; text-decoration-color: #008000; font-weight: bold\">2</span><span style=\"color: #008000; text-decoration-color: #008000\"> da linha </span><span style=\"color: #008000; text-decoration-color: #008000; font-weight: bold\">3</span>\n",
       "</pre>\n"
      ],
      "text/plain": [
       "\u001b[32mPasso \u001b[0m\u001b[1;32m5\u001b[0m\u001b[32m: Subtrair \u001b[0m\u001b[1;32m0.07692\u001b[0m\u001b[32m vezes linha \u001b[0m\u001b[1;32m2\u001b[0m\u001b[32m da linha \u001b[0m\u001b[1;32m3\u001b[0m\n"
      ]
     },
     "metadata": {},
     "output_type": "display_data"
    },
    {
     "data": {
      "text/html": [
       "<pre style=\"white-space:pre;overflow-x:auto;line-height:normal;font-family:Menlo,'DejaVu Sans Mono',consolas,'Courier New',monospace\"><span style=\"font-style: italic\"> Matriz após eliminação do elemento (3,2)  </span>\n",
       "                                           \n",
       " <span style=\"font-weight: bold\"> x_1     </span> <span style=\"font-weight: bold\"> x_2      </span> <span style=\"font-weight: bold\"> x_3      </span> <span style=\"font-weight: bold\"> b       </span> \n",
       " ───────────────────────────────────────── \n",
       " <span style=\"color: #008080; text-decoration-color: #008080\"> 3.00000 </span> <span style=\"color: #008080; text-decoration-color: #008080\"> -2.00000 </span> <span style=\"color: #008080; text-decoration-color: #008080\"> 1.00000  </span> <span style=\"color: #008000; text-decoration-color: #008000\"> 5.00000 </span> \n",
       " <span style=\"color: #008080; text-decoration-color: #008080\"> 0.00000 </span> <span style=\"color: #008080; text-decoration-color: #008080\"> 4.33333  </span> <span style=\"color: #008080; text-decoration-color: #008080\"> -1.66667 </span> <span style=\"color: #008000; text-decoration-color: #008000\"> 4.66667 </span> \n",
       " <span style=\"color: #008080; text-decoration-color: #008080\"> 0.00000 </span> <span style=\"color: #008080; text-decoration-color: #008080\"> 0.00000  </span> <span style=\"color: #008080; text-decoration-color: #008080\"> 2.46154  </span> <span style=\"color: #008000; text-decoration-color: #008000\"> 2.30769 </span> \n",
       "                                           \n",
       "</pre>\n"
      ],
      "text/plain": [
       "\u001b[3m Matriz após eliminação do elemento (3,2)  \u001b[0m\n",
       "                                           \n",
       " \u001b[1m \u001b[0m\u001b[1mx_1    \u001b[0m\u001b[1m \u001b[0m \u001b[1m \u001b[0m\u001b[1mx_2     \u001b[0m\u001b[1m \u001b[0m \u001b[1m \u001b[0m\u001b[1mx_3     \u001b[0m\u001b[1m \u001b[0m \u001b[1m \u001b[0m\u001b[1mb      \u001b[0m\u001b[1m \u001b[0m \n",
       " ───────────────────────────────────────── \n",
       " \u001b[36m \u001b[0m\u001b[36m3.00000\u001b[0m\u001b[36m \u001b[0m \u001b[36m \u001b[0m\u001b[36m-2.00000\u001b[0m\u001b[36m \u001b[0m \u001b[36m \u001b[0m\u001b[36m1.00000 \u001b[0m\u001b[36m \u001b[0m \u001b[32m \u001b[0m\u001b[32m5.00000\u001b[0m\u001b[32m \u001b[0m \n",
       " \u001b[36m \u001b[0m\u001b[36m0.00000\u001b[0m\u001b[36m \u001b[0m \u001b[36m \u001b[0m\u001b[36m4.33333 \u001b[0m\u001b[36m \u001b[0m \u001b[36m \u001b[0m\u001b[36m-1.66667\u001b[0m\u001b[36m \u001b[0m \u001b[32m \u001b[0m\u001b[32m4.66667\u001b[0m\u001b[32m \u001b[0m \n",
       " \u001b[36m \u001b[0m\u001b[36m0.00000\u001b[0m\u001b[36m \u001b[0m \u001b[36m \u001b[0m\u001b[36m0.00000 \u001b[0m\u001b[36m \u001b[0m \u001b[36m \u001b[0m\u001b[36m2.46154 \u001b[0m\u001b[36m \u001b[0m \u001b[32m \u001b[0m\u001b[32m2.30769\u001b[0m\u001b[32m \u001b[0m \n",
       "                                           \n"
      ]
     },
     "metadata": {},
     "output_type": "display_data"
    },
    {
     "data": {
      "text/html": [
       "<pre style=\"white-space:pre;overflow-x:auto;line-height:normal;font-family:Menlo,'DejaVu Sans Mono',consolas,'Courier New',monospace\"><span style=\"color: #008080; text-decoration-color: #008080\">Passo </span><span style=\"color: #008080; text-decoration-color: #008080; font-weight: bold\">6</span><span style=\"color: #008080; text-decoration-color: #008080\">: Calcular x_3 = </span><span style=\"color: #008080; text-decoration-color: #008080; font-weight: bold\">0.93750</span>\n",
       "</pre>\n"
      ],
      "text/plain": [
       "\u001b[36mPasso \u001b[0m\u001b[1;36m6\u001b[0m\u001b[36m: Calcular x_3 = \u001b[0m\u001b[1;36m0.93750\u001b[0m\n"
      ]
     },
     "metadata": {},
     "output_type": "display_data"
    },
    {
     "data": {
      "text/html": [
       "<pre style=\"white-space:pre;overflow-x:auto;line-height:normal;font-family:Menlo,'DejaVu Sans Mono',consolas,'Courier New',monospace\"><span style=\"color: #008080; text-decoration-color: #008080\">Passo </span><span style=\"color: #008080; text-decoration-color: #008080; font-weight: bold\">7</span><span style=\"color: #008080; text-decoration-color: #008080\">: Calcular x_2 = </span><span style=\"color: #008080; text-decoration-color: #008080; font-weight: bold\">1.43750</span>\n",
       "</pre>\n"
      ],
      "text/plain": [
       "\u001b[36mPasso \u001b[0m\u001b[1;36m7\u001b[0m\u001b[36m: Calcular x_2 = \u001b[0m\u001b[1;36m1.43750\u001b[0m\n"
      ]
     },
     "metadata": {},
     "output_type": "display_data"
    },
    {
     "data": {
      "text/html": [
       "<pre style=\"white-space:pre;overflow-x:auto;line-height:normal;font-family:Menlo,'DejaVu Sans Mono',consolas,'Courier New',monospace\"><span style=\"color: #008080; text-decoration-color: #008080\">Passo </span><span style=\"color: #008080; text-decoration-color: #008080; font-weight: bold\">8</span><span style=\"color: #008080; text-decoration-color: #008080\">: Calcular x_1 = </span><span style=\"color: #008080; text-decoration-color: #008080; font-weight: bold\">2.31250</span>\n",
       "</pre>\n"
      ],
      "text/plain": [
       "\u001b[36mPasso \u001b[0m\u001b[1;36m8\u001b[0m\u001b[36m: Calcular x_1 = \u001b[0m\u001b[1;36m2.31250\u001b[0m\n"
      ]
     },
     "metadata": {},
     "output_type": "display_data"
    },
    {
     "data": {
      "text/html": [
       "<pre style=\"white-space:pre;overflow-x:auto;line-height:normal;font-family:Menlo,'DejaVu Sans Mono',consolas,'Courier New',monospace\"><span style=\"color: #008000; text-decoration-color: #008000\">╭─────────────────────────────────────────────────── Resultado ───────────────────────────────────────────────────╮</span>\n",
       "<span style=\"color: #008000; text-decoration-color: #008000\">│</span> <span style=\"color: #008000; text-decoration-color: #008000; font-weight: bold\">✓ Solução encontrada com 8 operações elementares</span>                                                                <span style=\"color: #008000; text-decoration-color: #008000\">│</span>\n",
       "<span style=\"color: #008000; text-decoration-color: #008000\">╰─────────────────────────────────────────────────────────────────────────────────────────────────────────────────╯</span>\n",
       "</pre>\n"
      ],
      "text/plain": [
       "\u001b[32m╭─\u001b[0m\u001b[32m──────────────────────────────────────────────────\u001b[0m\u001b[32m Resultado \u001b[0m\u001b[32m──────────────────────────────────────────────────\u001b[0m\u001b[32m─╮\u001b[0m\n",
       "\u001b[32m│\u001b[0m \u001b[1;32m✓ Solução encontrada com 8 operações elementares\u001b[0m                                                                \u001b[32m│\u001b[0m\n",
       "\u001b[32m╰─────────────────────────────────────────────────────────────────────────────────────────────────────────────────╯\u001b[0m\n"
      ]
     },
     "metadata": {},
     "output_type": "display_data"
    },
    {
     "data": {
      "text/html": [
       "<pre style=\"white-space:pre;overflow-x:auto;line-height:normal;font-family:Menlo,'DejaVu Sans Mono',consolas,'Courier New',monospace\"><span style=\"font-style: italic\">Verificação da Solução</span>\n",
       "<span style=\"font-style: italic\">     - Sistema 1      </span>\n",
       "┏━━━━━━━━━━┳━━━━━━━━━┓\n",
       "┃<span style=\"font-weight: bold\"> Variável </span>┃<span style=\"font-weight: bold\"> Valor   </span>┃\n",
       "┡━━━━━━━━━━╇━━━━━━━━━┩\n",
       "│<span style=\"color: #008080; text-decoration-color: #008080\"> x_1      </span>│<span style=\"color: #008000; text-decoration-color: #008000\"> 2.31250 </span>│\n",
       "│<span style=\"color: #008080; text-decoration-color: #008080\"> x_2      </span>│<span style=\"color: #008000; text-decoration-color: #008000\"> 1.43750 </span>│\n",
       "│<span style=\"color: #008080; text-decoration-color: #008080\"> x_3      </span>│<span style=\"color: #008000; text-decoration-color: #008000\"> 0.93750 </span>│\n",
       "└──────────┴─────────┘\n",
       "</pre>\n"
      ],
      "text/plain": [
       "\u001b[3mVerificação da Solução\u001b[0m\n",
       "\u001b[3m     - Sistema 1      \u001b[0m\n",
       "┏━━━━━━━━━━┳━━━━━━━━━┓\n",
       "┃\u001b[1m \u001b[0m\u001b[1mVariável\u001b[0m\u001b[1m \u001b[0m┃\u001b[1m \u001b[0m\u001b[1mValor  \u001b[0m\u001b[1m \u001b[0m┃\n",
       "┡━━━━━━━━━━╇━━━━━━━━━┩\n",
       "│\u001b[36m \u001b[0m\u001b[36mx_1     \u001b[0m\u001b[36m \u001b[0m│\u001b[32m \u001b[0m\u001b[32m2.31250\u001b[0m\u001b[32m \u001b[0m│\n",
       "│\u001b[36m \u001b[0m\u001b[36mx_2     \u001b[0m\u001b[36m \u001b[0m│\u001b[32m \u001b[0m\u001b[32m1.43750\u001b[0m\u001b[32m \u001b[0m│\n",
       "│\u001b[36m \u001b[0m\u001b[36mx_3     \u001b[0m\u001b[36m \u001b[0m│\u001b[32m \u001b[0m\u001b[32m0.93750\u001b[0m\u001b[32m \u001b[0m│\n",
       "└──────────┴─────────┘\n"
      ]
     },
     "metadata": {},
     "output_type": "display_data"
    },
    {
     "data": {
      "text/html": [
       "<pre style=\"white-space:pre;overflow-x:auto;line-height:normal;font-family:Menlo,'DejaVu Sans Mono',consolas,'Courier New',monospace\"><span style=\"font-style: italic\">       Verificação A*x = b       </span>\n",
       "┏━━━━━━━━━┳━━━━━━━━━┳━━━━━━━━━━━┓\n",
       "┃<span style=\"font-weight: bold\"> A*x     </span>┃<span style=\"font-weight: bold\"> b       </span>┃<span style=\"font-weight: bold\"> Diferença </span>┃\n",
       "┡━━━━━━━━━╇━━━━━━━━━╇━━━━━━━━━━━┩\n",
       "│<span style=\"color: #800080; text-decoration-color: #800080\"> 8.00000 </span>│<span style=\"color: #000080; text-decoration-color: #000080\"> 8.00000 </span>│<span style=\"color: #800000; text-decoration-color: #800000\"> 0.00000   </span>│\n",
       "│<span style=\"color: #800080; text-decoration-color: #800080\"> 1.00000 </span>│<span style=\"color: #000080; text-decoration-color: #000080\"> 1.00000 </span>│<span style=\"color: #800000; text-decoration-color: #800000\"> 0.00000   </span>│\n",
       "│<span style=\"color: #800080; text-decoration-color: #800080\"> 5.00000 </span>│<span style=\"color: #000080; text-decoration-color: #000080\"> 5.00000 </span>│<span style=\"color: #800000; text-decoration-color: #800000\"> 0.00000   </span>│\n",
       "└─────────┴─────────┴───────────┘\n",
       "</pre>\n"
      ],
      "text/plain": [
       "\u001b[3m       Verificação A*x = b       \u001b[0m\n",
       "┏━━━━━━━━━┳━━━━━━━━━┳━━━━━━━━━━━┓\n",
       "┃\u001b[1m \u001b[0m\u001b[1mA*x    \u001b[0m\u001b[1m \u001b[0m┃\u001b[1m \u001b[0m\u001b[1mb      \u001b[0m\u001b[1m \u001b[0m┃\u001b[1m \u001b[0m\u001b[1mDiferença\u001b[0m\u001b[1m \u001b[0m┃\n",
       "┡━━━━━━━━━╇━━━━━━━━━╇━━━━━━━━━━━┩\n",
       "│\u001b[35m \u001b[0m\u001b[35m8.00000\u001b[0m\u001b[35m \u001b[0m│\u001b[34m \u001b[0m\u001b[34m8.00000\u001b[0m\u001b[34m \u001b[0m│\u001b[31m \u001b[0m\u001b[31m0.00000  \u001b[0m\u001b[31m \u001b[0m│\n",
       "│\u001b[35m \u001b[0m\u001b[35m1.00000\u001b[0m\u001b[35m \u001b[0m│\u001b[34m \u001b[0m\u001b[34m1.00000\u001b[0m\u001b[34m \u001b[0m│\u001b[31m \u001b[0m\u001b[31m0.00000  \u001b[0m\u001b[31m \u001b[0m│\n",
       "│\u001b[35m \u001b[0m\u001b[35m5.00000\u001b[0m\u001b[35m \u001b[0m│\u001b[34m \u001b[0m\u001b[34m5.00000\u001b[0m\u001b[34m \u001b[0m│\u001b[31m \u001b[0m\u001b[31m0.00000  \u001b[0m\u001b[31m \u001b[0m│\n",
       "└─────────┴─────────┴───────────┘\n"
      ]
     },
     "metadata": {},
     "output_type": "display_data"
    },
    {
     "data": {
      "text/html": [
       "<pre style=\"white-space:pre;overflow-x:auto;line-height:normal;font-family:Menlo,'DejaVu Sans Mono',consolas,'Courier New',monospace\">Norma do resíduo ||A*x - b|| = <span style=\"color: #008080; text-decoration-color: #008080; font-weight: bold\">0.00000</span>\n",
       "</pre>\n"
      ],
      "text/plain": [
       "Norma do resíduo ||A*x - b|| = \u001b[1;36m0.00000\u001b[0m\n"
      ]
     },
     "metadata": {},
     "output_type": "display_data"
    },
    {
     "data": {
      "text/html": [
       "<pre style=\"white-space:pre;overflow-x:auto;line-height:normal;font-family:Menlo,'DejaVu Sans Mono',consolas,'Courier New',monospace\"><span style=\"color: #008000; text-decoration-color: #008000; font-weight: bold\">✓ A solução é precisa!</span>\n",
       "</pre>\n"
      ],
      "text/plain": [
       "\u001b[1;32m✓ A solução é precisa!\u001b[0m\n"
      ]
     },
     "metadata": {},
     "output_type": "display_data"
    },
    {
     "data": {
      "text/html": [
       "<pre style=\"white-space:pre;overflow-x:auto;line-height:normal;font-family:Menlo,'DejaVu Sans Mono',consolas,'Courier New',monospace\"><span style=\"font-style: italic\">                Resultados da Solução                 </span>\n",
       "┏━━━━━━━━━━━━━━━━━━━━━━━━━━━━━━━━━┳━━━━━━━━━━━━━━━━━━┓\n",
       "┃<span style=\"font-weight: bold\"> Parâmetro                       </span>┃<span style=\"font-weight: bold\"> Valor            </span>┃\n",
       "┡━━━━━━━━━━━━━━━━━━━━━━━━━━━━━━━━━╇━━━━━━━━━━━━━━━━━━┩\n",
       "│<span style=\"color: #008080; text-decoration-color: #008080\"> Número de equações              </span>│<span style=\"color: #008000; text-decoration-color: #008000\"> 3                </span>│\n",
       "│<span style=\"color: #008080; text-decoration-color: #008080\"> Número de operações elementares </span>│<span style=\"color: #008000; text-decoration-color: #008000\"> 8                </span>│\n",
       "│<span style=\"color: #008080; text-decoration-color: #008080\"> Tempo de execução               </span>│<span style=\"color: #008000; text-decoration-color: #008000\"> 0.01881 segundos </span>│\n",
       "└─────────────────────────────────┴──────────────────┘\n",
       "</pre>\n"
      ],
      "text/plain": [
       "\u001b[3m                Resultados da Solução                 \u001b[0m\n",
       "┏━━━━━━━━━━━━━━━━━━━━━━━━━━━━━━━━━┳━━━━━━━━━━━━━━━━━━┓\n",
       "┃\u001b[1m \u001b[0m\u001b[1mParâmetro                      \u001b[0m\u001b[1m \u001b[0m┃\u001b[1m \u001b[0m\u001b[1mValor           \u001b[0m\u001b[1m \u001b[0m┃\n",
       "┡━━━━━━━━━━━━━━━━━━━━━━━━━━━━━━━━━╇━━━━━━━━━━━━━━━━━━┩\n",
       "│\u001b[36m \u001b[0m\u001b[36mNúmero de equações             \u001b[0m\u001b[36m \u001b[0m│\u001b[32m \u001b[0m\u001b[32m3               \u001b[0m\u001b[32m \u001b[0m│\n",
       "│\u001b[36m \u001b[0m\u001b[36mNúmero de operações elementares\u001b[0m\u001b[36m \u001b[0m│\u001b[32m \u001b[0m\u001b[32m8               \u001b[0m\u001b[32m \u001b[0m│\n",
       "│\u001b[36m \u001b[0m\u001b[36mTempo de execução              \u001b[0m\u001b[36m \u001b[0m│\u001b[32m \u001b[0m\u001b[32m0.01881 segundos\u001b[0m\u001b[32m \u001b[0m│\n",
       "└─────────────────────────────────┴──────────────────┘\n"
      ]
     },
     "metadata": {},
     "output_type": "display_data"
    },
    {
     "data": {
      "text/html": [
       "<pre style=\"white-space:pre;overflow-x:auto;line-height:normal;font-family:Menlo,'DejaVu Sans Mono',consolas,'Courier New',monospace\"><span style=\"font-style: italic\">  Solução do Sistema  </span>\n",
       "┏━━━━━━━━━━┳━━━━━━━━━┓\n",
       "┃<span style=\"font-weight: bold\"> Variável </span>┃<span style=\"font-weight: bold\"> Valor   </span>┃\n",
       "┡━━━━━━━━━━╇━━━━━━━━━┩\n",
       "│<span style=\"color: #008080; text-decoration-color: #008080\"> x_1      </span>│<span style=\"color: #008000; text-decoration-color: #008000\"> 2.31250 </span>│\n",
       "│<span style=\"color: #008080; text-decoration-color: #008080\"> x_2      </span>│<span style=\"color: #008000; text-decoration-color: #008000\"> 1.43750 </span>│\n",
       "│<span style=\"color: #008080; text-decoration-color: #008080\"> x_3      </span>│<span style=\"color: #008000; text-decoration-color: #008000\"> 0.93750 </span>│\n",
       "└──────────┴─────────┘\n",
       "</pre>\n"
      ],
      "text/plain": [
       "\u001b[3m  Solução do Sistema  \u001b[0m\n",
       "┏━━━━━━━━━━┳━━━━━━━━━┓\n",
       "┃\u001b[1m \u001b[0m\u001b[1mVariável\u001b[0m\u001b[1m \u001b[0m┃\u001b[1m \u001b[0m\u001b[1mValor  \u001b[0m\u001b[1m \u001b[0m┃\n",
       "┡━━━━━━━━━━╇━━━━━━━━━┩\n",
       "│\u001b[36m \u001b[0m\u001b[36mx_1     \u001b[0m\u001b[36m \u001b[0m│\u001b[32m \u001b[0m\u001b[32m2.31250\u001b[0m\u001b[32m \u001b[0m│\n",
       "│\u001b[36m \u001b[0m\u001b[36mx_2     \u001b[0m\u001b[36m \u001b[0m│\u001b[32m \u001b[0m\u001b[32m1.43750\u001b[0m\u001b[32m \u001b[0m│\n",
       "│\u001b[36m \u001b[0m\u001b[36mx_3     \u001b[0m\u001b[36m \u001b[0m│\u001b[32m \u001b[0m\u001b[32m0.93750\u001b[0m\u001b[32m \u001b[0m│\n",
       "└──────────┴─────────┘\n"
      ]
     },
     "metadata": {},
     "output_type": "display_data"
    },
    {
     "data": {
      "text/html": [
       "<pre style=\"white-space:pre;overflow-x:auto;line-height:normal;font-family:Menlo,'DejaVu Sans Mono',consolas,'Courier New',monospace\"><span style=\"font-style: italic\">             Verificação da Solução              </span>\n",
       "┏━━━━━━━━━━━┳━━━━━━━━━┳━━━━━━━━━┳━━━━━━━━━━━━━━━┓\n",
       "┃<span style=\"font-weight: bold\"> Equação   </span>┃<span style=\"font-weight: bold\"> A*x     </span>┃<span style=\"font-weight: bold\"> b       </span>┃<span style=\"font-weight: bold\"> Erro Absoluto </span>┃\n",
       "┡━━━━━━━━━━━╇━━━━━━━━━╇━━━━━━━━━╇━━━━━━━━━━━━━━━┩\n",
       "│<span style=\"color: #008080; text-decoration-color: #008080\"> Equação 1 </span>│<span style=\"color: #800080; text-decoration-color: #800080\"> 8.00000 </span>│<span style=\"color: #000080; text-decoration-color: #000080\"> 8.00000 </span>│<span style=\"color: #800000; text-decoration-color: #800000\"> 0.00000       </span>│\n",
       "│<span style=\"color: #008080; text-decoration-color: #008080\"> Equação 2 </span>│<span style=\"color: #800080; text-decoration-color: #800080\"> 1.00000 </span>│<span style=\"color: #000080; text-decoration-color: #000080\"> 1.00000 </span>│<span style=\"color: #800000; text-decoration-color: #800000\"> 0.00000       </span>│\n",
       "│<span style=\"color: #008080; text-decoration-color: #008080\"> Equação 3 </span>│<span style=\"color: #800080; text-decoration-color: #800080\"> 5.00000 </span>│<span style=\"color: #000080; text-decoration-color: #000080\"> 5.00000 </span>│<span style=\"color: #800000; text-decoration-color: #800000\"> 0.00000       </span>│\n",
       "└───────────┴─────────┴─────────┴───────────────┘\n",
       "</pre>\n"
      ],
      "text/plain": [
       "\u001b[3m             Verificação da Solução              \u001b[0m\n",
       "┏━━━━━━━━━━━┳━━━━━━━━━┳━━━━━━━━━┳━━━━━━━━━━━━━━━┓\n",
       "┃\u001b[1m \u001b[0m\u001b[1mEquação  \u001b[0m\u001b[1m \u001b[0m┃\u001b[1m \u001b[0m\u001b[1mA*x    \u001b[0m\u001b[1m \u001b[0m┃\u001b[1m \u001b[0m\u001b[1mb      \u001b[0m\u001b[1m \u001b[0m┃\u001b[1m \u001b[0m\u001b[1mErro Absoluto\u001b[0m\u001b[1m \u001b[0m┃\n",
       "┡━━━━━━━━━━━╇━━━━━━━━━╇━━━━━━━━━╇━━━━━━━━━━━━━━━┩\n",
       "│\u001b[36m \u001b[0m\u001b[36mEquação 1\u001b[0m\u001b[36m \u001b[0m│\u001b[35m \u001b[0m\u001b[35m8.00000\u001b[0m\u001b[35m \u001b[0m│\u001b[34m \u001b[0m\u001b[34m8.00000\u001b[0m\u001b[34m \u001b[0m│\u001b[31m \u001b[0m\u001b[31m0.00000      \u001b[0m\u001b[31m \u001b[0m│\n",
       "│\u001b[36m \u001b[0m\u001b[36mEquação 2\u001b[0m\u001b[36m \u001b[0m│\u001b[35m \u001b[0m\u001b[35m1.00000\u001b[0m\u001b[35m \u001b[0m│\u001b[34m \u001b[0m\u001b[34m1.00000\u001b[0m\u001b[34m \u001b[0m│\u001b[31m \u001b[0m\u001b[31m0.00000      \u001b[0m\u001b[31m \u001b[0m│\n",
       "│\u001b[36m \u001b[0m\u001b[36mEquação 3\u001b[0m\u001b[36m \u001b[0m│\u001b[35m \u001b[0m\u001b[35m5.00000\u001b[0m\u001b[35m \u001b[0m│\u001b[34m \u001b[0m\u001b[34m5.00000\u001b[0m\u001b[34m \u001b[0m│\u001b[31m \u001b[0m\u001b[31m0.00000      \u001b[0m\u001b[31m \u001b[0m│\n",
       "└───────────┴─────────┴─────────┴───────────────┘\n"
      ]
     },
     "metadata": {},
     "output_type": "display_data"
    },
    {
     "data": {
      "text/html": [
       "<pre style=\"white-space:pre;overflow-x:auto;line-height:normal;font-family:Menlo,'DejaVu Sans Mono',consolas,'Courier New',monospace\"><span style=\"color: #008000; text-decoration-color: #008000\">╭─────────────────────────────────────────────────── Conclusão ───────────────────────────────────────────────────╮</span>\n",
       "<span style=\"color: #008000; text-decoration-color: #008000\">│</span> <span style=\"color: #008000; text-decoration-color: #008000; font-weight: bold\">✓ Sistema resolvido com sucesso!</span>                                                                                <span style=\"color: #008000; text-decoration-color: #008000\">│</span>\n",
       "<span style=\"color: #008000; text-decoration-color: #008000\">│</span> Resíduo: 0.00000                                                                                                <span style=\"color: #008000; text-decoration-color: #008000\">│</span>\n",
       "<span style=\"color: #008000; text-decoration-color: #008000\">│</span> Erro relativo: 0.00000                                                                                          <span style=\"color: #008000; text-decoration-color: #008000\">│</span>\n",
       "<span style=\"color: #008000; text-decoration-color: #008000\">╰─────────────────────────────────────────────────────────────────────────────────────────────────────────────────╯</span>\n",
       "</pre>\n"
      ],
      "text/plain": [
       "\u001b[32m╭─\u001b[0m\u001b[32m──────────────────────────────────────────────────\u001b[0m\u001b[32m Conclusão \u001b[0m\u001b[32m──────────────────────────────────────────────────\u001b[0m\u001b[32m─╮\u001b[0m\n",
       "\u001b[32m│\u001b[0m \u001b[1;32m✓ Sistema resolvido com sucesso!\u001b[0m                                                                                \u001b[32m│\u001b[0m\n",
       "\u001b[32m│\u001b[0m Resíduo: 0.00000                                                                                                \u001b[32m│\u001b[0m\n",
       "\u001b[32m│\u001b[0m Erro relativo: 0.00000                                                                                          \u001b[32m│\u001b[0m\n",
       "\u001b[32m╰─────────────────────────────────────────────────────────────────────────────────────────────────────────────────╯\u001b[0m\n"
      ]
     },
     "metadata": {},
     "output_type": "display_data"
    },
    {
     "data": {
      "text/html": [
       "<pre style=\"white-space:pre;overflow-x:auto;line-height:normal;font-family:Menlo,'DejaVu Sans Mono',consolas,'Courier New',monospace\"><span style=\"background-color: #272822\">                                                                                                                   </span>\n",
       "<span style=\"background-color: #272822\"> </span><span style=\"color: #f8f8f2; text-decoration-color: #f8f8f2; background-color: #272822\">## Sugestão para anotação no relatório:</span><span style=\"background-color: #272822\">                                                                           </span>\n",
       "<span style=\"background-color: #272822\">                                                                                                                   </span>\n",
       "<span style=\"background-color: #272822\"> </span><span style=\"color: #f8f8f2; text-decoration-color: #f8f8f2; background-color: #272822\">### Método Utilizado</span><span style=\"background-color: #272822\">                                                                                              </span>\n",
       "<span style=\"background-color: #272822\"> </span><span style=\"color: #f8f8f2; text-decoration-color: #f8f8f2; background-color: #272822\">O sistema foi resolvido utilizando o método direto de Eliminação de Gauss.</span><span style=\"background-color: #272822\">                                        </span>\n",
       "<span style=\"background-color: #272822\">                                                                                                                   </span>\n",
       "<span style=\"background-color: #272822\"> </span><span style=\"color: #f8f8f2; text-decoration-color: #f8f8f2; background-color: #272822\">### Parâmetros da Solução</span><span style=\"background-color: #272822\">                                                                                         </span>\n",
       "<span style=\"background-color: #272822\"> </span><span style=\"color: #f8f8f2; text-decoration-color: #f8f8f2; background-color: #272822\">- **Número de operações elementares:** 8</span><span style=\"background-color: #272822\">                                                                          </span>\n",
       "<span style=\"background-color: #272822\"> </span><span style=\"color: #f8f8f2; text-decoration-color: #f8f8f2; background-color: #272822\">- **Tempo de processamento:** 0.01881 s</span><span style=\"background-color: #272822\">                                                                           </span>\n",
       "<span style=\"background-color: #272822\">                                                                                                                   </span>\n",
       "<span style=\"background-color: #272822\"> </span><span style=\"color: #f8f8f2; text-decoration-color: #f8f8f2; background-color: #272822\">### Solução Encontrada</span><span style=\"background-color: #272822\">                                                                                            </span>\n",
       "<span style=\"background-color: #272822\"> </span><span style=\"color: #f8f8f2; text-decoration-color: #f8f8f2; background-color: #272822\">x_1 = 2.31250, x_2 = 1.43750, x_3 = 0.93750</span><span style=\"background-color: #272822\">                                                                       </span>\n",
       "<span style=\"background-color: #272822\">                                                                                                                   </span>\n",
       "<span style=\"background-color: #272822\"> </span><span style=\"color: #f8f8f2; text-decoration-color: #f8f8f2; background-color: #272822\">### Verificação</span><span style=\"background-color: #272822\">                                                                                                   </span>\n",
       "<span style=\"background-color: #272822\"> </span><span style=\"color: #f8f8f2; text-decoration-color: #f8f8f2; background-color: #272822\">O resíduo da solução (||A*x - b||) foi 0.00000, com erro relativo de 0.00000.</span><span style=\"background-color: #272822\">                                     </span>\n",
       "<span style=\"background-color: #272822\">                                                                                                                   </span>\n",
       "<span style=\"background-color: #272822\"> </span><span style=\"color: #f8f8f2; text-decoration-color: #f8f8f2; background-color: #272822\">### Conclusão</span><span style=\"background-color: #272822\">                                                                                                     </span>\n",
       "<span style=\"background-color: #272822\"> </span><span style=\"color: #f8f8f2; text-decoration-color: #f8f8f2; background-color: #272822\">A solução encontrada é exata e confiável.</span><span style=\"background-color: #272822\">                                                                         </span>\n",
       "<span style=\"background-color: #272822\">                                                                                                                   </span>\n",
       "</pre>\n"
      ],
      "text/plain": [
       "\u001b[48;2;39;40;34m                                                                                                                   \u001b[0m\n",
       "\u001b[48;2;39;40;34m \u001b[0m\u001b[38;2;248;248;242;48;2;39;40;34m## Sugestão para anotação no relatório:\u001b[0m\u001b[48;2;39;40;34m                                                                          \u001b[0m\u001b[48;2;39;40;34m \u001b[0m\n",
       "\u001b[48;2;39;40;34m \u001b[0m\u001b[48;2;39;40;34m                                                                                                                 \u001b[0m\u001b[48;2;39;40;34m \u001b[0m\n",
       "\u001b[48;2;39;40;34m \u001b[0m\u001b[38;2;248;248;242;48;2;39;40;34m### Método Utilizado\u001b[0m\u001b[48;2;39;40;34m                                                                                             \u001b[0m\u001b[48;2;39;40;34m \u001b[0m\n",
       "\u001b[48;2;39;40;34m \u001b[0m\u001b[38;2;248;248;242;48;2;39;40;34mO sistema foi resolvido utilizando o método direto de Eliminação de Gauss.\u001b[0m\u001b[48;2;39;40;34m                                       \u001b[0m\u001b[48;2;39;40;34m \u001b[0m\n",
       "\u001b[48;2;39;40;34m \u001b[0m\u001b[48;2;39;40;34m                                                                                                                 \u001b[0m\u001b[48;2;39;40;34m \u001b[0m\n",
       "\u001b[48;2;39;40;34m \u001b[0m\u001b[38;2;248;248;242;48;2;39;40;34m### Parâmetros da Solução\u001b[0m\u001b[48;2;39;40;34m                                                                                        \u001b[0m\u001b[48;2;39;40;34m \u001b[0m\n",
       "\u001b[48;2;39;40;34m \u001b[0m\u001b[38;2;248;248;242;48;2;39;40;34m- **Número de operações elementares:** 8\u001b[0m\u001b[48;2;39;40;34m                                                                         \u001b[0m\u001b[48;2;39;40;34m \u001b[0m\n",
       "\u001b[48;2;39;40;34m \u001b[0m\u001b[38;2;248;248;242;48;2;39;40;34m- **Tempo de processamento:** 0.01881 s\u001b[0m\u001b[48;2;39;40;34m                                                                          \u001b[0m\u001b[48;2;39;40;34m \u001b[0m\n",
       "\u001b[48;2;39;40;34m \u001b[0m\u001b[48;2;39;40;34m                                                                                                                 \u001b[0m\u001b[48;2;39;40;34m \u001b[0m\n",
       "\u001b[48;2;39;40;34m \u001b[0m\u001b[38;2;248;248;242;48;2;39;40;34m### Solução Encontrada\u001b[0m\u001b[48;2;39;40;34m                                                                                           \u001b[0m\u001b[48;2;39;40;34m \u001b[0m\n",
       "\u001b[48;2;39;40;34m \u001b[0m\u001b[38;2;248;248;242;48;2;39;40;34mx_1 = 2.31250, x_2 = 1.43750, x_3 = 0.93750\u001b[0m\u001b[48;2;39;40;34m                                                                      \u001b[0m\u001b[48;2;39;40;34m \u001b[0m\n",
       "\u001b[48;2;39;40;34m \u001b[0m\u001b[48;2;39;40;34m                                                                                                                 \u001b[0m\u001b[48;2;39;40;34m \u001b[0m\n",
       "\u001b[48;2;39;40;34m \u001b[0m\u001b[38;2;248;248;242;48;2;39;40;34m### Verificação\u001b[0m\u001b[48;2;39;40;34m                                                                                                  \u001b[0m\u001b[48;2;39;40;34m \u001b[0m\n",
       "\u001b[48;2;39;40;34m \u001b[0m\u001b[38;2;248;248;242;48;2;39;40;34mO resíduo da solução (||A*x - b||) foi 0.00000, com erro relativo de 0.00000.\u001b[0m\u001b[48;2;39;40;34m                                    \u001b[0m\u001b[48;2;39;40;34m \u001b[0m\n",
       "\u001b[48;2;39;40;34m \u001b[0m\u001b[48;2;39;40;34m                                                                                                                 \u001b[0m\u001b[48;2;39;40;34m \u001b[0m\n",
       "\u001b[48;2;39;40;34m \u001b[0m\u001b[38;2;248;248;242;48;2;39;40;34m### Conclusão\u001b[0m\u001b[48;2;39;40;34m                                                                                                    \u001b[0m\u001b[48;2;39;40;34m \u001b[0m\n",
       "\u001b[48;2;39;40;34m \u001b[0m\u001b[38;2;248;248;242;48;2;39;40;34mA solução encontrada é exata e confiável.\u001b[0m\u001b[48;2;39;40;34m                                                                        \u001b[0m\u001b[48;2;39;40;34m \u001b[0m\n",
       "\u001b[48;2;39;40;34m                                                                                                                   \u001b[0m\n"
      ]
     },
     "metadata": {},
     "output_type": "display_data"
    },
    {
     "data": {
      "text/html": [
       "<pre style=\"white-space:pre;overflow-x:auto;line-height:normal;font-family:Menlo,'DejaVu Sans Mono',consolas,'Courier New',monospace\"><span style=\"color: #808000; text-decoration-color: #808000\">Não foi possível gerar os gráficos: name </span><span style=\"color: #808000; text-decoration-color: #808000\">'plt'</span><span style=\"color: #808000; text-decoration-color: #808000\"> is not defined</span>\n",
       "</pre>\n"
      ],
      "text/plain": [
       "\u001b[33mNão foi possível gerar os gráficos: name \u001b[0m\u001b[33m'plt'\u001b[0m\u001b[33m is not defined\u001b[0m\n"
      ]
     },
     "metadata": {},
     "output_type": "display_data"
    }
   ],
   "source": [
    "import numpy as np\n",
    "from rich.console import Console\n",
    "from rich.table import Table\n",
    "from rich.panel import Panel\n",
    "from rich.markdown import Markdown\n",
    "from rich import box\n",
    "import time\n",
    "\n",
    "# Configurar numpy para não usar notação científica\n",
    "np.set_printoptions(precision=5, suppress=True)\n",
    "\n",
    "# Inicializar o console Rich\n",
    "console = Console()\n",
    "\n",
    "def gauss_elimination(A, b, show_steps=False):\n",
    "    \"\"\"\n",
    "    Resolve um sistema de equações lineares usando o método de eliminação de Gauss.\n",
    "    \n",
    "    Parâmetros:\n",
    "    A: matriz dos coeficientes (numpy array)\n",
    "    b: vetor dos termos independentes (numpy array)\n",
    "    show_steps: se True, mostra os passos intermediários do método\n",
    "    \n",
    "    Retorna:\n",
    "    x: solução encontrada\n",
    "    steps: número de operações elementares realizadas\n",
    "    time_history: histórico de tempo de operações\n",
    "    error_msg: mensagem de erro (se houver)\n",
    "    \"\"\"\n",
    "    # Copiar matrizes para não modificar as originais\n",
    "    A = A.copy().astype(float)\n",
    "    b = b.copy().astype(float)\n",
    "    n = len(A)\n",
    "    \n",
    "    # Verificar se a matriz é quadrada\n",
    "    if A.shape[0] != A.shape[1]:\n",
    "        return None, 0, [], \"A matriz de coeficientes não é quadrada.\"\n",
    "    \n",
    "    # Criar a matriz aumentada [A|b]\n",
    "    Ab = np.column_stack((A, b))\n",
    "    \n",
    "    steps = 0\n",
    "    time_history = []\n",
    "    start_time = time.time()\n",
    "    \n",
    "    # Fase de Eliminação: Transformar a matriz A em uma matriz triangular superior\n",
    "    for i in range(n-1):  # Para cada linha, exceto a última\n",
    "        # Encontrar o pivô máximo na coluna atual (pivotamento parcial)\n",
    "        max_row = i + np.argmax(abs(Ab[i:, i]))\n",
    "        \n",
    "        if max_row != i:\n",
    "            # Trocar linhas\n",
    "            Ab[[i, max_row]] = Ab[[max_row, i]]\n",
    "            steps += 1\n",
    "            if show_steps:\n",
    "                console.print(f\"[yellow]Passo {steps}: Trocar linhas {i+1} e {max_row+1}[/yellow]\")\n",
    "                mostrar_matriz_aumentada(Ab, f\"Matriz após troca de linhas {i+1} e {max_row+1}\")\n",
    "        \n",
    "        # Verificar se o pivô é zero (sistema singular)\n",
    "        if abs(Ab[i, i]) < 1e-10:\n",
    "            return None, steps, time_history, f\"O sistema pode ser singular ou mal condicionado. Pivô na posição ({i+1},{i+1}) muito próximo de zero.\"\n",
    "        \n",
    "        # Eliminar os elementos abaixo do pivô na coluna atual\n",
    "        for j in range(i+1, n):  # Para cada linha abaixo da linha i\n",
    "            if abs(Ab[j, i]) > 1e-10:  # Se o elemento não for zero\n",
    "                factor = Ab[j, i] / Ab[i, i]\n",
    "                Ab[j] = Ab[j] - factor * Ab[i]\n",
    "                steps += 1\n",
    "                \n",
    "                if show_steps:\n",
    "                    console.print(f\"[green]Passo {steps}: Subtrair {factor:.5f} vezes linha {i+1} da linha {j+1}[/green]\")\n",
    "                    mostrar_matriz_aumentada(Ab, f\"Matriz após eliminação do elemento ({j+1},{i+1})\")\n",
    "        \n",
    "        # Registrar o tempo após cada operação importante\n",
    "        current_time = time.time() - start_time\n",
    "        time_history.append(current_time)\n",
    "    \n",
    "    # Verificar se o último pivô é zero\n",
    "    if abs(Ab[n-1, n-1]) < 1e-10:\n",
    "        return None, steps, time_history, \"O sistema é singular: último pivô é zero.\"\n",
    "    \n",
    "    # Fase de Substituição Reversa: Resolver o sistema triangular superior\n",
    "    x = np.zeros(n)\n",
    "    for i in range(n-1, -1, -1):  # Para cada linha, de baixo para cima\n",
    "        # Calcular a soma dos termos conhecidos\n",
    "        sum_known = 0\n",
    "        for j in range(i+1, n):\n",
    "            sum_known += Ab[i, j] * x[j]\n",
    "        \n",
    "        # Calcular o valor de x_i\n",
    "        x[i] = (Ab[i, n] - sum_known) / Ab[i, i]\n",
    "        steps += 1\n",
    "        \n",
    "        if show_steps:\n",
    "            console.print(f\"[cyan]Passo {steps}: Calcular x_{i+1} = {x[i]:.5f}[/cyan]\")\n",
    "    \n",
    "    # Registrar o tempo final\n",
    "    current_time = time.time() - start_time\n",
    "    time_history.append(current_time)\n",
    "    \n",
    "    return x, steps, time_history, None\n",
    "\n",
    "def mostrar_matriz_aumentada(Ab, titulo):\n",
    "    \"\"\"\n",
    "    Mostra a matriz aumentada [A|b] em formato de tabela.\n",
    "    \n",
    "    Parâmetros:\n",
    "    Ab: matriz aumentada [A|b]\n",
    "    titulo: título da tabela\n",
    "    \"\"\"\n",
    "    n = Ab.shape[0]\n",
    "    m = Ab.shape[1]\n",
    "    \n",
    "    table = Table(title=titulo, box=box.SIMPLE)\n",
    "    \n",
    "    # Adicionar colunas para cada variável e para o vetor b\n",
    "    for j in range(m-1):\n",
    "        table.add_column(f\"x_{j+1}\", style=\"cyan\")\n",
    "    table.add_column(\"b\", style=\"green\")\n",
    "    \n",
    "    # Adicionar linhas\n",
    "    for i in range(n):\n",
    "        row_data = [f\"{Ab[i,j]:.5f}\" for j in range(m)]\n",
    "        table.add_row(*row_data)\n",
    "    \n",
    "    console.print(table)\n",
    "\n",
    "def imprimir_sistema(A, b, titulo):\n",
    "    \"\"\"\n",
    "    Formata e imprime um sistema de equações lineares.\n",
    "    \n",
    "    Parâmetros:\n",
    "    A (numpy.ndarray): Matriz de coeficientes.\n",
    "    b (numpy.ndarray): Vetor dos termos independentes.\n",
    "    titulo (str): Título do sistema.\n",
    "    \"\"\"\n",
    "    n = len(b)\n",
    "    equacoes = []\n",
    "    \n",
    "    for i in range(n):\n",
    "        eq = \"\"\n",
    "        for j in range(n):\n",
    "            coef = A[i, j]\n",
    "            if j == 0:\n",
    "                eq += f\"{coef:.5f}x_{j+1}\"\n",
    "            else:\n",
    "                if coef >= 0:\n",
    "                    eq += f\" + {coef:.5f}x_{j+1}\"\n",
    "                else:\n",
    "                    eq += f\" - {abs(coef):.5f}x_{j+1}\"\n",
    "        eq += f\" = {b[i]:.5f}\"\n",
    "        equacoes.append(eq)\n",
    "    \n",
    "    md = f\"## {titulo}\\n\\n\"\n",
    "    for i, eq in enumerate(equacoes):\n",
    "        md += f\"Equação {i+1}: {eq}\\n\\n\"\n",
    "    \n",
    "    console.print(Markdown(md))\n",
    "\n",
    "def verificar_solucao(A, b, x, nome_sistema=\"Sistema\"):\n",
    "    \"\"\"\n",
    "    Verifica a solução encontrada, calculando A*x e comparando com b.\n",
    "    \n",
    "    Parâmetros:\n",
    "    A (numpy.ndarray): Matriz de coeficientes.\n",
    "    b (numpy.ndarray): Vetor dos termos independentes.\n",
    "    x (numpy.ndarray): Solução calculada.\n",
    "    nome_sistema (str): Identificador do sistema para exibição.\n",
    "    \"\"\"\n",
    "    resultado = np.dot(A, x)\n",
    "    residuo = np.linalg.norm(resultado - b)\n",
    "    \n",
    "    table = Table(title=f\"Verificação da Solução - {nome_sistema}\")\n",
    "    table.add_column(\"Variável\", style=\"cyan\")\n",
    "    table.add_column(\"Valor\", style=\"green\")\n",
    "    \n",
    "    for i, valor in enumerate(x):\n",
    "        table.add_row(f\"x_{i+1}\", f\"{valor:.5f}\")\n",
    "    \n",
    "    console.print(table)\n",
    "    \n",
    "    # Tabela de verificação\n",
    "    table = Table(title=\"Verificação A*x = b\")\n",
    "    table.add_column(\"A*x\", style=\"magenta\")\n",
    "    table.add_column(\"b\", style=\"blue\")\n",
    "    table.add_column(\"Diferença\", style=\"red\")\n",
    "    \n",
    "    for i in range(len(b)):\n",
    "        table.add_row(\n",
    "            f\"{resultado[i]:.5f}\",\n",
    "            f\"{b[i]:.5f}\",\n",
    "            f\"{abs(resultado[i] - b[i]):.5f}\"\n",
    "        )\n",
    "    \n",
    "    console.print(table)\n",
    "    console.print(f\"Norma do resíduo ||A*x - b|| = [bold]{residuo:.5f}[/bold]\")\n",
    "    \n",
    "    if residuo < 1e-5:\n",
    "        console.print(\"[bold green]✓ A solução é precisa![/bold green]\")\n",
    "    else:\n",
    "        console.print(\"[bold yellow]⚠️ A solução tem precisão limitada.[/bold yellow]\")\n",
    "\n",
    "def anotar_resultados(A, b, x, operacoes, tempo_execucao):\n",
    "    \"\"\"\n",
    "    Anota e apresenta os resultados da solução de um sistema linear.\n",
    "    \n",
    "    Parâmetros:\n",
    "    A (numpy.ndarray): Matriz de coeficientes.\n",
    "    b (numpy.ndarray): Vetor dos termos independentes.\n",
    "    x (numpy.ndarray): Solução encontrada.\n",
    "    operacoes (int): Número de operações elementares realizadas.\n",
    "    tempo_execucao (float): Tempo de execução em segundos.\n",
    "    \"\"\"\n",
    "    # Criar uma tabela para os resultados principais\n",
    "    table = Table(title=\"Resultados da Solução\")\n",
    "    table.add_column(\"Parâmetro\", style=\"cyan\")\n",
    "    table.add_column(\"Valor\", style=\"green\")\n",
    "    \n",
    "    table.add_row(\"Número de equações\", str(len(b)))\n",
    "    table.add_row(\"Número de operações elementares\", str(operacoes))\n",
    "    table.add_row(\"Tempo de execução\", f\"{tempo_execucao:.5f} segundos\")\n",
    "    \n",
    "    console.print(table)\n",
    "    \n",
    "    # Tabela para a solução\n",
    "    sol_table = Table(title=\"Solução do Sistema\")\n",
    "    sol_table.add_column(\"Variável\", style=\"cyan\")\n",
    "    sol_table.add_column(\"Valor\", style=\"green\")\n",
    "    \n",
    "    for i, valor in enumerate(x):\n",
    "        sol_table.add_row(f\"x_{i+1}\", f\"{valor:.5f}\")\n",
    "    \n",
    "    console.print(sol_table)\n",
    "    \n",
    "    # Verificar a solução\n",
    "    Ax = np.dot(A, x)\n",
    "    residuo = np.linalg.norm(Ax - b)\n",
    "    erro_relativo = residuo / np.linalg.norm(b) if np.linalg.norm(b) > 0 else residuo\n",
    "    \n",
    "        # Tabela para verificação\n",
    "    ver_table = Table(title=\"Verificação da Solução\")\n",
    "    ver_table.add_column(\"Equação\", style=\"cyan\")\n",
    "    ver_table.add_column(\"A*x\", style=\"magenta\")\n",
    "    ver_table.add_column(\"b\", style=\"blue\")\n",
    "    ver_table.add_column(\"Erro Absoluto\", style=\"red\")\n",
    "    \n",
    "    for i in range(len(b)):\n",
    "        ver_table.add_row(\n",
    "            f\"Equação {i+1}\",\n",
    "            f\"{Ax[i]:.5f}\",\n",
    "            f\"{b[i]:.5f}\",\n",
    "            f\"{abs(Ax[i] - b[i]):.5f}\"\n",
    "        )\n",
    "    \n",
    "    console.print(ver_table)\n",
    "    \n",
    "    # Resumo final\n",
    "    if erro_relativo < 1e-5:\n",
    "        console.print(Panel(\n",
    "            f\"[bold green]✓ Sistema resolvido com sucesso![/bold green]\\n\"\n",
    "            f\"Resíduo: {residuo:.5f}\\n\"\n",
    "            f\"Erro relativo: {erro_relativo:.5f}\",\n",
    "            title=\"Conclusão\",\n",
    "            border_style=\"green\"\n",
    "        ))\n",
    "    else:\n",
    "        console.print(Panel(\n",
    "            f\"[bold yellow]⚠️ Sistema resolvido com precisão limitada.[/bold yellow]\\n\"\n",
    "            f\"Resíduo: {residuo:.5f}\\n\"\n",
    "            f\"Erro relativo: {erro_relativo:.5f}\",\n",
    "            title=\"Conclusão\",\n",
    "            border_style=\"yellow\"\n",
    "        ))\n",
    "    \n",
    "    # Sugestão para relatório\n",
    "    console.print(Markdown(\"\"\"\n",
    "    ## Sugestão para anotação no relatório:\n",
    "    \n",
    "    ### Método Utilizado\n",
    "    O sistema foi resolvido utilizando o método direto de Eliminação de Gauss.\n",
    "    \n",
    "    ### Parâmetros da Solução\n",
    "    - **Número de operações elementares:** {}\n",
    "    - **Tempo de processamento:** {:.5f} s\n",
    "    \n",
    "    ### Solução Encontrada\n",
    "    {}\n",
    "    \n",
    "    ### Verificação\n",
    "    O resíduo da solução (||A*x - b||) foi {:.5f}, com erro relativo de {:.5f}.\n",
    "    \n",
    "    ### Conclusão\n",
    "    {}\n",
    "    \"\"\".format(\n",
    "        operacoes, \n",
    "        tempo_execucao,\n",
    "        \", \".join([f\"x_{i+1} = {valor:.5f}\" for i, valor in enumerate(x)]),\n",
    "        residuo,\n",
    "        erro_relativo,\n",
    "        \"A solução encontrada é exata e confiável.\" if erro_relativo < 1e-5 else \n",
    "        \"A solução encontrada tem precisão limitada, mas é aceitável para o problema.\"\n",
    "    )))\n",
    "\n",
    "def plotar_desempenho(tempo_hist, titulo):\n",
    "    \"\"\"\n",
    "    Plota o gráfico de desempenho do método direto.\n",
    "    \n",
    "    Parâmetros:\n",
    "    tempo_hist (list): Lista com o histórico de tempos.\n",
    "    titulo (str): Título do gráfico.\n",
    "    \"\"\"\n",
    "    plt.figure(figsize=(10, 6))\n",
    "    plt.plot(range(1, len(tempo_hist) + 1), tempo_hist, 'ro-')\n",
    "    plt.xlabel('Número de Operações')\n",
    "    plt.ylabel('Tempo Acumulado (segundos)')\n",
    "    plt.title(titulo)\n",
    "    plt.grid(True)\n",
    "    plt.show()\n",
    "\n",
    "def main():\n",
    "    console.print(Markdown(\"# Método de Eliminação de Gauss para Sistemas Lineares\"), style=\"bold blue\")\n",
    "    \n",
    "    try:\n",
    "        # Sistema 1: Sistema de exemplo\n",
    "        A1 = np.array([\n",
    "            [2, 3, -1], \n",
    "            [-1, 1, 2], \n",
    "            [3, -2, 1]\n",
    "        ], dtype=float)\n",
    "        b1 = np.array([8, 1, 5], dtype=float)\n",
    "        \n",
    "        # Exibir o sistema\n",
    "        console.rule(\"[bold cyan]Sistema Linear [/bold cyan]\")\n",
    "        imprimir_sistema(A1, b1, \"Sistema Linear\")\n",
    "        \n",
    "        # Definir se deseja mostrar passos intermediários\n",
    "        mostrar_passos = True  # Pode ser alterado para False se não quiser ver todos os passos\n",
    "        \n",
    "        # Executar o método\n",
    "        console.print(\"\\n[bold cyan]Executando o Método de Eliminação de Gauss...[/bold cyan]\")\n",
    "        \n",
    "        inicio = time.time()\n",
    "        x1, operacoes1, tempo_hist1, erro1 = gauss_elimination(A1, b1, show_steps=mostrar_passos)\n",
    "        fim = time.time()\n",
    "        \n",
    "        tempo_execucao1 = fim - inicio\n",
    "        \n",
    "        # Mostrar resultados\n",
    "        if x1 is not None:  # Solução encontrada\n",
    "            console.print(Panel(\n",
    "                f\"[bold green]✓ Solução encontrada com {operacoes1} operações elementares[/bold green]\",\n",
    "                title=\"Resultado\", \n",
    "                border_style=\"green\"\n",
    "            ))\n",
    "        else:\n",
    "            console.print(Panel(\n",
    "                f\"[bold red]⚠️ Não foi possível encontrar uma solução[/bold red]\\n\"\n",
    "                f\"Erro: {erro1}\",\n",
    "                title=\"Resultado\", \n",
    "                border_style=\"red\"\n",
    "            ))\n",
    "            return\n",
    "        \n",
    "        # Mostrar a solução e verificar\n",
    "        verificar_solucao(A1, b1, x1, \"Sistema 1\")\n",
    "        \n",
    "        # Apresentar resultados detalhados\n",
    "        anotar_resultados(A1, b1, x1, operacoes1, tempo_execucao1)\n",
    "        \n",
    "        # Plotar desempenho se pyplot estiver disponível\n",
    "        try:\n",
    "            if len(tempo_hist1) > 0:\n",
    "                plotar_desempenho(tempo_hist1, \"Desempenho do Método de Eliminação de Gauss\")\n",
    "        except Exception as e:\n",
    "            console.print(f\"[yellow]Não foi possível gerar os gráficos: {str(e)}[/yellow]\")\n",
    "        \n",
    "      \n",
    "    except Exception as e:\n",
    "        console.print(f\"[bold red]Erro:[/bold red] {str(e)}\")\n",
    "\n",
    "if __name__ == \"__main__\":\n",
    "    main()"
   ]
  }
 ],
 "metadata": {
  "kernelspec": {
   "display_name": ".venv",
   "language": "python",
   "name": "python3"
  },
  "language_info": {
   "codemirror_mode": {
    "name": "ipython",
    "version": 3
   },
   "file_extension": ".py",
   "mimetype": "text/x-python",
   "name": "python",
   "nbconvert_exporter": "python",
   "pygments_lexer": "ipython3",
   "version": "3.10.12"
  }
 },
 "nbformat": 4,
 "nbformat_minor": 5
}
