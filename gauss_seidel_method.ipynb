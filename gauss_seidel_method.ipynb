{
 "cells": [
  {
   "cell_type": "code",
   "execution_count": 6,
   "id": "3e41d4f5",
   "metadata": {},
   "outputs": [
    {
     "data": {
      "text/html": [
       "<pre style=\"white-space:pre;overflow-x:auto;line-height:normal;font-family:Menlo,'DejaVu Sans Mono',consolas,'Courier New',monospace\"><span style=\"color: #000080; text-decoration-color: #000080; font-weight: bold\">┏━━━━━━━━━━━━━━━━━━━━━━━━━━━━━━━━━━━━━━━━━━━━━━━━━━━━━━━━━━━━━━━━━━━━━━━━━━━━━━━━━━━━━━━━━━━━━━━━━━━━━━━━━━━━━━━━━┓</span>\n",
       "<span style=\"color: #000080; text-decoration-color: #000080; font-weight: bold\">┃                                  Método de Gauss-Seidel para Sistemas Lineares                                  ┃</span>\n",
       "<span style=\"color: #000080; text-decoration-color: #000080; font-weight: bold\">┗━━━━━━━━━━━━━━━━━━━━━━━━━━━━━━━━━━━━━━━━━━━━━━━━━━━━━━━━━━━━━━━━━━━━━━━━━━━━━━━━━━━━━━━━━━━━━━━━━━━━━━━━━━━━━━━━━┛</span>\n",
       "</pre>\n"
      ],
      "text/plain": [
       "\u001b[1;34m┏━━━━━━━━━━━━━━━━━━━━━━━━━━━━━━━━━━━━━━━━━━━━━━━━━━━━━━━━━━━━━━━━━━━━━━━━━━━━━━━━━━━━━━━━━━━━━━━━━━━━━━━━━━━━━━━━━┓\u001b[0m\n",
       "\u001b[1;34m┃\u001b[0m\u001b[1;34m \u001b[0m\u001b[1;34m                                 \u001b[0m\u001b[1;34mMétodo de Gauss-Seidel para Sistemas Lineares\u001b[0m\u001b[1;34m                                 \u001b[0m\u001b[1;34m \u001b[0m\u001b[1;34m┃\u001b[0m\n",
       "\u001b[1;34m┗━━━━━━━━━━━━━━━━━━━━━━━━━━━━━━━━━━━━━━━━━━━━━━━━━━━━━━━━━━━━━━━━━━━━━━━━━━━━━━━━━━━━━━━━━━━━━━━━━━━━━━━━━━━━━━━━━┛\u001b[0m\n"
      ]
     },
     "metadata": {},
     "output_type": "display_data"
    },
    {
     "data": {
      "text/html": [
       "<pre style=\"white-space:pre;overflow-x:auto;line-height:normal;font-family:Menlo,'DejaVu Sans Mono',consolas,'Courier New',monospace\"><span style=\"color: #00ff00; text-decoration-color: #00ff00\">───────────────────────────────────────── </span><span style=\"color: #008080; text-decoration-color: #008080; font-weight: bold\">Sistema Linear a ser Resolvido</span><span style=\"color: #00ff00; text-decoration-color: #00ff00\"> ──────────────────────────────────────────</span>\n",
       "</pre>\n"
      ],
      "text/plain": [
       "\u001b[92m───────────────────────────────────────── \u001b[0m\u001b[1;36mSistema Linear a ser Resolvido\u001b[0m\u001b[92m ──────────────────────────────────────────\u001b[0m\n"
      ]
     },
     "metadata": {},
     "output_type": "display_data"
    },
    {
     "data": {
      "text/html": [
       "<pre style=\"white-space:pre;overflow-x:auto;line-height:normal;font-family:Menlo,'DejaVu Sans Mono',consolas,'Courier New',monospace\">\n",
       "                                                  <span style=\"font-weight: bold; text-decoration: underline\">Sistema Linear</span>                                                   \n",
       "\n",
       "Equação 1: 9.00000x_1 - 3.00000x_2 + 2.00000x_3 = 6.00000                                                          \n",
       "\n",
       "Equação 2: -1.00000x_1 + 11.00000x_2 - 1.00000x_3 = 25.00000                                                       \n",
       "\n",
       "Equação 3: 2.00000x_1 - 1.00000x_2 + 10.00000x_3 = -11.00000                                                       \n",
       "</pre>\n"
      ],
      "text/plain": [
       "\n",
       "                                                  \u001b[1;4mSistema Linear\u001b[0m                                                   \n",
       "\n",
       "Equação 1: 9.00000x_1 - 3.00000x_2 + 2.00000x_3 = 6.00000                                                          \n",
       "\n",
       "Equação 2: -1.00000x_1 + 11.00000x_2 - 1.00000x_3 = 25.00000                                                       \n",
       "\n",
       "Equação 3: 2.00000x_1 - 1.00000x_2 + 10.00000x_3 = -11.00000                                                       \n"
      ]
     },
     "metadata": {},
     "output_type": "display_data"
    },
    {
     "data": {
      "text/html": [
       "<pre style=\"white-space:pre;overflow-x:auto;line-height:normal;font-family:Menlo,'DejaVu Sans Mono',consolas,'Courier New',monospace\">\n",
       "<span style=\"color: #008080; text-decoration-color: #008080; font-weight: bold\">Executando o Método de Gauss-Seidel...</span>\n",
       "</pre>\n"
      ],
      "text/plain": [
       "\n",
       "\u001b[1;36mExecutando o Método de Gauss-Seidel\u001b[0m\u001b[1;36m...\u001b[0m\n"
      ]
     },
     "metadata": {},
     "output_type": "display_data"
    },
    {
     "data": {
      "text/html": [
       "<pre style=\"white-space:pre;overflow-x:auto;line-height:normal;font-family:Menlo,'DejaVu Sans Mono',consolas,'Courier New',monospace\"></pre>\n"
      ],
      "text/plain": []
     },
     "metadata": {},
     "output_type": "display_data"
    },
    {
     "data": {
      "text/html": [
       "<pre style=\"white-space:pre;overflow-x:auto;line-height:normal;font-family:Menlo,'DejaVu Sans Mono',consolas,'Courier New',monospace\"><span style=\"color: #008000; text-decoration-color: #008000\">╭─────────────────────────────────────────────────── Resultado ───────────────────────────────────────────────────╮</span>\n",
       "<span style=\"color: #008000; text-decoration-color: #008000\">│</span> <span style=\"color: #008000; text-decoration-color: #008000; font-weight: bold\">✓ Solução encontrada após 7 iterações</span>                                                                           <span style=\"color: #008000; text-decoration-color: #008000\">│</span>\n",
       "<span style=\"color: #008000; text-decoration-color: #008000\">│</span> Erro final: 0.00000                                                                                             <span style=\"color: #008000; text-decoration-color: #008000\">│</span>\n",
       "<span style=\"color: #008000; text-decoration-color: #008000\">╰─────────────────────────────────────────────────────────────────────────────────────────────────────────────────╯</span>\n",
       "</pre>\n"
      ],
      "text/plain": [
       "\u001b[32m╭─\u001b[0m\u001b[32m──────────────────────────────────────────────────\u001b[0m\u001b[32m Resultado \u001b[0m\u001b[32m──────────────────────────────────────────────────\u001b[0m\u001b[32m─╮\u001b[0m\n",
       "\u001b[32m│\u001b[0m \u001b[1;32m✓ Solução encontrada após 7 iterações\u001b[0m                                                                           \u001b[32m│\u001b[0m\n",
       "\u001b[32m│\u001b[0m Erro final: 0.00000                                                                                             \u001b[32m│\u001b[0m\n",
       "\u001b[32m╰─────────────────────────────────────────────────────────────────────────────────────────────────────────────────╯\u001b[0m\n"
      ]
     },
     "metadata": {},
     "output_type": "display_data"
    },
    {
     "data": {
      "text/html": [
       "<pre style=\"white-space:pre;overflow-x:auto;line-height:normal;font-family:Menlo,'DejaVu Sans Mono',consolas,'Courier New',monospace\"><span style=\"font-style: italic\">Verificação da Solução </span>\n",
       "<span style=\"font-style: italic\">       - Sistema       </span>\n",
       "┏━━━━━━━━━━┳━━━━━━━━━━┓\n",
       "┃<span style=\"font-weight: bold\"> Variável </span>┃<span style=\"font-weight: bold\"> Valor    </span>┃\n",
       "┡━━━━━━━━━━╇━━━━━━━━━━┩\n",
       "│<span style=\"color: #008080; text-decoration-color: #008080\"> x_1      </span>│<span style=\"color: #008000; text-decoration-color: #008000\"> 1.70820  </span>│\n",
       "│<span style=\"color: #008080; text-decoration-color: #008080\"> x_2      </span>│<span style=\"color: #008000; text-decoration-color: #008000\"> 2.31803  </span>│\n",
       "│<span style=\"color: #008080; text-decoration-color: #008080\"> x_3      </span>│<span style=\"color: #008000; text-decoration-color: #008000\"> -1.20984 </span>│\n",
       "└──────────┴──────────┘\n",
       "</pre>\n"
      ],
      "text/plain": [
       "\u001b[3mVerificação da Solução \u001b[0m\n",
       "\u001b[3m       - Sistema       \u001b[0m\n",
       "┏━━━━━━━━━━┳━━━━━━━━━━┓\n",
       "┃\u001b[1m \u001b[0m\u001b[1mVariável\u001b[0m\u001b[1m \u001b[0m┃\u001b[1m \u001b[0m\u001b[1mValor   \u001b[0m\u001b[1m \u001b[0m┃\n",
       "┡━━━━━━━━━━╇━━━━━━━━━━┩\n",
       "│\u001b[36m \u001b[0m\u001b[36mx_1     \u001b[0m\u001b[36m \u001b[0m│\u001b[32m \u001b[0m\u001b[32m1.70820 \u001b[0m\u001b[32m \u001b[0m│\n",
       "│\u001b[36m \u001b[0m\u001b[36mx_2     \u001b[0m\u001b[36m \u001b[0m│\u001b[32m \u001b[0m\u001b[32m2.31803 \u001b[0m\u001b[32m \u001b[0m│\n",
       "│\u001b[36m \u001b[0m\u001b[36mx_3     \u001b[0m\u001b[36m \u001b[0m│\u001b[32m \u001b[0m\u001b[32m-1.20984\u001b[0m\u001b[32m \u001b[0m│\n",
       "└──────────┴──────────┘\n"
      ]
     },
     "metadata": {},
     "output_type": "display_data"
    },
    {
     "data": {
      "text/html": [
       "<pre style=\"white-space:pre;overflow-x:auto;line-height:normal;font-family:Menlo,'DejaVu Sans Mono',consolas,'Courier New',monospace\"><span style=\"font-style: italic\">         Verificação A*x = b         </span>\n",
       "┏━━━━━━━━━━━┳━━━━━━━━━━━┳━━━━━━━━━━━┓\n",
       "┃<span style=\"font-weight: bold\"> A*x       </span>┃<span style=\"font-weight: bold\"> b         </span>┃<span style=\"font-weight: bold\"> Diferença </span>┃\n",
       "┡━━━━━━━━━━━╇━━━━━━━━━━━╇━━━━━━━━━━━┩\n",
       "│<span style=\"color: #800080; text-decoration-color: #800080\"> 6.00000   </span>│<span style=\"color: #000080; text-decoration-color: #000080\"> 6.00000   </span>│<span style=\"color: #800000; text-decoration-color: #800000\"> 0.00000   </span>│\n",
       "│<span style=\"color: #800080; text-decoration-color: #800080\"> 25.00000  </span>│<span style=\"color: #000080; text-decoration-color: #000080\"> 25.00000  </span>│<span style=\"color: #800000; text-decoration-color: #800000\"> 0.00000   </span>│\n",
       "│<span style=\"color: #800080; text-decoration-color: #800080\"> -11.00000 </span>│<span style=\"color: #000080; text-decoration-color: #000080\"> -11.00000 </span>│<span style=\"color: #800000; text-decoration-color: #800000\"> 0.00000   </span>│\n",
       "└───────────┴───────────┴───────────┘\n",
       "</pre>\n"
      ],
      "text/plain": [
       "\u001b[3m         Verificação A*x = b         \u001b[0m\n",
       "┏━━━━━━━━━━━┳━━━━━━━━━━━┳━━━━━━━━━━━┓\n",
       "┃\u001b[1m \u001b[0m\u001b[1mA*x      \u001b[0m\u001b[1m \u001b[0m┃\u001b[1m \u001b[0m\u001b[1mb        \u001b[0m\u001b[1m \u001b[0m┃\u001b[1m \u001b[0m\u001b[1mDiferença\u001b[0m\u001b[1m \u001b[0m┃\n",
       "┡━━━━━━━━━━━╇━━━━━━━━━━━╇━━━━━━━━━━━┩\n",
       "│\u001b[35m \u001b[0m\u001b[35m6.00000  \u001b[0m\u001b[35m \u001b[0m│\u001b[34m \u001b[0m\u001b[34m6.00000  \u001b[0m\u001b[34m \u001b[0m│\u001b[31m \u001b[0m\u001b[31m0.00000  \u001b[0m\u001b[31m \u001b[0m│\n",
       "│\u001b[35m \u001b[0m\u001b[35m25.00000 \u001b[0m\u001b[35m \u001b[0m│\u001b[34m \u001b[0m\u001b[34m25.00000 \u001b[0m\u001b[34m \u001b[0m│\u001b[31m \u001b[0m\u001b[31m0.00000  \u001b[0m\u001b[31m \u001b[0m│\n",
       "│\u001b[35m \u001b[0m\u001b[35m-11.00000\u001b[0m\u001b[35m \u001b[0m│\u001b[34m \u001b[0m\u001b[34m-11.00000\u001b[0m\u001b[34m \u001b[0m│\u001b[31m \u001b[0m\u001b[31m0.00000  \u001b[0m\u001b[31m \u001b[0m│\n",
       "└───────────┴───────────┴───────────┘\n"
      ]
     },
     "metadata": {},
     "output_type": "display_data"
    },
    {
     "data": {
      "text/html": [
       "<pre style=\"white-space:pre;overflow-x:auto;line-height:normal;font-family:Menlo,'DejaVu Sans Mono',consolas,'Courier New',monospace\">Norma do resíduo ||A*x - b|| = <span style=\"color: #008080; text-decoration-color: #008080; font-weight: bold\">0.00000</span>\n",
       "</pre>\n"
      ],
      "text/plain": [
       "Norma do resíduo ||A*x - b|| = \u001b[1;36m0.00000\u001b[0m\n"
      ]
     },
     "metadata": {},
     "output_type": "display_data"
    },
    {
     "data": {
      "text/html": [
       "<pre style=\"white-space:pre;overflow-x:auto;line-height:normal;font-family:Menlo,'DejaVu Sans Mono',consolas,'Courier New',monospace\"><span style=\"color: #008000; text-decoration-color: #008000; font-weight: bold\">✓ A solução é precisa!</span>\n",
       "</pre>\n"
      ],
      "text/plain": [
       "\u001b[1;32m✓ A solução é precisa!\u001b[0m\n"
      ]
     },
     "metadata": {},
     "output_type": "display_data"
    },
    {
     "data": {
      "text/html": [
       "<pre style=\"white-space:pre;overflow-x:auto;line-height:normal;font-family:Menlo,'DejaVu Sans Mono',consolas,'Courier New',monospace\"><span style=\"font-style: italic\">          Resultados da Solução           </span>\n",
       "┏━━━━━━━━━━━━━━━━━━━━━┳━━━━━━━━━━━━━━━━━━┓\n",
       "┃<span style=\"font-weight: bold\"> Parâmetro           </span>┃<span style=\"font-weight: bold\"> Valor            </span>┃\n",
       "┡━━━━━━━━━━━━━━━━━━━━━╇━━━━━━━━━━━━━━━━━━┩\n",
       "│<span style=\"color: #008080; text-decoration-color: #008080\"> Número de equações  </span>│<span style=\"color: #008000; text-decoration-color: #008000\"> 3                </span>│\n",
       "│<span style=\"color: #008080; text-decoration-color: #008080\"> Número de iterações </span>│<span style=\"color: #008000; text-decoration-color: #008000\"> 7                </span>│\n",
       "│<span style=\"color: #008080; text-decoration-color: #008080\"> Erro final          </span>│<span style=\"color: #008000; text-decoration-color: #008000\"> 0.00000          </span>│\n",
       "│<span style=\"color: #008080; text-decoration-color: #008080\"> Tempo de execução   </span>│<span style=\"color: #008000; text-decoration-color: #008000\"> 0.00118 segundos </span>│\n",
       "└─────────────────────┴──────────────────┘\n",
       "</pre>\n"
      ],
      "text/plain": [
       "\u001b[3m          Resultados da Solução           \u001b[0m\n",
       "┏━━━━━━━━━━━━━━━━━━━━━┳━━━━━━━━━━━━━━━━━━┓\n",
       "┃\u001b[1m \u001b[0m\u001b[1mParâmetro          \u001b[0m\u001b[1m \u001b[0m┃\u001b[1m \u001b[0m\u001b[1mValor           \u001b[0m\u001b[1m \u001b[0m┃\n",
       "┡━━━━━━━━━━━━━━━━━━━━━╇━━━━━━━━━━━━━━━━━━┩\n",
       "│\u001b[36m \u001b[0m\u001b[36mNúmero de equações \u001b[0m\u001b[36m \u001b[0m│\u001b[32m \u001b[0m\u001b[32m3               \u001b[0m\u001b[32m \u001b[0m│\n",
       "│\u001b[36m \u001b[0m\u001b[36mNúmero de iterações\u001b[0m\u001b[36m \u001b[0m│\u001b[32m \u001b[0m\u001b[32m7               \u001b[0m\u001b[32m \u001b[0m│\n",
       "│\u001b[36m \u001b[0m\u001b[36mErro final         \u001b[0m\u001b[36m \u001b[0m│\u001b[32m \u001b[0m\u001b[32m0.00000         \u001b[0m\u001b[32m \u001b[0m│\n",
       "│\u001b[36m \u001b[0m\u001b[36mTempo de execução  \u001b[0m\u001b[36m \u001b[0m│\u001b[32m \u001b[0m\u001b[32m0.00118 segundos\u001b[0m\u001b[32m \u001b[0m│\n",
       "└─────────────────────┴──────────────────┘\n"
      ]
     },
     "metadata": {},
     "output_type": "display_data"
    },
    {
     "data": {
      "text/html": [
       "<pre style=\"white-space:pre;overflow-x:auto;line-height:normal;font-family:Menlo,'DejaVu Sans Mono',consolas,'Courier New',monospace\"><span style=\"font-style: italic\">  Solução do Sistema   </span>\n",
       "┏━━━━━━━━━━┳━━━━━━━━━━┓\n",
       "┃<span style=\"font-weight: bold\"> Variável </span>┃<span style=\"font-weight: bold\"> Valor    </span>┃\n",
       "┡━━━━━━━━━━╇━━━━━━━━━━┩\n",
       "│<span style=\"color: #008080; text-decoration-color: #008080\"> x_1      </span>│<span style=\"color: #008000; text-decoration-color: #008000\"> 1.70820  </span>│\n",
       "│<span style=\"color: #008080; text-decoration-color: #008080\"> x_2      </span>│<span style=\"color: #008000; text-decoration-color: #008000\"> 2.31803  </span>│\n",
       "│<span style=\"color: #008080; text-decoration-color: #008080\"> x_3      </span>│<span style=\"color: #008000; text-decoration-color: #008000\"> -1.20984 </span>│\n",
       "└──────────┴──────────┘\n",
       "</pre>\n"
      ],
      "text/plain": [
       "\u001b[3m  Solução do Sistema   \u001b[0m\n",
       "┏━━━━━━━━━━┳━━━━━━━━━━┓\n",
       "┃\u001b[1m \u001b[0m\u001b[1mVariável\u001b[0m\u001b[1m \u001b[0m┃\u001b[1m \u001b[0m\u001b[1mValor   \u001b[0m\u001b[1m \u001b[0m┃\n",
       "┡━━━━━━━━━━╇━━━━━━━━━━┩\n",
       "│\u001b[36m \u001b[0m\u001b[36mx_1     \u001b[0m\u001b[36m \u001b[0m│\u001b[32m \u001b[0m\u001b[32m1.70820 \u001b[0m\u001b[32m \u001b[0m│\n",
       "│\u001b[36m \u001b[0m\u001b[36mx_2     \u001b[0m\u001b[36m \u001b[0m│\u001b[32m \u001b[0m\u001b[32m2.31803 \u001b[0m\u001b[32m \u001b[0m│\n",
       "│\u001b[36m \u001b[0m\u001b[36mx_3     \u001b[0m\u001b[36m \u001b[0m│\u001b[32m \u001b[0m\u001b[32m-1.20984\u001b[0m\u001b[32m \u001b[0m│\n",
       "└──────────┴──────────┘\n"
      ]
     },
     "metadata": {},
     "output_type": "display_data"
    },
    {
     "data": {
      "text/html": [
       "<pre style=\"white-space:pre;overflow-x:auto;line-height:normal;font-family:Menlo,'DejaVu Sans Mono',consolas,'Courier New',monospace\"><span style=\"font-style: italic\">               Verificação da Solução                </span>\n",
       "┏━━━━━━━━━━━┳━━━━━━━━━━━┳━━━━━━━━━━━┳━━━━━━━━━━━━━━━┓\n",
       "┃<span style=\"font-weight: bold\"> Equação   </span>┃<span style=\"font-weight: bold\"> A*x       </span>┃<span style=\"font-weight: bold\"> b         </span>┃<span style=\"font-weight: bold\"> Erro Absoluto </span>┃\n",
       "┡━━━━━━━━━━━╇━━━━━━━━━━━╇━━━━━━━━━━━╇━━━━━━━━━━━━━━━┩\n",
       "│<span style=\"color: #008080; text-decoration-color: #008080\"> Equação 1 </span>│<span style=\"color: #800080; text-decoration-color: #800080\"> 6.00000   </span>│<span style=\"color: #000080; text-decoration-color: #000080\"> 6.00000   </span>│<span style=\"color: #800000; text-decoration-color: #800000\"> 0.00000       </span>│\n",
       "│<span style=\"color: #008080; text-decoration-color: #008080\"> Equação 2 </span>│<span style=\"color: #800080; text-decoration-color: #800080\"> 25.00000  </span>│<span style=\"color: #000080; text-decoration-color: #000080\"> 25.00000  </span>│<span style=\"color: #800000; text-decoration-color: #800000\"> 0.00000       </span>│\n",
       "│<span style=\"color: #008080; text-decoration-color: #008080\"> Equação 3 </span>│<span style=\"color: #800080; text-decoration-color: #800080\"> -11.00000 </span>│<span style=\"color: #000080; text-decoration-color: #000080\"> -11.00000 </span>│<span style=\"color: #800000; text-decoration-color: #800000\"> 0.00000       </span>│\n",
       "└───────────┴───────────┴───────────┴───────────────┘\n",
       "</pre>\n"
      ],
      "text/plain": [
       "\u001b[3m               Verificação da Solução                \u001b[0m\n",
       "┏━━━━━━━━━━━┳━━━━━━━━━━━┳━━━━━━━━━━━┳━━━━━━━━━━━━━━━┓\n",
       "┃\u001b[1m \u001b[0m\u001b[1mEquação  \u001b[0m\u001b[1m \u001b[0m┃\u001b[1m \u001b[0m\u001b[1mA*x      \u001b[0m\u001b[1m \u001b[0m┃\u001b[1m \u001b[0m\u001b[1mb        \u001b[0m\u001b[1m \u001b[0m┃\u001b[1m \u001b[0m\u001b[1mErro Absoluto\u001b[0m\u001b[1m \u001b[0m┃\n",
       "┡━━━━━━━━━━━╇━━━━━━━━━━━╇━━━━━━━━━━━╇━━━━━━━━━━━━━━━┩\n",
       "│\u001b[36m \u001b[0m\u001b[36mEquação 1\u001b[0m\u001b[36m \u001b[0m│\u001b[35m \u001b[0m\u001b[35m6.00000  \u001b[0m\u001b[35m \u001b[0m│\u001b[34m \u001b[0m\u001b[34m6.00000  \u001b[0m\u001b[34m \u001b[0m│\u001b[31m \u001b[0m\u001b[31m0.00000      \u001b[0m\u001b[31m \u001b[0m│\n",
       "│\u001b[36m \u001b[0m\u001b[36mEquação 2\u001b[0m\u001b[36m \u001b[0m│\u001b[35m \u001b[0m\u001b[35m25.00000 \u001b[0m\u001b[35m \u001b[0m│\u001b[34m \u001b[0m\u001b[34m25.00000 \u001b[0m\u001b[34m \u001b[0m│\u001b[31m \u001b[0m\u001b[31m0.00000      \u001b[0m\u001b[31m \u001b[0m│\n",
       "│\u001b[36m \u001b[0m\u001b[36mEquação 3\u001b[0m\u001b[36m \u001b[0m│\u001b[35m \u001b[0m\u001b[35m-11.00000\u001b[0m\u001b[35m \u001b[0m│\u001b[34m \u001b[0m\u001b[34m-11.00000\u001b[0m\u001b[34m \u001b[0m│\u001b[31m \u001b[0m\u001b[31m0.00000      \u001b[0m\u001b[31m \u001b[0m│\n",
       "└───────────┴───────────┴───────────┴───────────────┘\n"
      ]
     },
     "metadata": {},
     "output_type": "display_data"
    },
    {
     "data": {
      "text/html": [
       "<pre style=\"white-space:pre;overflow-x:auto;line-height:normal;font-family:Menlo,'DejaVu Sans Mono',consolas,'Courier New',monospace\"><span style=\"color: #008000; text-decoration-color: #008000\">╭─────────────────────────────────────────────────── Conclusão ───────────────────────────────────────────────────╮</span>\n",
       "<span style=\"color: #008000; text-decoration-color: #008000\">│</span> <span style=\"color: #008000; text-decoration-color: #008000; font-weight: bold\">✓ Sistema resolvido com sucesso!</span>                                                                                <span style=\"color: #008000; text-decoration-color: #008000\">│</span>\n",
       "<span style=\"color: #008000; text-decoration-color: #008000\">│</span> Resíduo: 0.00000                                                                                                <span style=\"color: #008000; text-decoration-color: #008000\">│</span>\n",
       "<span style=\"color: #008000; text-decoration-color: #008000\">│</span> Erro relativo: 0.00000                                                                                          <span style=\"color: #008000; text-decoration-color: #008000\">│</span>\n",
       "<span style=\"color: #008000; text-decoration-color: #008000\">╰─────────────────────────────────────────────────────────────────────────────────────────────────────────────────╯</span>\n",
       "</pre>\n"
      ],
      "text/plain": [
       "\u001b[32m╭─\u001b[0m\u001b[32m──────────────────────────────────────────────────\u001b[0m\u001b[32m Conclusão \u001b[0m\u001b[32m──────────────────────────────────────────────────\u001b[0m\u001b[32m─╮\u001b[0m\n",
       "\u001b[32m│\u001b[0m \u001b[1;32m✓ Sistema resolvido com sucesso!\u001b[0m                                                                                \u001b[32m│\u001b[0m\n",
       "\u001b[32m│\u001b[0m Resíduo: 0.00000                                                                                                \u001b[32m│\u001b[0m\n",
       "\u001b[32m│\u001b[0m Erro relativo: 0.00000                                                                                          \u001b[32m│\u001b[0m\n",
       "\u001b[32m╰─────────────────────────────────────────────────────────────────────────────────────────────────────────────────╯\u001b[0m\n"
      ]
     },
     "metadata": {},
     "output_type": "display_data"
    },
    {
     "data": {
      "text/html": [
       "<pre style=\"white-space:pre;overflow-x:auto;line-height:normal;font-family:Menlo,'DejaVu Sans Mono',consolas,'Courier New',monospace\"><span style=\"background-color: #272822\">                                                                                                                   </span>\n",
       "<span style=\"background-color: #272822\"> </span><span style=\"color: #f8f8f2; text-decoration-color: #f8f8f2; background-color: #272822\">## Sugestão para anotação no relatório:</span><span style=\"background-color: #272822\">                                                                           </span>\n",
       "<span style=\"background-color: #272822\">                                                                                                                   </span>\n",
       "<span style=\"background-color: #272822\"> </span><span style=\"color: #f8f8f2; text-decoration-color: #f8f8f2; background-color: #272822\">### Método Utilizado</span><span style=\"background-color: #272822\">                                                                                              </span>\n",
       "<span style=\"background-color: #272822\"> </span><span style=\"color: #f8f8f2; text-decoration-color: #f8f8f2; background-color: #272822\">O sistema foi resolvido utilizando o método iterativo de Gauss-Seidel.</span><span style=\"background-color: #272822\">                                            </span>\n",
       "<span style=\"background-color: #272822\">                                                                                                                   </span>\n",
       "<span style=\"background-color: #272822\"> </span><span style=\"color: #f8f8f2; text-decoration-color: #f8f8f2; background-color: #272822\">### Parâmetros da Solução</span><span style=\"background-color: #272822\">                                                                                         </span>\n",
       "<span style=\"background-color: #272822\"> </span><span style=\"color: #f8f8f2; text-decoration-color: #f8f8f2; background-color: #272822\">- **Número de iterações:** 7</span><span style=\"background-color: #272822\">                                                                                      </span>\n",
       "<span style=\"background-color: #272822\"> </span><span style=\"color: #f8f8f2; text-decoration-color: #f8f8f2; background-color: #272822\">- **Critério de parada:** Erro &lt; 1e-06</span><span style=\"background-color: #272822\">                                                                            </span>\n",
       "<span style=\"background-color: #272822\"> </span><span style=\"color: #f8f8f2; text-decoration-color: #f8f8f2; background-color: #272822\">- **Erro final obtido:** 0.00000</span><span style=\"background-color: #272822\">                                                                                  </span>\n",
       "<span style=\"background-color: #272822\"> </span><span style=\"color: #f8f8f2; text-decoration-color: #f8f8f2; background-color: #272822\">- **Tempo de processamento:** 0.00118 s</span><span style=\"background-color: #272822\">                                                                           </span>\n",
       "<span style=\"background-color: #272822\">                                                                                                                   </span>\n",
       "<span style=\"background-color: #272822\"> </span><span style=\"color: #f8f8f2; text-decoration-color: #f8f8f2; background-color: #272822\">### Solução Encontrada</span><span style=\"background-color: #272822\">                                                                                            </span>\n",
       "<span style=\"background-color: #272822\"> </span><span style=\"color: #f8f8f2; text-decoration-color: #f8f8f2; background-color: #272822\">x_1 = 1.70820, x_2 = 2.31803, x_3 = -1.20984</span><span style=\"background-color: #272822\">                                                                      </span>\n",
       "<span style=\"background-color: #272822\">                                                                                                                   </span>\n",
       "<span style=\"background-color: #272822\"> </span><span style=\"color: #f8f8f2; text-decoration-color: #f8f8f2; background-color: #272822\">### Verificação</span><span style=\"background-color: #272822\">                                                                                                   </span>\n",
       "<span style=\"background-color: #272822\"> </span><span style=\"color: #f8f8f2; text-decoration-color: #f8f8f2; background-color: #272822\">O resíduo da solução (||A*x - b||) foi 0.00000, com erro relativo de 0.00000.</span><span style=\"background-color: #272822\">                                     </span>\n",
       "<span style=\"background-color: #272822\">                                                                                                                   </span>\n",
       "<span style=\"background-color: #272822\"> </span><span style=\"color: #f8f8f2; text-decoration-color: #f8f8f2; background-color: #272822\">### Conclusão</span><span style=\"background-color: #272822\">                                                                                                     </span>\n",
       "<span style=\"background-color: #272822\"> </span><span style=\"color: #f8f8f2; text-decoration-color: #f8f8f2; background-color: #272822\">A solução encontrada é precisa e confiável.</span><span style=\"background-color: #272822\">                                                                       </span>\n",
       "<span style=\"background-color: #272822\">                                                                                                                   </span>\n",
       "</pre>\n"
      ],
      "text/plain": [
       "\u001b[48;2;39;40;34m                                                                                                                   \u001b[0m\n",
       "\u001b[48;2;39;40;34m \u001b[0m\u001b[38;2;248;248;242;48;2;39;40;34m## Sugestão para anotação no relatório:\u001b[0m\u001b[48;2;39;40;34m                                                                          \u001b[0m\u001b[48;2;39;40;34m \u001b[0m\n",
       "\u001b[48;2;39;40;34m \u001b[0m\u001b[48;2;39;40;34m                                                                                                                 \u001b[0m\u001b[48;2;39;40;34m \u001b[0m\n",
       "\u001b[48;2;39;40;34m \u001b[0m\u001b[38;2;248;248;242;48;2;39;40;34m### Método Utilizado\u001b[0m\u001b[48;2;39;40;34m                                                                                             \u001b[0m\u001b[48;2;39;40;34m \u001b[0m\n",
       "\u001b[48;2;39;40;34m \u001b[0m\u001b[38;2;248;248;242;48;2;39;40;34mO sistema foi resolvido utilizando o método iterativo de Gauss-Seidel.\u001b[0m\u001b[48;2;39;40;34m                                           \u001b[0m\u001b[48;2;39;40;34m \u001b[0m\n",
       "\u001b[48;2;39;40;34m \u001b[0m\u001b[48;2;39;40;34m                                                                                                                 \u001b[0m\u001b[48;2;39;40;34m \u001b[0m\n",
       "\u001b[48;2;39;40;34m \u001b[0m\u001b[38;2;248;248;242;48;2;39;40;34m### Parâmetros da Solução\u001b[0m\u001b[48;2;39;40;34m                                                                                        \u001b[0m\u001b[48;2;39;40;34m \u001b[0m\n",
       "\u001b[48;2;39;40;34m \u001b[0m\u001b[38;2;248;248;242;48;2;39;40;34m- **Número de iterações:** 7\u001b[0m\u001b[48;2;39;40;34m                                                                                     \u001b[0m\u001b[48;2;39;40;34m \u001b[0m\n",
       "\u001b[48;2;39;40;34m \u001b[0m\u001b[38;2;248;248;242;48;2;39;40;34m- **Critério de parada:** Erro < 1e-06\u001b[0m\u001b[48;2;39;40;34m                                                                           \u001b[0m\u001b[48;2;39;40;34m \u001b[0m\n",
       "\u001b[48;2;39;40;34m \u001b[0m\u001b[38;2;248;248;242;48;2;39;40;34m- **Erro final obtido:** 0.00000\u001b[0m\u001b[48;2;39;40;34m                                                                                 \u001b[0m\u001b[48;2;39;40;34m \u001b[0m\n",
       "\u001b[48;2;39;40;34m \u001b[0m\u001b[38;2;248;248;242;48;2;39;40;34m- **Tempo de processamento:** 0.00118 s\u001b[0m\u001b[48;2;39;40;34m                                                                          \u001b[0m\u001b[48;2;39;40;34m \u001b[0m\n",
       "\u001b[48;2;39;40;34m \u001b[0m\u001b[48;2;39;40;34m                                                                                                                 \u001b[0m\u001b[48;2;39;40;34m \u001b[0m\n",
       "\u001b[48;2;39;40;34m \u001b[0m\u001b[38;2;248;248;242;48;2;39;40;34m### Solução Encontrada\u001b[0m\u001b[48;2;39;40;34m                                                                                           \u001b[0m\u001b[48;2;39;40;34m \u001b[0m\n",
       "\u001b[48;2;39;40;34m \u001b[0m\u001b[38;2;248;248;242;48;2;39;40;34mx_1 = 1.70820, x_2 = 2.31803, x_3 = -1.20984\u001b[0m\u001b[48;2;39;40;34m                                                                     \u001b[0m\u001b[48;2;39;40;34m \u001b[0m\n",
       "\u001b[48;2;39;40;34m \u001b[0m\u001b[48;2;39;40;34m                                                                                                                 \u001b[0m\u001b[48;2;39;40;34m \u001b[0m\n",
       "\u001b[48;2;39;40;34m \u001b[0m\u001b[38;2;248;248;242;48;2;39;40;34m### Verificação\u001b[0m\u001b[48;2;39;40;34m                                                                                                  \u001b[0m\u001b[48;2;39;40;34m \u001b[0m\n",
       "\u001b[48;2;39;40;34m \u001b[0m\u001b[38;2;248;248;242;48;2;39;40;34mO resíduo da solução (||A*x - b||) foi 0.00000, com erro relativo de 0.00000.\u001b[0m\u001b[48;2;39;40;34m                                    \u001b[0m\u001b[48;2;39;40;34m \u001b[0m\n",
       "\u001b[48;2;39;40;34m \u001b[0m\u001b[48;2;39;40;34m                                                                                                                 \u001b[0m\u001b[48;2;39;40;34m \u001b[0m\n",
       "\u001b[48;2;39;40;34m \u001b[0m\u001b[38;2;248;248;242;48;2;39;40;34m### Conclusão\u001b[0m\u001b[48;2;39;40;34m                                                                                                    \u001b[0m\u001b[48;2;39;40;34m \u001b[0m\n",
       "\u001b[48;2;39;40;34m \u001b[0m\u001b[38;2;248;248;242;48;2;39;40;34mA solução encontrada é precisa e confiável.\u001b[0m\u001b[48;2;39;40;34m                                                                      \u001b[0m\u001b[48;2;39;40;34m \u001b[0m\n",
       "\u001b[48;2;39;40;34m                                                                                                                   \u001b[0m\n"
      ]
     },
     "metadata": {},
     "output_type": "display_data"
    },
    {
     "data": {
      "image/png": "[encoded data removed]",
      "text/plain": [
       "<Figure size 1000x600 with 1 Axes>"
      ]
     },
     "metadata": {},
     "output_type": "display_data"
    }
   ],
   "source": [
    "import numpy as np\n",
    "import matplotlib.pyplot as plt\n",
    "from rich.console import Console\n",
    "from rich.table import Table\n",
    "from rich.markdown import Markdown\n",
    "from rich.panel import Panel\n",
    "import time\n",
    "\n",
    "# Inicializar o console Rich\n",
    "console = Console()\n",
    "\n",
    "def gauss_seidel_method(A, b, x0=None, tol=1e-6, max_iter=100):\n",
    "    \"\"\"\n",
    "    Resolve o sistema de equações lineares Ax = b usando o método iterativo de Gauss-Seidel.\n",
    "    \n",
    "    Parâmetros:\n",
    "    A (numpy.ndarray): Matriz de coeficientes do sistema.\n",
    "    b (numpy.ndarray): Vetor dos termos independentes.\n",
    "    x0 (numpy.ndarray, opcional): Aproximação inicial para a solução. Se None, usa vetor de zeros.\n",
    "    tol (float, opcional): Tolerância para critério de parada. Padrão é 1e-6.\n",
    "    max_iter (int, opcional): Número máximo de iterações. Padrão é 100.\n",
    "    \n",
    "    Retorna:\n",
    "    tuple: (x, iteracoes, erro_hist) - Solução aproximada, número de iterações e histórico de erros.\n",
    "    \"\"\"\n",
    "    n = len(b)\n",
    "    \n",
    "    # Verificar critério de convergência (dominância diagonal)\n",
    "    for i in range(n):\n",
    "        diagonal = abs(A[i, i])\n",
    "        soma_nao_diagonal = sum(abs(A[i, j]) for j in range(n) if j != i)\n",
    "        if diagonal <= soma_nao_diagonal:\n",
    "            console.print(f\"[yellow]⚠️ Aviso: A matriz pode não convergir pelo método de Gauss-Seidel (linha {i+1})[/yellow]\")\n",
    "            console.print(f\"[yellow]   |a{i+1}{i+1}| = {diagonal:.5f} ≤ {soma_nao_diagonal:.5f} = Soma dos elementos não diagonais[/yellow]\")\n",
    "    \n",
    "    # Inicialização\n",
    "    if x0 is None:\n",
    "        x0 = np.zeros(n)\n",
    "    \n",
    "    x = x0.copy()\n",
    "    erro_hist = []\n",
    "    \n",
    "    # Iterações do método de Gauss-Seidel com barra de progresso\n",
    "    with console.status(\"[bold green]Executando o método de Gauss-Seidel...\", spinner=\"dots\"):\n",
    "        for iter_count in range(max_iter):\n",
    "            x_velho = x.copy()\n",
    "            \n",
    "            # Atualiza cada componente de x usando numpy para maior eficiência\n",
    "            for i in range(n):\n",
    "                # Usa valores já atualizados para índices anteriores a i\n",
    "                soma1 = np.dot(A[i, :i], x[:i]) if i > 0 else 0\n",
    "                # Usa valores antigos para índices posteriores a i\n",
    "                soma2 = np.dot(A[i, i+1:], x_velho[i+1:]) if i < n-1 else 0\n",
    "                x[i] = (b[i] - soma1 - soma2) / A[i, i]\n",
    "            \n",
    "            # Calcula erro\n",
    "            erro = np.linalg.norm(x - x_velho, np.inf)\n",
    "            erro_hist.append(erro)\n",
    "            \n",
    "            # Verifica convergência\n",
    "            if erro < tol:\n",
    "                return x, iter_count + 1, erro_hist\n",
    "    \n",
    "    console.print(f\"[bold red]⚠️ Alerta: Método de Gauss-Seidel não convergiu após {max_iter} iterações.[/bold red]\")\n",
    "    return x, max_iter, erro_hist\n",
    "\n",
    "def plotar_convergencia(erro_hist, titulo):\n",
    "    \"\"\"\n",
    "    Plota o gráfico de convergência do método iterativo.\n",
    "    \n",
    "    Parâmetros:\n",
    "    erro_hist (list): Lista com o histórico de erros.\n",
    "    titulo (str): Título do gráfico.\n",
    "    \"\"\"\n",
    "    plt.figure(figsize=(10, 6))\n",
    "    plt.semilogy(range(1, len(erro_hist) + 1), erro_hist, 'ro-')\n",
    "    plt.xlabel('Número de Iterações')\n",
    "    plt.ylabel('Erro (escala logarítmica)')\n",
    "    plt.title(titulo)\n",
    "    plt.grid(True)\n",
    "    plt.show()\n",
    "\n",
    "def imprimir_sistema(A, b, titulo):\n",
    "    \"\"\"\n",
    "    Formata e imprime um sistema de equações lineares.\n",
    "    \n",
    "    Parâmetros:\n",
    "    A (numpy.ndarray): Matriz de coeficientes.\n",
    "    b (numpy.ndarray): Vetor dos termos independentes.\n",
    "    titulo (str): Título do sistema.\n",
    "    \"\"\"\n",
    "    n = len(b)\n",
    "    equacoes = []\n",
    "    \n",
    "    for i in range(n):\n",
    "        eq = \"\"\n",
    "        for j in range(n):\n",
    "            coef = A[i, j]\n",
    "            if j == 0:\n",
    "                eq += f\"{coef:.5f}x_{j+1}\"\n",
    "            else:\n",
    "                if coef >= 0:\n",
    "                    eq += f\" + {coef:.5f}x_{j+1}\"\n",
    "                else:\n",
    "                    eq += f\" - {abs(coef):.5f}x_{j+1}\"\n",
    "        eq += f\" = {b[i]:.5f}\"\n",
    "        equacoes.append(eq)\n",
    "    \n",
    "    md = f\"## {titulo}\\n\\n\"\n",
    "    for i, eq in enumerate(equacoes):\n",
    "        md += f\"Equação {i+1}: {eq}\\n\\n\"\n",
    "    \n",
    "    console.print(Markdown(md))\n",
    "\n",
    "def verificar_solucao(A, b, x, nome_sistema):\n",
    "    \"\"\"\n",
    "    Verifica a solução encontrada, calculando A*x e comparando com b.\n",
    "    \n",
    "    Parâmetros:\n",
    "    A (numpy.ndarray): Matriz de coeficientes.\n",
    "    b (numpy.ndarray): Vetor dos termos independentes.\n",
    "    x (numpy.ndarray): Solução calculada.\n",
    "    nome_sistema (str): Identificador do sistema para exibição.\n",
    "    \"\"\"\n",
    "    resultado = np.dot(A, x)\n",
    "    residuo = np.linalg.norm(resultado - b)\n",
    "    \n",
    "    table = Table(title=f\"Verificação da Solução - {nome_sistema}\")\n",
    "    table.add_column(\"Variável\", style=\"cyan\")\n",
    "    table.add_column(\"Valor\", style=\"green\")\n",
    "    \n",
    "    for i, valor in enumerate(x):\n",
    "        table.add_row(f\"x_{i+1}\", f\"{valor:.5f}\")\n",
    "    \n",
    "    console.print(table)\n",
    "    \n",
    "    # Tabela de verificação\n",
    "    table = Table(title=\"Verificação A*x = b\")\n",
    "    table.add_column(\"A*x\", style=\"magenta\")\n",
    "    table.add_column(\"b\", style=\"blue\")\n",
    "    table.add_column(\"Diferença\", style=\"red\")\n",
    "    \n",
    "    for i in range(len(b)):\n",
    "        table.add_row(\n",
    "            f\"{resultado[i]:.5f}\",\n",
    "            f\"{b[i]:.5f}\",\n",
    "            f\"{abs(resultado[i] - b[i]):.5f}\"\n",
    "        )\n",
    "    \n",
    "    console.print(table)\n",
    "    console.print(f\"Norma do resíduo ||A*x - b|| = [bold]{residuo:.5f}[/bold]\")\n",
    "    \n",
    "    if residuo < 1e-5:\n",
    "        console.print(\"[bold green]✓ A solução é precisa![/bold green]\")\n",
    "    else:\n",
    "        console.print(\"[bold yellow]⚠️ A solução tem precisão limitada.[/bold yellow]\")\n",
    "\n",
    "def anotar_resultados(A, b, x, iteracoes, erro_final, tempo_execucao):\n",
    "    \"\"\"\n",
    "    Anota e apresenta os resultados da solução de um sistema linear.\n",
    "    \n",
    "    Parâmetros:\n",
    "    A (numpy.ndarray): Matriz de coeficientes.\n",
    "    b (numpy.ndarray): Vetor dos termos independentes.\n",
    "    x (numpy.ndarray): Solução encontrada.\n",
    "    iteracoes (int): Número de iterações realizadas.\n",
    "    erro_final (float): Erro final obtido.\n",
    "    tempo_execucao (float): Tempo de execução em segundos.\n",
    "    \"\"\"\n",
    "    # Criar uma tabela para os resultados principais\n",
    "    table = Table(title=\"Resultados da Solução\")\n",
    "    table.add_column(\"Parâmetro\", style=\"cyan\")\n",
    "    table.add_column(\"Valor\", style=\"green\")\n",
    "    \n",
    "    table.add_row(\"Número de equações\", str(len(b)))\n",
    "    table.add_row(\"Número de iterações\", str(iteracoes))\n",
    "    table.add_row(\"Erro final\", f\"{erro_final:.5f}\")\n",
    "    table.add_row(\"Tempo de execução\", f\"{tempo_execucao:.5f} segundos\")\n",
    "    \n",
    "    console.print(table)\n",
    "    \n",
    "    # Tabela para a solução\n",
    "    sol_table = Table(title=\"Solução do Sistema\")\n",
    "    sol_table.add_column(\"Variável\", style=\"cyan\")\n",
    "    sol_table.add_column(\"Valor\", style=\"green\")\n",
    "    \n",
    "    for i, valor in enumerate(x):\n",
    "        sol_table.add_row(f\"x_{i+1}\", f\"{valor:.5f}\")\n",
    "    \n",
    "    console.print(sol_table)\n",
    "    \n",
    "    # Verificar a solução\n",
    "    Ax = np.dot(A, x)\n",
    "    residuo = np.linalg.norm(Ax - b)\n",
    "    erro_relativo = residuo / np.linalg.norm(b)\n",
    "    \n",
    "    # Tabela para verificação\n",
    "    ver_table = Table(title=\"Verificação da Solução\")\n",
    "    ver_table.add_column(\"Equação\", style=\"cyan\")\n",
    "    ver_table.add_column(\"A*x\", style=\"magenta\")\n",
    "    ver_table.add_column(\"b\", style=\"blue\")\n",
    "    ver_table.add_column(\"Erro Absoluto\", style=\"red\")\n",
    "    \n",
    "    for i in range(len(b)):\n",
    "        ver_table.add_row(\n",
    "            f\"Equação {i+1}\",\n",
    "            f\"{Ax[i]:.5f}\",\n",
    "            f\"{b[i]:.5f}\",\n",
    "            f\"{abs(Ax[i] - b[i]):.5f}\"\n",
    "        )\n",
    "    \n",
    "    console.print(ver_table)\n",
    "    \n",
    "    # Resumo final\n",
    "    if erro_relativo < 1e-5:\n",
    "        console.print(Panel(\n",
    "            f\"[bold green]✓ Sistema resolvido com sucesso![/bold green]\\n\"\n",
    "            f\"Resíduo: {residuo:.5f}\\n\"\n",
    "            f\"Erro relativo: {erro_relativo:.5f}\",\n",
    "            title=\"Conclusão\",\n",
    "            border_style=\"green\"\n",
    "        ))\n",
    "    else:\n",
    "        console.print(Panel(\n",
    "            f\"[bold yellow]⚠️ Sistema resolvido com precisão limitada.[/bold yellow]\\n\"\n",
    "            f\"Resíduo: {residuo:.5f}\\n\"\n",
    "            f\"Erro relativo: {erro_relativo:.5f}\",\n",
    "            title=\"Conclusão\",\n",
    "            border_style=\"yellow\"\n",
    "        ))\n",
    "    \n",
    "    # Sugestão para relatório\n",
    "    console.print(Markdown(\"\"\"\n",
    "    ## Sugestão para anotação no relatório:\n",
    "    \n",
    "    ### Método Utilizado\n",
    "    O sistema foi resolvido utilizando o método iterativo de Gauss-Seidel.\n",
    "    \n",
    "    ### Parâmetros da Solução\n",
    "    - **Número de iterações:** {}\n",
    "    - **Critério de parada:** Erro < {}\n",
    "    - **Erro final obtido:** {:.5f}\n",
    "    - **Tempo de processamento:** {:.5f} s\n",
    "    \n",
    "    ### Solução Encontrada\n",
    "    {}\n",
    "    \n",
    "    ### Verificação\n",
    "    O resíduo da solução (||A*x - b||) foi {:.5f}, com erro relativo de {:.5f}.\n",
    "    \n",
    "    ### Conclusão\n",
    "    {}\n",
    "    \"\"\".format(\n",
    "        iteracoes, \n",
    "        1e-6, \n",
    "        erro_final,\n",
    "        tempo_execucao,\n",
    "        \", \".join([f\"x_{i+1} = {valor:.5f}\" for i, valor in enumerate(x)]),\n",
    "        residuo,\n",
    "        erro_relativo,\n",
    "        \"A solução encontrada é precisa e confiável.\" if erro_relativo < 1e-5 else \n",
    "        \"A solução encontrada tem precisão limitada, mas é aceitável para o problema.\"\n",
    "    )))\n",
    "\n",
    "if __name__ == \"__main__\":\n",
    "    # Configura numpy para usar 5 casas decimais e não usar notação científica\n",
    "    np.set_printoptions(precision=5, suppress=True)\n",
    "    \n",
    "    console.print(Markdown(\"# Método de Gauss-Seidel para Sistemas Lineares\"), style=\"bold blue\")\n",
    "    \n",
    "    # SISTEMA PREDEFINIDO - Modifique aqui para resolver diferentes sistemas\n",
    "    # ======================================================================\n",
    "    # Sistema 1: Com dominância diagonal\n",
    "    A = np.array([\n",
    "        [9, -3, 2], \n",
    "        [-1, 11, -1], \n",
    "        [2, -1, 10]\n",
    "    ], dtype=float)\n",
    "    b = np.array([6, 25, -11], dtype=float)\n",
    "    \n",
    "    # Parâmetros do método\n",
    "    tol = 1e-6\n",
    "    max_iter = 100\n",
    "    \n",
    "    # Exibir o sistema\n",
    "    console.rule(\"[bold cyan]Sistema Linear a ser Resolvido[/bold cyan]\")\n",
    "    imprimir_sistema(A, b, \"Sistema Linear\")\n",
    "    \n",
    "    # Executar o método\n",
    "    console.print(\"\\n[bold cyan]Executando o Método de Gauss-Seidel...[/bold cyan]\")\n",
    "    \n",
    "    inicio = time.time()\n",
    "    x, iteracoes, erro_hist = gauss_seidel_method(A, b, tol=tol, max_iter=max_iter)\n",
    "    fim = time.time()\n",
    "    \n",
    "    tempo_execucao = fim - inicio\n",
    "    \n",
    "    # Mostrar resultados\n",
    "    if iteracoes < max_iter:  # Convergiu\n",
    "        console.print(Panel(\n",
    "            f\"[bold green]✓ Solução encontrada após {iteracoes} iterações[/bold green]\\n\"\n",
    "            f\"Erro final: {erro_hist[-1]:.5f}\",\n",
    "            title=\"Resultado\", \n",
    "            border_style=\"green\"\n",
    "        ))\n",
    "    else:\n",
    "        console.print(Panel(\n",
    "            f\"[bold red]⚠️ O método não convergiu após {max_iter} iterações[/bold red]\\n\"\n",
    "            f\"Erro final: {erro_hist[-1]:.5f}\",\n",
    "            title=\"Resultado\", \n",
    "            border_style=\"red\"\n",
    "        ))\n",
    "    \n",
    "    # Mostrar a solução e verificar\n",
    "    verificar_solucao(A, b, x, \"Sistema\")\n",
    "    \n",
    "    # Apresentar resultados detalhados\n",
    "    anotar_resultados(A, b, x, iteracoes, erro_hist[-1], tempo_execucao)\n",
    "    \n",
    "    # Plotar convergência se convergiu\n",
    "    if iteracoes < max_iter:\n",
    "        plotar_convergencia(erro_hist, \"Convergência do Método de Gauss-Seidel\")"
   ]
  }
 ],
 "metadata": {
  "kernelspec": {
   "display_name": ".venv",
   "language": "python",
   "name": "python3"
  },
  "language_info": {
   "codemirror_mode": {
    "name": "ipython",
    "version": 3
   },
   "file_extension": ".py",
   "mimetype": "text/x-python",
   "name": "python",
   "nbconvert_exporter": "python",
   "pygments_lexer": "ipython3",
   "version": "3.10.12"
  }
 },
 "nbformat": 4,
 "nbformat_minor": 5
}
